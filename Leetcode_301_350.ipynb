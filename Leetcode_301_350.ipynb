{
 "cells": [
  {
   "cell_type": "markdown",
   "metadata": {},
   "source": [
    "# 303. Range Sum Query - Immutable"
   ]
  },
  {
   "cell_type": "raw",
   "metadata": {},
   "source": [
    "Given an integer array nums, find the sum of the elements between indices i and j (i ≤ j), inclusive.\n",
    "\n",
    "Example:\n",
    "\n",
    "Given nums = [-2, 0, 3, -5, 2, -1]\n",
    "\n",
    "sumRange(0, 2) -> 1\n",
    "sumRange(2, 5) -> -1\n",
    "sumRange(0, 5) -> -3\n",
    "Note:\n",
    "\n",
    "You may assume that the array does not change.\n",
    "There are many calls to sumRange function."
   ]
  },
  {
   "cell_type": "code",
   "execution_count": null,
   "metadata": {},
   "outputs": [],
   "source": [
    "class NumArray(object):\n",
    "\n",
    "    def __init__(self, nums):\n",
    "        \"\"\"\n",
    "        :type nums: List[int]\n",
    "        \"\"\"\n",
    "        self.data = []\n",
    "        sum = 0\n",
    "        for n in nums:\n",
    "            sum += n\n",
    "            self.data.append(sum)\n",
    "        \n",
    "\n",
    "    def sumRange(self, i, j):\n",
    "        \"\"\"\n",
    "        :type i: int\n",
    "        :type j: int\n",
    "        :rtype: int\n",
    "        \"\"\"\n",
    "        if i == 0: return self.data[j] \n",
    "        return self.data[j] - self.data[i-1]"
   ]
  },
  {
   "cell_type": "markdown",
   "metadata": {},
   "source": [
    "# 304. Range Sum Query 2D - Immutable"
   ]
  },
  {
   "cell_type": "raw",
   "metadata": {},
   "source": [
    "Given a 2D matrix matrix, find the sum of the elements inside the rectangle defined by its upper left corner (row1, col1) and lower right corner (row2, col2).\n",
    "\n",
    "Range Sum Query 2D\n",
    "The above rectangle (with the red border) is defined by (row1, col1) = (2, 1) and (row2, col2) = (4, 3), which contains sum = 8.\n",
    "\n",
    "Example:\n",
    "\n",
    "Given matrix = [\n",
    "  [3, 0, 1, 4, 2],\n",
    "  [5, 6, 3, 2, 1],\n",
    "  [1, 2, 0, 1, 5],\n",
    "  [4, 1, 0, 1, 7],\n",
    "  [1, 0, 3, 0, 5]\n",
    "]\n",
    "\n",
    "sumRegion(2, 1, 4, 3) -> 8\n",
    "sumRegion(1, 1, 2, 2) -> 11\n",
    "sumRegion(1, 2, 2, 4) -> 12\n",
    "Note:\n",
    "\n",
    "You may assume that the matrix does not change.\n",
    "There are many calls to sumRegion function.\n",
    "You may assume that row1 ≤ row2 and col1 ≤ col2."
   ]
  },
  {
   "cell_type": "code",
   "execution_count": 6,
   "metadata": {},
   "outputs": [],
   "source": [
    "class NumMatrix(object):\n",
    "\n",
    "    def __init__(self, matrix):\n",
    "        \"\"\"\n",
    "        :type matrix: List[List[int]]\n",
    "        \"\"\"\n",
    "        if not matrix: return None\n",
    "        m, n = len(matrix), len(matrix[0])\n",
    "        self.data = [[0]*(n+1) for _ in range(m+1)]\n",
    "        for i in range(1,m+1):\n",
    "            for j in range(1,n+1):\n",
    "                self.data[i][j] = self.data[i][j-1]+matrix[i-1][j-1]\n",
    "        \n",
    "        for j in range(1,n+1):\n",
    "            for i in range(1,m+1):\n",
    "                self.data[i][j] += self.data[i-1][j] \n",
    "                \n",
    "\n",
    "    def sumRegion(self, row1, col1, row2, col2):\n",
    "        \"\"\"\n",
    "        :type row1: int\n",
    "        :type col1: int\n",
    "        :type row2: int\n",
    "        :type col2: int\n",
    "        :rtype: int\n",
    "        \"\"\"\n",
    "        return self.data[row2+1][col2+1]-self.data[row1][col2+1]-self.data[row2+1][col1]+self.data[row1][col1]\n",
    "        \n",
    "\n",
    "\n",
    "# Your NumMatrix object will be instantiated and called as such:\n",
    "# obj = NumMatrix(matrix)\n",
    "# param_1 = obj.sumRegion(row1,col1,row2,col2)"
   ]
  },
  {
   "cell_type": "markdown",
   "metadata": {},
   "source": [
    "# 306. Additive Number"
   ]
  },
  {
   "cell_type": "raw",
   "metadata": {},
   "source": [
    "Additive number is a string whose digits can form additive sequence.\n",
    "\n",
    "A valid additive sequence should contain at least three numbers. Except for the first two numbers, each subsequent number in the sequence must be the sum of the preceding two.\n",
    "\n",
    "Given a string containing only digits '0'-'9', write a function to determine if it's an additive number.\n",
    "\n",
    "Note: Numbers in the additive sequence cannot have leading zeros, so sequence 1, 2, 03 or 1, 02, 3 is invalid.\n",
    "\n",
    "Example 1:\n",
    "\n",
    "Input: \"112358\"\n",
    "Output: true \n",
    "Explanation: The digits can form an additive sequence: 1, 1, 2, 3, 5, 8. \n",
    "             1 + 1 = 2, 1 + 2 = 3, 2 + 3 = 5, 3 + 5 = 8\n",
    "Example 2:\n",
    "\n",
    "Input: \"199100199\"\n",
    "Output: true \n",
    "Explanation: The additive sequence is: 1, 99, 100, 199. \n",
    "             1 + 99 = 100, 99 + 100 = 199"
   ]
  },
  {
   "cell_type": "code",
   "execution_count": 13,
   "metadata": {},
   "outputs": [],
   "source": [
    "class Solution(object):\n",
    "    def isAdditiveNumber(self, num):\n",
    "        \"\"\"\n",
    "        :type num: str\n",
    "        :rtype: bool\n",
    "        \"\"\"\n",
    "        \n",
    "        def isValid(x1,x2,start,num):\n",
    "            if start== len(num): return True\n",
    "            if start> len(num): return False\n",
    "            sm = x1+x2\n",
    "            x1,x2 = x2,sm\n",
    "            sm = str(sm)\n",
    "            return isValid(x1,x2,start+len(sm),num) and num[start:start+len(sm)]==sm\n",
    "        \n",
    "        if not num: return False\n",
    "        n = len(num)\n",
    "        \n",
    "        for i in range(1,n):\n",
    "            x1 = num[:i]\n",
    "            if x1[0]=='0' and i>1:continue\n",
    "            x1 = int(x1)\n",
    "            for j in range(i+1,n):\n",
    "                x2 = num[i:j]\n",
    "                if x2[0]=='0' and j>i+1: continue\n",
    "                x2 = int(x2)\n",
    "                if isValid(x1,x2,j,num):\n",
    "                    return True\n",
    "                \n",
    "        return False\n",
    "        "
   ]
  },
  {
   "cell_type": "code",
   "execution_count": 14,
   "metadata": {},
   "outputs": [
    {
     "data": {
      "text/plain": [
       "True"
      ]
     },
     "execution_count": 14,
     "metadata": {},
     "output_type": "execute_result"
    }
   ],
   "source": [
    "a = Solution()\n",
    "a.isAdditiveNumber(\"101\")"
   ]
  },
  {
   "cell_type": "markdown",
   "metadata": {},
   "source": [
    "# 307. Range Sum Query - Mutable"
   ]
  },
  {
   "cell_type": "raw",
   "metadata": {},
   "source": [
    "Given an integer array nums, find the sum of the elements between indices i and j (i ≤ j), inclusive.\n",
    "\n",
    "The update(i, val) function modifies nums by updating the element at index i to val.\n",
    "\n",
    "Example:\n",
    "\n",
    "Given nums = [1, 3, 5]\n",
    "\n",
    "sumRange(0, 2) -> 9\n",
    "update(1, 2)\n",
    "sumRange(0, 2) -> 8\n",
    "Note:\n",
    "\n",
    "The array is only modifiable by the update function.\n",
    "You may assume the number of calls to update and sumRange function is distributed evenly."
   ]
  },
  {
   "cell_type": "code",
   "execution_count": 24,
   "metadata": {},
   "outputs": [],
   "source": [
    "class NumArray(object):\n",
    "\n",
    "    def __init__(self, nums):\n",
    "        \"\"\"\n",
    "        :type nums: List[int]\n",
    "        \"\"\"\n",
    "        if not nums: return None\n",
    "        n = len(nums)\n",
    "        self.size = n\n",
    "        self.tree = [0]*(2*n)\n",
    "        \n",
    "        for i in range(n):\n",
    "            self.tree[n+i] = nums[i]\n",
    "            \n",
    "        for i in range(n-1,0,-1):\n",
    "            self.tree[i] = self.tree[2*i] + self.tree[2*i+1]\n",
    "        \n",
    "\n",
    "    def update(self, i, val):\n",
    "        \"\"\"\n",
    "        :type i: int\n",
    "        :type val: int\n",
    "        :rtype: None\n",
    "        \"\"\"\n",
    "        i += self.size\n",
    "        self.tree[i] = val\n",
    "        while i//2 > 0:\n",
    "            left = right = i\n",
    "            if i%2 == 0:\n",
    "                right = i +1\n",
    "            else:\n",
    "                left = i -1\n",
    "            self.tree[i//2] = self.tree[left] + self.tree[right]\n",
    "            i = i//2\n",
    "        \n",
    "\n",
    "    def sumRange(self, i, j):\n",
    "        \"\"\"\n",
    "        :type i: int\n",
    "        :type j: int\n",
    "        :rtype: int\n",
    "        \"\"\"\n",
    "        \n",
    "        i += self.size\n",
    "        j += self.size\n",
    "        ans = 0\n",
    "        while i<=j:\n",
    "            if i%2==1:\n",
    "                ans += self.tree[i]\n",
    "                i += 1\n",
    "            if j%2==0:\n",
    "                ans += self.tree[j]\n",
    "                j -= 1\n",
    "            i = i//2\n",
    "            j = j//2\n",
    "        return ans\n",
    "        \n",
    "\n",
    "\n",
    "# Your NumArray object will be instantiated and called as such:\n",
    "# obj = NumArray(nums)\n",
    "# obj.update(i,val)\n",
    "# param_2 = obj.sumRange(i,j)"
   ]
  },
  {
   "cell_type": "markdown",
   "metadata": {},
   "source": [
    "# 310. Minimum Height Trees"
   ]
  },
  {
   "cell_type": "raw",
   "metadata": {},
   "source": [
    "For an undirected graph with tree characteristics, we can choose any node as the root. The result graph is then a rooted tree. Among all possible rooted trees, those with minimum height are called minimum height trees (MHTs). Given such a graph, write a function to find all the MHTs and return a list of their root labels.\n",
    "\n",
    "Format\n",
    "The graph contains n nodes which are labeled from 0 to n - 1. You will be given the number n and a list of undirected edges (each edge is a pair of labels).\n",
    "\n",
    "You can assume that no duplicate edges will appear in edges. Since all edges are undirected, [0, 1] is the same as [1, 0] and thus will not appear together in edges.\n",
    "\n",
    "Example 1 :\n",
    "\n",
    "Input: n = 4, edges = [[1, 0], [1, 2], [1, 3]]\n",
    "\n",
    "        0\n",
    "        |\n",
    "        1\n",
    "       / \\\n",
    "      2   3 \n",
    "\n",
    "Output: [1]\n",
    "Example 2 :\n",
    "\n",
    "Input: n = 6, edges = [[0, 3], [1, 3], [2, 3], [4, 3], [5, 4]]\n",
    "\n",
    "     0  1  2\n",
    "      \\ | /\n",
    "        3\n",
    "        |\n",
    "        4\n",
    "        |\n",
    "        5 \n",
    "\n",
    "Output: [3, 4]\n",
    "Note:\n",
    "\n",
    "According to the definition of tree on Wikipedia: “a tree is an undirected graph in which any two vertices are connected by exactly one path. In other words, any connected graph without simple cycles is a tree.”\n",
    "The height of a rooted tree is the number of edges on the longest downward path between the root and a leaf."
   ]
  },
  {
   "cell_type": "code",
   "execution_count": 20,
   "metadata": {},
   "outputs": [],
   "source": [
    "from collections import deque\n",
    "class Solution(object):\n",
    "    def findMinHeightTrees(self, n, edges):\n",
    "        \"\"\"\n",
    "        :type n: int\n",
    "        :type edges: List[List[int]]\n",
    "        :rtype: List[int]\n",
    "        \"\"\"\n",
    "        if not edges: return [0]\n",
    "        neighbors = {}\n",
    "        degrees = {}\n",
    "        visited = {}\n",
    "        for i in range(n):\n",
    "            neighbors[i] = set()\n",
    "            degrees[i] = 0\n",
    "            visited[i] =  False\n",
    "        for u, v in edges:\n",
    "            neighbors[u].add(v)\n",
    "            neighbors[v].add(u)\n",
    "            degrees[u] += 1\n",
    "            degrees[v] += 1\n",
    "            \n",
    "        queue = deque()\n",
    "        for u in degrees:\n",
    "            if degrees[u] == 1:\n",
    "                queue.append(u)\n",
    "                visited[u] = True\n",
    "        #print(degrees)\n",
    "        #print(neighbors)\n",
    "        while queue:\n",
    "            size = len(queue)\n",
    "            #print(queue)\n",
    "            res = []\n",
    "            for i in range(size):\n",
    "                node = queue.popleft()\n",
    "                res.append(node)\n",
    "                for nb in neighbors[node]:\n",
    "                    degrees[nb] -= 1\n",
    "                    if not visited[nb] and degrees[nb]<=1:\n",
    "                        queue.append(nb)\n",
    "                        visited[nb] = True\n",
    "        return res\n",
    "        "
   ]
  },
  {
   "cell_type": "code",
   "execution_count": 21,
   "metadata": {},
   "outputs": [
    {
     "name": "stdout",
     "output_type": "stream",
     "text": [
      "{0: 3, 1: 1, 2: 1, 3: 2, 4: 2, 5: 1}\n",
      "{0: {1, 2, 3}, 1: {0}, 2: {0}, 3: {0, 4}, 4: {3, 5}, 5: {4}}\n",
      "deque([1, 2, 5])\n",
      "deque([0, 4])\n",
      "deque([3])\n"
     ]
    },
    {
     "data": {
      "text/plain": [
       "[3]"
      ]
     },
     "execution_count": 21,
     "metadata": {},
     "output_type": "execute_result"
    }
   ],
   "source": [
    "a = Solution()\n",
    "a.findMinHeightTrees(6,[[0,1],[0,2],[0,3],[3,4],[4,5]])"
   ]
  },
  {
   "cell_type": "markdown",
   "metadata": {},
   "source": [
    "# 313. Super Ugly Number"
   ]
  },
  {
   "cell_type": "raw",
   "metadata": {},
   "source": [
    "Write a program to find the nth super ugly number.\n",
    "\n",
    "Super ugly numbers are positive numbers whose all prime factors are in the given prime list primes of size k.\n",
    "\n",
    "Example:\n",
    "\n",
    "Input: n = 12, primes = [2,7,13,19]\n",
    "Output: 32 \n",
    "Explanation: [1,2,4,7,8,13,14,16,19,26,28,32] is the sequence of the first 12 \n",
    "             super ugly numbers given primes = [2,7,13,19] of size 4.\n",
    "Note:\n",
    "\n",
    "1 is a super ugly number for any given primes.\n",
    "The given numbers in primes are in ascending order.\n",
    "0 < k ≤ 100, 0 < n ≤ 106, 0 < primes[i] < 1000.\n",
    "The nth super ugly number is guaranteed to fit in a 32-bit signed integer.\n"
   ]
  },
  {
   "cell_type": "code",
   "execution_count": 15,
   "metadata": {},
   "outputs": [],
   "source": [
    "from heapq import heappop,heappush\n",
    "class Solution(object):\n",
    "    def nthSuperUglyNumber(self, n, primes):\n",
    "        \"\"\"\n",
    "        :type n: int\n",
    "        :type primes: List[int]\n",
    "        :rtype: int\n",
    "        \"\"\"\n",
    "        hset = set([1])\n",
    "        heap = [1]\n",
    "\n",
    "        while n:\n",
    "            ans = heappop(heap)\n",
    "            for p in primes:\n",
    "                q = p * ans\n",
    "                if not q in hset:\n",
    "                    heappush(heap, q)\n",
    "                    hset.add(q)\n",
    "            n -= 1\n",
    "        return ans"
   ]
  },
  {
   "cell_type": "markdown",
   "metadata": {},
   "source": [
    "# 318. Maximum Product of Word Lengths"
   ]
  },
  {
   "cell_type": "raw",
   "metadata": {},
   "source": [
    "Given a string array words, find the maximum value of length(word[i]) * length(word[j]) where the two words do not share common letters. You may assume that each word will contain only lower case letters. If no such two words exist, return 0.\n",
    "\n",
    "Example 1:\n",
    "\n",
    "Input: [\"abcw\",\"baz\",\"foo\",\"bar\",\"xtfn\",\"abcdef\"]\n",
    "Output: 16 \n",
    "Explanation: The two words can be \"abcw\", \"xtfn\".\n",
    "Example 2:\n",
    "\n",
    "Input: [\"a\",\"ab\",\"abc\",\"d\",\"cd\",\"bcd\",\"abcd\"]\n",
    "Output: 4 \n",
    "Explanation: The two words can be \"ab\", \"cd\".\n",
    "Example 3:\n",
    "\n",
    "Input: [\"a\",\"aa\",\"aaa\",\"aaaa\"]\n",
    "Output: 0 \n",
    "Explanation: No such pair of words.\n"
   ]
  },
  {
   "cell_type": "code",
   "execution_count": 22,
   "metadata": {},
   "outputs": [],
   "source": [
    "class Solution(object):\n",
    "    def maxProduct(self, words):\n",
    "        \"\"\"\n",
    "        :type words: List[str]\n",
    "        :rtype: int\n",
    "        \"\"\"\n",
    "        ans = 0\n",
    "        if not words: return ans\n",
    "        hmap = {}\n",
    "        for word in words:\n",
    "            hmap[word] = set(word)\n",
    "        \n",
    "        for w1 in words:\n",
    "            for w2 in words:\n",
    "                if w1 == w2: continue\n",
    "                if len(hmap[w1].intersection(hmap[w2])) == 0:\n",
    "                    ans = max(ans, len(w1)*len(w2))\n",
    "        return ans"
   ]
  },
  {
   "cell_type": "markdown",
   "metadata": {},
   "source": [
    "# 319. Bulb Switcher"
   ]
  },
  {
   "cell_type": "raw",
   "metadata": {},
   "source": [
    "There are n bulbs that are initially off. You first turn on all the bulbs. Then, you turn off every second bulb. On the third round, you toggle every third bulb (turning on if it's off or turning off if it's on). For the i-th round, you toggle every i bulb. For the n-th round, you only toggle the last bulb. Find how many bulbs are on after n rounds.\n",
    "\n",
    "Example:\n",
    "\n",
    "Input: 3\n",
    "Output: 1 \n",
    "Explanation: \n",
    "At first, the three bulbs are [off, off, off].\n",
    "After first round, the three bulbs are [on, on, on].\n",
    "After second round, the three bulbs are [on, off, on].\n",
    "After third round, the three bulbs are [on, off, off]. \n",
    "\n",
    "So you should return 1, because there is only one bulb is on."
   ]
  },
  {
   "cell_type": "code",
   "execution_count": 23,
   "metadata": {},
   "outputs": [],
   "source": [
    "class Solution(object):\n",
    "    def bulbSwitch(self, n):\n",
    "        \"\"\"\n",
    "        :type n: int\n",
    "        :rtype: int\n",
    "        \"\"\"\n",
    "        return int(math.floor(math.sqrt(n)))"
   ]
  },
  {
   "cell_type": "markdown",
   "metadata": {},
   "source": [
    "# 321. Create Maximum Number"
   ]
  },
  {
   "cell_type": "raw",
   "metadata": {},
   "source": [
    "Given two arrays of length m and n with digits 0-9 representing two numbers. Create the maximum number of length k <= m + n from digits of the two. The relative order of the digits from the same array must be preserved. Return an array of the k digits.\n",
    "\n",
    "Note: You should try to optimize your time and space complexity.\n",
    "\n",
    "Example 1:\n",
    "\n",
    "Input:\n",
    "nums1 = [3, 4, 6, 5]\n",
    "nums2 = [9, 1, 2, 5, 8, 3]\n",
    "k = 5\n",
    "Output:\n",
    "[9, 8, 6, 5, 3]\n",
    "Example 2:\n",
    "\n",
    "Input:\n",
    "nums1 = [6, 7]\n",
    "nums2 = [6, 0, 4]\n",
    "k = 5\n",
    "Output:\n",
    "[6, 7, 6, 0, 4]\n",
    "Example 3:\n",
    "\n",
    "Input:\n",
    "nums1 = [3, 9]\n",
    "nums2 = [8, 9]\n",
    "k = 3\n",
    "Output:\n",
    "[9, 8, 9]"
   ]
  },
  {
   "cell_type": "code",
   "execution_count": 195,
   "metadata": {},
   "outputs": [],
   "source": [
    "class Solution(object):\n",
    "    def maxNumber(self, nums1, nums2, k):\n",
    "        \"\"\"\n",
    "        :type nums1: List[int]\n",
    "        :type nums2: List[int]\n",
    "        :type k: int\n",
    "        :rtype: List[int]\n",
    "        \"\"\"\n",
    "        ans = []\n",
    "        if not nums1 and not nums2 or k==0:return ans\n",
    "        n1, n2 = len(nums1), len(nums2)\n",
    "        \n",
    "        def getMax(nums,k):\n",
    "            ans = []\n",
    "            n = len(nums)\n",
    "            for i in range(len(nums)):\n",
    "                while ans and n-i > k-len(ans) and nums[i] > ans[-1]: \n",
    "                    ans.pop()\n",
    "                if len(ans)<k:\n",
    "                    ans.append(nums[i])\n",
    "            return ans\n",
    "        def merge(nums1, nums2):\n",
    "            ans = []\n",
    "            while nums1 or nums2:\n",
    "                if nums1 > nums2:\n",
    "                    ans += nums1[0],\n",
    "                    nums1 = nums1[1:]\n",
    "                else:\n",
    "                    ans += nums2[0],\n",
    "                    nums2 = nums2[1:]\n",
    "            return ans\n",
    "        \n",
    "        for i in range(k+1):\n",
    "            ## i, k-i\n",
    "            if i>n1 or k-i>n2: continue\n",
    "            #print(getMax(nums1,i),getMax(nums2,k-i))\n",
    "            tmp = merge(getMax(nums1,i),getMax(nums2,k-i))\n",
    "            ans = max(ans,tmp)\n",
    "            \n",
    "        return ans\n",
    "                \n",
    "                \n",
    "        \n",
    "        "
   ]
  },
  {
   "cell_type": "code",
   "execution_count": 196,
   "metadata": {},
   "outputs": [
    {
     "data": {
      "text/plain": [
       "[6, 7, 6, 0, 4]"
      ]
     },
     "execution_count": 196,
     "metadata": {},
     "output_type": "execute_result"
    }
   ],
   "source": [
    "a = Solution()\n",
    "a.maxNumber([6,7],[6,0,4],5)"
   ]
  },
  {
   "cell_type": "code",
   "execution_count": 175,
   "metadata": {},
   "outputs": [
    {
     "data": {
      "text/plain": [
       "[]"
      ]
     },
     "execution_count": 175,
     "metadata": {},
     "output_type": "execute_result"
    }
   ],
   "source": [
    "def getMax(nums,k):\n",
    "        ans = []\n",
    "        n = len(nums)\n",
    "        for i in range(len(nums)):\n",
    "            while ans and n-i > k-len(ans) and nums[i] > ans[-1]: \n",
    "                ans.pop()\n",
    "            if len(ans)<k:\n",
    "                ans.append(nums[i])\n",
    "        return ans\n",
    "getMax([3,4,6,5],0)"
   ]
  },
  {
   "cell_type": "markdown",
   "metadata": {},
   "source": [
    "# 322. Coin Change"
   ]
  },
  {
   "cell_type": "raw",
   "metadata": {},
   "source": [
    "You are given coins of different denominations and a total amount of money amount. Write a function to compute the fewest number of coins that you need to make up that amount. If that amount of money cannot be made up by any combination of the coins, return -1.\n",
    "\n",
    "Example 1:\n",
    "\n",
    "Input: coins = [1, 2, 5], amount = 11\n",
    "Output: 3 \n",
    "Explanation: 11 = 5 + 5 + 1\n",
    "Example 2:\n",
    "\n",
    "Input: coins = [2], amount = 3\n",
    "Output: -1\n",
    "Note:\n",
    "You may assume that you have an infinite number of each kind of coin."
   ]
  },
  {
   "cell_type": "code",
   "execution_count": 1,
   "metadata": {},
   "outputs": [],
   "source": [
    "class Solution(object):\n",
    "    def coinChange(self, coins, amount):\n",
    "        \"\"\"\n",
    "        :type coins: List[int]\n",
    "        :type amount: int\n",
    "        :rtype: int\n",
    "        \"\"\"\n",
    "        dp = [0]* (amount +1)\n",
    "        for i in range(1,amount+1):\n",
    "            dp[i] = float('inf')\n",
    "            for k in range(len(coins)):\n",
    "                if i>=coins[k] and dp[i-coins[k]]!=float('inf'):\n",
    "                    dp[i] = min(dp[i],dp[i-coins[k]]+1)\n",
    "        if dp[-1] == float('inf'):\n",
    "            return -1\n",
    "        else:\n",
    "            return dp[-1]\n",
    "                        "
   ]
  },
  {
   "cell_type": "markdown",
   "metadata": {},
   "source": [
    "# 324. Wiggle Sort II"
   ]
  },
  {
   "cell_type": "raw",
   "metadata": {},
   "source": [
    "Given an unsorted array nums, reorder it such that nums[0] < nums[1] > nums[2] < nums[3]....\n",
    "\n",
    "Example 1:\n",
    "\n",
    "Input: nums = [1, 5, 1, 1, 6, 4]\n",
    "Output: One possible answer is [1, 4, 1, 5, 1, 6].\n",
    "Example 2:\n",
    "\n",
    "Input: nums = [1, 3, 2, 2, 3, 1]\n",
    "Output: One possible answer is [2, 3, 1, 3, 1, 2].\n",
    "Note:\n",
    "You may assume all input has valid answer.\n",
    "\n",
    "Follow Up:\n",
    "Can you do it in O(n) time and/or in-place with O(1) extra space?"
   ]
  },
  {
   "cell_type": "code",
   "execution_count": 16,
   "metadata": {},
   "outputs": [],
   "source": [
    "class Solution(object):\n",
    "    def wiggleSort(self, nums):\n",
    "        \"\"\"\n",
    "        :type nums: List[int]\n",
    "        :rtype: None Do not return anything, modify nums in-place instead.\n",
    "        \"\"\"\n",
    "        tmp = [n for n in nums]\n",
    "        tmp.sort()\n",
    "        n = len(nums)\n",
    "        i = (n-1)//2\n",
    "        j = n-1\n",
    "        for k in range(n):\n",
    "            if k & 1 == 0:\n",
    "                nums[k] = tmp[i]\n",
    "                i -= 1\n",
    "            else:\n",
    "                nums[k] = tmp[j]\n",
    "                j -= 1"
   ]
  },
  {
   "cell_type": "markdown",
   "metadata": {},
   "source": [
    "# 326. Power of Three"
   ]
  },
  {
   "cell_type": "raw",
   "metadata": {},
   "source": [
    "Given an integer, write a function to determine if it is a power of three.\n",
    "\n",
    "Example 1:\n",
    "\n",
    "Input: 27\n",
    "Output: true\n",
    "Example 2:\n",
    "\n",
    "Input: 0\n",
    "Output: false\n",
    "Example 3:\n",
    "\n",
    "Input: 9\n",
    "Output: true\n",
    "Example 4:\n",
    "\n",
    "Input: 45\n",
    "Output: false\n",
    "Follow up:\n",
    "Could you do it without using any loop / recursion?"
   ]
  },
  {
   "cell_type": "code",
   "execution_count": 4,
   "metadata": {},
   "outputs": [],
   "source": [
    "class Solution(object):\n",
    "    def isPowerOfThree(self, n):\n",
    "        \"\"\"\n",
    "        :type n: int\n",
    "        :rtype: bool\n",
    "        \"\"\"\n",
    "        if n == 1: return True\n",
    "        if n <3: return False\n",
    "        while n>1:\n",
    "            if n%3!=0: return False\n",
    "            n = n//3\n",
    "        return True"
   ]
  },
  {
   "cell_type": "markdown",
   "metadata": {},
   "source": [
    "# 372. Super Pow"
   ]
  },
  {
   "cell_type": "raw",
   "metadata": {},
   "source": [
    "Your task is to calculate ab mod 1337 where a is a positive integer and b is an extremely large positive integer given in the form of an array.\n",
    "\n",
    "Example 1:\n",
    "\n",
    "Input: a = 2, b = [3]\n",
    "Output: 8\n",
    "Example 2:\n",
    "\n",
    "Input: a = 2, b = [1,0]\n",
    "Output: 1024"
   ]
  },
  {
   "cell_type": "code",
   "execution_count": 1,
   "metadata": {},
   "outputs": [],
   "source": [
    "class Solution(object):\n",
    "    def superPow(self, a, b):\n",
    "        \"\"\"\n",
    "        :type a: int\n",
    "        :type b: List[int]\n",
    "        :rtype: int\n",
    "        \"\"\"\n",
    "        if not b: return 1\n",
    "        \n",
    "        ans = 1\n",
    "        last_digit = b.pop()\n",
    "        return (self.helper(self.superPow(a,b),10)*self.helper(a,last_digit))%1337\n",
    "            \n",
    "    def helper(self, a, k): ## a^k %1337\n",
    "        base = 1337\n",
    "        ans = 1\n",
    "        for i in range(k):\n",
    "            ans = (ans*a)%base\n",
    "        return ans\n",
    "            "
   ]
  },
  {
   "cell_type": "markdown",
   "metadata": {},
   "source": [
    "# 328. Odd Even Linked List"
   ]
  },
  {
   "cell_type": "raw",
   "metadata": {},
   "source": [
    "Given a singly linked list, group all odd nodes together followed by the even nodes. Please note here we are talking about the node number and not the value in the nodes.\n",
    "\n",
    "You should try to do it in place. The program should run in O(1) space complexity and O(nodes) time complexity.\n",
    "\n",
    "Example 1:\n",
    "\n",
    "Input: 1->2->3->4->5->NULL\n",
    "Output: 1->3->5->2->4->NULL\n",
    "Example 2:\n",
    "\n",
    "Input: 2->1->3->5->6->4->7->NULL\n",
    "Output: 2->3->6->7->1->5->4->NULL\n",
    "Note:\n",
    "\n",
    "The relative order inside both the even and odd groups should remain as it was in the input.\n",
    "The first node is considered odd, the second node even and so on ..."
   ]
  },
  {
   "cell_type": "code",
   "execution_count": 25,
   "metadata": {},
   "outputs": [],
   "source": [
    "# Definition for singly-linked list.\n",
    "# class ListNode(object):\n",
    "#     def __init__(self, x):\n",
    "#         self.val = x\n",
    "#         self.next = None\n",
    "\n",
    "class Solution(object):\n",
    "    def oddEvenList(self, head):\n",
    "        \"\"\"\n",
    "        :type head: ListNode\n",
    "        :rtype: ListNode\n",
    "        \"\"\"\n",
    "        if not head: return head\n",
    "        odd = head\n",
    "        even = head.next\n",
    "        evenHead = head.next\n",
    "        \n",
    "        while even and even.next:\n",
    "            odd.next = even.next\n",
    "            odd = odd.next\n",
    "            even.next = odd.next\n",
    "            even = even.next\n",
    "            \n",
    "        odd.next = evenHead    \n",
    "        return head"
   ]
  },
  {
   "cell_type": "markdown",
   "metadata": {},
   "source": [
    "# 331. Verify Preorder Serialization of a Binary Tree"
   ]
  },
  {
   "cell_type": "raw",
   "metadata": {},
   "source": [
    "One way to serialize a binary tree is to use pre-order traversal. When we encounter a non-null node, we record the node's value. If it is a null node, we record using a sentinel value such as #.\n",
    "\n",
    "     _9_\n",
    "    /   \\\n",
    "   3     2\n",
    "  / \\   / \\\n",
    " 4   1  #  6\n",
    "/ \\ / \\   / \\\n",
    "# # # #   # #\n",
    "For example, the above binary tree can be serialized to the string \"9,3,4,#,#,1,#,#,2,#,6,#,#\", where # represents a null node.\n",
    "\n",
    "Given a string of comma separated values, verify whether it is a correct preorder traversal serialization of a binary tree. Find an algorithm without reconstructing the tree.\n",
    "\n",
    "Each comma separated value in the string must be either an integer or a character '#' representing null pointer.\n",
    "\n",
    "You may assume that the input format is always valid, for example it could never contain two consecutive commas such as \"1,,3\".\n",
    "\n",
    "Example 1:\n",
    "\n",
    "Input: \"9,3,4,#,#,1,#,#,2,#,6,#,#\"\n",
    "Output: true\n",
    "Example 2:\n",
    "\n",
    "Input: \"1,#\"\n",
    "Output: false\n",
    "Example 3:\n",
    "\n",
    "Input: \"9,#,#,1\"\n",
    "Output: false"
   ]
  },
  {
   "cell_type": "code",
   "execution_count": 17,
   "metadata": {},
   "outputs": [],
   "source": [
    "class Solution(object):\n",
    "    def isValidSerialization(self, preorder):\n",
    "        \"\"\"\n",
    "        :type preorder: str\n",
    "        :rtype: bool\n",
    "        \"\"\"\n",
    "        degree = 1\n",
    "        for node in preorder.split(','):\n",
    "            if not degree: return False\n",
    "            if node !='#': \n",
    "                degree+=1\n",
    "            else:\n",
    "                degree-=1\n",
    "                \n",
    "        return degree ==0\n",
    "            "
   ]
  },
  {
   "cell_type": "markdown",
   "metadata": {},
   "source": [
    "# 332. Reconstruct Itinerary"
   ]
  },
  {
   "cell_type": "raw",
   "metadata": {},
   "source": [
    "Given a list of airline tickets represented by pairs of departure and arrival airports [from, to], reconstruct the itinerary in order. All of the tickets belong to a man who departs from JFK. Thus, the itinerary must begin with JFK.\n",
    "\n",
    "Note:\n",
    "\n",
    "If there are multiple valid itineraries, you should return the itinerary that has the smallest lexical order when read as a single string. For example, the itinerary [\"JFK\", \"LGA\"] has a smaller lexical order than [\"JFK\", \"LGB\"].\n",
    "All airports are represented by three capital letters (IATA code).\n",
    "You may assume all tickets form at least one valid itinerary.\n",
    "Example 1:\n",
    "\n",
    "Input: [[\"MUC\", \"LHR\"], [\"JFK\", \"MUC\"], [\"SFO\", \"SJC\"], [\"LHR\", \"SFO\"]]\n",
    "Output: [\"JFK\", \"MUC\", \"LHR\", \"SFO\", \"SJC\"]\n",
    "Example 2:\n",
    "\n",
    "Input: [[\"JFK\",\"SFO\"],[\"JFK\",\"ATL\"],[\"SFO\",\"ATL\"],[\"ATL\",\"JFK\"],[\"ATL\",\"SFO\"]]\n",
    "Output: [\"JFK\",\"ATL\",\"JFK\",\"SFO\",\"ATL\",\"SFO\"]\n",
    "Explanation: Another possible reconstruction is [\"JFK\",\"SFO\",\"ATL\",\"JFK\",\"ATL\",\"SFO\"].\n",
    "             But it is larger in lexical order."
   ]
  },
  {
   "cell_type": "code",
   "execution_count": 162,
   "metadata": {},
   "outputs": [],
   "source": [
    "class Solution(object):\n",
    "    def findItinerary(self, tickets):\n",
    "        \"\"\"\n",
    "        :type tickets: List[List[str]]\n",
    "        :rtype: List[str]\n",
    "        \"\"\"\n",
    "        ans = []\n",
    "        if not tickets: return ans\n",
    "        tickets.sort()\n",
    "        itin = {}\n",
    "        n = len(tickets)\n",
    "        visited = {}\n",
    "        for fr, to in tickets:\n",
    "            if fr not in itin:\n",
    "                itin[fr] = [to]\n",
    "            else:\n",
    "                itin[fr].append(to)\n",
    "        \n",
    "        for fr in itin:\n",
    "            visited[fr] = [False]*len(itin[fr])\n",
    "                \n",
    "        ans.append('JFK')\n",
    "        def dfs(itin,ans,n,visited):\n",
    "            fr = ans[-1]\n",
    "            if fr not in itin:\n",
    "                return\n",
    "            for i in range(len(itin[fr])):\n",
    "                to = itin[fr][i]\n",
    "                if visited[fr][i]: continue\n",
    "                ans.append(to)\n",
    "                visited[fr][i] = True\n",
    "                dfs(itin,ans,n, visited)\n",
    "                if len(ans)== n+1:return\n",
    "                ans.pop()\n",
    "                visited[fr][i] = False\n",
    "                \n",
    "        dfs(itin,ans,n, visited)\n",
    "        return ans"
   ]
  },
  {
   "cell_type": "code",
   "execution_count": 161,
   "metadata": {},
   "outputs": [
    {
     "name": "stdout",
     "output_type": "stream",
     "text": [
      "{'ANU': ['EZE', 'JFK', 'TIA'], 'AXA': ['TIA'], 'EZE': ['AXA'], 'JFK': ['ANU', 'TIA'], 'TIA': ['ANU', 'ANU', 'JFK']}\n",
      "['JFK']\n",
      "['JFK', 'ANU']\n",
      "['JFK', 'ANU', 'EZE']\n",
      "['JFK', 'ANU', 'EZE', 'AXA']\n",
      "['JFK', 'ANU', 'EZE', 'AXA', 'TIA']\n",
      "['JFK', 'ANU', 'EZE', 'AXA', 'TIA', 'ANU']\n",
      "['JFK', 'ANU', 'EZE', 'AXA', 'TIA', 'ANU', 'JFK']\n",
      "['JFK', 'ANU', 'EZE', 'AXA', 'TIA', 'ANU', 'JFK', 'TIA']\n",
      "['JFK', 'ANU', 'EZE', 'AXA', 'TIA', 'ANU', 'JFK', 'TIA', 'ANU']\n",
      "['JFK', 'ANU', 'EZE', 'AXA', 'TIA', 'ANU', 'JFK', 'TIA', 'ANU', 'TIA']\n",
      "['JFK', 'ANU', 'EZE', 'AXA', 'TIA', 'ANU', 'JFK', 'TIA', 'ANU', 'TIA', 'JFK']\n"
     ]
    },
    {
     "data": {
      "text/plain": [
       "['JFK', 'ANU', 'EZE', 'AXA', 'TIA', 'ANU', 'JFK', 'TIA', 'ANU', 'TIA', 'JFK']"
      ]
     },
     "execution_count": 161,
     "metadata": {},
     "output_type": "execute_result"
    }
   ],
   "source": [
    "a = Solution()\n",
    "a.findItinerary([[\"EZE\",\"AXA\"],[\"TIA\",\"ANU\"],[\"ANU\",\"JFK\"],[\"JFK\",\"ANU\"],[\"ANU\",\"EZE\"],[\"TIA\",\"ANU\"],[\"AXA\",\"TIA\"],[\"TIA\",\"JFK\"],[\"ANU\",\"TIA\"],[\"JFK\",\"TIA\"]])\n"
   ]
  },
  {
   "cell_type": "code",
   "execution_count": null,
   "metadata": {},
   "outputs": [],
   "source": [
    "[\"JFK\",\"ANU\",\"EZE\",\"AXA\",\"TIA\",\"ANU\",\"JFK\",\"TIA\",\"ANU\",\"TIA\",\"JFK\"]"
   ]
  },
  {
   "cell_type": "markdown",
   "metadata": {},
   "source": [
    "# 334. Increasing Triplet Subsequence"
   ]
  },
  {
   "cell_type": "raw",
   "metadata": {},
   "source": [
    "Given an unsorted array return whether an increasing subsequence of length 3 exists or not in the array.\n",
    "\n",
    "Formally the function should:\n",
    "\n",
    "Return true if there exists i, j, k \n",
    "such that arr[i] < arr[j] < arr[k] given 0 ≤ i < j < k ≤ n-1 else return false.\n",
    "Note: Your algorithm should run in O(n) time complexity and O(1) space complexity.\n",
    "\n",
    "Example 1:\n",
    "\n",
    "Input: [1,2,3,4,5]\n",
    "Output: true\n",
    "Example 2:\n",
    "\n",
    "Input: [5,4,3,2,1]\n",
    "Output: false"
   ]
  },
  {
   "cell_type": "code",
   "execution_count": 37,
   "metadata": {},
   "outputs": [],
   "source": [
    "class Solution(object):\n",
    "    def increasingTriplet(self, nums):\n",
    "        \"\"\"\n",
    "        :type nums: List[int]\n",
    "        :rtype: bool\n",
    "        \"\"\"\n",
    "        ans = False\n",
    "        if not nums: return ans\n",
    "        first = second = float('inf')\n",
    "        for num in nums:\n",
    "            if num <= first:\n",
    "                first = num\n",
    "            elif num <= second:\n",
    "                second = num\n",
    "            else:\n",
    "                return True\n",
    "        return False\n",
    "        "
   ]
  },
  {
   "cell_type": "markdown",
   "metadata": {},
   "source": [
    "# 337. House Robber III"
   ]
  },
  {
   "cell_type": "raw",
   "metadata": {},
   "source": [
    "The thief has found himself a new place for his thievery again. There is only one entrance to this area, called the \"root.\" Besides the root, each house has one and only one parent house. After a tour, the smart thief realized that \"all houses in this place forms a binary tree\". It will automatically contact the police if two directly-linked houses were broken into on the same night.\n",
    "\n",
    "Determine the maximum amount of money the thief can rob tonight without alerting the police.\n",
    "\n",
    "Example 1:\n",
    "\n",
    "Input: [3,2,3,null,3,null,1]\n",
    "\n",
    "     3\n",
    "    / \\\n",
    "   2   3\n",
    "    \\   \\ \n",
    "     3   1\n",
    "\n",
    "Output: 7 \n",
    "Explanation: Maximum amount of money the thief can rob = 3 + 3 + 1 = 7.\n",
    "Example 2:\n",
    "\n",
    "Input: [3,4,5,1,3,null,1]\n",
    "\n",
    "     3\n",
    "    / \\\n",
    "   4   5\n",
    "  / \\   \\ \n",
    " 1   3   1\n",
    "\n",
    "Output: 9\n",
    "Explanation: Maximum amount of money the thief can rob = 4 + 5 = 9."
   ]
  },
  {
   "cell_type": "code",
   "execution_count": 163,
   "metadata": {},
   "outputs": [],
   "source": [
    "# Definition for a binary tree node.\n",
    "# class TreeNode(object):\n",
    "#     def __init__(self, x):\n",
    "#         self.val = x\n",
    "#         self.left = None\n",
    "#         self.right = None\n",
    "\n",
    "class Solution(object):\n",
    "    def rob(self, root):\n",
    "        \"\"\"\n",
    "        :type root: TreeNode\n",
    "        :rtype: int\n",
    "        \"\"\"\n",
    "        \n",
    "        def dfs(root):\n",
    "            if not root: return (0,0) #(max without robbing, max with robbing)\n",
    "            leftMax = dfs(root.left)\n",
    "            rightMax = dfs(root.right)\n",
    "                \n",
    "            return (max(leftMax)+max(rightMax), root.val+leftMax[0]+rightMax[0])\n",
    "        return max(dfs(root))"
   ]
  },
  {
   "cell_type": "markdown",
   "metadata": {},
   "source": [
    "# 338. Counting Bits"
   ]
  },
  {
   "cell_type": "raw",
   "metadata": {},
   "source": [
    "Given a non negative integer number num. For every numbers i in the range 0 ≤ i ≤ num calculate the number of 1's in their binary representation and return them as an array.\n",
    "\n",
    "Example 1:\n",
    "\n",
    "Input: 2\n",
    "Output: [0,1,1]\n",
    "Example 2:\n",
    "\n",
    "Input: 5\n",
    "Output: [0,1,1,2,1,2]"
   ]
  },
  {
   "cell_type": "code",
   "execution_count": 4,
   "metadata": {},
   "outputs": [],
   "source": [
    "class Solution(object):\n",
    "    def countBits(self, num):\n",
    "        \"\"\"\n",
    "        :type num: int\n",
    "        :rtype: List[int]\n",
    "        \"\"\"\n",
    "        dp = [0] *(num+1)\n",
    "        for i in range(num+1):\n",
    "            dp[i] = dp[i>>1] +(i&1)\n",
    "        return dp"
   ]
  },
  {
   "cell_type": "markdown",
   "metadata": {},
   "source": [
    "# 341. Flatten Nested List Iterator"
   ]
  },
  {
   "cell_type": "raw",
   "metadata": {},
   "source": [
    "Given a nested list of integers, implement an iterator to flatten it.\n",
    "\n",
    "Each element is either an integer, or a list -- whose elements may also be integers or other lists.\n",
    "\n",
    "Example 1:\n",
    "\n",
    "Input: [[1,1],2,[1,1]]\n",
    "Output: [1,1,2,1,1]\n",
    "Explanation: By calling next repeatedly until hasNext returns false, \n",
    "             the order of elements returned by next should be: [1,1,2,1,1].\n",
    "Example 2:\n",
    "\n",
    "Input: [1,[4,[6]]]\n",
    "Output: [1,4,6]\n",
    "Explanation: By calling next repeatedly until hasNext returns false, \n",
    "             the order of elements returned by next should be: [1,4,6]."
   ]
  },
  {
   "cell_type": "code",
   "execution_count": 18,
   "metadata": {},
   "outputs": [],
   "source": [
    "# \"\"\"\n",
    "# This is the interface that allows for creating nested lists.\n",
    "# You should not implement it, or speculate about its implementation\n",
    "# \"\"\"\n",
    "#class NestedInteger(object):\n",
    "#    def isInteger(self):\n",
    "#        \"\"\"\n",
    "#        @return True if this NestedInteger holds a single integer, rather than a nested list.\n",
    "#        :rtype bool\n",
    "#        \"\"\"\n",
    "#\n",
    "#    def getInteger(self):\n",
    "#        \"\"\"\n",
    "#        @return the single integer that this NestedInteger holds, if it holds a single integer\n",
    "#        Return None if this NestedInteger holds a nested list\n",
    "#        :rtype int\n",
    "#        \"\"\"\n",
    "#\n",
    "#    def getList(self):\n",
    "#        \"\"\"\n",
    "#        @return the nested list that this NestedInteger holds, if it holds a nested list\n",
    "#        Return None if this NestedInteger holds a single integer\n",
    "#        :rtype List[NestedInteger]\n",
    "#        \"\"\"\n",
    "\n",
    "class NestedIterator(object):\n",
    "\n",
    "    def __init__(self, nestedList):\n",
    "        \"\"\"\n",
    "        Initialize your data structure here.\n",
    "        :type nestedList: List[NestedInteger]\n",
    "        \"\"\"\n",
    "        self.stack = nestedList[::-1]\n",
    "        \n",
    "\n",
    "    def next(self):\n",
    "        \"\"\"\n",
    "        :rtype: int\n",
    "        \"\"\"\n",
    "        if self.hasNext(): \n",
    "            top = self.stack.pop()\n",
    "            return top.getInteger()\n",
    "        \n",
    "\n",
    "    def hasNext(self):\n",
    "        \"\"\"\n",
    "        :rtype: bool\n",
    "        \"\"\"\n",
    "        while self.stack:\n",
    "            top = self.stack[-1]\n",
    "            if top.isInteger(): return True\n",
    "            self.stack.pop()\n",
    "            nodeList = top.getList()\n",
    "            for i in range(len(nodeList)-1,-1,-1):\n",
    "                self.stack.append(nodeList[i])\n",
    "        return False\n",
    "                \n",
    "            \n",
    "        \n",
    "\n",
    "# Your NestedIterator object will be instantiated and called as such:\n",
    "# i, v = NestedIterator(nestedList), []\n",
    "# while i.hasNext(): v.append(i.next())"
   ]
  },
  {
   "cell_type": "markdown",
   "metadata": {},
   "source": [
    "# 342. Power of Four"
   ]
  },
  {
   "cell_type": "raw",
   "metadata": {},
   "source": [
    "Given an integer (signed 32 bits), write a function to check whether it is a power of 4.\n",
    "\n",
    "Example 1:\n",
    "\n",
    "Input: 16\n",
    "Output: true\n",
    "Example 2:\n",
    "\n",
    "Input: 5\n",
    "Output: false\n",
    "Follow up: Could you solve it without loops/recursion?"
   ]
  },
  {
   "cell_type": "code",
   "execution_count": null,
   "metadata": {},
   "outputs": [],
   "source": [
    "class Solution(object):\n",
    "    def isPowerOfFour(self, num):\n",
    "        \"\"\"\n",
    "        :type num: int\n",
    "        :rtype: bool\n",
    "        \"\"\"\n",
    "        if num<=0: return False\n",
    "        while num%4 == 0:\n",
    "            num = num//4\n",
    "        if num == 1: return True\n",
    "        return False\n",
    "        "
   ]
  },
  {
   "cell_type": "markdown",
   "metadata": {},
   "source": [
    "# 343. Integer Break"
   ]
  },
  {
   "cell_type": "raw",
   "metadata": {},
   "source": [
    "Given a positive integer n, break it into the sum of at least two positive integers and maximize the product of those integers. Return the maximum product you can get.\n",
    "\n",
    "Example 1:\n",
    "\n",
    "Input: 2\n",
    "Output: 1\n",
    "Explanation: 2 = 1 + 1, 1 × 1 = 1.\n",
    "Example 2:\n",
    "\n",
    "Input: 10\n",
    "Output: 36\n",
    "Explanation: 10 = 3 + 3 + 4, 3 × 3 × 4 = 36.\n",
    "Note: You may assume that n is not less than 2 and not larger than 58."
   ]
  },
  {
   "cell_type": "code",
   "execution_count": 116,
   "metadata": {},
   "outputs": [],
   "source": [
    "class Solution(object):\n",
    "    def integerBreak(self, n):\n",
    "        \"\"\"\n",
    "        :type n: int\n",
    "        :rtype: int\n",
    "        \"\"\"\n",
    "        dp = [0] * (n+1)\n",
    "        dp[1] = 1\n",
    "        dp[2] = 1\n",
    "        for i in range(3,n+1):\n",
    "            for j in range(1,i):\n",
    "                dp[i] = max(dp[i],j*max(i-j,dp[i-j]))\n",
    "        return dp[n]"
   ]
  },
  {
   "cell_type": "code",
   "execution_count": 117,
   "metadata": {},
   "outputs": [
    {
     "data": {
      "text/plain": [
       "36"
      ]
     },
     "execution_count": 117,
     "metadata": {},
     "output_type": "execute_result"
    }
   ],
   "source": [
    "a = Solution()\n",
    "a.integerBreak(10)"
   ]
  },
  {
   "cell_type": "markdown",
   "metadata": {},
   "source": [
    "# 344. Reverse String"
   ]
  },
  {
   "cell_type": "raw",
   "metadata": {},
   "source": [
    "Write a function that reverses a string. The input string is given as an array of characters char[].\n",
    "\n",
    "Do not allocate extra space for another array, you must do this by modifying the input array in-place with O(1) extra memory.\n",
    "\n",
    "You may assume all the characters consist of printable ascii characters.\n",
    "\n",
    " \n",
    "\n",
    "Example 1:\n",
    "\n",
    "Input: [\"h\",\"e\",\"l\",\"l\",\"o\"]\n",
    "Output: [\"o\",\"l\",\"l\",\"e\",\"h\"]\n",
    "Example 2:\n",
    "\n",
    "Input: [\"H\",\"a\",\"n\",\"n\",\"a\",\"h\"]\n",
    "Output: [\"h\",\"a\",\"n\",\"n\",\"a\",\"H\"]"
   ]
  },
  {
   "cell_type": "code",
   "execution_count": null,
   "metadata": {},
   "outputs": [],
   "source": [
    "class Solution(object):\n",
    "    def reverseString(self, s):\n",
    "        \"\"\"\n",
    "        :type s: List[str]\n",
    "        :rtype: void Do not return anything, modify s in-place instead.\n",
    "        \"\"\"\n",
    "        n = len(s)\n",
    "        i = 0\n",
    "        j = n-1\n",
    "        while i<j:\n",
    "            s[i],s[j] = s[j],s[i]\n",
    "            i += 1\n",
    "            j -= 1"
   ]
  },
  {
   "cell_type": "markdown",
   "metadata": {},
   "source": [
    "# 345. Reverse Vowels of a String"
   ]
  },
  {
   "cell_type": "raw",
   "metadata": {},
   "source": [
    "Write a function that takes a string as input and reverse only the vowels of a string.\n",
    "\n",
    "Example 1:\n",
    "\n",
    "Input: \"hello\"\n",
    "Output: \"holle\"\n",
    "Example 2:\n",
    "\n",
    "Input: \"leetcode\"\n",
    "Output: \"leotcede\"\n",
    "Note:\n",
    "The vowels does not include the letter \"y\"."
   ]
  },
  {
   "cell_type": "code",
   "execution_count": null,
   "metadata": {},
   "outputs": [],
   "source": [
    "class Solution(object):\n",
    "    def reverseVowels(self, s):\n",
    "        \"\"\"\n",
    "        :type s: str\n",
    "        :rtype: str\n",
    "        \"\"\"\n",
    "        if not s: return s\n",
    "        n = len(s)\n",
    "        if n==1: return s\n",
    "        vowels = ['a','e','i','o','u']\n",
    "        ans = list(s)\n",
    "        i = 0\n",
    "        j = n-1\n",
    "        while i<j:\n",
    "            if ans[i].lower() not in vowels and ans[j].lower() not in vowels:\n",
    "                i += 1\n",
    "                j -= 1\n",
    "            elif ans[i].lower() not in vowels:\n",
    "                i +=1\n",
    "            elif ans[j].lower() not in vowels:\n",
    "                j -= 1\n",
    "            else:\n",
    "                ans[i],ans[j] = ans[j], ans[i]\n",
    "                i +=1\n",
    "                j -=1\n",
    "        return ''.join(ans)\n",
    "            \n",
    "            \n",
    "            \n",
    "                "
   ]
  },
  {
   "cell_type": "markdown",
   "metadata": {},
   "source": [
    "# 347. Top K Frequent Elements"
   ]
  },
  {
   "cell_type": "raw",
   "metadata": {},
   "source": [
    "Given a non-empty array of integers, return the k most frequent elements.\n",
    "\n",
    "Example 1:\n",
    "\n",
    "Input: nums = [1,1,1,2,2,3], k = 2\n",
    "Output: [1,2]\n",
    "Example 2:\n",
    "\n",
    "Input: nums = [1], k = 1\n",
    "Output: [1]\n",
    "Note:\n",
    "\n",
    "You may assume k is always valid, 1 ≤ k ≤ number of unique elements.\n",
    "Your algorithm's time complexity must be better than O(n log n), where n is the array's size."
   ]
  },
  {
   "cell_type": "code",
   "execution_count": 5,
   "metadata": {},
   "outputs": [],
   "source": [
    "from heapq import heapify, heappush, heappop\n",
    "class Solution(object):\n",
    "    def topKFrequent(self, nums, k):\n",
    "        \"\"\"\n",
    "        :type nums: List[int]\n",
    "        :type k: int\n",
    "        :rtype: List[int]\n",
    "        \"\"\"\n",
    "        ans = []\n",
    "        n = len(nums)\n",
    "        hmap = {}\n",
    "        for num in nums:\n",
    "            hmap.setdefault(num,0)\n",
    "            hmap[num]+= 1\n",
    "            \n",
    "        heap = []\n",
    "        heapify(heap)\n",
    "        for val, freq in hmap.items():\n",
    "            heappush(heap,(freq,val))\n",
    "            if len(heap) > k:\n",
    "                heappop(heap)\n",
    "                \n",
    "        print(heap)\n",
    "            \n",
    "        while heap:\n",
    "            ans.append(heap[0][1])\n",
    "            heappop(heap)\n",
    "        return reversed(ans)"
   ]
  },
  {
   "cell_type": "code",
   "execution_count": 4,
   "metadata": {},
   "outputs": [
    {
     "data": {
      "text/plain": [
       "3"
      ]
     },
     "execution_count": 4,
     "metadata": {},
     "output_type": "execute_result"
    }
   ],
   "source": [
    "a = Solution()\n",
    "a.topKFrequent([1,1,1,2,2,3],2)"
   ]
  },
  {
   "cell_type": "markdown",
   "metadata": {},
   "source": [
    "# 349. Intersection of Two Arrays"
   ]
  },
  {
   "cell_type": "raw",
   "metadata": {},
   "source": [
    "Given two arrays, write a function to compute their intersection.\n",
    "\n",
    "Example 1:\n",
    "\n",
    "Input: nums1 = [1,2,2,1], nums2 = [2,2]\n",
    "Output: [2]\n",
    "Example 2:\n",
    "\n",
    "Input: nums1 = [4,9,5], nums2 = [9,4,9,8,4]\n",
    "Output: [9,4]\n",
    "Note:\n",
    "\n",
    "Each element in the result must be unique.\n",
    "The result can be in any order."
   ]
  },
  {
   "cell_type": "code",
   "execution_count": null,
   "metadata": {},
   "outputs": [],
   "source": [
    "class Solution(object):\n",
    "    def intersection(self, nums1, nums2):\n",
    "        \"\"\"\n",
    "        :type nums1: List[int]\n",
    "        :type nums2: List[int]\n",
    "        :rtype: List[int]\n",
    "        \"\"\"\n",
    "        return list(set(nums1).intersection(set(nums2)))"
   ]
  },
  {
   "cell_type": "markdown",
   "metadata": {},
   "source": [
    "# 350. Intersection of Two Arrays II"
   ]
  },
  {
   "cell_type": "raw",
   "metadata": {},
   "source": [
    "Given two arrays, write a function to compute their intersection.\n",
    "\n",
    "Example 1:\n",
    "\n",
    "Input: nums1 = [1,2,2,1], nums2 = [2,2]\n",
    "Output: [2,2]\n",
    "Example 2:\n",
    "\n",
    "Input: nums1 = [4,9,5], nums2 = [9,4,9,8,4]\n",
    "Output: [4,9]\n",
    "Note:\n",
    "\n",
    "Each element in the result should appear as many times as it shows in both arrays.\n",
    "The result can be in any order.\n",
    "Follow up:\n",
    "\n",
    "What if the given array is already sorted? How would you optimize your algorithm?\n",
    "What if nums1's size is small compared to nums2's size? Which algorithm is better?\n",
    "What if elements of nums2 are stored on disk, and the memory is limited such that you cannot load all elements into the memory at once?"
   ]
  },
  {
   "cell_type": "code",
   "execution_count": 5,
   "metadata": {},
   "outputs": [],
   "source": [
    "from collections import Counter\n",
    "class Solution(object):\n",
    "    def intersect(self, nums1, nums2):\n",
    "        \"\"\"\n",
    "        :type nums1: List[int]\n",
    "        :type nums2: List[int]\n",
    "        :rtype: List[int]\n",
    "        \"\"\"\n",
    "        c1 = Counter(nums1)\n",
    "        ans = []\n",
    "        for n in nums2:\n",
    "            if n in c1 and c1[n]>0:\n",
    "                ans.append(n)\n",
    "                c1[n] -= 1\n",
    "        return ans"
   ]
  },
  {
   "cell_type": "code",
   "execution_count": 19,
   "metadata": {},
   "outputs": [],
   "source": [
    "class Solution:\n",
    "    \"\"\"\n",
    "    @param image: a binary matrix with '0' and '1'\n",
    "    @param x: the location of one of the black pixels\n",
    "    @param y: the location of one of the black pixels\n",
    "    @return: an integer\n",
    "    \"\"\"\n",
    "    def minArea(self, image, x, y):\n",
    "        # write your code here\n",
    "        m,n = len(image),len(image[0])\n",
    "        \n",
    "        \n",
    "        def isColHasOne(x,y):\n",
    "            for i in range(m):\n",
    "                if image[i][y] =='1':\n",
    "                    return True\n",
    "            return False\n",
    "            \n",
    "        def isRowHasOne(x,y):\n",
    "            for j in range(n):\n",
    "                if image[x][j] == '1':\n",
    "                    return True\n",
    "            return False\n",
    "            \n",
    "        def searchRowLeft(x,y):\n",
    "            low = 0\n",
    "            high = y\n",
    "            while low<=high:\n",
    "                mid = (low+high)//2\n",
    "                if isColHasOne(x,mid):\n",
    "                    high= mid-1\n",
    "                else:\n",
    "                    low = mid+1\n",
    "            return low\n",
    "            \n",
    "        def searchRowRight(x,y):\n",
    "            low = y\n",
    "            high = n-1\n",
    "            while low<=high:\n",
    "                mid = (low+high)//2\n",
    "                if not isColHasOne(x,mid):\n",
    "                    high = mid-1\n",
    "                else:\n",
    "                    low = mid+1\n",
    "            return high \n",
    "            \n",
    "        def searchColTop(x,y):\n",
    "            low = 0\n",
    "            high = x\n",
    "            while low<=high:\n",
    "                mid = (low+high)//2\n",
    "                if isRowHasOne(mid,y):\n",
    "                    high= mid-1\n",
    "                else:\n",
    "                    low = mid+1\n",
    "            return low\n",
    "            \n",
    "        def searchColBtm(x,y):\n",
    "            low = x\n",
    "            high = m-1\n",
    "            while low<=high:\n",
    "                mid = (low+high)//2\n",
    "                if not isRowHasOne(mid,y):\n",
    "                    high= mid-1\n",
    "                else:\n",
    "                    low = mid+1\n",
    "            return high\n",
    "                    \n",
    "        xmin = searchRowLeft(x,y)\n",
    "        xmax = searchRowRight(x,y)\n",
    "        ymin = searchColTop(x,y)\n",
    "        ymax = searchColBtm(x,y)\n",
    "        print(xmin,xmax,ymin,ymax)\n",
    "        return (xmax-xmin+1)*(ymax-ymin+1)"
   ]
  },
  {
   "cell_type": "code",
   "execution_count": 120,
   "metadata": {},
   "outputs": [
    {
     "data": {
      "text/plain": [
       "[['ATL', 'JFK'],\n",
       " ['ATL', 'SFO'],\n",
       " ['JFK', 'ATL'],\n",
       " ['JFK', 'SFO'],\n",
       " ['SFO', 'ATL']]"
      ]
     },
     "execution_count": 120,
     "metadata": {},
     "output_type": "execute_result"
    }
   ],
   "source": [
    "a =[[\"JFK\",\"SFO\"],[\"JFK\",\"ATL\"],[\"SFO\",\"ATL\"],[\"ATL\",\"JFK\"],[\"ATL\",\"SFO\"]]\n",
    "a.sort()\n",
    "a"
   ]
  },
  {
   "cell_type": "code",
   "execution_count": 21,
   "metadata": {},
   "outputs": [
    {
     "name": "stdout",
     "output_type": "stream",
     "text": [
      "24 35 0 4\n"
     ]
    },
    {
     "data": {
      "text/plain": [
       "60"
      ]
     },
     "execution_count": 21,
     "metadata": {},
     "output_type": "execute_result"
    }
   ],
   "source": [
    "a.minArea(image,x,y)"
   ]
  },
  {
   "cell_type": "code",
   "execution_count": 166,
   "metadata": {},
   "outputs": [
    {
     "data": {
      "text/plain": [
       "True"
      ]
     },
     "execution_count": 166,
     "metadata": {},
     "output_type": "execute_result"
    }
   ],
   "source": [
    "[1,2]>[1,1]"
   ]
  },
  {
   "cell_type": "code",
   "execution_count": null,
   "metadata": {},
   "outputs": [],
   "source": []
  }
 ],
 "metadata": {
  "kernelspec": {
   "display_name": "Python 3",
   "language": "python",
   "name": "python3"
  },
  "language_info": {
   "codemirror_mode": {
    "name": "ipython",
    "version": 3
   },
   "file_extension": ".py",
   "mimetype": "text/x-python",
   "name": "python",
   "nbconvert_exporter": "python",
   "pygments_lexer": "ipython3",
   "version": "3.6.5"
  },
  "toc": {
   "base_numbering": 1,
   "nav_menu": {},
   "number_sections": true,
   "sideBar": true,
   "skip_h1_title": false,
   "title_cell": "Table of Contents",
   "title_sidebar": "Contents",
   "toc_cell": false,
   "toc_position": {},
   "toc_section_display": true,
   "toc_window_display": false
  }
 },
 "nbformat": 4,
 "nbformat_minor": 2
}
