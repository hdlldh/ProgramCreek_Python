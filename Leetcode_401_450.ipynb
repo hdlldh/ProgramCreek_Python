{
 "cells": [
  {
   "cell_type": "markdown",
   "metadata": {},
   "source": [
    "# 401. Binary Watch"
   ]
  },
  {
   "cell_type": "raw",
   "metadata": {},
   "source": [
    "A binary watch has 4 LEDs on the top which represent the hours (0-11), and the 6 LEDs on the bottom represent the minutes (0-59).\n",
    "\n",
    "Each LED represents a zero or one, with the least significant bit on the right.\n",
    "\n",
    "\n",
    "For example, the above binary watch reads \"3:25\".\n",
    "\n",
    "Given a non-negative integer n which represents the number of LEDs that are currently on, return all possible times the watch could represent.\n",
    "\n",
    "Example:\n",
    "\n",
    "Input: n = 1\n",
    "Return: [\"1:00\", \"2:00\", \"4:00\", \"8:00\", \"0:01\", \"0:02\", \"0:04\", \"0:08\", \"0:16\", \"0:32\"]\n",
    "Note:\n",
    "\n",
    "The order of output does not matter.\n",
    "The hour must not contain a leading zero, for example \"01:00\" is not valid, it should be \"1:00\".\n",
    "The minute must be consist of two digits and may contain a leading zero, for example \"10:2\" is not valid, it should be \"10:02\"."
   ]
  },
  {
   "cell_type": "code",
   "execution_count": 3,
   "metadata": {},
   "outputs": [],
   "source": [
    "from itertools import combinations\n",
    "class Solution(object):\n",
    "    def readBinaryWatch(self, num):\n",
    "        \"\"\"\n",
    "        :type num: int\n",
    "        :rtype: List[str]\n",
    "        \"\"\"\n",
    "        d={'a':1, 'b':2, 'c':4, 'd':8, 'e':1, 'f':2, 'g':4, 'h':8, 'i':16, 'j':32 }\n",
    "\n",
    "        c=combinations('abcdefghij',num)\n",
    "        r=[]\n",
    "        for v in c:\n",
    "            h = sum([d[l] for l in v if l in 'abcd'])\n",
    "            m = sum([d[l] for l in v if l not in 'abcd'])\n",
    "            if h<=12 and m<=60:\n",
    "                r.append('%d:%02d'%(h,m))\n",
    "        return r\n",
    "        "
   ]
  },
  {
   "cell_type": "markdown",
   "metadata": {},
   "source": [
    "# 404. Sum of Left Leaves"
   ]
  },
  {
   "cell_type": "raw",
   "metadata": {},
   "source": [
    "Find the sum of all left leaves in a given binary tree.\n",
    "\n",
    "Example:\n",
    "\n",
    "    3\n",
    "   / \\\n",
    "  9  20\n",
    "    /  \\\n",
    "   15   7\n",
    "\n",
    "There are two left leaves in the binary tree, with values 9 and 15 respectively. Return 24."
   ]
  },
  {
   "cell_type": "code",
   "execution_count": null,
   "metadata": {},
   "outputs": [],
   "source": [
    "# Definition for a binary tree node.\n",
    "# class TreeNode(object):\n",
    "#     def __init__(self, x):\n",
    "#         self.val = x\n",
    "#         self.left = None\n",
    "#         self.right = None\n",
    "\n",
    "from collections import deque\n",
    "class Solution(object):\n",
    "    def sumOfLeftLeaves(self, root):\n",
    "        \"\"\"\n",
    "        :type root: TreeNode\n",
    "        :rtype: int\n",
    "        \"\"\"\n",
    "        if not root: return 0\n",
    "        node_queue = deque([root])\n",
    "        left_nodes = deque()\n",
    "        while node_queue:\n",
    "            node = node_queue.popleft()\n",
    "            if node.left:\n",
    "                left_nodes.append(node.left)\n",
    "                node_queue.append(node.left)\n",
    "            if node.right:\n",
    "                node_queue.append(node.right)\n",
    "        val = 0\n",
    "        while left_nodes:\n",
    "            node = left_nodes.popleft()\n",
    "            if not node.left and not node.right:\n",
    "                val += node.val\n",
    "        return val\n",
    "       "
   ]
  },
  {
   "cell_type": "markdown",
   "metadata": {},
   "source": [
    "# 405. Convert a Number to Hexadecimal"
   ]
  },
  {
   "cell_type": "raw",
   "metadata": {},
   "source": [
    "Given an integer, write an algorithm to convert it to hexadecimal. For negative integer, two’s complement method is used.\n",
    "\n",
    "Note:\n",
    "\n",
    "All letters in hexadecimal (a-f) must be in lowercase.\n",
    "The hexadecimal string must not contain extra leading 0s. If the number is zero, it is represented by a single zero character '0'; otherwise, the first character in the hexadecimal string will not be the zero character.\n",
    "The given number is guaranteed to fit within the range of a 32-bit signed integer.\n",
    "You must not use any method provided by the library which converts/formats the number to hex directly.\n",
    "Example 1:\n",
    "\n",
    "Input:\n",
    "26\n",
    "\n",
    "Output:\n",
    "\"1a\"\n",
    "Example 2:\n",
    "\n",
    "Input:\n",
    "-1\n",
    "\n",
    "Output:\n",
    "\"ffffffff\""
   ]
  },
  {
   "cell_type": "code",
   "execution_count": null,
   "metadata": {},
   "outputs": [],
   "source": [
    "class Solution(object):\n",
    "    def toHex(self, num):\n",
    "        \"\"\"\n",
    "        :type num: int\n",
    "        :rtype: str\n",
    "        \"\"\"\n",
    "        d = {10:'a',11:'b',12:'c',13:'d',14:'e',15:'f'}\n",
    "        ans = ''\n",
    "        for _ in range(8):\n",
    "            last4 = num & 15\n",
    "            if last4 in d: temp = d[last4]\n",
    "            else: temp = str(last4)\n",
    "            ans = temp+ans\n",
    "            num = num>>4\n",
    "        return ans.lstrip('0')"
   ]
  },
  {
   "cell_type": "markdown",
   "metadata": {},
   "source": [
    "# 409. Longest Palindrome"
   ]
  },
  {
   "cell_type": "raw",
   "metadata": {},
   "source": [
    "Given a string which consists of lowercase or uppercase letters, find the length of the longest palindromes that can be built with those letters.\n",
    "\n",
    "This is case sensitive, for example \"Aa\" is not considered a palindrome here.\n",
    "\n",
    "Note:\n",
    "Assume the length of given string will not exceed 1,010.\n",
    "\n",
    "Example:\n",
    "\n",
    "Input:\n",
    "\"abccccdd\"\n",
    "\n",
    "Output:\n",
    "7\n",
    "\n",
    "Explanation:\n",
    "One longest palindrome that can be built is \"dccaccd\", whose length is 7."
   ]
  },
  {
   "cell_type": "code",
   "execution_count": null,
   "metadata": {},
   "outputs": [],
   "source": [
    "from collections import Counter\n",
    "class Solution(object):\n",
    "    def longestPalindrome(self, s):\n",
    "        \"\"\"\n",
    "        :type s: str\n",
    "        :rtype: int\n",
    "        \"\"\"\n",
    "        c = Counter(s)\n",
    "        l = 0\n",
    "        for k in c:\n",
    "            l += (c[k]//2)*2\n",
    "        return min(len(s),l+1)"
   ]
  },
  {
   "cell_type": "markdown",
   "metadata": {},
   "source": [
    "# 412. Fizz Buzz"
   ]
  },
  {
   "cell_type": "raw",
   "metadata": {},
   "source": [
    "Write a program that outputs the string representation of numbers from 1 to n.\n",
    "\n",
    "But for multiples of three it should output “Fizz” instead of the number and for the multiples of five output “Buzz”. For numbers which are multiples of both three and five output “FizzBuzz”.\n",
    "\n",
    "Example:\n",
    "\n",
    "n = 15,\n",
    "\n",
    "Return:\n",
    "[\n",
    "    \"1\",\n",
    "    \"2\",\n",
    "    \"Fizz\",\n",
    "    \"4\",\n",
    "    \"Buzz\",\n",
    "    \"Fizz\",\n",
    "    \"7\",\n",
    "    \"8\",\n",
    "    \"Fizz\",\n",
    "    \"Buzz\",\n",
    "    \"11\",\n",
    "    \"Fizz\",\n",
    "    \"13\",\n",
    "    \"14\",\n",
    "    \"FizzBuzz\"\n",
    "]"
   ]
  },
  {
   "cell_type": "code",
   "execution_count": null,
   "metadata": {},
   "outputs": [],
   "source": [
    "class Solution(object):\n",
    "    def fizzBuzz(self, n):\n",
    "        \"\"\"\n",
    "        :type n: int\n",
    "        :rtype: List[str]\n",
    "        \"\"\"\n",
    "        ans = []\n",
    "        for n in range(1,n+1):\n",
    "            if n%3==0 and n%5==0:\n",
    "                ans.append('FizzBuzz')\n",
    "            elif n%3==0:\n",
    "                ans.append('Fizz')\n",
    "            elif n%5==0:\n",
    "                ans.append('Buzz')\n",
    "            else:\n",
    "                ans.append(str(n))\n",
    "        return ans"
   ]
  },
  {
   "cell_type": "markdown",
   "metadata": {},
   "source": [
    "# 414. Third Maximum Number"
   ]
  },
  {
   "cell_type": "raw",
   "metadata": {},
   "source": [
    "Given a non-empty array of integers, return the third maximum number in this array. If it does not exist, return the maximum number. The time complexity must be in O(n).\n",
    "\n",
    "Example 1:\n",
    "\n",
    "Input: [3, 2, 1]\n",
    "\n",
    "Output: 1\n",
    "\n",
    "Explanation: The third maximum is 1.\n",
    "Example 2:\n",
    "\n",
    "Input: [1, 2]\n",
    "\n",
    "Output: 2\n",
    "\n",
    "Explanation: The third maximum does not exist, so the maximum (2) is returned instead.\n",
    "Example 3:\n",
    "\n",
    "Input: [2, 2, 3, 1]\n",
    "\n",
    "Output: 1\n",
    "\n",
    "Explanation: Note that the third maximum here means the third maximum distinct number.\n",
    "Both numbers with value 2 are both considered as second maximum."
   ]
  },
  {
   "cell_type": "code",
   "execution_count": 7,
   "metadata": {},
   "outputs": [],
   "source": [
    "class Solution(object):\n",
    "    def thirdMax(self, nums):\n",
    "        \"\"\"\n",
    "        :type nums: List[int]\n",
    "        :rtype: int\n",
    "        \"\"\"\n",
    "        \n",
    "        rank = [nums[0]]  # top1, top2, top3 \n",
    "        for n in nums[1:]:\n",
    "            if n in rank: continue \n",
    "            if n < rank[-1] and len(rank)<3:\n",
    "                rank.append(n)\n",
    "                continue\n",
    "            for i in range(len(rank)):\n",
    "                if n > rank[i]:\n",
    "                    rank.insert(i,n)\n",
    "                    break        \n",
    "            if len(rank)>3:\n",
    "                rank = rank[:3]\n",
    "        if len(rank)<3: return rank[0]\n",
    "        return rank[-1]\n",
    "                \n",
    "            \n",
    "        "
   ]
  },
  {
   "cell_type": "markdown",
   "metadata": {},
   "source": [
    "# 415. Add Strings"
   ]
  },
  {
   "cell_type": "raw",
   "metadata": {},
   "source": [
    "Given two non-negative integers num1 and num2 represented as string, return the sum of num1 and num2.\n",
    "\n",
    "Note:\n",
    "\n",
    "The length of both num1 and num2 is < 5100.\n",
    "Both num1 and num2 contains only digits 0-9.\n",
    "Both num1 and num2 does not contain any leading zero.\n",
    "You must not use any built-in BigInteger library or convert the inputs to integer directly."
   ]
  },
  {
   "cell_type": "code",
   "execution_count": null,
   "metadata": {},
   "outputs": [],
   "source": [
    "class Solution(object):\n",
    "    def addStrings(self, num1, num2):\n",
    "        \"\"\"\n",
    "        :type num1: str\n",
    "        :type num2: str\n",
    "        :rtype: str\n",
    "        \"\"\"\n",
    "        m = len(num1)\n",
    "        n = len(num2)\n",
    "        xlist = list(num1)\n",
    "        ylist = list(num2)\n",
    "        xlist.reverse()\n",
    "        ylist.reverse()\n",
    "        c = 0\n",
    "        ans = []\n",
    "        for i in range(max(m,n)):\n",
    "            x = int(xlist[i]) if i< m else 0\n",
    "            y = int(ylist[i]) if i <n else 0\n",
    "            ans.append(str((x+y+c)%10))\n",
    "            c = 1 if (x+y+c)>=10 else 0\n",
    "        if c: ans.append('1')\n",
    "        ans.reverse()\n",
    "        return ''.join(ans)"
   ]
  },
  {
   "cell_type": "markdown",
   "metadata": {},
   "source": [
    "# 427. Construct Quad Tree"
   ]
  },
  {
   "cell_type": "raw",
   "metadata": {},
   "source": [
    "We want to use quad trees to store an N x N boolean grid. Each cell in the grid can only be true or false. The root node represents the whole grid. For each node, it will be subdivided into four children nodes until the values in the region it represents are all the same.\n",
    "\n",
    "Each node has another two boolean attributes : isLeaf and val. isLeaf is true if and only if the node is a leaf node. The val attribute for a leaf node contains the value of the region it represents.\n",
    "\n",
    "Your task is to use a quad tree to represent a given grid. The following example may help you understand the problem better:\n",
    "\n",
    "Given the 8 x 8 grid below, we want to construct the corresponding quad tree:\n",
    "\n",
    "\n",
    "\n",
    "It can be divided according to the definition above:\n",
    "\n",
    "\n",
    "\n",
    " \n",
    "\n",
    "The corresponding quad tree should be as following, where each node is represented as a (isLeaf, val) pair.\n",
    "\n",
    "For the non-leaf nodes, val can be arbitrary, so it is represented as *.\n",
    "\n",
    "\n",
    "\n",
    "Note:\n",
    "\n",
    "N is less than 1000 and guaranteened to be a power of 2.\n",
    "If you want to know more about the quad tree, you can refer to its wiki."
   ]
  },
  {
   "cell_type": "code",
   "execution_count": null,
   "metadata": {},
   "outputs": [],
   "source": [
    "\"\"\"\n",
    "# Definition for a QuadTree node.\n",
    "class Node(object):\n",
    "    def __init__(self, val, isLeaf, topLeft, topRight, bottomLeft, bottomRight):\n",
    "        self.val = val\n",
    "        self.isLeaf = isLeaf\n",
    "        self.topLeft = topLeft\n",
    "        self.topRight = topRight\n",
    "        self.bottomLeft = bottomLeft\n",
    "        self.bottomRight = bottomRight\n",
    "\"\"\"\n",
    "class Solution(object):\n",
    "    def construct(self, grid):\n",
    "        \"\"\"\n",
    "        :type grid: List[List[int]]\n",
    "        :rtype: Node\n",
    "        \"\"\"\n",
    "        \n",
    "        \n",
    "        if not grid[0]: return None\n",
    "        n = len(grid)\n",
    "        minV = min(min(grid))\n",
    "        maxV = max(max(grid))\n",
    "        if minV==maxV: \n",
    "            return Node(grid[0][0]==1,True,None,None,None,None)\n",
    "        n = n//2\n",
    "        node = Node('*',False,\\\n",
    "                    self.construct([row[:n] for row in grid[:n]]),\\\n",
    "                    self.construct([row[n:] for row in grid[:n]]),\\\n",
    "                    self.construct([row[:n] for row in grid[n:]]),\\\n",
    "                    self.construct([row[n:] for row in grid[n:]]))\n",
    "        return node"
   ]
  },
  {
   "cell_type": "markdown",
   "metadata": {},
   "source": [
    "# 429. N-ary Tree Level Order Traversal"
   ]
  },
  {
   "cell_type": "raw",
   "metadata": {},
   "source": [
    "Given an n-ary tree, return the level order traversal of its nodes' values. (ie, from left to right, level by level).\n",
    "\n",
    "For example, given a 3-ary tree:\n",
    "\n",
    " \n",
    "\n",
    "\n",
    "\n",
    " \n",
    "\n",
    "We should return its level order traversal:\n",
    "\n",
    "[\n",
    "     [1],\n",
    "     [3,2,4],\n",
    "     [5,6]\n",
    "]\n",
    " \n",
    "\n",
    "Note:\n",
    "\n",
    "The depth of the tree is at most 1000.\n",
    "The total number of nodes is at most 5000."
   ]
  },
  {
   "cell_type": "code",
   "execution_count": 34,
   "metadata": {},
   "outputs": [],
   "source": [
    "\"\"\"\n",
    "# Definition for a Node.\n",
    "class Node(object):\n",
    "    def __init__(self, val, children):\n",
    "        self.val = val\n",
    "        self.children = children\n",
    "\"\"\"\n",
    "\n",
    "class Solution(object):\n",
    "    def levelOrder(self, root):\n",
    "        \"\"\"\n",
    "        :type root: Node\n",
    "        :rtype: List[List[int]]\n",
    "        \"\"\"\n",
    "        if not root: return []\n",
    "        ans = []\n",
    "        level = [root]\n",
    "        while level:\n",
    "            next_level = []\n",
    "            tmp = []\n",
    "            for node in level:\n",
    "                tmp.append(node.val)\n",
    "                for child in node.children:\n",
    "                    if child:\n",
    "                        next_level.append(child)\n",
    "            ans.append(tmp)\n",
    "            level = next_level\n",
    "        return ans\n",
    "            \n",
    "        "
   ]
  },
  {
   "cell_type": "markdown",
   "metadata": {},
   "source": [
    "# 434. Number of Segments in a String"
   ]
  },
  {
   "cell_type": "raw",
   "metadata": {},
   "source": [
    "Count the number of segments in a string, where a segment is defined to be a contiguous sequence of non-space characters.\n",
    "\n",
    "Please note that the string does not contain any non-printable characters.\n",
    "\n",
    "Example:\n",
    "\n",
    "Input: \"Hello, my name is John\"\n",
    "Output: 5"
   ]
  },
  {
   "cell_type": "code",
   "execution_count": 35,
   "metadata": {},
   "outputs": [],
   "source": [
    "class Solution(object):\n",
    "    def countSegments(self, s):\n",
    "        \"\"\"\n",
    "        :type s: str\n",
    "        :rtype: int\n",
    "        \"\"\"\n",
    "        return len(s.split())"
   ]
  },
  {
   "cell_type": "markdown",
   "metadata": {},
   "source": [
    "# 437. Path Sum III"
   ]
  },
  {
   "cell_type": "raw",
   "metadata": {},
   "source": [
    "You are given a binary tree in which each node contains an integer value.\n",
    "\n",
    "Find the number of paths that sum to a given value.\n",
    "\n",
    "The path does not need to start or end at the root or a leaf, but it must go downwards (traveling only from parent nodes to child nodes).\n",
    "\n",
    "The tree has no more than 1,000 nodes and the values are in the range -1,000,000 to 1,000,000.\n",
    "\n",
    "Example:\n",
    "\n",
    "root = [10,5,-3,3,2,null,11,3,-2,null,1], sum = 8\n",
    "\n",
    "      10\n",
    "     /  \\\n",
    "    5   -3\n",
    "   / \\    \\\n",
    "  3   2   11\n",
    " / \\   \\\n",
    "3  -2   1\n",
    "\n",
    "Return 3. The paths that sum to 8 are:\n",
    "\n",
    "1.  5 -> 3\n",
    "2.  5 -> 2 -> 1\n",
    "3. -3 -> 11"
   ]
  },
  {
   "cell_type": "code",
   "execution_count": 36,
   "metadata": {},
   "outputs": [],
   "source": [
    "# Definition for a binary tree node.\n",
    "# class TreeNode(object):\n",
    "#     def __init__(self, x):\n",
    "#         self.val = x\n",
    "#         self.left = None\n",
    "#         self.right = None\n",
    "\n",
    "class Solution(object):\n",
    "    def pathSum(self, root, sum):\n",
    "        \"\"\"\n",
    "        :type root: TreeNode\n",
    "        :type sum: int\n",
    "        :rtype: int\n",
    "        \"\"\"\n",
    "        self.numOfPaths = 0\n",
    "        self.dfs(root,sum)\n",
    "        return self.numOfPaths\n",
    "    \n",
    "    def dfs(self, node, target):\n",
    "        if not node: return\n",
    "        self.count(node,target)\n",
    "        self.dfs(node.left,target)\n",
    "        self.dfs(node.right,target)\n",
    "        \n",
    "        \n",
    "    def count(self,node, target):\n",
    "        if not node: return\n",
    "        if node.val == target:\n",
    "            self.numOfPaths += 1\n",
    "        self.count(node.left,target-node.val)\n",
    "        self.count(node.right,target-node.val)"
   ]
  },
  {
   "cell_type": "markdown",
   "metadata": {},
   "source": [
    "# 438. Find All Anagrams in a String"
   ]
  },
  {
   "cell_type": "raw",
   "metadata": {},
   "source": [
    "Given a string s and a non-empty string p, find all the start indices of p's anagrams in s.\n",
    "\n",
    "Strings consists of lowercase English letters only and the length of both strings s and p will not be larger than 20,100.\n",
    "\n",
    "The order of output does not matter.\n",
    "\n",
    "Example 1:\n",
    "\n",
    "Input:\n",
    "s: \"cbaebabacd\" p: \"abc\"\n",
    "\n",
    "Output:\n",
    "[0, 6]\n",
    "\n",
    "Explanation:\n",
    "The substring with start index = 0 is \"cba\", which is an anagram of \"abc\".\n",
    "The substring with start index = 6 is \"bac\", which is an anagram of \"abc\".\n",
    "Example 2:\n",
    "\n",
    "Input:\n",
    "s: \"abab\" p: \"ab\"\n",
    "\n",
    "Output:\n",
    "[0, 1, 2]\n",
    "\n",
    "Explanation:\n",
    "The substring with start index = 0 is \"ab\", which is an anagram of \"ab\".\n",
    "The substring with start index = 1 is \"ba\", which is an anagram of \"ab\".\n",
    "The substring with start index = 2 is \"ab\", which is an anagram of \"ab\"."
   ]
  },
  {
   "cell_type": "code",
   "execution_count": 81,
   "metadata": {},
   "outputs": [],
   "source": [
    "from collections import Counter\n",
    "class Solution(object):\n",
    "    def findAnagrams(self, s, p):\n",
    "        \"\"\"\n",
    "        :type s: str\n",
    "        :type p: str\n",
    "        :rtype: List[int]\n",
    "        \"\"\"\n",
    "        m,n = len(s),len(p)\n",
    "        ans = []\n",
    "        if n>m:return ans\n",
    "        counter_p = Counter(p)\n",
    "        for i in range(m-n+1):\n",
    "            if i == 0:\n",
    "                counter_s = Counter(s[:n])\n",
    "            else:\n",
    "                counter_s[s[i-1]] -=1\n",
    "                if counter_s[s[i-1]] == 0: del counter_s[s[i-1]]\n",
    "                counter_s[s[i+n-1]] +=1\n",
    "            if counter_p == counter_s:\n",
    "                ans.append(i)\n",
    "            if i==6: print(counter_s)\n",
    "                \n",
    "        return ans"
   ]
  },
  {
   "cell_type": "markdown",
   "metadata": {},
   "source": [
    "# 441. Arranging Coins"
   ]
  },
  {
   "cell_type": "raw",
   "metadata": {},
   "source": [
    "You have a total of n coins that you want to form in a staircase shape, where every k-th row must have exactly k coins.\n",
    "\n",
    "Given n, find the total number of full staircase rows that can be formed.\n",
    "\n",
    "n is a non-negative integer and fits within the range of a 32-bit signed integer.\n",
    "\n",
    "Example 1:\n",
    "\n",
    "n = 5\n",
    "\n",
    "The coins can form the following rows:\n",
    "¤\n",
    "¤ ¤\n",
    "¤ ¤\n",
    "\n",
    "Because the 3rd row is incomplete, we return 2.\n",
    "Example 2:\n",
    "\n",
    "n = 8\n",
    "\n",
    "The coins can form the following rows:\n",
    "¤\n",
    "¤ ¤\n",
    "¤ ¤ ¤\n",
    "¤ ¤\n",
    "\n",
    "Because the 4th row is incomplete, we return 3."
   ]
  },
  {
   "cell_type": "code",
   "execution_count": null,
   "metadata": {},
   "outputs": [],
   "source": [
    "class Solution(object):\n",
    "    def arrangeCoins(self, n):\n",
    "        \"\"\"\n",
    "        :type n: int\n",
    "        :rtype: int\n",
    "        \"\"\"\n",
    "        low = 1\n",
    "        high = n\n",
    "        k=n//2\n",
    "        while low<=high:\n",
    "            mid = (low+high)//2\n",
    "            v1 = mid*(mid+1)//2\n",
    "            v2 = (mid+1)*(mid+2)//2\n",
    "            if v1<=n and v2>n:\n",
    "                return mid\n",
    "            elif v1 > n:\n",
    "                high = mid\n",
    "            else:\n",
    "                low = mid\n",
    "        return mid"
   ]
  },
  {
   "cell_type": "markdown",
   "metadata": {},
   "source": [
    "# 443. String Compression"
   ]
  },
  {
   "cell_type": "raw",
   "metadata": {},
   "source": [
    "Given an array of characters, compress it in-place.\n",
    "\n",
    "The length after compression must always be smaller than or equal to the original array.\n",
    "\n",
    "Every element of the array should be a character (not int) of length 1.\n",
    "\n",
    "After you are done modifying the input array in-place, return the new length of the array.\n",
    "\n",
    " \n",
    "Follow up:\n",
    "Could you solve it using only O(1) extra space?\n",
    "\n",
    " \n",
    "Example 1:\n",
    "\n",
    "Input:\n",
    "[\"a\",\"a\",\"b\",\"b\",\"c\",\"c\",\"c\"]\n",
    "\n",
    "Output:\n",
    "Return 6, and the first 6 characters of the input array should be: [\"a\",\"2\",\"b\",\"2\",\"c\",\"3\"]\n",
    "\n",
    "Explanation:\n",
    "\"aa\" is replaced by \"a2\". \"bb\" is replaced by \"b2\". \"ccc\" is replaced by \"c3\".\n",
    " \n",
    "\n",
    "Example 2:\n",
    "\n",
    "Input:\n",
    "[\"a\"]\n",
    "\n",
    "Output:\n",
    "Return 1, and the first 1 characters of the input array should be: [\"a\"]\n",
    "\n",
    "Explanation:\n",
    "Nothing is replaced."
   ]
  },
  {
   "cell_type": "code",
   "execution_count": 91,
   "metadata": {},
   "outputs": [],
   "source": [
    "class Solution(object):\n",
    "    def compress(self, chars):\n",
    "        \"\"\"\n",
    "        :type chars: List[str]\n",
    "        :rtype: int\n",
    "        \"\"\"\n",
    "        if not chars: return 0\n",
    "        anchor = 0\n",
    "        write = 0\n",
    "        count = 0\n",
    "        for i in range(len(chars)):\n",
    "            count += 1\n",
    "            if i == len(chars)-1 or chars[i]!=chars[i+1]:\n",
    "                chars[write] = chars[anchor]\n",
    "                write += 1\n",
    "                anchor = i+1\n",
    "                if count >1:\n",
    "                    count_str = str(count)\n",
    "                    for j in range(len(count_str)):\n",
    "                        chars[write] = count_str[j]\n",
    "                        write += 1\n",
    "                count = 0\n",
    "        return write\n",
    "                "
   ]
  },
  {
   "cell_type": "markdown",
   "metadata": {},
   "source": [
    "# 447. Number of Boomerangs"
   ]
  },
  {
   "cell_type": "raw",
   "metadata": {},
   "source": [
    "Given n points in the plane that are all pairwise distinct, a \"boomerang\" is a tuple of points (i, j, k) such that the distance between i and j equals the distance between i and k (the order of the tuple matters).\n",
    "\n",
    "Find the number of boomerangs. You may assume that n will be at most 500 and coordinates of points are all in the range [-10000, 10000] (inclusive).\n",
    "\n",
    "Example:\n",
    "\n",
    "Input:\n",
    "[[0,0],[1,0],[2,0]]\n",
    "\n",
    "Output:\n",
    "2\n",
    "\n",
    "Explanation:\n",
    "The two boomerangs are [[1,0],[0,0],[2,0]] and [[1,0],[2,0],[0,0]]"
   ]
  },
  {
   "cell_type": "code",
   "execution_count": null,
   "metadata": {},
   "outputs": [],
   "source": [
    "from collections import defaultdict\n",
    "class Solution(object):\n",
    "    def numberOfBoomerangs(self, points):\n",
    "        \"\"\"\n",
    "        :type points: List[List[int]]\n",
    "        :rtype: int\n",
    "        \"\"\"\n",
    "        ans = 0\n",
    "        for p0 in points:\n",
    "            dmap = defaultdict(int)\n",
    "            for p1 in points:\n",
    "                dist = (p0[0]-p1[0])**2 + (p0[1]-p1[1])**2\n",
    "                dmap[dist] += 1\n",
    "            for d,v in dmap.items():\n",
    "                ans += v*(v-1)\n",
    "        return ans"
   ]
  },
  {
   "cell_type": "markdown",
   "metadata": {},
   "source": [
    "# 448. Find All Numbers Disappeared in an Array"
   ]
  },
  {
   "cell_type": "raw",
   "metadata": {},
   "source": [
    "Given an array of integers where 1 ≤ a[i] ≤ n (n = size of array), some elements appear twice and others appear once.\n",
    "\n",
    "Find all the elements of [1, n] inclusive that do not appear in this array.\n",
    "\n",
    "Could you do it without extra space and in O(n) runtime? You may assume the returned list does not count as extra space.\n",
    "\n",
    "Example:\n",
    "\n",
    "Input:\n",
    "[4,3,2,7,8,2,3,1]\n",
    "\n",
    "Output:\n",
    "[5,6]"
   ]
  },
  {
   "cell_type": "code",
   "execution_count": null,
   "metadata": {},
   "outputs": [],
   "source": [
    "from collections import Counter\n",
    "class Solution(object):\n",
    "    def findDisappearedNumbers(self, nums):\n",
    "        \"\"\"\n",
    "        :type nums: List[int]\n",
    "        :rtype: List[int]\n",
    "        \"\"\"\n",
    "        n = len(nums)\n",
    "        c = Counter(nums)\n",
    "        for "
   ]
  },
  {
   "cell_type": "markdown",
   "metadata": {},
   "source": [
    "# 449. Serialize and Deserialize BST"
   ]
  },
  {
   "cell_type": "raw",
   "metadata": {},
   "source": [
    "Serialization is the process of converting a data structure or object into a sequence of bits so that it can be stored in a file or memory buffer, or transmitted across a network connection link to be reconstructed later in the same or another computer environment.\n",
    "\n",
    "Design an algorithm to serialize and deserialize a binary search tree. There is no restriction on how your serialization/deserialization algorithm should work. You just need to ensure that a binary search tree can be serialized to a string and this string can be deserialized to the original tree structure.\n",
    "\n",
    "The encoded string should be as compact as possible.\n",
    "\n",
    "Note: Do not use class member/global/static variables to store states. Your serialize and deserialize algorithms should be stateless."
   ]
  },
  {
   "cell_type": "code",
   "execution_count": 10,
   "metadata": {},
   "outputs": [],
   "source": [
    "# Definition for a binary tree node.\n",
    "# class TreeNode(object):\n",
    "#     def __init__(self, x):\n",
    "#         self.val = x\n",
    "#         self.left = None\n",
    "#         self.right = None\n",
    "\n",
    "class Codec:\n",
    "\n",
    "    def serialize(self, root):\n",
    "        \"\"\"Encodes a tree to a single string.\n",
    "        \n",
    "        :type root: TreeNode\n",
    "        :rtype: str\n",
    "        \"\"\"\n",
    "        if not root: return ''\n",
    "        queue = [root]\n",
    "        ans = []\n",
    "        while queue:\n",
    "            root = queue.pop(0)\n",
    "            ans.append(str(root.val))\n",
    "            if root.val=='#':continue\n",
    "            if root.left:\n",
    "                queue.append(root.left)\n",
    "            else:\n",
    "                queue.append(TreeNode('#'))\n",
    "            \n",
    "            if root.right:\n",
    "                queue.append(root.right)\n",
    "            else:\n",
    "                queue.append(TreeNode('#'))\n",
    "        while ans[-1]=='#':\n",
    "            ans.pop()\n",
    "            \n",
    "        return ','.join(ans)\n",
    "            \n",
    "        \n",
    "\n",
    "    def deserialize(self, data):\n",
    "        \"\"\"Decodes your encoded data to tree.\n",
    "        \n",
    "        :type data: str\n",
    "        :rtype: TreeNode\n",
    "        \"\"\"\n",
    "        if not data: return None\n",
    "        array = data.split(',')\n",
    "        index = 0\n",
    "        root = TreeNode(int(array[0]))\n",
    "        queue = [root]\n",
    "        isLeftChild = True\n",
    "        for i in range(1,len(array)):\n",
    "            if array[i]!='#':\n",
    "                node = TreeNode(int(array[i]))\n",
    "                if isLeftChild:\n",
    "                    queue[index].left = node\n",
    "                else:\n",
    "                    queue[index].right = node\n",
    "                queue.append(node)\n",
    "            if not isLeftChild:\n",
    "                index += 1\n",
    "            isLeftChild = not isLeftChild\n",
    "        return root"
   ]
  },
  {
   "cell_type": "code",
   "execution_count": 11,
   "metadata": {},
   "outputs": [],
   "source": [
    "class TreeNode(object):\n",
    "     def __init__(self, x, left=None, right=None):\n",
    "        self.val = x\n",
    "        self.left = left\n",
    "        self.right = right\n"
   ]
  },
  {
   "cell_type": "code",
   "execution_count": 15,
   "metadata": {},
   "outputs": [],
   "source": [
    "a = TreeNode(2)\n",
    "b = TreeNode(1,None,a)\n",
    "c = TreeNode(4)\n",
    "root = TreeNode(3,b,c)"
   ]
  },
  {
   "cell_type": "code",
   "execution_count": 16,
   "metadata": {},
   "outputs": [
    {
     "data": {
      "text/plain": [
       "'3,1,4,#,2'"
      ]
     },
     "execution_count": 16,
     "metadata": {},
     "output_type": "execute_result"
    }
   ],
   "source": [
    "codec = Codec()\n",
    "codec.serialize(root)"
   ]
  },
  {
   "cell_type": "code",
   "execution_count": 14,
   "metadata": {},
   "outputs": [
    {
     "data": {
      "text/plain": [
       "False"
      ]
     },
     "execution_count": 14,
     "metadata": {},
     "output_type": "execute_result"
    }
   ],
   "source": [
    "not True"
   ]
  },
  {
   "cell_type": "code",
   "execution_count": null,
   "metadata": {},
   "outputs": [],
   "source": []
  }
 ],
 "metadata": {
  "kernelspec": {
   "display_name": "Python 3",
   "language": "python",
   "name": "python3"
  },
  "language_info": {
   "codemirror_mode": {
    "name": "ipython",
    "version": 3
   },
   "file_extension": ".py",
   "mimetype": "text/x-python",
   "name": "python",
   "nbconvert_exporter": "python",
   "pygments_lexer": "ipython3",
   "version": "3.6.5"
  },
  "toc": {
   "base_numbering": 1,
   "nav_menu": {},
   "number_sections": true,
   "sideBar": true,
   "skip_h1_title": false,
   "title_cell": "Table of Contents",
   "title_sidebar": "Contents",
   "toc_cell": false,
   "toc_position": {},
   "toc_section_display": true,
   "toc_window_display": false
  }
 },
 "nbformat": 4,
 "nbformat_minor": 2
}
