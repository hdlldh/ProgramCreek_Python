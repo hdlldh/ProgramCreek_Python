{
 "cells": [
  {
   "cell_type": "markdown",
   "metadata": {},
   "source": [
    "# 257. Binary Tree Paths"
   ]
  },
  {
   "cell_type": "raw",
   "metadata": {},
   "source": [
    "Given a binary tree, return all root-to-leaf paths.\n",
    "\n",
    "Note: A leaf is a node with no children.\n",
    "\n",
    "Example:\n",
    "\n",
    "Input:\n",
    "\n",
    "   1\n",
    " /   \\\n",
    "2     3\n",
    " \\\n",
    "  5\n",
    "\n",
    "Output: [\"1->2->5\", \"1->3\"]\n",
    "\n",
    "Explanation: All root-to-leaf paths are: 1->2->5, 1->3"
   ]
  },
  {
   "cell_type": "code",
   "execution_count": null,
   "metadata": {},
   "outputs": [],
   "source": [
    "# Definition for a binary tree node.\n",
    "# class TreeNode(object):\n",
    "#     def __init__(self, x):\n",
    "#         self.val = x\n",
    "#         self.left = None\n",
    "#         self.right = None\n",
    "\n",
    "class Solution(object):\n",
    "    def binaryTreePaths(self, root):\n",
    "        \"\"\"\n",
    "        :type root: TreeNode\n",
    "        :rtype: List[str]\n",
    "        \"\"\"\n",
    "        if not root: return []\n",
    "        if not root.left and not root.right:\n",
    "            return [str(root.val)]\n",
    "        elif not root.left or not root.right:\n",
    "            if root.left:\n",
    "                return [str(root.val)+\"->\"+ n for n in self.binaryTreePaths(root.left)]\n",
    "            else:\n",
    "                return [str(root.val)+\"->\"+ n for n in self.binaryTreePaths(root.right)]\n",
    "        else:\n",
    "            return [str(root.val)+\"->\"+ n for n in (self.binaryTreePaths(root.left) + self.binaryTreePaths(root.right)) ]\n",
    "        \n",
    "        \n",
    "        "
   ]
  },
  {
   "cell_type": "markdown",
   "metadata": {},
   "source": [
    "# 258. Add Digits"
   ]
  },
  {
   "cell_type": "raw",
   "metadata": {},
   "source": [
    "Given a non-negative integer num, repeatedly add all its digits until the result has only one digit.\n",
    "\n",
    "Example:\n",
    "\n",
    "Input: 38\n",
    "Output: 2 \n",
    "Explanation: The process is like: 3 + 8 = 11, 1 + 1 = 2. \n",
    "             Since 2 has only one digit, return it.\n",
    "Follow up:\n",
    "Could you do it without any loop/recursion in O(1) runtime?"
   ]
  },
  {
   "cell_type": "code",
   "execution_count": null,
   "metadata": {},
   "outputs": [],
   "source": [
    "class Solution(object):\n",
    "    def addDigits(self, num):\n",
    "        \"\"\"\n",
    "        :type num: int\n",
    "        :rtype: int\n",
    "        \"\"\"\n",
    "        \n",
    "        while num >= 10:\n",
    "            s =0\n",
    "            while num :\n",
    "                s += num%10\n",
    "                num = num //10\n",
    "            num = s\n",
    "        return num"
   ]
  },
  {
   "cell_type": "markdown",
   "metadata": {},
   "source": [
    "# 263. Ugly Number"
   ]
  },
  {
   "cell_type": "raw",
   "metadata": {},
   "source": [
    "Write a program to check whether a given number is an ugly number.\n",
    "\n",
    "Ugly numbers are positive numbers whose prime factors only include 2, 3, 5.\n",
    "\n",
    "Example 1:\n",
    "\n",
    "Input: 6\n",
    "Output: true\n",
    "Explanation: 6 = 2 × 3\n",
    "Example 2:\n",
    "\n",
    "Input: 8\n",
    "Output: true\n",
    "Explanation: 8 = 2 × 2 × 2\n",
    "Example 3:\n",
    "\n",
    "Input: 14\n",
    "Output: false \n",
    "Explanation: 14 is not ugly since it includes another prime factor 7.\n",
    "Note:\n",
    "\n",
    "1 is typically treated as an ugly number.\n",
    "Input is within the 32-bit signed integer range: [−231,  231 − 1]."
   ]
  },
  {
   "cell_type": "code",
   "execution_count": null,
   "metadata": {},
   "outputs": [],
   "source": [
    "class Solution(object):\n",
    "    def isUgly(self, num):\n",
    "        \"\"\"\n",
    "        :type num: int\n",
    "        :rtype: bool\n",
    "        \"\"\"\n",
    "        while True:\n",
    "            if num in [2,3,5]: return True\n",
    "            if num % 2 ==0: \n",
    "                num = num //2\n",
    "            elif num % 3 ==0: \n",
    "                num = num //3    \n",
    "            elif num % 5 ==0: \n",
    "                num = num //5\n",
    "            else:\n",
    "                return False"
   ]
  },
  {
   "cell_type": "markdown",
   "metadata": {},
   "source": [
    "# 264. Ugly Number II"
   ]
  },
  {
   "cell_type": "raw",
   "metadata": {},
   "source": [
    "Write a program to find the n-th ugly number.\n",
    "\n",
    "Ugly numbers are positive numbers whose prime factors only include 2, 3, 5. \n",
    "\n",
    "Example:\n",
    "\n",
    "Input: n = 10\n",
    "Output: 12\n",
    "Explanation: 1, 2, 3, 4, 5, 6, 8, 9, 10, 12 is the sequence of the first 10 ugly numbers.\n",
    "Note:  \n",
    "\n",
    "1 is typically treated as an ugly number.\n",
    "n does not exceed 1690."
   ]
  },
  {
   "cell_type": "code",
   "execution_count": null,
   "metadata": {},
   "outputs": [],
   "source": [
    "from heapq import heapify, heappush, heappop\n",
    "class Solution(object):\n",
    "    def nthUglyNumber(self, n):\n",
    "        \"\"\"\n",
    "        :type n: int\n",
    "        :rtype: int\n",
    "        \"\"\"\n",
    "        primes = [2,3,5]\n",
    "        hashset = set([1])\n",
    "        pq = [1]\n",
    "        heapify(pq)\n",
    "        for _ in range(n):\n",
    "            res = heappop(pq)\n",
    "            for p in primes:\n",
    "                if p*res not in hashset:\n",
    "                    heappush(pq, p*res)\n",
    "                    hashset.add(p*res)\n",
    "        return res\n",
    "        "
   ]
  },
  {
   "cell_type": "markdown",
   "metadata": {},
   "source": [
    "# 268. Missing Number"
   ]
  },
  {
   "cell_type": "raw",
   "metadata": {},
   "source": [
    "Given an array containing n distinct numbers taken from 0, 1, 2, ..., n, find the one that is missing from the array.\n",
    "\n",
    "Example 1:\n",
    "\n",
    "Input: [3,0,1]\n",
    "Output: 2\n",
    "Example 2:\n",
    "\n",
    "Input: [9,6,4,2,3,5,7,0,1]\n",
    "Output: 8\n",
    "Note:\n",
    "Your algorithm should run in linear runtime complexity. Could you implement it using only constant extra space complexity?"
   ]
  },
  {
   "cell_type": "code",
   "execution_count": null,
   "metadata": {},
   "outputs": [],
   "source": [
    "class Solution(object):\n",
    "    def missingNumber(self, nums):\n",
    "        \"\"\"\n",
    "        :type nums: List[int]\n",
    "        :rtype: int\n",
    "        \"\"\"\n",
    "        s = sum(nums)\n",
    "        n = len(nums)\n",
    "        return (n+1)*n/2 -s"
   ]
  },
  {
   "cell_type": "markdown",
   "metadata": {},
   "source": [
    "# 274. H-Index"
   ]
  },
  {
   "cell_type": "raw",
   "metadata": {},
   "source": [
    "Given an array of citations (each citation is a non-negative integer) of a researcher, write a function to compute the researcher's h-index.\n",
    "\n",
    "According to the definition of h-index on Wikipedia: \"A scientist has index h if h of his/her N papers have at least h citations each, and the other N − h papers have no more than h citations each.\"\n",
    "\n",
    "Example:\n",
    "\n",
    "Input: citations = [3,0,6,1,5]\n",
    "Output: 3 \n",
    "Explanation: [3,0,6,1,5] means the researcher has 5 papers in total and each of them had \n",
    "             received 3, 0, 6, 1, 5 citations respectively. \n",
    "             Since the researcher has 3 papers with at least 3 citations each and the remaining \n",
    "             two with no more than 3 citations each, her h-index is 3.\n",
    "Note: If there are several possible values for h, the maximum one is taken as the h-index."
   ]
  },
  {
   "cell_type": "code",
   "execution_count": null,
   "metadata": {},
   "outputs": [],
   "source": [
    "class Solution(object):\n",
    "    def hIndex(self, citations):\n",
    "        \"\"\"\n",
    "        :type citations: List[int]\n",
    "        :rtype: int\n",
    "        \"\"\"\n",
    "        citations.sort()\n",
    "        n = len(citations)\n",
    "        for i in range(n):\n",
    "            if (citations[i]>=n-i): return n-i\n",
    "        return 0\n",
    "        \n",
    "    "
   ]
  },
  {
   "cell_type": "markdown",
   "metadata": {},
   "source": [
    "# 275. H-Index II"
   ]
  },
  {
   "cell_type": "raw",
   "metadata": {},
   "source": [
    "Given an array of citations sorted in ascending order (each citation is a non-negative integer) of a researcher, write a function to compute the researcher's h-index.\n",
    "\n",
    "According to the definition of h-index on Wikipedia: \"A scientist has index h if h of his/her N papers have at least h citations each, and the other N − h papers have no more than h citations each.\"\n",
    "\n",
    "Example:\n",
    "\n",
    "Input: citations = [0,1,3,5,6]\n",
    "Output: 3 \n",
    "Explanation: [0,1,3,5,6] means the researcher has 5 papers in total and each of them had \n",
    "             received 0, 1, 3, 5, 6 citations respectively. \n",
    "             Since the researcher has 3 papers with at least 3 citations each and the remaining \n",
    "             two with no more than 3 citations each, her h-index is 3.\n",
    "Note:\n",
    "\n",
    "If there are several possible values for h, the maximum one is taken as the h-index.\n",
    "\n",
    "Follow up:\n",
    "\n",
    "This is a follow up problem to H-Index, where citations is now guaranteed to be sorted in ascending order.\n",
    "Could you solve it in logarithmic time complexity?"
   ]
  },
  {
   "cell_type": "code",
   "execution_count": 7,
   "metadata": {},
   "outputs": [],
   "source": [
    "class Solution(object):\n",
    "    def hIndex(self, citations):\n",
    "        \"\"\"\n",
    "        :type citations: List[int]\n",
    "        :rtype: int\n",
    "        \"\"\"\n",
    "        n = len(citations)\n",
    "        low = 0\n",
    "        high = n-1\n",
    "        while low<=high:\n",
    "            mid = (low+high)//2\n",
    "            if citations[mid] >= n-mid:\n",
    "                high = mid -1\n",
    "            else:\n",
    "                low = mid +1\n",
    "        return n-low\n",
    "        "
   ]
  },
  {
   "cell_type": "markdown",
   "metadata": {},
   "source": [
    "# 278. First Bad Version"
   ]
  },
  {
   "cell_type": "raw",
   "metadata": {},
   "source": [
    "You are a product manager and currently leading a team to develop a new product. Unfortunately, the latest version of your product fails the quality check. Since each version is developed based on the previous version, all the versions after a bad version are also bad.\n",
    "\n",
    "Suppose you have n versions [1, 2, ..., n] and you want to find out the first bad one, which causes all the following ones to be bad.\n",
    "\n",
    "You are given an API bool isBadVersion(version) which will return whether version is bad. Implement a function to find the first bad version. You should minimize the number of calls to the API.\n",
    "\n",
    "Example:\n",
    "\n",
    "Given n = 5, and version = 4 is the first bad version.\n",
    "\n",
    "call isBadVersion(3) -> false\n",
    "call isBadVersion(5) -> true\n",
    "call isBadVersion(4) -> true\n",
    "\n",
    "Then 4 is the first bad version."
   ]
  },
  {
   "cell_type": "code",
   "execution_count": null,
   "metadata": {},
   "outputs": [],
   "source": [
    "# The isBadVersion API is already defined for you.\n",
    "# @param version, an integer\n",
    "# @return a bool\n",
    "# def isBadVersion(version):\n",
    "\n",
    "class Solution(object):\n",
    "    def firstBadVersion(self, n):\n",
    "        \"\"\"\n",
    "        :type n: int\n",
    "        :rtype: int\n",
    "        \"\"\"\n",
    "        bad = n\n",
    "        good = 0\n",
    "        while (bad-good)>1:\n",
    "            mid = (good+bad)//2\n",
    "            if self.isBadVersion(mid): bad = mid\n",
    "            else: good = mid\n",
    "        return bad\n",
    "            \n",
    "        \n",
    "        "
   ]
  },
  {
   "cell_type": "markdown",
   "metadata": {},
   "source": [
    "# 279. Perfect Squares"
   ]
  },
  {
   "cell_type": "raw",
   "metadata": {},
   "source": [
    "Given a positive integer n, find the least number of perfect square numbers (for example, 1, 4, 9, 16, ...) which sum to n.\n",
    "\n",
    "Example 1:\n",
    "\n",
    "Input: n = 12\n",
    "Output: 3 \n",
    "Explanation: 12 = 4 + 4 + 4.\n",
    "Example 2:\n",
    "\n",
    "Input: n = 13\n",
    "Output: 2\n",
    "Explanation: 13 = 4 + 9."
   ]
  },
  {
   "cell_type": "code",
   "execution_count": 25,
   "metadata": {},
   "outputs": [],
   "source": [
    "class Solution(object):\n",
    "    def numSquares(self, n):\n",
    "        \"\"\"\n",
    "        :type n: int\n",
    "        :rtype: int\n",
    "        \"\"\"\n",
    "        f = [i for i in range(n+1)]\n",
    "        i = 1\n",
    "        squares = set()\n",
    "        while i*i<=n:\n",
    "            f[i*i] = 1\n",
    "            i+= 1\n",
    "            squares.add(i*i)\n",
    "        for i in range(1,n+1):\n",
    "            for j in squares:\n",
    "                if i>=j:\n",
    "                    f[i] = min(f[i],f[i-j]+1)\n",
    "        return f[n]\n",
    "                "
   ]
  },
  {
   "cell_type": "code",
   "execution_count": 26,
   "metadata": {},
   "outputs": [
    {
     "data": {
      "text/plain": [
       "4"
      ]
     },
     "execution_count": 26,
     "metadata": {},
     "output_type": "execute_result"
    }
   ],
   "source": [
    "a = Solution()\n",
    "a.numSquares(6175)"
   ]
  },
  {
   "cell_type": "markdown",
   "metadata": {},
   "source": [
    "# 283. Move Zeroes"
   ]
  },
  {
   "cell_type": "raw",
   "metadata": {},
   "source": [
    "Given an array nums, write a function to move all 0's to the end of it while maintaining the relative order of the non-zero elements.\n",
    "\n",
    "Example:\n",
    "\n",
    "Input: [0,1,0,3,12]\n",
    "Output: [1,3,12,0,0]\n",
    "Note:\n",
    "\n",
    "You must do this in-place without making a copy of the array.\n",
    "Minimize the total number of operations`r"
   ]
  },
  {
   "cell_type": "code",
   "execution_count": null,
   "metadata": {},
   "outputs": [],
   "source": [
    "class Solution(object):\n",
    "    def moveZeroes(self, nums):\n",
    "        \"\"\"\n",
    "        :type nums: List[int]\n",
    "        :rtype: void Do not return anything, modify nums in-place instead.\n",
    "        \"\"\"\n",
    "        n = len(nums)\n",
    "        non_zero_pos = 0\n",
    "        for i in range(n):\n",
    "            if nums[i] != 0:\n",
    "                nums[non_zero_pos] = nums[i]\n",
    "                non_zero_pos += 1\n",
    "        for i in range(non_zero_pos,n):\n",
    "            nums[i] = 0\n",
    "            \n",
    "                "
   ]
  },
  {
   "cell_type": "markdown",
   "metadata": {},
   "source": [
    "# 284. Peeking Iterator"
   ]
  },
  {
   "cell_type": "raw",
   "metadata": {},
   "source": [
    "Given an Iterator class interface with methods: next() and hasNext(), design and implement a PeekingIterator that support the peek() operation -- it essentially peek() at the element that will be returned by the next call to next().\n",
    "\n",
    "Example:\n",
    "\n",
    "Assume that the iterator is initialized to the beginning of the list: [1,2,3].\n",
    "\n",
    "Call next() gets you 1, the first element in the list.\n",
    "Now you call peek() and it returns 2, the next element. Calling next() after that still return 2. \n",
    "You call next() the final time and it returns 3, the last element. \n",
    "Calling hasNext() after that should return false.\n",
    "Follow up: How would you extend your design to be generic and work with all types, not just integer?"
   ]
  },
  {
   "cell_type": "code",
   "execution_count": null,
   "metadata": {},
   "outputs": [],
   "source": [
    "# Below is the interface for Iterator, which is already defined for you.\n",
    "#\n",
    "# class Iterator(object):\n",
    "#     def __init__(self, nums):\n",
    "#         \"\"\"\n",
    "#         Initializes an iterator object to the beginning of a list.\n",
    "#         :type nums: List[int]\n",
    "#         \"\"\"\n",
    "#\n",
    "#     def hasNext(self):\n",
    "#         \"\"\"\n",
    "#         Returns true if the iteration has more elements.\n",
    "#         :rtype: bool\n",
    "#         \"\"\"\n",
    "#\n",
    "#     def next(self):\n",
    "#         \"\"\"\n",
    "#         Returns the next element in the iteration.\n",
    "#         :rtype: int\n",
    "#         \"\"\"\n",
    "\n",
    "class PeekingIterator(object):\n",
    "    def __init__(self, iterator):\n",
    "        \"\"\"\n",
    "        Initialize your data structure here.\n",
    "        :type iterator: Iterator\n",
    "        \"\"\"\n",
    "        self.iter = iterator\n",
    "        self.temp = self.iter.next() if self.iter.hasNext() else None\n",
    "\n",
    "    def peek(self):\n",
    "        \"\"\"\n",
    "        Returns the next element in the iteration without advancing the iterator.\n",
    "        :rtype: int\n",
    "        \"\"\"\n",
    "        return self.temp\n",
    "        \n",
    "\n",
    "    def next(self):\n",
    "        \"\"\"\n",
    "        :rtype: int\n",
    "        \"\"\"\n",
    "        ret = self.temp\n",
    "        self.temp = self.iter.next() if self.iter.hasNext() else None\n",
    "        return ret\n",
    "        \n",
    "\n",
    "    def hasNext(self):\n",
    "        \"\"\"\n",
    "        :rtype: bool\n",
    "        \"\"\"\n",
    "        return self.temp is not None\n",
    "        "
   ]
  },
  {
   "cell_type": "markdown",
   "metadata": {},
   "source": [
    "# 289. Game of Life"
   ]
  },
  {
   "cell_type": "raw",
   "metadata": {},
   "source": [
    "According to the Wikipedia's article: \"The Game of Life, also known simply as Life, is a cellular automaton devised by the British mathematician John Horton Conway in 1970.\"\n",
    "\n",
    "Given a board with m by n cells, each cell has an initial state live (1) or dead (0). Each cell interacts with its eight neighbors (horizontal, vertical, diagonal) using the following four rules (taken from the above Wikipedia article):\n",
    "\n",
    "Any live cell with fewer than two live neighbors dies, as if caused by under-population.\n",
    "Any live cell with two or three live neighbors lives on to the next generation.\n",
    "Any live cell with more than three live neighbors dies, as if by over-population..\n",
    "Any dead cell with exactly three live neighbors becomes a live cell, as if by reproduction.\n",
    "Write a function to compute the next state (after one update) of the board given its current state. The next state is created by applying the above rules simultaneously to every cell in the current state, where births and deaths occur simultaneously.\n",
    "\n",
    "Example:\n",
    "\n",
    "Input: \n",
    "[\n",
    "  [0,1,0],\n",
    "  [0,0,1],\n",
    "  [1,1,1],\n",
    "  [0,0,0]\n",
    "]\n",
    "Output: \n",
    "[\n",
    "  [0,0,0],\n",
    "  [1,0,1],\n",
    "  [0,1,1],\n",
    "  [0,1,0]\n",
    "]\n",
    "Follow up:\n",
    "\n",
    "Could you solve it in-place? Remember that the board needs to be updated at the same time: You cannot update some cells first and then use their updated values to update other cells.\n",
    "In this question, we represent the board using a 2D array. In principle, the board is infinite, which would cause problems when the active area encroaches the border of the array. How would you address these problems?"
   ]
  },
  {
   "cell_type": "code",
   "execution_count": 8,
   "metadata": {},
   "outputs": [],
   "source": [
    "class Solution(object):\n",
    "    def gameOfLife(self, board):\n",
    "        \"\"\"\n",
    "        :type board: List[List[int]]\n",
    "        :rtype: None Do not return anything, modify board in-place instead.\n",
    "        \"\"\"\n",
    "        if not board: return\n",
    "        m, n = len(board), len(board[0])\n",
    "        for i in range(m):\n",
    "            for j in range(n):\n",
    "                for I in range(max(0,i-1),min(m-1,i+1)+1):\n",
    "                    for J in range(max(0,j-1),min(n-1,j+1)+1):\n",
    "                        if I==i and J==j: continue\n",
    "                        if board[I][J]%10==1: \n",
    "                            board[i][j] += 10\n",
    "        print(board)\n",
    "                            \n",
    "        for i in range(m):\n",
    "            for j in range(n):\n",
    "                cell = board[i][j]%10\n",
    "                numLive = board[i][j]//10\n",
    "                if cell==1:\n",
    "                    if numLive <2 or numLive>3:\n",
    "                        board[i][j] = 0\n",
    "                    else:\n",
    "                        board[i][j] = 1\n",
    "                else:\n",
    "                    if numLive == 3:\n",
    "                        board[i][j] = 1\n",
    "                    else:\n",
    "                        board[i][j] = 0\n",
    "                            \n",
    "                "
   ]
  },
  {
   "cell_type": "code",
   "execution_count": 9,
   "metadata": {},
   "outputs": [
    {
     "name": "stdout",
     "output_type": "stream",
     "text": [
      "[[10, 11, 20], [30, 50, 31], [11, 31, 21], [20, 30, 20]]\n"
     ]
    }
   ],
   "source": [
    "a = Solution()\n",
    "a.gameOfLife([[0,1,0],[0,0,1],[1,1,1],[0,0,0]])"
   ]
  },
  {
   "cell_type": "markdown",
   "metadata": {},
   "source": [
    "# 290. Word Pattern"
   ]
  },
  {
   "cell_type": "raw",
   "metadata": {},
   "source": [
    "Given a pattern and a string str, find if str follows the same pattern.\n",
    "\n",
    "Here follow means a full match, such that there is a bijection between a letter in pattern and a non-empty word in str.\n",
    "\n",
    "Example 1:\n",
    "\n",
    "Input: pattern = \"abba\", str = \"dog cat cat dog\"\n",
    "Output: true\n",
    "Example 2:\n",
    "\n",
    "Input:pattern = \"abba\", str = \"dog cat cat fish\"\n",
    "Output: false\n",
    "Example 3:\n",
    "\n",
    "Input: pattern = \"aaaa\", str = \"dog cat cat dog\"\n",
    "Output: false\n",
    "Example 4:\n",
    "\n",
    "Input: pattern = \"abba\", str = \"dog dog dog dog\"\n",
    "Output: false\n",
    "Notes:\n",
    "You may assume pattern contains only lowercase letters, and str contains lowercase letters separated by a single space."
   ]
  },
  {
   "cell_type": "code",
   "execution_count": null,
   "metadata": {},
   "outputs": [],
   "source": [
    "class Solution(object):\n",
    "    def wordPattern(self, pattern, str):\n",
    "        \"\"\"\n",
    "        :type pattern: str\n",
    "        :type str: str\n",
    "        :rtype: bool\n",
    "        \"\"\"\n",
    "        num_pattern = len(pattern)\n",
    "        str_list = str.split(' ')\n",
    "        num_str = len(str_list)\n",
    "        p2s = {}\n",
    "        s2p = {}\n",
    "        if num_pattern != num_str: return False\n",
    "        for i in range(num_pattern):\n",
    "            if pattern[i] not in p2s: p2s[pattern[i]] = str_list[i]\n",
    "            if str_list[i] not in s2p: s2p[str_list[i]] = pattern[i]\n",
    "            if p2s[pattern[i]] != str_list[i] or s2p[str_list[i]] != pattern[i]:\n",
    "                return False\n",
    "        return True\n",
    "            \n",
    "        "
   ]
  },
  {
   "cell_type": "markdown",
   "metadata": {},
   "source": [
    "# 292. Nim Game"
   ]
  },
  {
   "cell_type": "raw",
   "metadata": {},
   "source": [
    "You are playing the following Nim Game with your friend: There is a heap of stones on the table, each time one of you take turns to remove 1 to 3 stones. The one who removes the last stone will be the winner. You will take the first turn to remove the stones.\n",
    "\n",
    "Both of you are very clever and have optimal strategies for the game. Write a function to determine whether you can win the game given the number of stones in the heap.\n",
    "\n",
    "Example:\n",
    "\n",
    "Input: 4\n",
    "Output: false \n",
    "Explanation: If there are 4 stones in the heap, then you will never win the game;\n",
    "             No matter 1, 2, or 3 stones you remove, the last stone will always be \n",
    "             removed by your friend."
   ]
  },
  {
   "cell_type": "code",
   "execution_count": null,
   "metadata": {},
   "outputs": [],
   "source": [
    "class Solution(object):\n",
    "    def canWinNim(self, n):\n",
    "        \"\"\"\n",
    "        :type n: int\n",
    "        :rtype: bool\n",
    "        \"\"\"\n",
    "        return n%4!=0"
   ]
  },
  {
   "cell_type": "markdown",
   "metadata": {},
   "source": [
    "# 295. Find Median from Data Stream"
   ]
  },
  {
   "cell_type": "raw",
   "metadata": {},
   "source": [
    "Median is the middle value in an ordered integer list. If the size of the list is even, there is no middle value. So the median is the mean of the two middle value.\n",
    "\n",
    "For example,\n",
    "[2,3,4], the median is 3\n",
    "\n",
    "[2,3], the median is (2 + 3) / 2 = 2.5\n",
    "\n",
    "Design a data structure that supports the following two operations:\n",
    "\n",
    "void addNum(int num) - Add a integer number from the data stream to the data structure.\n",
    "double findMedian() - Return the median of all elements so far.\n",
    " \n",
    "\n",
    "Example:\n",
    "\n",
    "addNum(1)\n",
    "addNum(2)\n",
    "findMedian() -> 1.5\n",
    "addNum(3) \n",
    "findMedian() -> 2\n",
    " \n",
    "\n",
    "Follow up:\n",
    "\n",
    "If all integer numbers from the stream are between 0 and 100, how would you optimize it?\n",
    "If 99% of all integer numbers from the stream are between 0 and 100, how would you optimize it?"
   ]
  },
  {
   "cell_type": "code",
   "execution_count": null,
   "metadata": {},
   "outputs": [],
   "source": [
    "from heapq import heappush, heappop, heapify\n",
    "class MedianFinder(object):\n",
    "\n",
    "    def __init__(self):\n",
    "        \"\"\"\n",
    "        initialize your data structure here.\n",
    "        \"\"\"\n",
    "        self.minHeap = []\n",
    "        self.maxHeap = []\n",
    "        heapify(self.minHeap)\n",
    "        heapify(self.maxHeap)\n",
    "        \n",
    "\n",
    "    def addNum(self, num):\n",
    "        \"\"\"\n",
    "        :type num: int\n",
    "        :rtype: None\n",
    "        \"\"\"\n",
    "        \n",
    "        heappush(self.maxHeap, -num)\n",
    "        heappush(self.minHeap,-self.maxHeap[0])\n",
    "        heappop(self.maxHeap)\n",
    "        \n",
    "        if len(self.minHeap) - len(self.maxHeap) >1:\n",
    "            heappush(self.maxHeap,-self.minHeap[0])\n",
    "            heappop(self.minHeap)\n",
    "                      \n",
    "        \n",
    "\n",
    "    def findMedian(self):\n",
    "        \"\"\"\n",
    "        :rtype: float\n",
    "        \"\"\"\n",
    "        if len(self.minHeap) == len(self.maxHeap):\n",
    "            return float(self.minHeap[0]-self.maxHeap[0])/2\n",
    "        return self.minHeap[0]\n",
    "        "
   ]
  },
  {
   "cell_type": "markdown",
   "metadata": {},
   "source": [
    "# 297. Serialize and Deserialize Binary Tree"
   ]
  },
  {
   "cell_type": "raw",
   "metadata": {},
   "source": [
    "Serialization is the process of converting a data structure or object into a sequence of bits so that it can be stored in a file or memory buffer, or transmitted across a network connection link to be reconstructed later in the same or another computer environment.\n",
    "\n",
    "Design an algorithm to serialize and deserialize a binary tree. There is no restriction on how your serialization/deserialization algorithm should work. You just need to ensure that a binary tree can be serialized to a string and this string can be deserialized to the original tree structure.\n",
    "\n",
    "Example: \n",
    "\n",
    "You may serialize the following tree:\n",
    "\n",
    "    1\n",
    "   / \\\n",
    "  2   3\n",
    "     / \\\n",
    "    4   5\n",
    "\n",
    "as \"[1,2,3,null,null,4,5]\""
   ]
  },
  {
   "cell_type": "code",
   "execution_count": null,
   "metadata": {},
   "outputs": [],
   "source": [
    "# Definition for a binary tree node.\n",
    "# class TreeNode(object):\n",
    "#     def __init__(self, x):\n",
    "#         self.val = x\n",
    "#         self.left = None\n",
    "#         self.right = None\n",
    "\n",
    "class Codec:\n",
    "\n",
    "    def serialize(self, root):\n",
    "        \"\"\"Encodes a tree to a single string.\n",
    "        \n",
    "        :type root: TreeNode\n",
    "        :rtype: str\n",
    "        \"\"\"\n",
    "        if not root: return ''\n",
    "        queue = [root]\n",
    "        ans = []\n",
    "        while queue:\n",
    "            root = queue.pop(0)\n",
    "            ans.append(str(root.val))\n",
    "            if root.val=='#':continue\n",
    "            if root.left:\n",
    "                queue.append(root.left)\n",
    "            else:\n",
    "                queue.append(TreeNode('#'))\n",
    "            \n",
    "            if root.right:\n",
    "                queue.append(root.right)\n",
    "            else:\n",
    "                queue.append(TreeNode('#'))\n",
    "        while ans[-1]=='#':\n",
    "            ans.pop()\n",
    "            \n",
    "        return ','.join(ans)\n",
    "\n",
    "    def deserialize(self, data):\n",
    "        \"\"\"Decodes your encoded data to tree.\n",
    "        \n",
    "        :type data: str\n",
    "        :rtype: TreeNode\n",
    "        \"\"\"\n",
    "        if not data: return None\n",
    "        array = data.split(',')\n",
    "        index = 0\n",
    "        root = TreeNode(int(array[0]))\n",
    "        queue = [root]\n",
    "        isLeftChild = True\n",
    "        for i in range(1,len(array)):\n",
    "            if array[i]!='#':\n",
    "                node = TreeNode(int(array[i]))\n",
    "                if isLeftChild:\n",
    "                    queue[index].left = node\n",
    "                else:\n",
    "                    queue[index].right = node\n",
    "                queue.append(node)\n",
    "            if not isLeftChild:\n",
    "                index += 1\n",
    "            isLeftChild = not isLeftChild\n",
    "        return root"
   ]
  },
  {
   "cell_type": "markdown",
   "metadata": {},
   "source": [
    "# 299. Bulls and Cows"
   ]
  },
  {
   "cell_type": "raw",
   "metadata": {},
   "source": [
    "You are playing the following Bulls and Cows game with your friend: You write down a number and ask your friend to guess what the number is. Each time your friend makes a guess, you provide a hint that indicates how many digits in said guess match your secret number exactly in both digit and position (called \"bulls\") and how many digits match the secret number but locate in the wrong position (called \"cows\"). Your friend will use successive guesses and hints to eventually derive the secret number.\n",
    "\n",
    "Write a function to return a hint according to the secret number and friend's guess, use A to indicate the bulls and B to indicate the cows. \n",
    "\n",
    "Please note that both secret number and friend's guess may contain duplicate digits.\n",
    "\n",
    "Example 1:\n",
    "\n",
    "Input: secret = \"1807\", guess = \"7810\"\n",
    "\n",
    "Output: \"1A3B\"\n",
    "\n",
    "Explanation: 1 bull and 3 cows. The bull is 8, the cows are 0, 1 and 7.\n",
    "Example 2:\n",
    "\n",
    "Input: secret = \"1123\", guess = \"0111\"\n",
    "\n",
    "Output: \"1A1B\"\n",
    "\n",
    "Explanation: The 1st 1 in friend's guess is a bull, the 2nd or 3rd 1 is a cow.\n",
    "Note: You may assume that the secret number and your friend's guess only contain digits, and their lengths are always equal."
   ]
  },
  {
   "cell_type": "code",
   "execution_count": 27,
   "metadata": {},
   "outputs": [],
   "source": [
    "class Solution(object):\n",
    "    def getHint(self, secret, guess):\n",
    "        \"\"\"\n",
    "        :type secret: str\n",
    "        :type guess: str\n",
    "        :rtype: str\n",
    "        \"\"\"\n",
    "        n = len(secret)\n",
    "        bulls = 0\n",
    "        cows = 0\n",
    "        sec = [0]*10\n",
    "        gue = [0]*10\n",
    "        for i in range(n):\n",
    "            if secret[i] == guess[i]:\n",
    "                bulls += 1\n",
    "            else:\n",
    "                sec[int(secret[i])] += 1\n",
    "                gue[int(guess[i])] += 1\n",
    "        for i in range(10):\n",
    "            cows += min(sec[i],gue[i])\n",
    "        return '%sA%sB'%(bulls,cows)\n",
    "            \n",
    "                \n",
    "        "
   ]
  },
  {
   "cell_type": "markdown",
   "metadata": {},
   "source": [
    "# 300. Longest Increasing Subsequence"
   ]
  },
  {
   "cell_type": "raw",
   "metadata": {},
   "source": [
    "Given an unsorted array of integers, find the length of longest increasing subsequence.\n",
    "\n",
    "Example:\n",
    "\n",
    "Input: [10,9,2,5,3,7,101,18]\n",
    "Output: 4 \n",
    "Explanation: The longest increasing subsequence is [2,3,7,101], therefore the length is 4. \n",
    "Note:\n",
    "\n",
    "There may be more than one LIS combination, it is only necessary for you to return the length.\n",
    "Your algorithm should run in O(n2) complexity.\n",
    "Follow up: Could you improve it to O(n log n) time complexity?"
   ]
  },
  {
   "cell_type": "code",
   "execution_count": 1,
   "metadata": {},
   "outputs": [],
   "source": [
    "class Solution(object):\n",
    "    def lengthOfLIS(self, nums):\n",
    "        \"\"\"\n",
    "        :type nums: List[int]\n",
    "        :rtype: int\n",
    "        \"\"\"\n",
    "        n = len(nums)\n",
    "        if n==0: return 0\n",
    "        f = [1]*n\n",
    "        for i in range(1,n):\n",
    "            for j in range(i):\n",
    "                if nums[j]< nums[i]:\n",
    "                    f[i] = max(f[j]+1,f[i])\n",
    "        return max(f)"
   ]
  },
  {
   "cell_type": "code",
   "execution_count": 5,
   "metadata": {},
   "outputs": [
    {
     "data": {
      "text/plain": [
       "2"
      ]
     },
     "execution_count": 5,
     "metadata": {},
     "output_type": "execute_result"
    }
   ],
   "source": [
    "from heapq import heappush, heappop, heapify\n",
    "hp = []\n",
    "heapify(hp)\n",
    "heappush(hp, 2)\n",
    "heappush(hp, 3)\n",
    "heappop(hp)"
   ]
  },
  {
   "cell_type": "code",
   "execution_count": 6,
   "metadata": {},
   "outputs": [
    {
     "data": {
      "text/plain": [
       "[3]"
      ]
     },
     "execution_count": 6,
     "metadata": {},
     "output_type": "execute_result"
    }
   ],
   "source": [
    "hp"
   ]
  },
  {
   "cell_type": "code",
   "execution_count": null,
   "metadata": {},
   "outputs": [],
   "source": []
  }
 ],
 "metadata": {
  "kernelspec": {
   "display_name": "Python 3",
   "language": "python",
   "name": "python3"
  },
  "language_info": {
   "codemirror_mode": {
    "name": "ipython",
    "version": 3
   },
   "file_extension": ".py",
   "mimetype": "text/x-python",
   "name": "python",
   "nbconvert_exporter": "python",
   "pygments_lexer": "ipython3",
   "version": "3.6.5"
  },
  "toc": {
   "base_numbering": 1,
   "nav_menu": {},
   "number_sections": true,
   "sideBar": true,
   "skip_h1_title": false,
   "title_cell": "Table of Contents",
   "title_sidebar": "Contents",
   "toc_cell": false,
   "toc_position": {},
   "toc_section_display": true,
   "toc_window_display": false
  }
 },
 "nbformat": 4,
 "nbformat_minor": 2
}
