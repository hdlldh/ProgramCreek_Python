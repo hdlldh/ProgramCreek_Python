{
 "cells": [
  {
   "cell_type": "code",
   "execution_count": 54,
   "metadata": {},
   "outputs": [],
   "source": [
    "A =[1,1,1,1,1,1,2,2,2,2,2,2,2,2,3,3,3,3,3]\n",
    "target = 2"
   ]
  },
  {
   "cell_type": "code",
   "execution_count": 55,
   "metadata": {},
   "outputs": [],
   "source": [
    "class BinarySearch(object):\n",
    "    def recursive_search(self,A,target,low,high):\n",
    "        if high<low:\n",
    "            return -1\n",
    "        mid = low+(high-low)//2\n",
    "        if A[mid]>target:\n",
    "            return self.recursive_search(A,target,low,mid-1)\n",
    "        elif A[mid]<target:\n",
    "            return self.recursive_search(A,target,mid+1,high)\n",
    "        else:\n",
    "            return mid\n",
    "        \n",
    "    def iterative_search(self,A,target):\n",
    "        low = 0\n",
    "        high = len(A)-1\n",
    "        while low<=high:\n",
    "            mid = low+(high-low)//2\n",
    "            if A[mid]>target:\n",
    "                high = mid-1\n",
    "            elif A[mid]<target:\n",
    "                low = mid+1\n",
    "            else:\n",
    "                return mid\n",
    "        return -1\n",
    "            \n",
    "        \n",
    "    def recursive_search_left(self,A,target,low,high):\n",
    "        if high<low:\n",
    "            if A[low]==target: return low\n",
    "            return -1\n",
    "        mid = low+(high-low)//2\n",
    "        if A[mid]>=target:\n",
    "            return self.recursive_search_left(A,target,low,mid-1)\n",
    "        else:\n",
    "            return self.recursive_search_left(A,target,mid+1,high)\n",
    "    \n",
    "    \n",
    "    def iterative_search_left(self,A,target):\n",
    "        low = 0\n",
    "        high = len(A)-1\n",
    "        while low<=high:\n",
    "            mid = low+(high-low)//2\n",
    "            if A[mid]>=target:\n",
    "                high = mid-1\n",
    "            else:\n",
    "                low = mid+1\n",
    "        if A[low]==target: return low\n",
    "        return -1\n",
    "    \n",
    "    def recursive_search_right(self,A,target,low,high):\n",
    "        if high<low:\n",
    "            if A[high]==target: return high\n",
    "            return -1\n",
    "        mid = low+(high-low)//2\n",
    "        if A[mid]>target:\n",
    "            return self.recursive_search_right(A,target,low,mid-1)\n",
    "        else:\n",
    "            return self.recursive_search_right(A,target,mid+1,high)\n",
    "    \n",
    "    \n",
    "    def iterative_search_right(self,A,target):\n",
    "        low = 0\n",
    "        high = len(A)-1\n",
    "        while low<=high:\n",
    "            mid = low+(high-low)//2\n",
    "            if A[mid]>target:\n",
    "                high = mid-1\n",
    "            else:\n",
    "                low = mid+1\n",
    "        if A[high]==target: return high\n",
    "        return -1"
   ]
  },
  {
   "cell_type": "code",
   "execution_count": 61,
   "metadata": {},
   "outputs": [
    {
     "data": {
      "text/plain": [
       "9"
      ]
     },
     "execution_count": 61,
     "metadata": {},
     "output_type": "execute_result"
    }
   ],
   "source": [
    "bs= BinarySearch()\n",
    "bs.recursive_search(A,2,0,len(A)-1)\n"
   ]
  },
  {
   "cell_type": "code",
   "execution_count": 63,
   "metadata": {},
   "outputs": [
    {
     "data": {
      "text/plain": [
       "9"
      ]
     },
     "execution_count": 63,
     "metadata": {},
     "output_type": "execute_result"
    }
   ],
   "source": [
    "bs.iterative_search(A,2)"
   ]
  },
  {
   "cell_type": "code",
   "execution_count": 62,
   "metadata": {},
   "outputs": [
    {
     "data": {
      "text/plain": [
       "6"
      ]
     },
     "execution_count": 62,
     "metadata": {},
     "output_type": "execute_result"
    }
   ],
   "source": [
    "bs.recursive_search_left(A,2,0,len(A)-1)"
   ]
  },
  {
   "cell_type": "code",
   "execution_count": 57,
   "metadata": {},
   "outputs": [
    {
     "data": {
      "text/plain": [
       "6"
      ]
     },
     "execution_count": 57,
     "metadata": {},
     "output_type": "execute_result"
    }
   ],
   "source": [
    "bs.iterative_search_left(A,2)"
   ]
  },
  {
   "cell_type": "code",
   "execution_count": 58,
   "metadata": {},
   "outputs": [
    {
     "data": {
      "text/plain": [
       "13"
      ]
     },
     "execution_count": 58,
     "metadata": {},
     "output_type": "execute_result"
    }
   ],
   "source": [
    "bs.recursive_search_right(A,2,0,len(A)-1)"
   ]
  },
  {
   "cell_type": "code",
   "execution_count": 60,
   "metadata": {},
   "outputs": [
    {
     "data": {
      "text/plain": [
       "13"
      ]
     },
     "execution_count": 60,
     "metadata": {},
     "output_type": "execute_result"
    }
   ],
   "source": [
    "bs.iterative_search_right(A,2)"
   ]
  }
 ],
 "metadata": {
  "kernelspec": {
   "display_name": "Python 3",
   "language": "python",
   "name": "python3"
  },
  "language_info": {
   "codemirror_mode": {
    "name": "ipython",
    "version": 3
   },
   "file_extension": ".py",
   "mimetype": "text/x-python",
   "name": "python",
   "nbconvert_exporter": "python",
   "pygments_lexer": "ipython3",
   "version": "3.6.5"
  },
  "toc": {
   "base_numbering": 1,
   "nav_menu": {},
   "number_sections": true,
   "sideBar": true,
   "skip_h1_title": false,
   "title_cell": "Table of Contents",
   "title_sidebar": "Contents",
   "toc_cell": false,
   "toc_position": {},
   "toc_section_display": true,
   "toc_window_display": false
  }
 },
 "nbformat": 4,
 "nbformat_minor": 2
}
