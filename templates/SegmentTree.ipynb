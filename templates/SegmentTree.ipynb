{
 "cells": [
  {
   "cell_type": "code",
   "execution_count": 64,
   "metadata": {},
   "outputs": [],
   "source": [
    "class SegmentTree():\n",
    "    def __init__(self,nums):\n",
    "        n = len(nums)\n",
    "        self.size = n\n",
    "        self.tree = [0]*n + nums\n",
    "        for i in range(n-1, 0, -1):\n",
    "            self.tree[i] = self.tree[i<<1] + self.tree[i<<1|1]\n",
    "        \n",
    "            \n",
    "    def update(self, i, val):\n",
    "        i += self.size\n",
    "        self.tree[i] = val\n",
    "        while i>1:\n",
    "            self.tree[i>>1] = self.tree[i] + self.tree[i^1]\n",
    "            i >>= 1\n",
    "            \n",
    "    def sumRange(self, l, r):\n",
    "        l += self.size\n",
    "        r += self.size\n",
    "        ans = 0\n",
    "        while l<=r:\n",
    "            if l%2==1:\n",
    "                ans += self.tree[l]\n",
    "                l += 1\n",
    "            l >>= 1\n",
    "            if r%2==0:\n",
    "                ans += self.tree[r]\n",
    "                r -= 1\n",
    "            r >>= 1\n",
    "        return ans\n",
    "                \n",
    "        \n",
    "            "
   ]
  },
  {
   "cell_type": "code",
   "execution_count": 65,
   "metadata": {},
   "outputs": [
    {
     "data": {
      "text/plain": [
       "[0, 22, 14, 8, 12, 2, 3, 5, 8, 4]"
      ]
     },
     "execution_count": 65,
     "metadata": {},
     "output_type": "execute_result"
    }
   ],
   "source": [
    "t = SegmentTree([2,3,5,8,4])\n",
    "t.tree"
   ]
  },
  {
   "cell_type": "code",
   "execution_count": 66,
   "metadata": {},
   "outputs": [
    {
     "data": {
      "text/plain": [
       "[0, 20, 14, 6, 12, 2, 3, 3, 8, 4]"
      ]
     },
     "execution_count": 66,
     "metadata": {},
     "output_type": "execute_result"
    }
   ],
   "source": [
    "t.update(2,3)\n",
    "t.tree"
   ]
  },
  {
   "cell_type": "code",
   "execution_count": 67,
   "metadata": {},
   "outputs": [
    {
     "data": {
      "text/plain": [
       "14"
      ]
     },
     "execution_count": 67,
     "metadata": {},
     "output_type": "execute_result"
    }
   ],
   "source": [
    "t.sumRange(1,3)"
   ]
  },
  {
   "cell_type": "code",
   "execution_count": 22,
   "metadata": {},
   "outputs": [],
   "source": [
    "class BinaryIndexedTree():\n",
    "    def buildTree(self, nums):\n",
    "        if not nums: return None\n",
    "        n = len(nums)\n",
    "        self.size = n\n",
    "        self.tree = [0]*(n+1)\n",
    "        \n",
    "        for i in range(n):\n",
    "            self.update(i,nums[i])\n",
    "            \n",
    "            \n",
    "    def update(self, i, val):\n",
    "        diff = val - self.sumRange(i,i)\n",
    "        i += 1\n",
    "        while i <= self.size:\n",
    "            self.tree[i] = self.tree[i] + diff\n",
    "            i = i + (i & -i)\n",
    "        \n",
    "    def cumSum(self, i):\n",
    "        ans = 0\n",
    "        i += 1\n",
    "        while i>0:\n",
    "            ans += self.tree[i]\n",
    "            i = i - (i & -i)\n",
    "        return ans\n",
    "            \n",
    "    def sumRange(self, l, r):\n",
    "        return self.cumSum(r) - self.cumSum(l-1)\n",
    "    \n",
    "    \n"
   ]
  },
  {
   "cell_type": "code",
   "execution_count": 23,
   "metadata": {},
   "outputs": [
    {
     "data": {
      "text/plain": [
       "[0, 2, 5, 5, 18, 4]"
      ]
     },
     "execution_count": 23,
     "metadata": {},
     "output_type": "execute_result"
    }
   ],
   "source": [
    "t = BinaryIndexedTree()\n",
    "t.buildTree([2,3,5,8,4])\n",
    "t.tree"
   ]
  },
  {
   "cell_type": "code",
   "execution_count": 24,
   "metadata": {},
   "outputs": [
    {
     "data": {
      "text/plain": [
       "16"
      ]
     },
     "execution_count": 24,
     "metadata": {},
     "output_type": "execute_result"
    }
   ],
   "source": [
    "t.sumRange(1,3)"
   ]
  },
  {
   "cell_type": "code",
   "execution_count": 56,
   "metadata": {},
   "outputs": [],
   "source": [
    "class SegmentTree():\n",
    "    def __init__(self, nums):\n",
    "        n = len(nums)\n",
    "        self.tree = [0] * (4*n)\n",
    "        self.lazy = [0] * (4*n)\n",
    "        self.size = n\n",
    "        self.buildTree(nums)\n",
    "        \n",
    "    def _buildTree(self, nums, treeIndex, low, high):\n",
    "        if low == high:\n",
    "            self.tree[treeIndex] = nums[low]\n",
    "            return\n",
    "        mid = (low+high)//2\n",
    "        self._buildTree(nums, 2*treeIndex+1, low, mid)\n",
    "        self._buildTree(nums, 2*treeIndex+2, mid+1, high)\n",
    "        self.tree[treeIndex] = self._merge(self.tree[2*treeIndex+1], self.tree[2*treeIndex+2])\n",
    "        \n",
    "    def buildTree(self, nums):\n",
    "        self._buildTree(nums, 0, 0, self.size -1)\n",
    "        \n",
    "    def _merge(self, left, right):\n",
    "        return max([left,right])\n",
    "        \n",
    "    def _query(self, treeIndex, low, high, i, j):\n",
    "        if low > j or high < i: return 0\n",
    "        if i<=low and j>= high: return self.tree[treeIndex]\n",
    "        \n",
    "        mid = (low+high)//2\n",
    "        if i>mid:\n",
    "            return self._query(2*treeIndex+2, mid+1, high, i, j)\n",
    "        elif j<=mid:\n",
    "            return self._query(2*treeIndex+1, low, mid, i, j)\n",
    "        \n",
    "        left = self._query(2*treeIndex+1, low, mid, i, mid)\n",
    "        right = self._query(2*treeIndex+2, mid+1, high, mid+1, j)\n",
    "        return self._merge(left,right)\n",
    "    \n",
    "    def query(self,i,j):\n",
    "        return self._query(0, 0, self.size-1, i, j)\n",
    "    \n",
    "    def _updateVal(self, treeIndex, low, high, arrIndex, val):\n",
    "        if low == high: \n",
    "            self.tree[treeIndex] = val\n",
    "            return\n",
    "        mid = (low+high)//2\n",
    "        if arrIndex > mid:\n",
    "            self._updateVal(2*treeIndex+2, mid+1, high, arrIndex, val)\n",
    "        else:\n",
    "            self._updateVal(2*treeIndex+1, low, mid, arrIndex, val)\n",
    "        self.tree[treeIndex] = self._merge(self.tree[2*treeIndex+1], self.tree[2*treeIndex+2])\n",
    "        \n",
    "    def updateVal(self, arrIndex, val):\n",
    "        self._updateVal(0, 0, self.size-1, arrIndex, val)\n",
    "        \n",
    "    def _updateLazy(self, treeIndex, low, high, i, j, val):\n",
    "        if self.lazy[treeIndex]!=0:\n",
    "            self.tree[treeIndex] += (high-low+1)*self.lazy[treeIndex]\n",
    "            if low != high:\n",
    "                self.lazy[2*treeIndex+1] += self.lazy[treeIndex]\n",
    "                self.lazy[2*treeIndex+2] += self.lazy[treeIndex]\n",
    "            self.lazy[treeIndex] = 0\n",
    "        if low > high or low > j or high < i: return\n",
    "        if i<=low and high<=j:\n",
    "            self.tree[treeIndex] += (high-low+1)*val\n",
    "            if low!=high:\n",
    "                self.lazy[2*treeIndex+1] += val\n",
    "                self.lazy[2*treeIndex+2] += val\n",
    "            return\n",
    "        mid = (low+high)//2\n",
    "        self._updateLazy(2*treeIndex+1, low, mid, i, j, val)\n",
    "        self._updateLazy(2*treeIndex+2, mid+1, high, i, j, val)\n",
    "        self.tree[treeIndex] = self._merge(self.tree[2*treeIndex+1], self.tree[2*treeIndex+2])\n",
    "    \n",
    "    def updateLazy(self, i, j, val):\n",
    "        self._updateLazy(0,0,self.size-1,i,j,val)\n",
    "        \n",
    "    def _queryLazy(self, treeIndex, low, high, i, j):\n",
    "        if low > j or high < i: return 0\n",
    "        if self.lazy[treeIndex]!=0:\n",
    "            self.tree[treeIndex] += (high-low+1)*self.lazy[treeIndex]\n",
    "            if low != high:\n",
    "                self.lazy[2*treeIndex+1] += self.lazy[treeIndex]\n",
    "                self.lazy[2*treeIndex+2] += self.lazy[treeIndex]\n",
    "            self.lazy[treeIndex] = 0\n",
    "        if i<=low and j>=high: return self.tree[treeIndex]\n",
    "        mid = (low+high)//2\n",
    "        if i>mid:\n",
    "            return self._queryLazy(2*treeIndex+2,mid+1,high,i,j)\n",
    "        elif j<=mid:\n",
    "            return self._queryLazy(2*treeIndex+1,low,mid,i,j)\n",
    "        \n",
    "        left = self._queryLazy(2*treeIndex+1, low, mid, i, mid)\n",
    "        right = self._queryLazy(2*treeIndex+2,  mid+1, high, mid+1, j)\n",
    "        return self._merge(left,right)\n",
    "    \n",
    "    def queryLazy(self, i, j):\n",
    "        return self._queryLazy(0, 0, self.size-1, i,j)\n",
    "                "
   ]
  },
  {
   "cell_type": "code",
   "execution_count": 57,
   "metadata": {},
   "outputs": [
    {
     "data": {
      "text/plain": [
       "33"
      ]
     },
     "execution_count": 57,
     "metadata": {},
     "output_type": "execute_result"
    }
   ],
   "source": [
    "nums = [18, 17, 13, 19, 15, 11, 20, 12, 33, 25]\n",
    "tree = SegmentTree(nums)\n",
    "tree.query(2, 8)\n",
    "tree.updateVal(2,16)\n",
    "tree.query(2, 8)"
   ]
  },
  {
   "cell_type": "code",
   "execution_count": 58,
   "metadata": {},
   "outputs": [
    {
     "data": {
      "text/plain": [
       "33"
      ]
     },
     "execution_count": 58,
     "metadata": {},
     "output_type": "execute_result"
    }
   ],
   "source": [
    "tree.updateLazy(2,4,3)\n",
    "tree.queryLazy(2,8)"
   ]
  },
  {
   "cell_type": "code",
   "execution_count": null,
   "metadata": {},
   "outputs": [],
   "source": []
  }
 ],
 "metadata": {
  "kernelspec": {
   "display_name": "Python 3",
   "language": "python",
   "name": "python3"
  },
  "language_info": {
   "codemirror_mode": {
    "name": "ipython",
    "version": 3
   },
   "file_extension": ".py",
   "mimetype": "text/x-python",
   "name": "python",
   "nbconvert_exporter": "python",
   "pygments_lexer": "ipython3",
   "version": "3.6.5"
  },
  "toc": {
   "base_numbering": 1,
   "nav_menu": {},
   "number_sections": true,
   "sideBar": true,
   "skip_h1_title": false,
   "title_cell": "Table of Contents",
   "title_sidebar": "Contents",
   "toc_cell": false,
   "toc_position": {},
   "toc_section_display": true,
   "toc_window_display": false
  }
 },
 "nbformat": 4,
 "nbformat_minor": 2
}
