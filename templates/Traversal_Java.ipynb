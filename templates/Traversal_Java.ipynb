{
 "cells": [
  {
   "cell_type": "code",
   "execution_count": 7,
   "metadata": {},
   "outputs": [],
   "source": [
    "public class TreeNode{\n",
    "    int val;\n",
    "    TreeNode left;\n",
    "    TreeNode right;\n",
    "    \n",
    "    TreeNode(int val, TreeNode left, TreeNode right){\n",
    "        this.val = val;\n",
    "        this.left = left;\n",
    "        this.right = right;\n",
    "    }\n",
    "    TreeNode(int val){\n",
    "        this.val = val;\n",
    "    }\n",
    "    \n",
    "}"
   ]
  },
  {
   "cell_type": "code",
   "execution_count": 77,
   "metadata": {},
   "outputs": [],
   "source": [
    "public class Traversal{\n",
    "    public List<Integer> recursivePreorder(TreeNode root){\n",
    "        List<Integer> ans = new ArrayList<>();\n",
    "        if (root==null){return ans;}\n",
    "        ans.add(root.val);\n",
    "        ans.addAll(recursivePreorder(root.left));\n",
    "        ans.addAll(recursivePreorder(root.right));\n",
    "        return ans;\n",
    "        }\n",
    "        \n",
    "    public List<Integer> recursiveInorder(TreeNode root){\n",
    "        List<Integer> ans = new ArrayList<>();\n",
    "        if (root==null){return ans;}\n",
    "        ans.addAll(recursiveInorder(root.left));\n",
    "        ans.add(root.val);\n",
    "        ans.addAll(recursiveInorder(root.right));\n",
    "        return ans;\n",
    "        }\n",
    "        \n",
    "    public List<Integer> recursivePostorder(TreeNode root){\n",
    "        List<Integer> ans = new ArrayList<>();\n",
    "        if (root==null){return ans;}\n",
    "        ans.addAll(recursivePostorder(root.left));\n",
    "        ans.addAll(recursivePostorder(root.right));\n",
    "        ans.add(root.val);\n",
    "        return ans;\n",
    "        }\n",
    "    \n",
    "    public List<Integer> iterativePreorder(TreeNode root){\n",
    "        ArrayList<Integer> ans = new ArrayList<>();\n",
    "        if (root==null) return ans;\n",
    "        Stack<TreeNode> stack = new Stack<>();\n",
    "        stack.add(root);\n",
    "        while (!stack.empty()){\n",
    "            root = stack.pop();\n",
    "            ans.add(root.val);\n",
    "            if (root.right!=null) stack.add(root.right);\n",
    "            if (root.left!=null) stack.add(root.left);\n",
    "        }\n",
    "        return ans;\n",
    "    }\n",
    "    \n",
    "    public List<Integer> iterativeInorder(TreeNode root){\n",
    "        ArrayList<Integer> ans = new ArrayList<>();\n",
    "        if (root==null) return ans;\n",
    "        Stack<TreeNode> stack = new Stack<>();\n",
    "        while (root!=null || !stack.empty()){\n",
    "            while (root!=null){\n",
    "                stack.add(root);\n",
    "                root = root.left;\n",
    "            }\n",
    "            root = stack.pop();\n",
    "            ans.add(root.val);\n",
    "            root = root.right;\n",
    "        }\n",
    "        return ans;\n",
    "    }\n",
    "    \n",
    "    public List<Integer> iterativePostorder(TreeNode root){\n",
    "        ArrayList<Integer> ans = new ArrayList<>();\n",
    "        if (root==null) return ans;\n",
    "        Stack<TreeNode> stack = new Stack<>();\n",
    "        stack.add(root);\n",
    "        while (!stack.empty()){\n",
    "            root = stack.pop();\n",
    "            ans.add(0,root.val);\n",
    "            if (root.left!=null) stack.add(root.left);\n",
    "            if (root.right!=null) stack.add(root.right);\n",
    "        }\n",
    "        return ans;\n",
    "    }\n",
    "}"
   ]
  },
  {
   "cell_type": "code",
   "execution_count": 78,
   "metadata": {},
   "outputs": [],
   "source": [
    "TreeNode a = new TreeNode(3);\n",
    "TreeNode b = new TreeNode(5);\n",
    "TreeNode c = new TreeNode(6);\n",
    "TreeNode d = new TreeNode(8);\n",
    "TreeNode e = new TreeNode(4,a,b);\n",
    "TreeNode f = new TreeNode(7,c,d);\n",
    "TreeNode root = new TreeNode(11,e,f);"
   ]
  },
  {
   "cell_type": "code",
   "execution_count": 84,
   "metadata": {},
   "outputs": [
    {
     "data": {
      "text/plain": [
       "[11, 4, 3, 5, 7, 6, 8]"
      ]
     },
     "execution_count": 84,
     "metadata": {},
     "output_type": "execute_result"
    }
   ],
   "source": [
    "Traversal t = new Traversal();\n",
    "t.recursivePreorder(root);"
   ]
  },
  {
   "cell_type": "code",
   "execution_count": 85,
   "metadata": {},
   "outputs": [
    {
     "data": {
      "text/plain": [
       "[3, 4, 5, 11, 6, 7, 8]"
      ]
     },
     "execution_count": 85,
     "metadata": {},
     "output_type": "execute_result"
    }
   ],
   "source": [
    "t.recursiveInorder(root);"
   ]
  },
  {
   "cell_type": "code",
   "execution_count": 86,
   "metadata": {},
   "outputs": [
    {
     "data": {
      "text/plain": [
       "[3, 5, 4, 6, 8, 7, 11]"
      ]
     },
     "execution_count": 86,
     "metadata": {},
     "output_type": "execute_result"
    }
   ],
   "source": [
    "t.recursivePostorder(root);"
   ]
  },
  {
   "cell_type": "code",
   "execution_count": 87,
   "metadata": {},
   "outputs": [
    {
     "data": {
      "text/plain": [
       "[11, 4, 3, 5, 7, 6, 8]"
      ]
     },
     "execution_count": 87,
     "metadata": {},
     "output_type": "execute_result"
    }
   ],
   "source": [
    "t.iterativePreorder(root);"
   ]
  },
  {
   "cell_type": "code",
   "execution_count": 88,
   "metadata": {},
   "outputs": [
    {
     "data": {
      "text/plain": [
       "[3, 4, 5, 11, 6, 7, 8]"
      ]
     },
     "execution_count": 88,
     "metadata": {},
     "output_type": "execute_result"
    }
   ],
   "source": [
    "t.iterativeInorder(root);"
   ]
  },
  {
   "cell_type": "code",
   "execution_count": 89,
   "metadata": {},
   "outputs": [
    {
     "data": {
      "text/plain": [
       "[3, 5, 4, 6, 8, 7, 11]"
      ]
     },
     "execution_count": 89,
     "metadata": {},
     "output_type": "execute_result"
    }
   ],
   "source": [
    "t.iterativePostorder(root);"
   ]
  },
  {
   "cell_type": "code",
   "execution_count": null,
   "metadata": {},
   "outputs": [],
   "source": []
  }
 ],
 "metadata": {
  "kernelspec": {
   "display_name": "Java",
   "language": "java",
   "name": "java"
  },
  "language_info": {
   "codemirror_mode": "java",
   "file_extension": ".java",
   "mimetype": "text/x-java-source",
   "name": "Java",
   "pygments_lexer": "java",
   "version": "11.0.2+9-LTS"
  },
  "toc": {
   "base_numbering": 1,
   "nav_menu": {},
   "number_sections": true,
   "sideBar": true,
   "skip_h1_title": false,
   "title_cell": "Table of Contents",
   "title_sidebar": "Contents",
   "toc_cell": false,
   "toc_position": {},
   "toc_section_display": true,
   "toc_window_display": false
  }
 },
 "nbformat": 4,
 "nbformat_minor": 2
}
