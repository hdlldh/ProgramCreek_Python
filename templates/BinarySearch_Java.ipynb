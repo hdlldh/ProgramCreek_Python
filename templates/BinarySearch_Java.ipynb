{
 "cells": [
  {
   "cell_type": "code",
   "execution_count": 44,
   "metadata": {},
   "outputs": [],
   "source": [
    "int A[] = {1,1,1,1,1,1,2,2,2,2,2,2,2,2,3,3,3,3,3};"
   ]
  },
  {
   "cell_type": "code",
   "execution_count": 45,
   "metadata": {},
   "outputs": [],
   "source": [
    "public class BinarySearch{\n",
    "    public int recursiveSearch(int A[], int target,int low, int high){\n",
    "        if (high<low){return -1;}\n",
    "        int mid = low + (high-low)/2;\n",
    "        if (A[mid] > target){\n",
    "            return recursiveSearch(A, target, low, mid-1);\n",
    "        }\n",
    "        else if (A[mid]<target){\n",
    "            return recursiveSearch(A, target, mid+1, high);\n",
    "        }\n",
    "        else{\n",
    "            return mid;\n",
    "        }\n",
    "    }\n",
    "    \n",
    "    public int iterativeSearch(int A[], int target){\n",
    "        int low = 0;\n",
    "        int high = A.length-1;\n",
    "        int mid;\n",
    "        while (low<=high){\n",
    "            mid = low + (high-low)/2;\n",
    "            if (A[mid] > target){\n",
    "                high = mid -1;\n",
    "            }\n",
    "            else if(A[mid] < target){\n",
    "                low = mid + 1;\n",
    "            }\n",
    "            else{\n",
    "                return mid;\n",
    "            }\n",
    "        }\n",
    "        return -1;\n",
    "    }\n",
    "    \n",
    "    public int recursiveSearchLeft(int A[], int target,int low, int high){\n",
    "        if (high<low){\n",
    "            if (A[low] == target){return low;}\n",
    "            return -1;}\n",
    "        int mid = low + (high-low)/2;\n",
    "        if (A[mid] >= target){\n",
    "            return recursiveSearchLeft(A, target, low, mid-1);\n",
    "        }\n",
    "        else{\n",
    "            return recursiveSearchLeft(A, target, mid+1, high);\n",
    "        }\n",
    "    }\n",
    "    \n",
    "    public int iterativeSearchLeft(int A[], int target){\n",
    "        int low = 0;\n",
    "        int high = A.length-1;\n",
    "        int mid;\n",
    "        while (low<=high){\n",
    "            mid = low + (high-low)/2;\n",
    "            if (A[mid] >= target){\n",
    "                high = mid -1;\n",
    "            }\n",
    "            else{\n",
    "                low = mid + 1;\n",
    "            }\n",
    "        }\n",
    "        if (A[low] == target){return low;}\n",
    "        return -1;\n",
    "    }\n",
    "    \n",
    "    public int recursiveSearchRight(int A[], int target,int low, int high){\n",
    "        if (high<low){\n",
    "            if (A[high] == target){return high;}\n",
    "            return -1;}\n",
    "        int mid = low + (high-low)/2;\n",
    "        if (A[mid] > target){\n",
    "            return recursiveSearchRight(A, target, low, mid-1);\n",
    "        }\n",
    "        else{\n",
    "            return recursiveSearchRight(A, target, mid+1, high);\n",
    "        }\n",
    "    }\n",
    "    \n",
    "    public int iterativeSearchRight(int A[], int target){\n",
    "        int low = 0;\n",
    "        int high = A.length-1;\n",
    "        int mid;\n",
    "        while (low<=high){\n",
    "            mid = low + (high-low)/2;\n",
    "            if (A[mid] > target){\n",
    "                high = mid -1;\n",
    "            }\n",
    "            else{\n",
    "                low = mid + 1;\n",
    "            }\n",
    "        }\n",
    "        if (A[high] == target){return high;}\n",
    "        return -1;\n",
    "    }\n",
    "}\n",
    "    "
   ]
  },
  {
   "cell_type": "code",
   "execution_count": 46,
   "metadata": {},
   "outputs": [
    {
     "data": {
      "text/plain": [
       "9"
      ]
     },
     "execution_count": 46,
     "metadata": {},
     "output_type": "execute_result"
    }
   ],
   "source": [
    "BinarySearch bs = new BinarySearch();\n",
    "bs.recursiveSearch(A, 2, 0, A.length-1);"
   ]
  },
  {
   "cell_type": "code",
   "execution_count": 47,
   "metadata": {},
   "outputs": [
    {
     "data": {
      "text/plain": [
       "9"
      ]
     },
     "execution_count": 47,
     "metadata": {},
     "output_type": "execute_result"
    }
   ],
   "source": [
    "bs.iterativeSearch(A,2);"
   ]
  },
  {
   "cell_type": "code",
   "execution_count": 48,
   "metadata": {},
   "outputs": [
    {
     "data": {
      "text/plain": [
       "6"
      ]
     },
     "execution_count": 48,
     "metadata": {},
     "output_type": "execute_result"
    }
   ],
   "source": [
    "bs.recursiveSearchLeft(A, 2, 0, A.length-1);"
   ]
  },
  {
   "cell_type": "code",
   "execution_count": 49,
   "metadata": {},
   "outputs": [
    {
     "data": {
      "text/plain": [
       "6"
      ]
     },
     "execution_count": 49,
     "metadata": {},
     "output_type": "execute_result"
    }
   ],
   "source": [
    "bs.iterativeSearchLeft(A,2);"
   ]
  },
  {
   "cell_type": "code",
   "execution_count": 50,
   "metadata": {},
   "outputs": [
    {
     "data": {
      "text/plain": [
       "13"
      ]
     },
     "execution_count": 50,
     "metadata": {},
     "output_type": "execute_result"
    }
   ],
   "source": [
    "bs.iterativeSearchRight(A,2);"
   ]
  },
  {
   "cell_type": "code",
   "execution_count": 53,
   "metadata": {},
   "outputs": [
    {
     "data": {
      "text/plain": [
       "13"
      ]
     },
     "execution_count": 53,
     "metadata": {},
     "output_type": "execute_result"
    }
   ],
   "source": [
    "bs.recursiveSearchRight(A, 2, 0, A.length-1);"
   ]
  },
  {
   "cell_type": "code",
   "execution_count": null,
   "metadata": {},
   "outputs": [],
   "source": []
  }
 ],
 "metadata": {
  "kernelspec": {
   "display_name": "Java",
   "language": "java",
   "name": "java"
  },
  "language_info": {
   "codemirror_mode": "java",
   "file_extension": ".java",
   "mimetype": "text/x-java-source",
   "name": "Java",
   "pygments_lexer": "java",
   "version": "11.0.2+9-LTS"
  },
  "toc": {
   "base_numbering": 1,
   "nav_menu": {},
   "number_sections": true,
   "sideBar": true,
   "skip_h1_title": false,
   "title_cell": "Table of Contents",
   "title_sidebar": "Contents",
   "toc_cell": false,
   "toc_position": {},
   "toc_section_display": true,
   "toc_window_display": false
  }
 },
 "nbformat": 4,
 "nbformat_minor": 2
}
