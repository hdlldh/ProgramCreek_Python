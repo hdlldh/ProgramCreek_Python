{
 "cells": [
  {
   "cell_type": "code",
   "execution_count": 26,
   "metadata": {},
   "outputs": [],
   "source": [
    "class Trie(object):\n",
    "    def __init__(self,end='#'):\n",
    "        self.end = end\n",
    "        self.root = {}\n",
    "        \n",
    "    def add(self,*words):\n",
    "        for word in words:\n",
    "            p = self.root\n",
    "            for letter in word:\n",
    "                p = p.setdefault(letter,{})\n",
    "            p[self.end] = self.end\n",
    "    \n",
    "    def search(self,word):\n",
    "        p = self.root\n",
    "        for letter in word:\n",
    "            if letter not in p: return False\n",
    "            p = p[letter]\n",
    "                  \n",
    "        if self.end in p:\n",
    "            return True\n",
    "        return False\n",
    "    \n",
    "    def startWith(self,prefix):\n",
    "        p = self.root\n",
    "        for letter in prefix:\n",
    "            if letter not in p: return False\n",
    "            p = p[letter]\n",
    "        return True\n",
    "                \n",
    "        "
   ]
  },
  {
   "cell_type": "code",
   "execution_count": 27,
   "metadata": {},
   "outputs": [
    {
     "data": {
      "text/plain": [
       "False"
      ]
     },
     "execution_count": 27,
     "metadata": {},
     "output_type": "execute_result"
    }
   ],
   "source": [
    "t = Trie()\n",
    "t.add('ewea','vadad','vadbc')\n",
    "t.search('ewe')"
   ]
  },
  {
   "cell_type": "code",
   "execution_count": 29,
   "metadata": {},
   "outputs": [
    {
     "data": {
      "text/plain": [
       "True"
      ]
     },
     "execution_count": 29,
     "metadata": {},
     "output_type": "execute_result"
    }
   ],
   "source": [
    "t.startWith('vad')"
   ]
  },
  {
   "cell_type": "code",
   "execution_count": null,
   "metadata": {},
   "outputs": [],
   "source": []
  }
 ],
 "metadata": {
  "kernelspec": {
   "display_name": "Python 3",
   "language": "python",
   "name": "python3"
  },
  "language_info": {
   "codemirror_mode": {
    "name": "ipython",
    "version": 3
   },
   "file_extension": ".py",
   "mimetype": "text/x-python",
   "name": "python",
   "nbconvert_exporter": "python",
   "pygments_lexer": "ipython3",
   "version": "3.6.5"
  },
  "toc": {
   "base_numbering": 1,
   "nav_menu": {},
   "number_sections": true,
   "sideBar": true,
   "skip_h1_title": false,
   "title_cell": "Table of Contents",
   "title_sidebar": "Contents",
   "toc_cell": false,
   "toc_position": {},
   "toc_section_display": true,
   "toc_window_display": false
  }
 },
 "nbformat": 4,
 "nbformat_minor": 2
}
