{
 "cells": [
  {
   "cell_type": "code",
   "execution_count": 54,
   "metadata": {},
   "outputs": [],
   "source": [
    "class MonotonicStack(object):\n",
    "    def increaseStack(self, nums):\n",
    "        leftBound = [None]*len(nums)\n",
    "        rightBound = [None]*len(nums)\n",
    "        stack = []\n",
    "        for i, num in enumerate(nums):\n",
    "            while stack and num <= nums[stack[-1]]:   \n",
    "                cur = stack.pop()\n",
    "                rightBound[cur] = num   \n",
    "            if stack:\n",
    "                leftBound[i] = nums[stack[-1]]\n",
    "            stack.append(i)\n",
    "        return leftBound, rightBound\n",
    "    \n",
    "    def decreaseStack(self, nums):\n",
    "        leftBound = [None]*len(nums)\n",
    "        rightBound = [None]*len(nums)\n",
    "        stack = []\n",
    "        for i, num in enumerate(nums):\n",
    "            while stack and num >= nums[stack[-1]]:\n",
    "                rightBound[stack.pop()] = nums[i]\n",
    "            if stack:\n",
    "                leftBound[i] = nums[stack[-1]]\n",
    "            stack.append(i)\n",
    "        return leftBound, rightBound\n",
    "    "
   ]
  },
  {
   "cell_type": "code",
   "execution_count": 53,
   "metadata": {},
   "outputs": [
    {
     "name": "stdout",
     "output_type": "stream",
     "text": [
      "[None, 5, 3, 3, 5] [None, 4, 2, 4, None]\n"
     ]
    }
   ],
   "source": [
    "a = MonotonicStack()\n",
    "b,c = a.decreaseStack([5, 3, 1, 2, 4])\n",
    "print(b,c)"
   ]
  },
  {
   "cell_type": "code",
   "execution_count": null,
   "metadata": {},
   "outputs": [],
   "source": []
  }
 ],
 "metadata": {
  "kernelspec": {
   "display_name": "Python 3",
   "language": "python",
   "name": "python3"
  },
  "language_info": {
   "codemirror_mode": {
    "name": "ipython",
    "version": 3
   },
   "file_extension": ".py",
   "mimetype": "text/x-python",
   "name": "python",
   "nbconvert_exporter": "python",
   "pygments_lexer": "ipython3",
   "version": "3.6.5"
  },
  "toc": {
   "base_numbering": 1,
   "nav_menu": {},
   "number_sections": true,
   "sideBar": true,
   "skip_h1_title": false,
   "title_cell": "Table of Contents",
   "title_sidebar": "Contents",
   "toc_cell": false,
   "toc_position": {},
   "toc_section_display": true,
   "toc_window_display": false
  }
 },
 "nbformat": 4,
 "nbformat_minor": 2
}
