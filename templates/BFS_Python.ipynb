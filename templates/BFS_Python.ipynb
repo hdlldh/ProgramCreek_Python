{
 "cells": [
  {
   "cell_type": "code",
   "execution_count": 49,
   "metadata": {},
   "outputs": [],
   "source": [
    "class UnDirectedGraphNode():\n",
    "    def __init__(self,label,adjNodes=[]):\n",
    "        self.label = label\n",
    "        self.adjNodes = adjNodes"
   ]
  },
  {
   "cell_type": "code",
   "execution_count": 50,
   "metadata": {},
   "outputs": [],
   "source": [
    "class DirectedGraphNode():\n",
    "    def __init__(self,label,fromNodes=[],toNodes=[]):\n",
    "        self.label = label\n",
    "        self.fromNodes = fromNodes\n",
    "        self.toNodes = toNodes"
   ]
  },
  {
   "cell_type": "code",
   "execution_count": 51,
   "metadata": {},
   "outputs": [],
   "source": [
    "class ShortestPathLength():\n",
    "    def bfs(self,s,t):\n",
    "        if s==t: return 0\n",
    "        queue = [s]\n",
    "        visited = set()\n",
    "        visited.add(s)\n",
    "        length = 0\n",
    "        while queue:\n",
    "            size = len(queue)\n",
    "            length += 1\n",
    "            for i in range(size):\n",
    "                node = queue.pop(0)\n",
    "                for adjNode in node.adjNodes:\n",
    "                    if adjNode in visited: continue\n",
    "                    if adjNode == t: return length\n",
    "                    queue.append(adjNode)\n",
    "                    visited.add(node)\n",
    "        return -1"
   ]
  },
  {
   "cell_type": "code",
   "execution_count": 52,
   "metadata": {},
   "outputs": [],
   "source": [
    "a = UnDirectedGraphNode('a')\n",
    "b = UnDirectedGraphNode('b')\n",
    "c = UnDirectedGraphNode('c')\n",
    "d = UnDirectedGraphNode('d')\n",
    "e = UnDirectedGraphNode('e')\n",
    "f = UnDirectedGraphNode('f')\n",
    "a.adjNodes = [b,c]\n",
    "b.adjNodes=[a,d,f]\n",
    "c.adjNodes=[a,b,e]\n",
    "d.adjNodes=[b,c,d,f]\n",
    "e.adjNodes=[c,d]\n",
    "f.adjNodes=[b,d]"
   ]
  },
  {
   "cell_type": "code",
   "execution_count": 53,
   "metadata": {},
   "outputs": [
    {
     "data": {
      "text/plain": [
       "2"
      ]
     },
     "execution_count": 53,
     "metadata": {},
     "output_type": "execute_result"
    }
   ],
   "source": [
    "s = ShortestPathLength()\n",
    "s.bfs(a,d)"
   ]
  },
  {
   "cell_type": "code",
   "execution_count": 60,
   "metadata": {},
   "outputs": [],
   "source": [
    "class TopoSort():\n",
    "    def bfs(self,graph):\n",
    "        indgree = {}\n",
    "        queue = []\n",
    "        ans = []\n",
    "        for node in graph:\n",
    "            indgree[node] = len(node.fromNodes)\n",
    "            if indgree[node] ==0:\n",
    "                queue.append(node)\n",
    "        while queue:\n",
    "            node = queue.pop(0)\n",
    "            ans.append(node.label)\n",
    "            for adjNode in node.toNodes:\n",
    "                indgree[adjNode] -= 1\n",
    "                if indgree[adjNode]==0:\n",
    "                    queue.append(adjNode)\n",
    "        return ans       "
   ]
  },
  {
   "cell_type": "code",
   "execution_count": 61,
   "metadata": {},
   "outputs": [],
   "source": [
    "a = DirectedGraphNode('a')\n",
    "b = DirectedGraphNode('b')\n",
    "c = DirectedGraphNode('c')\n",
    "d = DirectedGraphNode('d')\n",
    "e = DirectedGraphNode('e')\n",
    "f = DirectedGraphNode('f')\n",
    "a.toNodes = [b,c]\n",
    "b.fromNodes = [a]\n",
    "b.toNodes=[d]\n",
    "c.fromNodes = [a]\n",
    "c.toNodes=[d,e]\n",
    "d.fromNodes=[b,c,e]\n",
    "d.toNodes=[f]\n",
    "e.fromNodes=[c]\n",
    "e.toNodes=[d]\n",
    "f.fromNodes=[d]"
   ]
  },
  {
   "cell_type": "code",
   "execution_count": 62,
   "metadata": {},
   "outputs": [
    {
     "data": {
      "text/plain": [
       "['a', 'b', 'c', 'e', 'd', 'f']"
      ]
     },
     "execution_count": 62,
     "metadata": {},
     "output_type": "execute_result"
    }
   ],
   "source": [
    "t = TopoSort()\n",
    "t.bfs([a,b,c,d,e,f])"
   ]
  },
  {
   "cell_type": "code",
   "execution_count": null,
   "metadata": {},
   "outputs": [],
   "source": []
  }
 ],
 "metadata": {
  "kernelspec": {
   "display_name": "Python 3",
   "language": "python",
   "name": "python3"
  },
  "language_info": {
   "codemirror_mode": {
    "name": "ipython",
    "version": 3
   },
   "file_extension": ".py",
   "mimetype": "text/x-python",
   "name": "python",
   "nbconvert_exporter": "python",
   "pygments_lexer": "ipython3",
   "version": "3.6.5"
  },
  "toc": {
   "base_numbering": 1,
   "nav_menu": {},
   "number_sections": true,
   "sideBar": true,
   "skip_h1_title": false,
   "title_cell": "Table of Contents",
   "title_sidebar": "Contents",
   "toc_cell": false,
   "toc_position": {},
   "toc_section_display": true,
   "toc_window_display": false
  }
 },
 "nbformat": 4,
 "nbformat_minor": 2
}
