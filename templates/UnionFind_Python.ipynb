{
 "cells": [
  {
   "cell_type": "code",
   "execution_count": 12,
   "metadata": {},
   "outputs": [],
   "source": [
    "class UnionFind():\n",
    "    def __init__(self,n):\n",
    "        self.parent = [i for i in range(n)]\n",
    "        self.rank = [1]*n\n",
    "        \n",
    "    def find(self,i):\n",
    "        if self.parent[i]!= i: \n",
    "            return self.find(self.parent[i])\n",
    "        return i\n",
    "    \n",
    "    def union(self,i,j):\n",
    "        root_i = self.find(i)\n",
    "        root_j = self.find(j)\n",
    "        if root_i==root_j: return\n",
    "        if self.rank[root_i] >self.rank[root_j]:\n",
    "            self.parent[root_j] = root_i\n",
    "            self.rank[root_i] += self.rank[root_j]\n",
    "        else:\n",
    "            self.parent[root_i] = root_j\n",
    "            self.rank[root_j] += self.rank[root_i]\n",
    "            "
   ]
  },
  {
   "cell_type": "code",
   "execution_count": 13,
   "metadata": {},
   "outputs": [
    {
     "name": "stdout",
     "output_type": "stream",
     "text": [
      "0 2\n",
      "1 1\n",
      "4 4\n",
      "4 4\n",
      "4 4\n",
      "6 2\n",
      "6 2\n",
      "7 1\n",
      "0 2\n",
      "4 4\n"
     ]
    }
   ],
   "source": [
    "a = UnionFind(10)\n",
    "a.union(3,4)\n",
    "a.union(4,9)\n",
    "a.union(8,0)\n",
    "a.union(2,3)\n",
    "a.union(5,6)\n",
    "#a.union(5,9)\n",
    "#a.union(7,3)\n",
    "#a.union(4,8)\n",
    "#a.union(6,1)\n",
    "for i in range(10):\n",
    "    parent = a.find(i)\n",
    "    print(parent,a.rank[parent])"
   ]
  },
  {
   "cell_type": "code",
   "execution_count": null,
   "metadata": {},
   "outputs": [],
   "source": []
  },
  {
   "cell_type": "code",
   "execution_count": null,
   "metadata": {},
   "outputs": [],
   "source": []
  }
 ],
 "metadata": {
  "kernelspec": {
   "display_name": "Python 3",
   "language": "python",
   "name": "python3"
  },
  "language_info": {
   "codemirror_mode": {
    "name": "ipython",
    "version": 3
   },
   "file_extension": ".py",
   "mimetype": "text/x-python",
   "name": "python",
   "nbconvert_exporter": "python",
   "pygments_lexer": "ipython3",
   "version": "3.6.5"
  },
  "toc": {
   "base_numbering": 1,
   "nav_menu": {},
   "number_sections": true,
   "sideBar": true,
   "skip_h1_title": false,
   "title_cell": "Table of Contents",
   "title_sidebar": "Contents",
   "toc_cell": false,
   "toc_position": {},
   "toc_section_display": true,
   "toc_window_display": false
  }
 },
 "nbformat": 4,
 "nbformat_minor": 2
}
