{
 "cells": [
  {
   "cell_type": "code",
   "execution_count": 3,
   "metadata": {},
   "outputs": [],
   "source": [
    "class Combination():\n",
    "    def recursiveCombine(self,nums):\n",
    "        if not nums: return []\n",
    "         \n",
    "        def dfs(nums,index,solution,result):\n",
    "            if index==len(nums):\n",
    "                result.append([v for v in solution])\n",
    "                return\n",
    "            solution.append(nums[index])\n",
    "            dfs(nums,index+1,solution,result)\n",
    "            solution.pop()\n",
    "            dfs(nums,index+1,solution,result)\n",
    "            \n",
    "        result = []\n",
    "        dfs(nums,0,[],result)\n",
    "        return result"
   ]
  },
  {
   "cell_type": "code",
   "execution_count": 4,
   "metadata": {},
   "outputs": [
    {
     "data": {
      "text/plain": [
       "[[1, 3, 2], [1, 3], [1, 2], [1], [3, 2], [3], [2], []]"
      ]
     },
     "execution_count": 4,
     "metadata": {},
     "output_type": "execute_result"
    }
   ],
   "source": [
    "c = Combination()\n",
    "c.recursiveCombine([1,3,2])"
   ]
  },
  {
   "cell_type": "code",
   "execution_count": 1,
   "metadata": {},
   "outputs": [],
   "source": [
    "class Permutaion():\n",
    "    def recursivePermute(self,nums):\n",
    "\n",
    "        def dfs(nums,visited,solution,result):\n",
    "            if len(solution)==len(nums):\n",
    "                result.append([v for v in solution])\n",
    "                return\n",
    "            for i in range(len(nums)):\n",
    "                if visited[i]==1:continue\n",
    "                solution.append(nums[i])\n",
    "                visited[i] = 1\n",
    "                dfs(nums,visited,solution,result)\n",
    "                solution.pop()\n",
    "                visited[i] = 0\n",
    "                \n",
    "        visited = [0]*len(nums)\n",
    "        result = []\n",
    "        dfs(nums,visited,[],result)\n",
    "        return result\n",
    "            "
   ]
  },
  {
   "cell_type": "code",
   "execution_count": 2,
   "metadata": {},
   "outputs": [
    {
     "data": {
      "text/plain": [
       "[[1, 3, 2], [1, 2, 3], [3, 1, 2], [3, 2, 1], [2, 1, 3], [2, 3, 1]]"
      ]
     },
     "execution_count": 2,
     "metadata": {},
     "output_type": "execute_result"
    }
   ],
   "source": [
    "p = Permutaion()\n",
    "p.recursivePermute([1,3,2])"
   ]
  },
  {
   "cell_type": "code",
   "execution_count": null,
   "metadata": {},
   "outputs": [],
   "source": []
  }
 ],
 "metadata": {
  "kernelspec": {
   "display_name": "Python 3",
   "language": "python",
   "name": "python3"
  },
  "language_info": {
   "codemirror_mode": {
    "name": "ipython",
    "version": 3
   },
   "file_extension": ".py",
   "mimetype": "text/x-python",
   "name": "python",
   "nbconvert_exporter": "python",
   "pygments_lexer": "ipython3",
   "version": "3.6.5"
  },
  "toc": {
   "base_numbering": 1,
   "nav_menu": {},
   "number_sections": true,
   "sideBar": true,
   "skip_h1_title": false,
   "title_cell": "Table of Contents",
   "title_sidebar": "Contents",
   "toc_cell": false,
   "toc_position": {},
   "toc_section_display": true,
   "toc_window_display": false
  }
 },
 "nbformat": 4,
 "nbformat_minor": 2
}
