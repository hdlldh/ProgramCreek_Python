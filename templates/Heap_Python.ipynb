{
 "cells": [
  {
   "cell_type": "code",
   "execution_count": 133,
   "metadata": {},
   "outputs": [],
   "source": [
    "class Heap(object):\n",
    "    def __init__(self, minHeap = True):\n",
    "        self.minHeap = minHeap\n",
    "        self.data = []\n",
    "        self.position = {}\n",
    "        self.size = 0\n",
    "        \n",
    "    def _compare(self, a, b):\n",
    "        if self.minHeap:\n",
    "            return a<b\n",
    "        else:\n",
    "            return a>b\n",
    "        \n",
    "    def _swimIter(self, i):\n",
    "        while i>0 and self._compare(self.data[i],self.data[(i-1)//2]):\n",
    "            self.data[i], self.data[(i-1)//2] = self.data[(i-1)//2], self.data[i]\n",
    "            self.position[self.data[i]] = i\n",
    "            self.position[self.data[(i-1)//2]] = (i-1)//2\n",
    "            i = (i-1)//2\n",
    "            \n",
    "    def _sinkIter(self, i):\n",
    "        while 2*i+1<self.size:\n",
    "            left = 2*i+1\n",
    "            child = left\n",
    "            if left+1<self.size and self._compare(self.data[left+1],self.data[left]):\n",
    "                child = left + 1\n",
    "            if self._compare(self.data[child], self.data[i]):\n",
    "                self.data[i], self.data[child] = self.data[child], self.data[i]\n",
    "                self.position[self.data[i]] = i\n",
    "                self.position[self.data[child]] = child\n",
    "            i = child\n",
    "            \n",
    "    def _swimRecr(self, i):\n",
    "        parent = (i-1)//2\n",
    "        if i>0 and self._compare(self.data[i],self.data[parent]):\n",
    "            self.data[i], self.data[parent] = self.data[parent], self.data[i]\n",
    "            self.position[self.data[i]] = i\n",
    "            self.position[self.data[parent]] = parent\n",
    "            self._swimRecr(parent)\n",
    "            \n",
    "    def _sinkRecr(self, i):\n",
    "        left = 2*i +1\n",
    "        if left<self.size:\n",
    "            child = left\n",
    "            if left+1 < self.size and self._compare(self.data[left+1],self.data[left]):\n",
    "                child = left+1\n",
    "            if self._compare(self.data[child], self.data[i]):\n",
    "                self.data[i], self.data[child] = self.data[child], self.data[i]\n",
    "                self.position[self.data[i]] = i\n",
    "                self.position[self.data[child]] = child\n",
    "            self._sinkRecr(child)\n",
    "            \n",
    "    def _buble(self, i):\n",
    "        if i>0 and self._compare(self.data[i],self.data[(i-1)//2]):\n",
    "            self._swimRecr(i)\n",
    "        else:\n",
    "            self._sinkRecr(i)\n",
    "                \n",
    "    def push(self, element):\n",
    "        self.data.append(element)\n",
    "        self.position[element] = self.size\n",
    "        self.size += 1\n",
    "        self._swimRecr(self.size-1)\n",
    "        \n",
    "    def pop(self):\n",
    "        tmp = self.data[0]\n",
    "        del self.position[tmp]\n",
    "        self.data[0] = self.data[-1]\n",
    "        self.position[self.data[0]] = 0\n",
    "        self.data.pop()\n",
    "        self.size -=1\n",
    "        self._sinkRecr(0)\n",
    "        return tmp\n",
    "        \n",
    "    def remove(self, element):\n",
    "        pos = self.position[element]\n",
    "        if pos = self.size -1:\n",
    "            del self.position[tmp]\n",
    "            self.data.pop()\n",
    "        else:\n",
    "            last = self.data[-1]\n",
    "            self.data[pos] = last\n",
    "            self.position[last] = pos\n",
    "            del\n",
    "            self.data.pop()\n",
    "        self.size -= 1\n",
    "        self._buble(pos)\n",
    "        return tmp\n",
    "        \n",
    "    "
   ]
  },
  {
   "cell_type": "code",
   "execution_count": 138,
   "metadata": {},
   "outputs": [],
   "source": [
    "a = Heap(minHeap = True)\n",
    "a.push(3)\n",
    "a.push(2)\n",
    "a.push(5)\n",
    "a.push(1)"
   ]
  },
  {
   "cell_type": "code",
   "execution_count": 139,
   "metadata": {},
   "outputs": [
    {
     "name": "stdout",
     "output_type": "stream",
     "text": [
      "[1, 2, 5, 3] {3: 3, 2: 1, 5: 2, 1: 0}\n"
     ]
    }
   ],
   "source": [
    "print(a.data,a.position)"
   ]
  },
  {
   "cell_type": "code",
   "execution_count": 140,
   "metadata": {},
   "outputs": [
    {
     "data": {
      "text/plain": [
       "1"
      ]
     },
     "execution_count": 140,
     "metadata": {},
     "output_type": "execute_result"
    }
   ],
   "source": [
    "a.pop()"
   ]
  },
  {
   "cell_type": "code",
   "execution_count": 141,
   "metadata": {},
   "outputs": [
    {
     "name": "stdout",
     "output_type": "stream",
     "text": [
      "[3, 5] {3: 0, 5: 1}\n"
     ]
    }
   ],
   "source": [
    "a.remove(2)\n",
    "print(a.data,a.position)"
   ]
  },
  {
   "cell_type": "code",
   "execution_count": 142,
   "metadata": {},
   "outputs": [
    {
     "data": {
      "text/plain": [
       "3"
      ]
     },
     "execution_count": 142,
     "metadata": {},
     "output_type": "execute_result"
    }
   ],
   "source": [
    "a.pop()"
   ]
  },
  {
   "cell_type": "code",
   "execution_count": null,
   "metadata": {},
   "outputs": [],
   "source": []
  }
 ],
 "metadata": {
  "kernelspec": {
   "display_name": "Python 3",
   "language": "python",
   "name": "python3"
  },
  "language_info": {
   "codemirror_mode": {
    "name": "ipython",
    "version": 3
   },
   "file_extension": ".py",
   "mimetype": "text/x-python",
   "name": "python",
   "nbconvert_exporter": "python",
   "pygments_lexer": "ipython3",
   "version": "3.6.5"
  },
  "toc": {
   "base_numbering": 1,
   "nav_menu": {},
   "number_sections": true,
   "sideBar": true,
   "skip_h1_title": false,
   "title_cell": "Table of Contents",
   "title_sidebar": "Contents",
   "toc_cell": false,
   "toc_position": {},
   "toc_section_display": true,
   "toc_window_display": false
  }
 },
 "nbformat": 4,
 "nbformat_minor": 2
}
