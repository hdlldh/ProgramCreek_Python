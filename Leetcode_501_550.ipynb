{
 "cells": [
  {
   "cell_type": "markdown",
   "metadata": {},
   "source": [
    "# 501. Find Mode in Binary Search Tree"
   ]
  },
  {
   "cell_type": "raw",
   "metadata": {},
   "source": [
    "Given a binary search tree (BST) with duplicates, find all the mode(s) (the most frequently occurred element) in the given BST.\n",
    "\n",
    "Assume a BST is defined as follows:\n",
    "\n",
    "The left subtree of a node contains only nodes with keys less than or equal to the node's key.\n",
    "The right subtree of a node contains only nodes with keys greater than or equal to the node's key.\n",
    "Both the left and right subtrees must also be binary search trees.\n",
    " \n",
    "\n",
    "For example:\n",
    "Given BST [1,null,2,2],\n",
    "\n",
    "   1\n",
    "    \\\n",
    "     2\n",
    "    /\n",
    "   2\n",
    " \n",
    "\n",
    "return [2].\n",
    "\n",
    "Note: If a tree has more than one mode, you can return them in any order.\n",
    "\n",
    "Follow up: Could you do that without using any extra space? (Assume that the implicit stack space incurred due to recursion does not count)."
   ]
  },
  {
   "cell_type": "code",
   "execution_count": 1,
   "metadata": {},
   "outputs": [],
   "source": [
    "# Definition for a binary tree node.\n",
    "# class TreeNode(object):\n",
    "#     def __init__(self, x):\n",
    "#         self.val = x\n",
    "#         self.left = None\n",
    "#         self.right = None\n",
    "\n",
    "from collections import defaultdict\n",
    "class Solution(object):\n",
    "    def findMode(self, root):\n",
    "        \"\"\"\n",
    "        :type root: TreeNode\n",
    "        :rtype: List[int]\n",
    "        \"\"\"\n",
    "        self.mem = defaultdict(int)\n",
    "        self.traverse(root)\n",
    "        ans = []\n",
    "        if not self.mem: return ans\n",
    "        keyList = sorted(self.mem,key=lambda x: -self.mem[x])\n",
    "        maxValue = self.mem[keyList[0]]\n",
    "        for k in keyList:\n",
    "            if self.mem[k] == maxValue:\n",
    "                ans.append(k)\n",
    "            else:\n",
    "                break\n",
    "        return ans\n",
    "        \n",
    "        \n",
    "    def traverse(self,root):\n",
    "        if not root: return\n",
    "        self.mem[root.val]+=1\n",
    "        self.traverse(root.left)\n",
    "        self.traverse(root.right)"
   ]
  },
  {
   "cell_type": "markdown",
   "metadata": {},
   "source": [
    "# 504. Base 7"
   ]
  },
  {
   "cell_type": "raw",
   "metadata": {},
   "source": [
    "Given an integer, return its base 7 string representation.\n",
    "\n",
    "Example 1:\n",
    "\n",
    "Input: 100\n",
    "Output: \"202\"\n",
    "Example 2:\n",
    "\n",
    "Input: -7\n",
    "Output: \"-10\""
   ]
  },
  {
   "cell_type": "code",
   "execution_count": null,
   "metadata": {},
   "outputs": [],
   "source": [
    "class Solution(object):\n",
    "    def convertToBase7(self, num):\n",
    "        \"\"\"\n",
    "        :type num: int\n",
    "        :rtype: str\n",
    "        \"\"\"\n",
    "        if not num: return \"0\"\n",
    "        neg = True if num < 0 else False\n",
    "        num = -num if neg else num\n",
    "        ans = []\n",
    "        while num:\n",
    "            ans.append(str(num%7))\n",
    "            num = num // 7\n",
    "        if neg: ans.append('-')\n",
    "        ans.reverse()\n",
    "        return ''.join(ans)"
   ]
  },
  {
   "cell_type": "markdown",
   "metadata": {},
   "source": [
    "# 506. Relative Ranks"
   ]
  },
  {
   "cell_type": "raw",
   "metadata": {},
   "source": [
    "Given scores of N athletes, find their relative ranks and the people with the top three highest scores, who will be awarded medals: \"Gold Medal\", \"Silver Medal\" and \"Bronze Medal\".\n",
    "\n",
    "Example 1:\n",
    "\n",
    "Input: [5, 4, 3, 2, 1]\n",
    "Output: [\"Gold Medal\", \"Silver Medal\", \"Bronze Medal\", \"4\", \"5\"]\n",
    "Explanation: The first three athletes got the top three highest scores, so they got \"Gold Medal\", \"Silver Medal\" and \"Bronze Medal\". \n",
    "For the left two athletes, you just need to output their relative ranks according to their scores."
   ]
  },
  {
   "cell_type": "code",
   "execution_count": 31,
   "metadata": {},
   "outputs": [],
   "source": [
    "\n",
    "class Solution(object):\n",
    "    def findRelativeRanks(self, nums):\n",
    "        \"\"\"\n",
    "        :type nums: List[int]\n",
    "        :rtype: List[str]\n",
    "        \"\"\"\n",
    "        \n",
    "        sorted_nums = sorted(nums,key = lambda x: -x)\n",
    "        n = len(nums)\n",
    "        hmap = dict(zip(sorted_nums,range(1,n+1)))\n",
    "        top3 = [\"Gold Medal\", \"Silver Medal\", \"Bronze Medal\"]\n",
    "        ans = []\n",
    "        \n",
    "        for n in nums:\n",
    "            r = hmap[n]\n",
    "            if r <=3:\n",
    "                ans.append(top3[r-1])\n",
    "            else:\n",
    "                ans.append(str(r))\n",
    "        \n",
    "        return ans\n",
    "            \n",
    "        \n",
    "        "
   ]
  },
  {
   "cell_type": "markdown",
   "metadata": {},
   "source": [
    "# 507. Perfect Number"
   ]
  },
  {
   "cell_type": "raw",
   "metadata": {},
   "source": [
    "We define the Perfect Number is a positive integer that is equal to the sum of all its positive divisors except itself.\n",
    "\n",
    "Now, given an integer n, write a function that returns true when it is a perfect number and false when it is not.\n",
    "Example:\n",
    "\n",
    "Input: 28\n",
    "Output: True\n",
    "Explanation: 28 = 1 + 2 + 4 + 7 + 14"
   ]
  },
  {
   "cell_type": "code",
   "execution_count": 33,
   "metadata": {},
   "outputs": [],
   "source": [
    "class Solution(object):\n",
    "    def checkPerfectNumber(self, num):\n",
    "        \"\"\"\n",
    "        :type num: int\n",
    "        :rtype: bool\n",
    "        \"\"\"\n",
    "        if num<=1: return False\n",
    "        sum = 0\n",
    "        i = 1\n",
    "        while i*i< num:\n",
    "            if num%i==0:\n",
    "                sum += i\n",
    "                if i!=1:\n",
    "                    sum += (num//i)\n",
    "            i+=1\n",
    "        if i*i==num: sum += i\n",
    "        if sum == num: return True\n",
    "        return False\n",
    "            \n",
    "                \n",
    "        \n",
    "            "
   ]
  },
  {
   "cell_type": "markdown",
   "metadata": {},
   "source": [
    "# 509. Fibonacci Number"
   ]
  },
  {
   "cell_type": "raw",
   "metadata": {},
   "source": [
    "The Fibonacci numbers, commonly denoted F(n) form a sequence, called the Fibonacci sequence, such that each number is the sum of the two preceding ones, starting from 0 and 1. That is,\n",
    "\n",
    "F(0) = 0,   F(1) = 1\n",
    "F(N) = F(N - 1) + F(N - 2), for N > 1.\n",
    "Given N, calculate F(N).\n",
    "\n",
    " \n",
    "\n",
    "Example 1:\n",
    "\n",
    "Input: 2\n",
    "Output: 1\n",
    "Explanation: F(2) = F(1) + F(0) = 1 + 0 = 1.\n",
    "Example 2:\n",
    "\n",
    "Input: 3\n",
    "Output: 2\n",
    "Explanation: F(3) = F(2) + F(1) = 1 + 1 = 2.\n",
    "Example 3:\n",
    "\n",
    "Input: 4\n",
    "Output: 3\n",
    "Explanation: F(4) = F(3) + F(2) = 2 + 1 = 3.\n",
    " \n",
    "\n",
    "Note:\n",
    "\n",
    "0 ≤ N ≤ 30."
   ]
  },
  {
   "cell_type": "code",
   "execution_count": 34,
   "metadata": {},
   "outputs": [],
   "source": [
    "class Solution(object):\n",
    "    def fib(self, N):\n",
    "        \"\"\"\n",
    "        :type N: int\n",
    "        :rtype: int\n",
    "        \"\"\"\n",
    "        self.mem = [0] * (N+1)\n",
    "        self.helper(N)\n",
    "        return self.mem[N]\n",
    "    \n",
    "    def helper(self,n):\n",
    "        if self.mem[n] >0: return self.mem[n]\n",
    "        if n == 0: \n",
    "            self.mem[0] =0\n",
    "        elif n == 1:\n",
    "            self.mem[1] =1\n",
    "        else:\n",
    "            self.mem[n] = self.helper(n-1) + self.helper(n-2)\n",
    "        return self.mem[n]"
   ]
  },
  {
   "cell_type": "markdown",
   "metadata": {},
   "source": [
    "# 520. Detect Capital"
   ]
  },
  {
   "cell_type": "raw",
   "metadata": {},
   "source": [
    "Given a word, you need to judge whether the usage of capitals in it is right or not.\n",
    "\n",
    "We define the usage of capitals in a word to be right when one of the following cases holds:\n",
    "\n",
    "All letters in this word are capitals, like \"USA\".\n",
    "All letters in this word are not capitals, like \"leetcode\".\n",
    "Only the first letter in this word is capital if it has more than one letter, like \"Google\".\n",
    "Otherwise, we define that this word doesn't use capitals in a right way.\n",
    "Example 1:\n",
    "\n",
    "Input: \"USA\"\n",
    "Output: True\n",
    "Example 2:\n",
    "\n",
    "Input: \"FlaG\"\n",
    "Output: False"
   ]
  },
  {
   "cell_type": "code",
   "execution_count": 35,
   "metadata": {},
   "outputs": [],
   "source": [
    "class Solution(object):\n",
    "    def detectCapitalUse(self, word):\n",
    "        \"\"\"\n",
    "        :type word: str\n",
    "        :rtype: bool\n",
    "        \"\"\"\n",
    "        n = len(word)\n",
    "        if n ==1: return True\n",
    "        all_upper = all([w.isupper() for w in word])\n",
    "        all_lower = all([w.islower() for w in word])\n",
    "        one_upper = word[0].isupper() and all([w.islower() for w in word[1:]])\n",
    "        return all_upper or all_lower or one_upper"
   ]
  },
  {
   "cell_type": "markdown",
   "metadata": {},
   "source": [
    "# 521. Longest Uncommon Subsequence I"
   ]
  },
  {
   "cell_type": "raw",
   "metadata": {},
   "source": [
    "Given a group of two strings, you need to find the longest uncommon subsequence of this group of two strings. The longest uncommon subsequence is defined as the longest subsequence of one of these strings and this subsequence should not be any subsequence of the other strings.\n",
    "\n",
    "A subsequence is a sequence that can be derived from one sequence by deleting some characters without changing the order of the remaining elements. Trivially, any string is a subsequence of itself and an empty string is a subsequence of any string.\n",
    "\n",
    "The input will be two strings, and the output needs to be the length of the longest uncommon subsequence. If the longest uncommon subsequence doesn't exist, return -1.\n",
    "\n",
    "Example 1:\n",
    "\n",
    "Input: \"aba\", \"cdc\"\n",
    "Output: 3\n",
    "Explanation: The longest uncommon subsequence is \"aba\" (or \"cdc\"), \n",
    "because \"aba\" is a subsequence of \"aba\", \n",
    "but not a subsequence of any other strings in the group of two strings. \n",
    "Note:\n",
    "\n",
    "Both strings' lengths will not exceed 100.\n",
    "Only letters from a ~ z will appear in input strings."
   ]
  },
  {
   "cell_type": "code",
   "execution_count": null,
   "metadata": {},
   "outputs": [],
   "source": [
    "class Solution(object):\n",
    "    def findLUSlength(self, a, b):\n",
    "        \"\"\"\n",
    "        :type a: str\n",
    "        :type b: str\n",
    "        :rtype: int\n",
    "        \"\"\"\n",
    "        if a==b: return -1\n",
    "        m,n = len(a),len(b)\n",
    "        return max(m,n)"
   ]
  },
  {
   "cell_type": "markdown",
   "metadata": {},
   "source": [
    "# 530. Minimum Absolute Differe"
   ]
  },
  {
   "cell_type": "raw",
   "metadata": {},
   "source": [
    "Given a binary search tree with non-negative values, find the minimum absolute difference between values of any two nodes.\n",
    "\n",
    "Example:\n",
    "\n",
    "Input:\n",
    "\n",
    "   1\n",
    "    \\\n",
    "     3\n",
    "    /\n",
    "   2\n",
    "\n",
    "Output:\n",
    "1\n",
    "\n",
    "Explanation:\n",
    "The minimum absolute difference is 1, which is the difference between 2 and 1 (or between 2 and 3)."
   ]
  },
  {
   "cell_type": "code",
   "execution_count": null,
   "metadata": {},
   "outputs": [],
   "source": [
    "# Definition for a binary tree node.\n",
    "# class TreeNode(object):\n",
    "#     def __init__(self, x):\n",
    "#         self.val = x\n",
    "#         self.left = None\n",
    "#         self.right = None\n",
    "\n",
    "class Solution(object):\n",
    "    def getMinimumDifference(self, root):\n",
    "        \"\"\"\n",
    "        :type root: TreeNode\n",
    "        :rtype: int\n",
    "        \"\"\"\n",
    "        self.list = []\n",
    "        if not root: return None\n",
    "        self.inorder(root)\n",
    "        minDiff = 0x7fffffff\n",
    "        for i in range(1,len(self.list)):\n",
    "            if abs(self.list[i]-self.list[i-1]) < minDiff:\n",
    "                minDiff = abs(self.list[i]-self.list[i-1])\n",
    "        return minDiff\n",
    "        \n",
    "    def inorder(self,root):\n",
    "        if not root: return\n",
    "        self.inorder(root.left)\n",
    "        self.list.append(root.val)\n",
    "        self.inorder(root.right)\n",
    "        "
   ]
  },
  {
   "cell_type": "markdown",
   "metadata": {},
   "source": [
    "# 532. K-diff Pairs in an Array"
   ]
  },
  {
   "cell_type": "raw",
   "metadata": {},
   "source": [
    "Given an array of integers and an integer k, you need to find the number of unique k-diff pairs in the array. Here a k-diff pair is defined as an integer pair (i, j), where i and j are both numbers in the array and their absolute difference is k.\n",
    "\n",
    "Example 1:\n",
    "\n",
    "Input: [3, 1, 4, 1, 5], k = 2\n",
    "Output: 2\n",
    "Explanation: There are two 2-diff pairs in the array, (1, 3) and (3, 5).\n",
    "Although we have two 1s in the input, we should only return the number of unique pairs.\n",
    "Example 2:\n",
    "\n",
    "Input:[1, 2, 3, 4, 5], k = 1\n",
    "Output: 4\n",
    "Explanation: There are four 1-diff pairs in the array, (1, 2), (2, 3), (3, 4) and (4, 5).\n",
    "Example 3:\n",
    "\n",
    "Input: [1, 3, 1, 5, 4], k = 0\n",
    "Output: 1\n",
    "Explanation: There is one 0-diff pair in the array, (1, 1).\n",
    "Note:\n",
    "\n",
    "The pairs (i, j) and (j, i) count as the same pair.\n",
    "The length of the array won't exceed 10,000."
   ]
  },
  {
   "cell_type": "code",
   "execution_count": 36,
   "metadata": {},
   "outputs": [],
   "source": [
    "from collections import Counter\n",
    "class Solution(object):\n",
    "    def findPairs(self, nums, k):\n",
    "        \"\"\"\n",
    "        :type nums: List[int]\n",
    "        :type k: int\n",
    "        :rtype: int\n",
    "        \"\"\"\n",
    "        if k<0: return 0\n",
    "        num_cnt = Counter(nums)\n",
    "        sum = 0\n",
    "        for key in num_cnt:\n",
    "            if key+k in num_cnt:\n",
    "                if k != 0: sum += 1\n",
    "                elif num_cnt[key]>1: sum += 1\n",
    "                    \n",
    "        return sum"
   ]
  },
  {
   "cell_type": "markdown",
   "metadata": {},
   "source": [
    "# 538. Convert BST to Greater Tree"
   ]
  },
  {
   "cell_type": "raw",
   "metadata": {},
   "source": [
    "Given a Binary Search Tree (BST), convert it to a Greater Tree such that every key of the original BST is changed to the original key plus sum of all keys greater than the original key in BST.\n",
    "\n",
    "Example:\n",
    "\n",
    "Input: The root of a Binary Search Tree like this:\n",
    "              5\n",
    "            /   \\\n",
    "           2     13\n",
    "\n",
    "Output: The root of a Greater Tree like this:\n",
    "             18\n",
    "            /   \\\n",
    "          20     13"
   ]
  },
  {
   "cell_type": "code",
   "execution_count": null,
   "metadata": {},
   "outputs": [],
   "source": [
    "# Definition for a binary tree node.\n",
    "# class TreeNode(object):\n",
    "#     def __init__(self, x):\n",
    "#         self.val = x\n",
    "#         self.left = None\n",
    "#         self.right = None\n",
    "\n",
    "class Solution(object):\n",
    "    def convertBST(self, root):\n",
    "        \"\"\"\n",
    "        :type root: TreeNode\n",
    "        :rtype: TreeNode\n",
    "        \"\"\"\n",
    "        self.total = 0\n",
    "        return self.traverse(root)\n",
    "    \n",
    "    def traverse(self, root):\n",
    "        if not root: return\n",
    "        self.traverse(root.right)\n",
    "        self.total += root.val\n",
    "        root.val = self.total\n",
    "        self.traverse(root.left)\n",
    "        return root\n",
    "        \n",
    "        \n",
    "        "
   ]
  },
  {
   "cell_type": "markdown",
   "metadata": {},
   "source": [
    "# 541. Reverse String II"
   ]
  },
  {
   "cell_type": "raw",
   "metadata": {},
   "source": [
    "Given a string and an integer k, you need to reverse the first k characters for every 2k characters counting from the start of the string. If there are less than k characters left, reverse all of them. If there are less than 2k but greater than or equal to k characters, then reverse the first k characters and left the other as original.\n",
    "Example:\n",
    "\n",
    "Input: s = \"abcdefg\", k = 2\n",
    "Output: \"bacdfeg\"\n",
    "Restrictions:\n",
    "The string consists of lower English letters only.\n",
    "Length of the given string and k will in the range [1, 10000]"
   ]
  },
  {
   "cell_type": "code",
   "execution_count": null,
   "metadata": {},
   "outputs": [],
   "source": [
    "class Solution(object):\n",
    "    def reverseStr(self, s, k):\n",
    "        \"\"\"\n",
    "        :type s: str\n",
    "        :type k: int\n",
    "        :rtype: str\n",
    "        \"\"\"\n",
    "        a = list(s)\n",
    "        for i in range(0, len(a), 2*k):\n",
    "            a[i:i+k] = reversed(a[i:i+k])\n",
    "        return \"\".join(a)"
   ]
  },
  {
   "cell_type": "markdown",
   "metadata": {},
   "source": [
    "# 543. Diameter of Binary Tree"
   ]
  },
  {
   "cell_type": "raw",
   "metadata": {},
   "source": [
    "Given a binary tree, you need to compute the length of the diameter of the tree. The diameter of a binary tree is the length of the longest path between any two nodes in a tree. This path may or may not pass through the root.\n",
    "\n",
    "Example:\n",
    "Given a binary tree \n",
    "\n",
    "          1\n",
    "         / \\\n",
    "        2   3\n",
    "       / \\     \n",
    "      4   5    \n",
    "Return 3, which is the length of the path [4,2,1,3] or [5,2,1,3].\n",
    "\n",
    "Note: The length of path between two nodes is represented by the number of edges between them."
   ]
  },
  {
   "cell_type": "code",
   "execution_count": null,
   "metadata": {},
   "outputs": [],
   "source": [
    "# Definition for a binary tree node.\n",
    "# class TreeNode(object):\n",
    "#     def __init__(self, x):\n",
    "#         self.val = x\n",
    "#         self.left = None\n",
    "#         self.right = None\n",
    "\n",
    "class Solution(object):\n",
    "    def diameterOfBinaryTree(self, root):\n",
    "        \"\"\"\n",
    "        :type root: TreeNode\n",
    "        :rtype: int\n",
    "        \"\"\"\n",
    "        self.r = 0\n",
    "        self.helper(root)\n",
    "        return self.r\n",
    "        \n",
    "    def helper(self,root):\n",
    "        if not root: return 0\n",
    "        left_depth = self.helper(root.left) +1\n",
    "        right_depth = self.helper(root.right) +1\n",
    "        self.r = max(self.r,left_depth+right_depth-2)\n",
    "        return max(left_depth,right_depth)"
   ]
  },
  {
   "cell_type": "markdown",
   "metadata": {},
   "source": [
    "# 551. Student Attendance Record I"
   ]
  },
  {
   "cell_type": "raw",
   "metadata": {},
   "source": [
    "You are given a string representing an attendance record for a student. The record only contains the following three characters:\n",
    "'A' : Absent.\n",
    "'L' : Late.\n",
    "'P' : Present.\n",
    "A student could be rewarded if his attendance record doesn't contain more than one 'A' (absent) or more than two continuous 'L' (late).\n",
    "\n",
    "You need to return whether the student could be rewarded according to his attendance record.\n",
    "\n",
    "Example 1:\n",
    "\n",
    "Input: \"PPALLP\"\n",
    "Output: True\n",
    "Example 2:\n",
    "\n",
    "Input: \"PPALLL\"\n",
    "Output: False"
   ]
  },
  {
   "cell_type": "code",
   "execution_count": 37,
   "metadata": {},
   "outputs": [],
   "source": [
    "from collections import Counter\n",
    "class Solution(object):\n",
    "    def checkRecord(self, s):\n",
    "        \"\"\"\n",
    "        :type s: str\n",
    "        :rtype: bool\n",
    "        \"\"\"\n",
    "        c = Counter(s)\n",
    "        if 'A' in c and c['A']>1: return False\n",
    "        if 'LLL' in s: return False\n",
    "        return True\n",
    "        "
   ]
  },
  {
   "cell_type": "code",
   "execution_count": null,
   "metadata": {},
   "outputs": [],
   "source": [
    "a = Solution()\n",
    "a.ch"
   ]
  }
 ],
 "metadata": {
  "kernelspec": {
   "display_name": "Python 3",
   "language": "python",
   "name": "python3"
  },
  "language_info": {
   "codemirror_mode": {
    "name": "ipython",
    "version": 3
   },
   "file_extension": ".py",
   "mimetype": "text/x-python",
   "name": "python",
   "nbconvert_exporter": "python",
   "pygments_lexer": "ipython3",
   "version": "3.6.5"
  },
  "toc": {
   "base_numbering": 1,
   "nav_menu": {},
   "number_sections": true,
   "sideBar": true,
   "skip_h1_title": false,
   "title_cell": "Table of Contents",
   "title_sidebar": "Contents",
   "toc_cell": false,
   "toc_position": {},
   "toc_section_display": true,
   "toc_window_display": false
  }
 },
 "nbformat": 4,
 "nbformat_minor": 2
}
