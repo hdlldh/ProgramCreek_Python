{
 "cells": [
  {
   "cell_type": "markdown",
   "metadata": {},
   "source": [
    "# 754. Reach a Number"
   ]
  },
  {
   "cell_type": "raw",
   "metadata": {},
   "source": [
    "You are standing at position 0 on an infinite number line. There is a goal at position target.\n",
    "\n",
    "On each move, you can either go left or right. During the n-th move (starting from 1), you take n steps.\n",
    "\n",
    "Return the minimum number of steps required to reach the destination.\n",
    "\n",
    "Example 1:\n",
    "\n",
    "Input: target = 3\n",
    "Output: 2\n",
    "Explanation:\n",
    "On the first move we step from 0 to 1.\n",
    "On the second step we step from 1 to 3.\n",
    "Example 2:\n",
    "\n",
    "Input: target = 2\n",
    "Output: 3\n",
    "Explanation:\n",
    "On the first move we step from 0 to 1.\n",
    "On the second move we step  from 1 to -1.\n",
    "On the third move we step from -1 to 2.\n",
    "Note:\n",
    "\n",
    "target will be a non-zero integer in the range [-10^9, 10^9]."
   ]
  },
  {
   "cell_type": "code",
   "execution_count": 5,
   "metadata": {},
   "outputs": [],
   "source": [
    "import math\n",
    "class Solution(object):\n",
    "    def reachNumber(self, target):\n",
    "        \"\"\"\n",
    "        :type target: int\n",
    "        :rtype: int\n",
    "        \"\"\"\n",
    "        target = abs(target)\n",
    "        k = int(math.ceil(math.sqrt(2*target+0.25)-0.5))\n",
    "        print(k)\n",
    "        s = k*(k+1)//2\n",
    "        if s == target: return k\n",
    "        if (s-target)%2 ==0: return k\n",
    "        if k%2==0: return k+1\n",
    "        return k+2"
   ]
  },
  {
   "cell_type": "markdown",
   "metadata": {},
   "source": [
    "# 762. Prime Number of Set Bits in Binary Representation"
   ]
  },
  {
   "cell_type": "raw",
   "metadata": {},
   "source": [
    "Given two integers L and R, find the count of numbers in the range [L, R] (inclusive) having a prime number of set bits in their binary representation.\n",
    "\n",
    "(Recall that the number of set bits an integer has is the number of 1s present when written in binary. For example, 21 written in binary is 10101 which has 3 set bits. Also, 1 is not a prime.)\n",
    "\n",
    "Example 1:\n",
    "\n",
    "Input: L = 6, R = 10\n",
    "Output: 4\n",
    "Explanation:\n",
    "6 -> 110 (2 set bits, 2 is prime)\n",
    "7 -> 111 (3 set bits, 3 is prime)\n",
    "9 -> 1001 (2 set bits , 2 is prime)\n",
    "10->1010 (2 set bits , 2 is prime)\n",
    "Example 2:\n",
    "\n",
    "Input: L = 10, R = 15\n",
    "Output: 5\n",
    "Explanation:\n",
    "10 -> 1010 (2 set bits, 2 is prime)\n",
    "11 -> 1011 (3 set bits, 3 is prime)\n",
    "12 -> 1100 (2 set bits, 2 is prime)\n",
    "13 -> 1101 (3 set bits, 3 is prime)\n",
    "14 -> 1110 (3 set bits, 3 is prime)\n",
    "15 -> 1111 (4 set bits, 4 is not prime)\n",
    "Note:\n",
    "\n",
    "L, R will be integers L <= R in the range [1, 10^6].\n",
    "R - L will be at most 10000."
   ]
  },
  {
   "cell_type": "code",
   "execution_count": 7,
   "metadata": {},
   "outputs": [],
   "source": [
    "class Solution(object):\n",
    "    def countPrimeSetBits(self, L, R):\n",
    "        \"\"\"\n",
    "        :type L: int\n",
    "        :type R: int\n",
    "        :rtype: int\n",
    "        \"\"\"\n",
    "        primes = {2,3,5,7,11,13,17,19}\n",
    "        total = 0\n",
    "        for n in range(L,R+1):\n",
    "            cnt = 0\n",
    "            while n:\n",
    "                if n& 1 !=0:\n",
    "                    cnt +=1\n",
    "                n = n>>1\n",
    "            if cnt in primes: total+=1\n",
    "        return total"
   ]
  },
  {
   "cell_type": "markdown",
   "metadata": {},
   "source": [
    "# 766. Toeplitz Matrix"
   ]
  },
  {
   "cell_type": "raw",
   "metadata": {},
   "source": [
    "A matrix is Toeplitz if every diagonal from top-left to bottom-right has the same element.\n",
    "\n",
    "Now given an M x N matrix, return True if and only if the matrix is Toeplitz.\n",
    " \n",
    "\n",
    "Example 1:\n",
    "\n",
    "Input:\n",
    "matrix = [\n",
    "  [1,2,3,4],\n",
    "  [5,1,2,3],\n",
    "  [9,5,1,2]\n",
    "]\n",
    "Output: True\n",
    "Explanation:\n",
    "In the above grid, the diagonals are:\n",
    "\"[9]\", \"[5, 5]\", \"[1, 1, 1]\", \"[2, 2, 2]\", \"[3, 3]\", \"[4]\".\n",
    "In each diagonal all elements are the same, so the answer is True.\n",
    "Example 2:\n",
    "\n",
    "Input:\n",
    "matrix = [\n",
    "  [1,2],\n",
    "  [2,2]\n",
    "]\n",
    "Output: False\n",
    "Explanation:\n",
    "The diagonal \"[1, 2]\" has different elements.\n",
    "\n",
    "Note:\n",
    "\n",
    "matrix will be a 2D array of integers.\n",
    "matrix will have a number of rows and columns in range [1, 20].\n",
    "matrix[i][j] will be integers in range [0, 99].\n",
    "\n",
    "Follow up:\n",
    "\n",
    "What if the matrix is stored on disk, and the memory is limited such that you can only load at most one row of the matrix into the memory at once?\n",
    "What if the matrix is so large that you can only load up a partial row into the memory at once?"
   ]
  },
  {
   "cell_type": "code",
   "execution_count": 8,
   "metadata": {},
   "outputs": [],
   "source": [
    "class Solution(object):\n",
    "    def isToeplitzMatrix(self, matrix):\n",
    "        \"\"\"\n",
    "        :type matrix: List[List[int]]\n",
    "        :rtype: bool\n",
    "        \"\"\"\n",
    "        for r, row in enumerate(matrix):\n",
    "            for c, val in enumerate(row):\n",
    "                if r>0 and c>0 and matrix[r][c]!=matrix[r-1][c-1]:\n",
    "                    return False\n",
    "        return True"
   ]
  },
  {
   "cell_type": "markdown",
   "metadata": {},
   "source": [
    "# 771. Jewels and Stones"
   ]
  },
  {
   "cell_type": "raw",
   "metadata": {},
   "source": [
    "You're given strings J representing the types of stones that are jewels, and S representing the stones you have.  Each character in S is a type of stone you have.  You want to know how many of the stones you have are also jewels.\n",
    "\n",
    "The letters in J are guaranteed distinct, and all characters in J and S are letters. Letters are case sensitive, so \"a\" is considered a different type of stone from \"A\".\n",
    "\n",
    "Example 1:\n",
    "\n",
    "Input: J = \"aA\", S = \"aAAbbbb\"\n",
    "Output: 3\n",
    "Example 2:\n",
    "\n",
    "Input: J = \"z\", S = \"ZZ\"\n",
    "Output: 0\n",
    "Note:\n",
    "\n",
    "S and J will consist of letters and have length at most 50.\n",
    "The characters in J are distinct."
   ]
  },
  {
   "cell_type": "code",
   "execution_count": 10,
   "metadata": {},
   "outputs": [],
   "source": [
    "class Solution(object):\n",
    "    def numJewelsInStones(self, J, S):\n",
    "        \"\"\"\n",
    "        :type J: str\n",
    "        :type S: str\n",
    "        :rtype: int\n",
    "        \"\"\"\n",
    "        hashset = set(J)\n",
    "        cnt =0\n",
    "        for c in S:\n",
    "            if c in hashset:\n",
    "                cnt+=1\n",
    "        return cnt"
   ]
  },
  {
   "cell_type": "markdown",
   "metadata": {},
   "source": [
    "# 779. K-th Symbol in Grammar"
   ]
  },
  {
   "cell_type": "raw",
   "metadata": {},
   "source": [
    "On the first row, we write a 0. Now in every subsequent row, we look at the previous row and replace each occurrence of 0 with 01, and each occurrence of 1 with 10.\n",
    "\n",
    "Given row N and index K, return the K-th indexed symbol in row N. (The values of K are 1-indexed.) (1 indexed).\n",
    "\n",
    "Examples:\n",
    "Input: N = 1, K = 1\n",
    "Output: 0\n",
    "\n",
    "Input: N = 2, K = 1\n",
    "Output: 0\n",
    "\n",
    "Input: N = 2, K = 2\n",
    "Output: 1\n",
    "\n",
    "Input: N = 4, K = 5\n",
    "Output: 1\n",
    "\n",
    "Explanation:\n",
    "row 1: 0\n",
    "row 2: 01\n",
    "row 3: 0110\n",
    "row 4: 01101001\n",
    "Note:\n",
    "\n",
    "N will be an integer in the range [1, 30].\n",
    "K will be an integer in the range [1, 2^(N-1)]."
   ]
  },
  {
   "cell_type": "code",
   "execution_count": 1,
   "metadata": {},
   "outputs": [],
   "source": [
    "class Solution(object):\n",
    "    def kthGrammar(self, N, K):\n",
    "        \"\"\"\n",
    "        :type N: int\n",
    "        :type K: int\n",
    "        :rtype: int\n",
    "        \"\"\"\n",
    "        if N==1: return 0\n",
    "        if K==1: return 0\n",
    "        if K==2: return 1\n",
    "        if K%2==1:\n",
    "            return self.kthGrammar(N-1,(K+1)//2)\n",
    "        else:\n",
    "            return 1-self.kthGrammar(N-1,K//2)"
   ]
  },
  {
   "cell_type": "markdown",
   "metadata": {},
   "source": [
    "# 783. Minimum Distance Between BST Nodes"
   ]
  },
  {
   "cell_type": "raw",
   "metadata": {},
   "source": [
    "Given a Binary Search Tree (BST) with the root node root, return the minimum difference between the values of any two different nodes in the tree.\n",
    "\n",
    "Example :\n",
    "\n",
    "Input: root = [4,2,6,1,3,null,null]\n",
    "Output: 1\n",
    "Explanation:\n",
    "Note that root is a TreeNode object, not an array.\n",
    "\n",
    "The given tree [4,2,6,1,3,null,null] is represented by the following diagram:\n",
    "\n",
    "          4\n",
    "        /   \\\n",
    "      2      6\n",
    "     / \\    \n",
    "    1   3  \n",
    "\n",
    "while the minimum difference in this tree is 1, it occurs between node 1 and node 2, also between node 3 and node 2.\n",
    "Note:\n",
    "\n",
    "The size of the BST will be between 2 and 100.\n",
    "The BST is always valid, each node's value is an integer, and each node's value is different."
   ]
  },
  {
   "cell_type": "code",
   "execution_count": 11,
   "metadata": {},
   "outputs": [],
   "source": [
    "# Definition for a binary tree node.\n",
    "# class TreeNode(object):\n",
    "#     def __init__(self, x):\n",
    "#         self.val = x\n",
    "#         self.left = None\n",
    "#         self.right = None\n",
    "\n",
    "import sys\n",
    "class Solution(object):\n",
    "    def minDiffInBST(self, root):\n",
    "        \"\"\"\n",
    "        :type root: TreeNode\n",
    "        :rtype: int\n",
    "        \"\"\"\n",
    "        self.ans = sys.maxsize\n",
    "        self.last = None\n",
    "        def dfs(root):\n",
    "            if not root: return\n",
    "            dfs(root.left)\n",
    "            if self.last is not None:\n",
    "                self.ans = min(self.ans,root.val-self.last)\n",
    "            self.last = root.val\n",
    "            dfs(root.right)\n",
    "        dfs(root)\n",
    "        return self.ans"
   ]
  },
  {
   "cell_type": "markdown",
   "metadata": {},
   "source": [
    "# 784. Letter Case Permutation"
   ]
  },
  {
   "cell_type": "raw",
   "metadata": {},
   "source": [
    "Given a string S, we can transform every letter individually to be lowercase or uppercase to create another string.  Return a list of all possible strings we could create.\n",
    "\n",
    "Examples:\n",
    "Input: S = \"a1b2\"\n",
    "Output: [\"a1b2\", \"a1B2\", \"A1b2\", \"A1B2\"]\n",
    "\n",
    "Input: S = \"3z4\"\n",
    "Output: [\"3z4\", \"3Z4\"]\n",
    "\n",
    "Input: S = \"12345\"\n",
    "Output: [\"12345\"]\n",
    "Note:\n",
    "\n",
    "S will be a string with length between 1 and 12.\n",
    "S will consist only of letters or digits."
   ]
  },
  {
   "cell_type": "code",
   "execution_count": null,
   "metadata": {},
   "outputs": [],
   "source": [
    "class Solution(object):\n",
    "    def letterCasePermutation(self, S):\n",
    "        \"\"\"\n",
    "        :type S: str\n",
    "        :rtype: List[str]\n",
    "        \"\"\"\n",
    "        n = len(S)\n",
    "        ans = [\"\"]\n",
    "        for i in range(n):\n",
    "            tmp = []\n",
    "            for s in ans:\n",
    "                if S[i].isalpha():\n",
    "                    tmp.append(s+S[i].lower())\n",
    "                    tmp.append(s+S[i].upper())\n",
    "                else:\n",
    "                    tmp.append(s+S[i])\n",
    "            ans = tmp\n",
    "        \n",
    "        return ans\n",
    "        "
   ]
  },
  {
   "cell_type": "markdown",
   "metadata": {},
   "source": [
    "# 788. Rotated Digits"
   ]
  },
  {
   "cell_type": "raw",
   "metadata": {},
   "source": [
    "X is a good number if after rotating each digit individually by 180 degrees, we get a valid number that is different from X.  Each digit must be rotated - we cannot choose to leave it alone.\n",
    "\n",
    "A number is valid if each digit remains a digit after rotation. 0, 1, and 8 rotate to themselves; 2 and 5 rotate to each other; 6 and 9 rotate to each other, and the rest of the numbers do not rotate to any other number and become invalid.\n",
    "\n",
    "Now given a positive number N, how many numbers X from 1 to N are good?\n",
    "\n",
    "Example:\n",
    "Input: 10\n",
    "Output: 4\n",
    "Explanation: \n",
    "There are four good numbers in the range [1, 10] : 2, 5, 6, 9.\n",
    "Note that 1 and 10 are not good numbers, since they remain unchanged after rotating."
   ]
  },
  {
   "cell_type": "code",
   "execution_count": null,
   "metadata": {},
   "outputs": [],
   "source": [
    "class Solution(object):\n",
    "    def rotatedDigits(self, N):\n",
    "        \"\"\"\n",
    "        :type N: int\n",
    "        :rtype: int\n",
    "        \"\"\"\n",
    "        n1 = [2,5,6,9]\n",
    "        n2 = [0,1,8]\n",
    "        cnt = 0\n",
    "        def isRotated(n):\n",
    "            hit = False\n",
    "            while n:\n",
    "                d = n%10\n",
    "                if d in n1:\n",
    "                    hit = True\n",
    "                elif d not in n2:\n",
    "                    return False\n",
    "                n = n//10\n",
    "            if hit: return True\n",
    "            return False\n",
    "        for n in range(N+1):\n",
    "            if isRotated(n): cnt +=1\n",
    "        return cnt"
   ]
  },
  {
   "cell_type": "markdown",
   "metadata": {},
   "source": [
    "# 796. Rotate String"
   ]
  },
  {
   "cell_type": "raw",
   "metadata": {},
   "source": [
    "We are given two strings, A and B.\n",
    "\n",
    "A shift on A consists of taking string A and moving the leftmost character to the rightmost position. For example, if A = 'abcde', then it will be 'bcdea' after one shift on A. Return True if and only if A can become B after some number of shifts on A.\n",
    "\n",
    "Example 1:\n",
    "Input: A = 'abcde', B = 'cdeab'\n",
    "Output: true\n",
    "\n",
    "Example 2:\n",
    "Input: A = 'abcde', B = 'abced'\n",
    "Output: false"
   ]
  },
  {
   "cell_type": "code",
   "execution_count": 16,
   "metadata": {},
   "outputs": [],
   "source": [
    "class Solution(object):\n",
    "    def rotateString(self, A, B):\n",
    "        \"\"\"\n",
    "        :type A: str\n",
    "        :type B: str\n",
    "        :rtype: bool\n",
    "        \"\"\"\n",
    "        hashset =set()\n",
    "        n,m = len(A),len(B)\n",
    "        if n!=m: return False\n",
    "        if n<=1: return A==B\n",
    "        for i in range(n-1):\n",
    "            hashset.add(A[i:i+2])\n",
    "        hashset.add(A[n-1]+A[0])\n",
    "        for i in range(n-1):\n",
    "            if B[i:i+2] not in hashset:\n",
    "                return False\n",
    "        if (B[n-1]+B[0]) not in hashset: return False\n",
    "        return True\n",
    "        "
   ]
  },
  {
   "cell_type": "code",
   "execution_count": 17,
   "metadata": {},
   "outputs": [
    {
     "data": {
      "text/plain": [
       "True"
      ]
     },
     "execution_count": 17,
     "metadata": {},
     "output_type": "execute_result"
    }
   ],
   "source": [
    "A=\"clrwmpkwru\"\n",
    "B=\"wmpkwruclr\"\n",
    "a=Solution()\n",
    "a.rotateString(A,B)"
   ]
  },
  {
   "cell_type": "code",
   "execution_count": null,
   "metadata": {},
   "outputs": [],
   "source": []
  }
 ],
 "metadata": {
  "kernelspec": {
   "display_name": "Python 3",
   "language": "python",
   "name": "python3"
  },
  "language_info": {
   "codemirror_mode": {
    "name": "ipython",
    "version": 3
   },
   "file_extension": ".py",
   "mimetype": "text/x-python",
   "name": "python",
   "nbconvert_exporter": "python",
   "pygments_lexer": "ipython3",
   "version": "3.6.5"
  },
  "toc": {
   "base_numbering": 1,
   "nav_menu": {},
   "number_sections": true,
   "sideBar": true,
   "skip_h1_title": false,
   "title_cell": "Table of Contents",
   "title_sidebar": "Contents",
   "toc_cell": false,
   "toc_position": {},
   "toc_section_display": true,
   "toc_window_display": false
  }
 },
 "nbformat": 4,
 "nbformat_minor": 2
}
