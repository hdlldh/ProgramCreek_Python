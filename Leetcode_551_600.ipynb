{
 "cells": [
  {
   "cell_type": "markdown",
   "metadata": {},
   "source": [
    "# 557. Reverse Words in a String III"
   ]
  },
  {
   "cell_type": "raw",
   "metadata": {},
   "source": [
    "Given a string, you need to reverse the order of characters in each word within a sentence while still preserving whitespace and initial word order.\n",
    "\n",
    "Example 1:\n",
    "\n",
    "Input: \"Let's take LeetCode contest\"\n",
    "Output: \"s'teL ekat edoCteeL tsetnoc\""
   ]
  },
  {
   "cell_type": "code",
   "execution_count": null,
   "metadata": {},
   "outputs": [],
   "source": [
    "class Solution(object):\n",
    "    def reverseWords(self, s):\n",
    "        \"\"\"\n",
    "        :type s: str\n",
    "        :rtype: str\n",
    "        \"\"\"\n",
    "        s1 = s[::-1].split(' ')\n",
    "        s1.reverse()\n",
    "        return ' '.join(s1)\n",
    "        \n",
    "        "
   ]
  },
  {
   "cell_type": "markdown",
   "metadata": {},
   "source": [
    "# 558. Quad Tree Intersection"
   ]
  },
  {
   "cell_type": "raw",
   "metadata": {},
   "source": [
    "A quadtree is a tree data in which each internal node has exactly four children: topLeft, topRight, bottomLeft and bottomRight. Quad trees are often used to partition a two-dimensional space by recursively subdividing it into four quadrants or regions.\n",
    "\n",
    "We want to store True/False information in our quad tree. The quad tree is used to represent a N * N boolean grid. For each node, it will be subdivided into four children nodes until the values in the region it represents are all the same. Each node has another two boolean attributes : isLeaf and val. isLeaf is true if and only if the node is a leaf node. The val attribute for a leaf node contains the value of the region it represents.\n",
    "\n",
    "For example, below are two quad trees A and B:\n",
    "\n",
    "A:\n",
    "+-------+-------+   T: true\n",
    "|       |       |   F: false\n",
    "|   T   |   T   |\n",
    "|       |       |\n",
    "+-------+-------+\n",
    "|       |       |\n",
    "|   F   |   F   |\n",
    "|       |       |\n",
    "+-------+-------+\n",
    "topLeft: T\n",
    "topRight: T\n",
    "bottomLeft: F\n",
    "bottomRight: F\n",
    "\n",
    "B:               \n",
    "+-------+---+---+\n",
    "|       | F | F |\n",
    "|   T   +---+---+\n",
    "|       | T | T |\n",
    "+-------+---+---+\n",
    "|       |       |\n",
    "|   T   |   F   |\n",
    "|       |       |\n",
    "+-------+-------+\n",
    "topLeft: T\n",
    "topRight:\n",
    "     topLeft: F\n",
    "     topRight: F\n",
    "     bottomLeft: T\n",
    "     bottomRight: T\n",
    "bottomLeft: T\n",
    "bottomRight: F\n",
    " \n",
    "\n",
    "Your task is to implement a function that will take two quadtrees and return a quadtree that represents the logical OR (or union) of the two trees.\n",
    "\n",
    "A:                 B:                 C (A or B):\n",
    "+-------+-------+  +-------+---+---+  +-------+-------+\n",
    "|       |       |  |       | F | F |  |       |       |\n",
    "|   T   |   T   |  |   T   +---+---+  |   T   |   T   |\n",
    "|       |       |  |       | T | T |  |       |       |\n",
    "+-------+-------+  +-------+---+---+  +-------+-------+\n",
    "|       |       |  |       |       |  |       |       |\n",
    "|   F   |   F   |  |   T   |   F   |  |   T   |   F   |\n",
    "|       |       |  |       |       |  |       |       |\n",
    "+-------+-------+  +-------+-------+  +-------+-------+\n",
    "Note:\n",
    "\n",
    "Both A and B represent grids of size N * N.\n",
    "N is guaranteed to be a power of 2.\n",
    "If you want to know more about the quad tree, you can refer to its wiki.\n",
    "The logic OR operation is defined as this: \"A or B\" is true if A is true, or if B is true, or if both A and B are true."
   ]
  },
  {
   "cell_type": "code",
   "execution_count": null,
   "metadata": {},
   "outputs": [],
   "source": [
    "\"\"\"\n",
    "# Definition for a QuadTree node.\n",
    "class Node(object):\n",
    "    def __init__(self, val, isLeaf, topLeft, topRight, bottomLeft, bottomRight):\n",
    "        self.val = val\n",
    "        self.isLeaf = isLeaf\n",
    "        self.topLeft = topLeft\n",
    "        self.topRight = topRight\n",
    "        self.bottomLeft = bottomLeft\n",
    "        self.bottomRight = bottomRight\n",
    "\"\"\"\n",
    "class Solution(object):\n",
    "    def intersect(self, quadTree1, quadTree2):\n",
    "        \"\"\"\n",
    "        :type quadTree1: Node\n",
    "        :type quadTree2: Node\n",
    "        :rtype: Node\n",
    "        \"\"\"\n",
    "        if quadTree1.isLeaf:\n",
    "            if quadTree1.val:\n",
    "                return quadTree1\n",
    "            else:\n",
    "                return quadTree2\n",
    "            \n",
    "        if quadTree2.isLeaf:\n",
    "            if quadTree2.val:\n",
    "                return quadTree2\n",
    "            else:\n",
    "                return quadTree1\n",
    "        \n",
    "        tl = self.intersect(quadTree1.topLeft,quadTree2.topLeft)\n",
    "        tr = self.intersect(quadTree1.topRight,quadTree2.topRight)\n",
    "        bl = self.intersect(quadTree1.bottomLeft,quadTree2.bottomLeft)\n",
    "        br = self.intersect(quadTree1.bottomRight,quadTree2.bottomRight)\n",
    "        \n",
    "        if all([node.isLeaf for node in [tl,tr,bl,br]]):\n",
    "                if tl.val==tr.val==bl.val==br.val:\n",
    "                    return tl\n",
    "        return Node(None,False,tl,tr,bl,br)\n",
    "                \n",
    "            \n",
    "        \n",
    "        "
   ]
  },
  {
   "cell_type": "markdown",
   "metadata": {},
   "source": [
    "# 559. Maximum Depth of N-ary Tree"
   ]
  },
  {
   "cell_type": "raw",
   "metadata": {},
   "source": [
    "Given a n-ary tree, find its maximum depth.\n",
    "\n",
    "The maximum depth is the number of nodes along the longest path from the root node down to the farthest leaf node.\n",
    "\n",
    "For example, given a 3-ary tree:\n",
    "\n",
    " \n",
    "\n",
    "\n",
    " \n",
    "\n",
    "We should return its max depth, which is 3."
   ]
  },
  {
   "cell_type": "code",
   "execution_count": null,
   "metadata": {},
   "outputs": [],
   "source": [
    "\"\"\"\n",
    "# Definition for a Node.\n",
    "class Node(object):\n",
    "    def __init__(self, val, children):\n",
    "        self.val = val\n",
    "        self.children = children\n",
    "\"\"\"\n",
    "class Solution(object):\n",
    "    def maxDepth(self, root):\n",
    "        \"\"\"\n",
    "        :type root: Node\n",
    "        :rtype: int\n",
    "        \"\"\"\n",
    "        if not root: return 0\n",
    "        if not root.children: return 1\n",
    "        return max([1+self.maxDepth(child) for child in root.children])"
   ]
  },
  {
   "cell_type": "markdown",
   "metadata": {},
   "source": [
    "# 561. Array Partition I"
   ]
  },
  {
   "cell_type": "raw",
   "metadata": {},
   "source": [
    "Given an array of 2n integers, your task is to group these integers into n pairs of integer, say (a1, b1), (a2, b2), ..., (an, bn) which makes sum of min(ai, bi) for all i from 1 to n as large as possible.\n",
    "\n",
    "Example 1:\n",
    "\n",
    "Input: [1,4,3,2]\n",
    "\n",
    "Output: 4\n",
    "Explanation: n is 2, and the maximum sum of pairs is 4 = min(1, 2) + min(3, 4).\n",
    "Note:\n",
    "\n",
    "n is a positive integer, which is in the range of [1, 10000].\n",
    "All the integers in the array will be in the range of [-10000, 10000]."
   ]
  },
  {
   "cell_type": "code",
   "execution_count": null,
   "metadata": {},
   "outputs": [],
   "source": [
    "class Solution(object):\n",
    "    def arrayPairSum(self, nums):\n",
    "        \"\"\"\n",
    "        :type nums: List[int]\n",
    "        :rtype: int\n",
    "        \"\"\"\n",
    "        nums.sort()\n",
    "        return sum(nums[0::2])"
   ]
  },
  {
   "cell_type": "markdown",
   "metadata": {},
   "source": [
    "# 563. Binary Tree Tilt"
   ]
  },
  {
   "cell_type": "raw",
   "metadata": {},
   "source": [
    "Given a binary tree, return the tilt of the whole tree.\n",
    "\n",
    "The tilt of a tree node is defined as the absolute difference between the sum of all left subtree node values and the sum of all right subtree node values. Null node has tilt 0.\n",
    "\n",
    "The tilt of the whole tree is defined as the sum of all nodes' tilt.\n",
    "\n",
    "Example:\n",
    "\n",
    "Input: \n",
    "         1\n",
    "       /   \\\n",
    "      2     3\n",
    "Output: 1\n",
    "Explanation: \n",
    "Tilt of node 2 : 0\n",
    "Tilt of node 3 : 0\n",
    "Tilt of node 1 : |2-3| = 1\n",
    "Tilt of binary tree : 0 + 0 + 1 = 1\n",
    "Note:\n",
    "\n",
    "The sum of node values in any subtree won't exceed the range of 32-bit integer.\n",
    "All the tilt values won't exceed the range of 32-bit integer."
   ]
  },
  {
   "cell_type": "code",
   "execution_count": null,
   "metadata": {},
   "outputs": [],
   "source": [
    "# Definition for a binary tree node.\n",
    "# class TreeNode(object):\n",
    "#     def __init__(self, x):\n",
    "#         self.val = x\n",
    "#         self.left = None\n",
    "#         self.right = None\n",
    "\n",
    "class Solution(object):\n",
    "    def findTilt(self, root):\n",
    "        \"\"\"\n",
    "        :type root: TreeNode\n",
    "        :rtype: int\n",
    "        \"\"\"\n",
    "        self.tilt = 0\n",
    "        self.helper(root)\n",
    "        return self.tilt\n",
    "    \n",
    "    def helper(self, root):\n",
    "        if not root: return 0\n",
    "        left = self.helper(root.left)\n",
    "        right = self.helper(root.right)\n",
    "        mytilt = abs(left-right)\n",
    "        self.tilt +=mytilt\n",
    "        return left+right+root.val"
   ]
  },
  {
   "cell_type": "markdown",
   "metadata": {},
   "source": [
    "# 566. Reshape the Matrix"
   ]
  },
  {
   "cell_type": "raw",
   "metadata": {},
   "source": [
    "In MATLAB, there is a very useful function called 'reshape', which can reshape a matrix into a new one with different size but keep its original data.\n",
    "\n",
    "You're given a matrix represented by a two-dimensional array, and two positive integers r and c representing the row number and column number of the wanted reshaped matrix, respectively.\n",
    "\n",
    "The reshaped matrix need to be filled with all the elements of the original matrix in the same row-traversing order as they were.\n",
    "\n",
    "If the 'reshape' operation with given parameters is possible and legal, output the new reshaped matrix; Otherwise, output the original matrix.\n",
    "\n",
    "Example 1:\n",
    "\n",
    "Input: \n",
    "nums = \n",
    "[[1,2],\n",
    " [3,4]]\n",
    "r = 1, c = 4\n",
    "Output: \n",
    "[[1,2,3,4]]\n",
    "Explanation:\n",
    "The row-traversing of nums is [1,2,3,4]. The new reshaped matrix is a 1 * 4 matrix, fill it row by row by using the previous list.\n",
    "Example 2:\n",
    "\n",
    "Input: \n",
    "nums = \n",
    "[[1,2],\n",
    " [3,4]]\n",
    "r = 2, c = 4\n",
    "Output: \n",
    "[[1,2],\n",
    " [3,4]]\n",
    "Explanation:\n",
    "There is no way to reshape a 2 * 2 matrix to a 2 * 4 matrix. So output the original matrix.\n",
    "Note:\n",
    "\n",
    "The height and width of the given matrix is in range [1, 100].\n",
    "The given r and c are all positive."
   ]
  },
  {
   "cell_type": "code",
   "execution_count": null,
   "metadata": {},
   "outputs": [],
   "source": [
    "class Solution(object):\n",
    "    def matrixReshape(self, nums, r, c):\n",
    "        \"\"\"\n",
    "        :type nums: List[List[int]]\n",
    "        :type r: int\n",
    "        :type c: int\n",
    "        :rtype: List[List[int]]\n",
    "        \"\"\"\n",
    "        if not nums: return nums\n",
    "        n, m = len(nums), len(nums[0])\n",
    "        if m*n!=r*c: return nums\n",
    "        ans = [[0]*c for _ in range(r)]\n",
    "        for j in range(m):\n",
    "            for i in range(n):\n",
    "                ans[(i*m+j)//c][(i*m+j)%c]=nums[i][j]\n",
    "        return ans"
   ]
  },
  {
   "cell_type": "markdown",
   "metadata": {},
   "source": [
    "# 572. Subtree of Another Tree"
   ]
  },
  {
   "cell_type": "raw",
   "metadata": {},
   "source": [
    "Given two non-empty binary trees s and t, check whether tree t has exactly the same structure and node values with a subtree of s. A subtree of s is a tree consists of a node in s and all of this node's descendants. The tree s could also be considered as a subtree of itself.\n",
    "\n",
    "Example 1:\n",
    "Given tree s:\n",
    "\n",
    "     3\n",
    "    / \\\n",
    "   4   5\n",
    "  / \\\n",
    " 1   2\n",
    "Given tree t:\n",
    "   4 \n",
    "  / \\\n",
    " 1   2\n",
    "Return true, because t has the same structure and node values with a subtree of s.\n",
    "Example 2:\n",
    "Given tree s:\n",
    "\n",
    "     3\n",
    "    / \\\n",
    "   4   5\n",
    "  / \\\n",
    " 1   2\n",
    "    /\n",
    "   0\n",
    "Given tree t:\n",
    "   4\n",
    "  / \\\n",
    " 1   2\n",
    "Return false."
   ]
  },
  {
   "cell_type": "code",
   "execution_count": null,
   "metadata": {},
   "outputs": [],
   "source": [
    "# Definition for a binary tree node.\n",
    "# class TreeNode(object):\n",
    "#     def __init__(self, x):\n",
    "#         self.val = x\n",
    "#         self.left = None\n",
    "#         self.right = None\n",
    "\n",
    "class Solution(object):\n",
    "    def isSubtree(self, s, t):\n",
    "        \"\"\"\n",
    "        :type s: TreeNode\n",
    "        :type t: TreeNode\n",
    "        :rtype: bool\n",
    "        \"\"\"\n",
    "        if not s: return False\n",
    "        checker = self.helper(s,t)\n",
    "        if checker: return True\n",
    "        return self.isSubtree(s.left,t) or self.isSubtree(s.right,t)\n",
    "        \n",
    "        \n",
    "    \n",
    "    def helper(self,s,t):\n",
    "        if not s and not t: return True\n",
    "        if not s or not t: return False\n",
    "        if s.val != t.val: return False\n",
    "        return self.helper(s.left,t.left) and self.helper(s.right,t.right)\n",
    "        "
   ]
  },
  {
   "cell_type": "markdown",
   "metadata": {},
   "source": [
    "# 575. Distribute Candies"
   ]
  },
  {
   "cell_type": "raw",
   "metadata": {},
   "source": [
    "Given an integer array with even length, where different numbers in this array represent different kinds of candies. Each number means one candy of the corresponding kind. You need to distribute these candies equally in number to brother and sister. Return the maximum number of kinds of candies the sister could gain.\n",
    "Example 1:\n",
    "\n",
    "Input: candies = [1,1,2,2,3,3]\n",
    "Output: 3\n",
    "Explanation:\n",
    "There are three different kinds of candies (1, 2 and 3), and two candies for each kind.\n",
    "Optimal distribution: The sister has candies [1,2,3] and the brother has candies [1,2,3], too. \n",
    "The sister has three different kinds of candies. \n",
    "Example 2:\n",
    "\n",
    "Input: candies = [1,1,2,3]\n",
    "Output: 2\n",
    "Explanation: For example, the sister has candies [2,3] and the brother has candies [1,1]. \n",
    "The sister has two different kinds of candies, the brother has only one kind of candies. \n",
    "Note:\n",
    "\n",
    "The length of the given array is in range [2, 10,000], and will be even.\n",
    "The number in given array is in range [-100,000, 100,000]."
   ]
  },
  {
   "cell_type": "code",
   "execution_count": null,
   "metadata": {},
   "outputs": [],
   "source": [
    "class Solution(object):\n",
    "    def distributeCandies(self, candies):\n",
    "        \"\"\"\n",
    "        :type candies: List[int]\n",
    "        :rtype: int\n",
    "        \"\"\"\n",
    "        n = len(candies)\n",
    "        candy_set = set(candies)\n",
    "        return min(n//2,len(candy_set))\n",
    "        "
   ]
  },
  {
   "cell_type": "markdown",
   "metadata": {},
   "source": [
    "# 581. Shortest Unsorted Continuous Subarray"
   ]
  },
  {
   "cell_type": "raw",
   "metadata": {},
   "source": [
    "Given an integer array, you need to find one continuous subarray that if you only sort this subarray in ascending order, then the whole array will be sorted in ascending order, too.\n",
    "\n",
    "You need to find the shortest such subarray and output its length.\n",
    "\n",
    "Example 1:\n",
    "\n",
    "Input: [2, 6, 4, 8, 10, 9, 15]\n",
    "Output: 5\n",
    "Explanation: You need to sort [6, 4, 8, 10, 9] in ascending order to make the whole array sorted in ascending order.\n",
    "Note:\n",
    "\n",
    "Then length of the input array is in range [1, 10,000].\n",
    "The input array may contain duplicates, so ascending order here means <=."
   ]
  },
  {
   "cell_type": "code",
   "execution_count": 38,
   "metadata": {},
   "outputs": [],
   "source": [
    "import sys\n",
    "class Solution(object):\n",
    "    def findUnsortedSubarray(self, nums):\n",
    "        \"\"\"\n",
    "        :type nums: List[int]\n",
    "        :rtype: int\n",
    "        \"\"\"\n",
    "        n = len(nums)\n",
    "        if n==1: return 0\n",
    "        flag = False\n",
    "        minV = sys.maxsize\n",
    "        maxV = -sys.maxsize\n",
    "        for i in range(n-1):\n",
    "            if nums[i] > nums[i+1]:\n",
    "                flag = True\n",
    "            if flag:\n",
    "                minV = min(minV,nums[i+1])\n",
    "        flag = False\n",
    "        for j in range(n-1,0,-1):\n",
    "            if nums[j] < nums[j-1]:\n",
    "                flag = True\n",
    "                print(j)\n",
    "            if flag:\n",
    "                maxV = max(maxV,nums[j-1])\n",
    "        print(i,j)\n",
    "        print(minV,maxV)\n",
    "        for l in range(n):\n",
    "            if nums[l]> minV:break\n",
    "        for r in range(n-1,-1,-1):\n",
    "            if nums[r]<maxV: break\n",
    "                \n",
    "        if l<=r:\n",
    "            return r-l+1\n",
    "        else:\n",
    "            return 0\n",
    "                \n",
    "        \n",
    "                "
   ]
  },
  {
   "cell_type": "code",
   "execution_count": 39,
   "metadata": {},
   "outputs": [
    {
     "name": "stdout",
     "output_type": "stream",
     "text": [
      "1\n",
      "0 1\n",
      "1 2\n"
     ]
    },
    {
     "data": {
      "text/plain": [
       "2"
      ]
     },
     "execution_count": 39,
     "metadata": {},
     "output_type": "execute_result"
    }
   ],
   "source": [
    "a = Solution()\n",
    "a.findUnsortedSubarray([2,1])"
   ]
  },
  {
   "cell_type": "code",
   "execution_count": 29,
   "metadata": {},
   "outputs": [
    {
     "data": {
      "text/plain": [
       "9223372036854775807"
      ]
     },
     "execution_count": 29,
     "metadata": {},
     "output_type": "execute_result"
    }
   ],
   "source": [
    "import sys\n",
    "sys.maxsize"
   ]
  },
  {
   "cell_type": "markdown",
   "metadata": {},
   "source": [
    "# 589. N-ary Tree Preorder Traversal"
   ]
  },
  {
   "cell_type": "raw",
   "metadata": {},
   "source": [
    "Given an n-ary tree, return the preorder traversal of its nodes' values.\n",
    "\n",
    "For example, given a 3-ary tree:\n",
    "\n",
    " \n",
    "\n",
    "Return its preorder traversal as: [1,3,5,6,2,4].\n",
    "\n",
    " \n",
    "\n",
    "Note:\n",
    "\n",
    "Recursive solution is trivial, could you do it iteratively?"
   ]
  },
  {
   "cell_type": "code",
   "execution_count": 12,
   "metadata": {},
   "outputs": [],
   "source": [
    "\"\"\"\n",
    "# Definition for a Node.\n",
    "class Node(object):\n",
    "    def __init__(self, val, children):\n",
    "        self.val = val\n",
    "        self.children = children\n",
    "\"\"\"\n",
    "class Solution(object):\n",
    "    def preorder(self, root):\n",
    "        \"\"\"\n",
    "        :type root: Node\n",
    "        :rtype: List[int]\n",
    "        \"\"\"\n",
    "        self.values= []\n",
    "        self.helper(root)\n",
    "        return self.values\n",
    "    \n",
    "    def helper(self,root):\n",
    "        if not root: return\n",
    "        self.values.append(root.val)\n",
    "        if root.children:\n",
    "            for child in root.children:\n",
    "                self.helper(child)\n",
    "        "
   ]
  },
  {
   "cell_type": "code",
   "execution_count": 13,
   "metadata": {},
   "outputs": [],
   "source": [
    "class Solution(object):\n",
    "    def preorder(self, root):\n",
    "        \"\"\"\n",
    "        :type root: Node\n",
    "        :rtype: List[int]\n",
    "        \"\"\"\n",
    "        ans = []\n",
    "        if not root: return ans\n",
    "        stack = [root]\n",
    "        while stack:\n",
    "            node = stack.pop(0)\n",
    "            ans.append(node.val)\n",
    "            if node.children:\n",
    "                stack = node.children + stack\n",
    "        return ans        "
   ]
  },
  {
   "cell_type": "markdown",
   "metadata": {},
   "source": [
    "# 590. N-ary Tree Postorder Traversal"
   ]
  },
  {
   "cell_type": "raw",
   "metadata": {},
   "source": [
    "Given an n-ary tree, return the postorder traversal of its nodes' values.\n",
    "\n",
    "For example, given a 3-ary tree:\n",
    "\n",
    " \n",
    "\n",
    "\n",
    "\n",
    " \n",
    "\n",
    "Return its postorder traversal as: [5,6,3,2,4,1].\n",
    "\n",
    " \n",
    "Note:\n",
    "\n",
    "Recursive solution is trivial, could you do it iteratively?"
   ]
  },
  {
   "cell_type": "code",
   "execution_count": 14,
   "metadata": {},
   "outputs": [],
   "source": [
    "\"\"\"\n",
    "# Definition for a Node.\n",
    "class Node(object):\n",
    "    def __init__(self, val, children):\n",
    "        self.val = val\n",
    "        self.children = children\n",
    "\"\"\"\n",
    "class Solution(object):\n",
    "    def postorder(self, root):\n",
    "        \"\"\"\n",
    "        :type root: Node\n",
    "        :rtype: List[int]\n",
    "        \"\"\"\n",
    "        self.values= []\n",
    "        self.helper(root)\n",
    "        return self.values\n",
    "    \n",
    "    def helper(self,root):\n",
    "        if not root: return\n",
    "        if root.children:\n",
    "            for child in root.children:\n",
    "                self.helper(child)\n",
    "        self.values.append(root.val)"
   ]
  },
  {
   "cell_type": "code",
   "execution_count": null,
   "metadata": {},
   "outputs": [],
   "source": [
    "class Solution(object):\n",
    "    def postorder(self, root):\n",
    "        \"\"\"\n",
    "        :type root: Node\n",
    "        :rtype: List[int]\n",
    "        \"\"\"\n",
    "        ans = []\n",
    "        if not root: return ans\n",
    "        stack = [root]\n",
    "        while stack:\n",
    "            node = stack.pop()\n",
    "            ans.append(node.val)\n",
    "            if node.children:\n",
    "                for child in node.children:\n",
    "                    stack.append(child)\n",
    "        ans.reverse()\n",
    "        return ans\n",
    "            "
   ]
  },
  {
   "cell_type": "markdown",
   "metadata": {},
   "source": [
    "# 594. Longest Harmonious Subsequence"
   ]
  },
  {
   "cell_type": "raw",
   "metadata": {},
   "source": [
    "We define a harmonious array is an array where the difference between its maximum value and its minimum value is exactly 1.\n",
    "\n",
    "Now, given an integer array, you need to find the length of its longest harmonious subsequence among all its possible subsequences.\n",
    "\n",
    "Example 1:\n",
    "\n",
    "Input: [1,3,2,2,5,2,3,7]\n",
    "Output: 5\n",
    "Explanation: The longest harmonious subsequence is [3,2,2,2,3]."
   ]
  },
  {
   "cell_type": "code",
   "execution_count": null,
   "metadata": {},
   "outputs": [],
   "source": [
    "from collections import Counter\n",
    "class Solution(object):\n",
    "    def findLHS(self, nums):\n",
    "        \"\"\"\n",
    "        :type nums: List[int]\n",
    "        :rtype: int\n",
    "        \"\"\"\n",
    "        cnt = Counter(nums)\n",
    "        maxLen = 0\n",
    "        for k in cnt:\n",
    "            if k+1 in cnt:\n",
    "                maxLen = max(maxLen,cnt[k]+cnt[k+1])\n",
    "        return maxLen\n",
    "        "
   ]
  },
  {
   "cell_type": "markdown",
   "metadata": {},
   "source": [
    "# 598. Range Addition II"
   ]
  },
  {
   "cell_type": "raw",
   "metadata": {},
   "source": [
    "Given an m * n matrix M initialized with all 0's and several update operations.\n",
    "\n",
    "Operations are represented by a 2D array, and each operation is represented by an array with two positive integers a and b, which means M[i][j] should be added by one for all 0 <= i < a and 0 <= j < b.\n",
    "\n",
    "You need to count and return the number of maximum integers in the matrix after performing all the operations.\n",
    "\n",
    "Example 1:\n",
    "\n",
    "Input: \n",
    "m = 3, n = 3\n",
    "operations = [[2,2],[3,3]]\n",
    "Output: 4\n",
    "Explanation: \n",
    "Initially, M = \n",
    "[[0, 0, 0],\n",
    " [0, 0, 0],\n",
    " [0, 0, 0]]\n",
    "\n",
    "After performing [2,2], M = \n",
    "[[1, 1, 0],\n",
    " [1, 1, 0],\n",
    " [0, 0, 0]]\n",
    "\n",
    "After performing [3,3], M = \n",
    "[[2, 2, 1],\n",
    " [2, 2, 1],\n",
    " [1, 1, 1]]\n",
    "\n",
    "So the maximum integer in M is 2, and there are four of it in M. So return 4.\n",
    "Note:\n",
    "\n",
    "The range of m and n is [1,40000].\n",
    "The range of a is [1,m], and the range of b is [1,n].\n",
    "The range of operations size won't exceed 10,000."
   ]
  },
  {
   "cell_type": "code",
   "execution_count": 15,
   "metadata": {},
   "outputs": [],
   "source": [
    "class Solution(object):\n",
    "    def maxCount(self, m, n, ops):\n",
    "        \"\"\"\n",
    "        :type m: int\n",
    "        :type n: int\n",
    "        :type ops: List[List[int]]\n",
    "        :rtype: int\n",
    "        \"\"\"\n",
    "        if not ops: return m*n\n",
    "        x = min([row[0] for row in ops])\n",
    "        y = min([row[1] for row in ops])\n",
    "        return x*y"
   ]
  },
  {
   "cell_type": "markdown",
   "metadata": {},
   "source": [
    "# 599. Minimum Index Sum of Two Lists"
   ]
  },
  {
   "cell_type": "raw",
   "metadata": {},
   "source": [
    "Suppose Andy and Doris want to choose a restaurant for dinner, and they both have a list of favorite restaurants represented by strings.\n",
    "\n",
    "You need to help them find out their common interest with the least list index sum. If there is a choice tie between answers, output all of them with no order requirement. You could assume there always exists an answer.\n",
    "\n",
    "Example 1:\n",
    "\n",
    "Input:\n",
    "[\"Shogun\", \"Tapioca Express\", \"Burger King\", \"KFC\"]\n",
    "[\"Piatti\", \"The Grill at Torrey Pines\", \"Hungry Hunter Steakhouse\", \"Shogun\"]\n",
    "Output: [\"Shogun\"]\n",
    "Explanation: The only restaurant they both like is \"Shogun\".\n",
    "Example 2:\n",
    "\n",
    "Input:\n",
    "[\"Shogun\", \"Tapioca Express\", \"Burger King\", \"KFC\"]\n",
    "[\"KFC\", \"Shogun\", \"Burger King\"]\n",
    "Output: [\"Shogun\"]\n",
    "Explanation: The restaurant they both like and have the least index sum is \"Shogun\" with index sum 1 (0+1).\n",
    "Note:\n",
    "\n",
    "The length of both lists will be in the range of [1, 1000].\n",
    "The length of strings in both lists will be in the range of [1, 30].\n",
    "The index is starting from 0 to the list length minus 1.\n",
    "No duplicates in both lists."
   ]
  },
  {
   "cell_type": "code",
   "execution_count": null,
   "metadata": {},
   "outputs": [],
   "source": [
    "class Solution(object):\n",
    "    def findRestaurant(self, list1, list2):\n",
    "        \"\"\"\n",
    "        :type list1: List[str]\n",
    "        :type list2: List[str]\n",
    "        :rtype: List[str]\n",
    "        \"\"\"\n",
    "        map1 = dict(zip(list1,range(len(list1))))\n",
    "        leastSum = 0x7fffffff\n",
    "        chosen = []\n",
    "        for k,v in zip(list2,range(len(list2))):\n",
    "            if k in map1 and map1[k]+v<leastSum:\n",
    "                leastSum = map1[k]+v\n",
    "                chosen = [k]\n",
    "            elif k in map1 and map1[k]+v==leastSum:\n",
    "                chosen.append(k)\n",
    "                \n",
    "        return chosen"
   ]
  }
 ],
 "metadata": {
  "kernelspec": {
   "display_name": "Python 3",
   "language": "python",
   "name": "python3"
  },
  "language_info": {
   "codemirror_mode": {
    "name": "ipython",
    "version": 3
   },
   "file_extension": ".py",
   "mimetype": "text/x-python",
   "name": "python",
   "nbconvert_exporter": "python",
   "pygments_lexer": "ipython3",
   "version": "3.6.5"
  },
  "toc": {
   "base_numbering": 1,
   "nav_menu": {},
   "number_sections": true,
   "sideBar": true,
   "skip_h1_title": false,
   "title_cell": "Table of Contents",
   "title_sidebar": "Contents",
   "toc_cell": false,
   "toc_position": {},
   "toc_section_display": true,
   "toc_window_display": false
  }
 },
 "nbformat": 4,
 "nbformat_minor": 2
}
