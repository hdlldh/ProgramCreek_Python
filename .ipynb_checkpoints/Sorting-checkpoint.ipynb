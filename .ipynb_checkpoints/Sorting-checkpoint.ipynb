{
 "cells": [
  {
   "cell_type": "code",
   "execution_count": 88,
   "metadata": {},
   "outputs": [],
   "source": [
    "import random\n",
    "class Sorting():\n",
    "    def quickSort(self, nums):\n",
    "        if not nums: return []\n",
    "        \n",
    "        def sort(nums, start, end):\n",
    "            if start>=end:return\n",
    "            index = random.randint(start,end)\n",
    "            pivot = nums[index]\n",
    "            left = start\n",
    "            right = end\n",
    "            \n",
    "            while left<=right:\n",
    "                while left<=right and nums[left]<pivot:\n",
    "                    left += 1\n",
    "                while left<=right and nums[right]>pivot:\n",
    "                    right -= 1\n",
    "                if left <= right:\n",
    "                    nums[left],nums[right] = nums[right],nums[left]\n",
    "                    left +=1\n",
    "                    right -=1\n",
    "            sort(nums,start,right)\n",
    "            sort(nums,left,end)\n",
    "            \n",
    "        n = len(nums)\n",
    "        sort(nums,0,n-1)\n",
    "        \n",
    "    def kthElement(self, nums, k, largest=True):\n",
    "        if not nums or k<1 or k>len(nums): return -1\n",
    "        \n",
    "        def partition(nums, k, start, end):\n",
    "            if start>=end: return nums[k]\n",
    "            #index = (start+end)//2\n",
    "            #pivot = nums[index]\n",
    "            index = random.randint(start,end)\n",
    "            pivot = nums[index]\n",
    "            left = start\n",
    "            right = end\n",
    "            \n",
    "            while left<=right:\n",
    "                while left<=right and nums[left]<pivot:\n",
    "                    left += 1\n",
    "                while left<=right and nums[right]>pivot:\n",
    "                    right -=1\n",
    "                if left<=right:\n",
    "                    nums[left],nums[right] = nums[right],nums[left]\n",
    "                    left += 1\n",
    "                    right -=1\n",
    "            if k<=right: return partition(nums,k, start, right)\n",
    "            if k>=left: return partition(nums,k, left, end)\n",
    "            return nums[k]\n",
    "        \n",
    "        n = len(nums)\n",
    "        if largest:\n",
    "            return partition(nums, n-k, 0, n-1) ## k-th largest number\n",
    "        else:\n",
    "            return partition(nums, k-1, 0, n-1) ## k-th smallest number\n",
    "        \n",
    "    def rainbowSort(self, nums, k):\n",
    "        if not nums: return []\n",
    "        \n",
    "        def sort(nums, start, end, colorFrom, colorTo):\n",
    "            if colorFrom == colorTo: return\n",
    "            if start>=end: return\n",
    "            left = start\n",
    "            right = end\n",
    "            colorMid = (colorFrom+colorTo)//2\n",
    "            while left<=right:\n",
    "                while left<=right and nums[left]<=colorMid:\n",
    "                    left += 1\n",
    "                while left<=right and nums[right]>colorMid:\n",
    "                    right -= 1\n",
    "                if left<=right:\n",
    "                    nums[left],nums[right] = nums[right],nums[left]\n",
    "                    left += 1\n",
    "                    right -=1\n",
    "            sort(nums,start, right, colorFrom, colorMid)\n",
    "            sort(nums, left, end, colorMid+1, colorTo)\n",
    "        \n",
    "        n = len(nums)\n",
    "        sort(nums,0,n-1, 1, k)\n",
    "        \n",
    "    def mergeSort(self, nums):\n",
    "        if not nums: return []\n",
    "        \n",
    "        def merge(nums, start, mid, end, tmp):\n",
    "            index = start\n",
    "            left = start\n",
    "            right = mid +1\n",
    "            while left<=mid and right<= end:\n",
    "                if nums[left] < nums[right]:\n",
    "                    tmp[index] = nums[left]\n",
    "                    index += 1\n",
    "                    left += 1\n",
    "                else:\n",
    "                    tmp[index] = nums[right]\n",
    "                    index += 1\n",
    "                    right +=1\n",
    "                    \n",
    "            if left<=mid:\n",
    "                tmp[index] = nums[left]\n",
    "                index += 1\n",
    "                left += 1\n",
    "            \n",
    "            if right<= end:\n",
    "                tmp[index] = nums[right]\n",
    "                index += 1\n",
    "                right +=1\n",
    "            \n",
    "            for index in range(start,end+1):\n",
    "                nums[index] = tmp[index]\n",
    "        \n",
    "        def sort(nums, start, end, tmp):\n",
    "            if start>=end: return\n",
    "            mid = (start+end)//2\n",
    "            sort(nums, start,mid, tmp)\n",
    "            sort(nums, mid+1,end, tmp)\n",
    "            merge(nums, start, mid, end, tmp)\n",
    "            \n",
    "        n = len(nums)\n",
    "        tmp = [0]*n\n",
    "        sort(nums, 0, n-1, tmp)"
   ]
  },
  {
   "cell_type": "code",
   "execution_count": 89,
   "metadata": {},
   "outputs": [
    {
     "data": {
      "text/plain": [
       "[1, 1, 4, 4, 6, 7, 8, 10, 21]"
      ]
     },
     "execution_count": 89,
     "metadata": {},
     "output_type": "execute_result"
    }
   ],
   "source": [
    "s = Sorting()\n",
    "nums = [1,4,6,7,1,4,8,10,21]\n",
    "s.mergeSort(nums)\n",
    "nums"
   ]
  },
  {
   "cell_type": "code",
   "execution_count": 90,
   "metadata": {},
   "outputs": [
    {
     "data": {
      "text/plain": [
       "21"
      ]
     },
     "execution_count": 90,
     "metadata": {},
     "output_type": "execute_result"
    }
   ],
   "source": [
    "s.kthElement(nums,9,False)"
   ]
  },
  {
   "cell_type": "code",
   "execution_count": 92,
   "metadata": {},
   "outputs": [
    {
     "data": {
      "text/plain": [
       "[1, 1, 1, 1, 1, 2, 2, 2, 2, 2, 2, 2, 3, 3, 3, 3, 3, 4, 4]"
      ]
     },
     "execution_count": 92,
     "metadata": {},
     "output_type": "execute_result"
    }
   ],
   "source": [
    "nums = [1,1,1,4,2,2,2,2,3,3,3,3,3,2,2,2,4,1,1]\n",
    "s.rainbowSort(nums,4)\n",
    "nums"
   ]
  },
  {
   "cell_type": "code",
   "execution_count": null,
   "metadata": {},
   "outputs": [],
   "source": []
  }
 ],
 "metadata": {
  "kernelspec": {
   "display_name": "Python 3",
   "language": "python",
   "name": "python3"
  },
  "language_info": {
   "codemirror_mode": {
    "name": "ipython",
    "version": 3
   },
   "file_extension": ".py",
   "mimetype": "text/x-python",
   "name": "python",
   "nbconvert_exporter": "python",
   "pygments_lexer": "ipython3",
   "version": "3.6.5"
  },
  "toc": {
   "base_numbering": 1,
   "nav_menu": {},
   "number_sections": true,
   "sideBar": true,
   "skip_h1_title": false,
   "title_cell": "Table of Contents",
   "title_sidebar": "Contents",
   "toc_cell": false,
   "toc_position": {},
   "toc_section_display": true,
   "toc_window_display": false
  }
 },
 "nbformat": 4,
 "nbformat_minor": 2
}
