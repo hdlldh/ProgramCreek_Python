{
 "cells": [
  {
   "cell_type": "code",
   "execution_count": 3,
   "metadata": {},
   "outputs": [],
   "source": [
    "class TreeNode():\n",
    "    def __init__(self,val,left=None,right=None):\n",
    "        self.val = val\n",
    "        self.left = left\n",
    "        self.right = right"
   ]
  },
  {
   "cell_type": "code",
   "execution_count": 13,
   "metadata": {},
   "outputs": [],
   "source": [
    "class Traversal(object):\n",
    "    \n",
    "    def recursivePreorder(self,root):\n",
    "        def traverse(root, ans):\n",
    "            if not root: return\n",
    "            ans.append(root.val)\n",
    "            traverse(root.left, ans)\n",
    "            traverse(root.right, ans)\n",
    "            \n",
    "        ans = []   \n",
    "        traverse(root, ans)\n",
    "        return ans\n",
    "    \n",
    "    def recursiveInorder(self,root):\n",
    "        def traverse(root, ans):\n",
    "            if not root: return\n",
    "            traverse(root.left, ans)\n",
    "            ans.append(root.val)\n",
    "            traverse(root.right, ans)\n",
    "            \n",
    "        ans = []   \n",
    "        traverse(root, ans)\n",
    "        return ans\n",
    "        \n",
    "    def recursivePostorder(self,root):\n",
    "        def traverse(root, ans):\n",
    "            if not root: return\n",
    "            traverse(root.left, ans)\n",
    "            traverse(root.right, ans)\n",
    "            ans.append(root.val)\n",
    "            \n",
    "        ans = []   \n",
    "        traverse(root, ans)\n",
    "        return ans\n",
    "        \n",
    "    def iterativePreorder(self,root):\n",
    "        ans = []\n",
    "        if not root: return ans\n",
    "        stack = [root]\n",
    "        while stack:\n",
    "            root = stack.pop()\n",
    "            ans.append(root.val)\n",
    "            if root.right: stack.append(root.right)\n",
    "            if root.left: stack.append(root.left)\n",
    "        return ans\n",
    "    \n",
    "    def iterativeInorder(self,root):\n",
    "        ans = []\n",
    "        if not root: return ans\n",
    "        stack = []\n",
    "        while root or stack:\n",
    "            while root:\n",
    "                stack.append(root)\n",
    "                root = root.left\n",
    "            root = stack.pop()\n",
    "            ans.append(root.val)\n",
    "            root = root.right\n",
    "        return ans\n",
    "    \n",
    "    def iterativePostorder(self,root):\n",
    "        ans = []\n",
    "        if not root: return ans\n",
    "        stack = [root]\n",
    "        while stack:\n",
    "            root = stack.pop()\n",
    "            ans.insert(0,root.val)\n",
    "            if root.left: stack.append(root.left)\n",
    "            if root.right: stack.append(root.right)\n",
    "        return ans"
   ]
  },
  {
   "cell_type": "code",
   "execution_count": 14,
   "metadata": {},
   "outputs": [],
   "source": [
    "a = TreeNode(3)\n",
    "b = TreeNode(5)\n",
    "c = TreeNode(6)\n",
    "d = TreeNode(8)\n",
    "e = TreeNode(4,a,b)\n",
    "f = TreeNode(7,c,d)\n",
    "root = TreeNode(11,e,f)"
   ]
  },
  {
   "cell_type": "code",
   "execution_count": 15,
   "metadata": {},
   "outputs": [
    {
     "data": {
      "text/plain": [
       "[11, 4, 3, 5, 7, 6, 8]"
      ]
     },
     "execution_count": 15,
     "metadata": {},
     "output_type": "execute_result"
    }
   ],
   "source": [
    "t = Traversal()\n",
    "t.recursivePreorder(root)"
   ]
  },
  {
   "cell_type": "code",
   "execution_count": 16,
   "metadata": {},
   "outputs": [
    {
     "data": {
      "text/plain": [
       "[3, 4, 5, 11, 6, 7, 8]"
      ]
     },
     "execution_count": 16,
     "metadata": {},
     "output_type": "execute_result"
    }
   ],
   "source": [
    "t.recursiveInorder(root)"
   ]
  },
  {
   "cell_type": "code",
   "execution_count": 17,
   "metadata": {},
   "outputs": [
    {
     "data": {
      "text/plain": [
       "[3, 5, 4, 6, 8, 7, 11]"
      ]
     },
     "execution_count": 17,
     "metadata": {},
     "output_type": "execute_result"
    }
   ],
   "source": [
    "t.recursivePostorder(root)"
   ]
  },
  {
   "cell_type": "code",
   "execution_count": 18,
   "metadata": {},
   "outputs": [
    {
     "data": {
      "text/plain": [
       "[11, 4, 3, 5, 7, 6, 8]"
      ]
     },
     "execution_count": 18,
     "metadata": {},
     "output_type": "execute_result"
    }
   ],
   "source": [
    "t.iterativePreorder(root)"
   ]
  },
  {
   "cell_type": "code",
   "execution_count": 19,
   "metadata": {},
   "outputs": [
    {
     "data": {
      "text/plain": [
       "[3, 5, 4, 6, 8, 7, 11]"
      ]
     },
     "execution_count": 19,
     "metadata": {},
     "output_type": "execute_result"
    }
   ],
   "source": [
    "t.iterativePostorder(root)"
   ]
  },
  {
   "cell_type": "code",
   "execution_count": 20,
   "metadata": {},
   "outputs": [
    {
     "data": {
      "text/plain": [
       "[3, 4, 5, 11, 6, 7, 8]"
      ]
     },
     "execution_count": 20,
     "metadata": {},
     "output_type": "execute_result"
    }
   ],
   "source": [
    "t.iterativeInorder(root)"
   ]
  },
  {
   "cell_type": "code",
   "execution_count": null,
   "metadata": {},
   "outputs": [],
   "source": []
  }
 ],
 "metadata": {
  "kernelspec": {
   "display_name": "Python 3",
   "language": "python",
   "name": "python3"
  },
  "language_info": {
   "codemirror_mode": {
    "name": "ipython",
    "version": 3
   },
   "file_extension": ".py",
   "mimetype": "text/x-python",
   "name": "python",
   "nbconvert_exporter": "python",
   "pygments_lexer": "ipython3",
   "version": "3.6.5"
  },
  "toc": {
   "base_numbering": 1,
   "nav_menu": {},
   "number_sections": true,
   "sideBar": true,
   "skip_h1_title": false,
   "title_cell": "Table of Contents",
   "title_sidebar": "Contents",
   "toc_cell": false,
   "toc_position": {},
   "toc_section_display": true,
   "toc_window_display": false
  }
 },
 "nbformat": 4,
 "nbformat_minor": 2
}
