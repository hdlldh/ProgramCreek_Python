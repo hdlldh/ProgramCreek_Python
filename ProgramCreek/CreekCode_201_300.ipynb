{
 "cells": [
  {
   "cell_type": "markdown",
   "metadata": {},
   "source": [
    "# 307. Range Sum Query - Mutable"
   ]
  },
  {
   "cell_type": "code",
   "execution_count": 1,
   "metadata": {},
   "outputs": [],
   "source": [
    "class NumArray(object):\n",
    "\n",
    "    def __init__(self, nums):\n",
    "        \"\"\"\n",
    "        :type nums: List[int]\n",
    "        \"\"\"\n",
    "        n = len(nums)\n",
    "        self.data = [0]*(2*n)\n",
    "        self.size = n\n",
    "        for i in range(n):\n",
    "            self.data[n+i] = nums[i]\n",
    "            \n",
    "        for i in range(n-1,0,-1):\n",
    "            self.data[i] = self.data[2*i] + self.data[2*i+1]\n",
    "\n",
    "    def update(self, i, val):\n",
    "        \"\"\"\n",
    "        :type i: int\n",
    "        :type val: int\n",
    "        :rtype: None\n",
    "        \"\"\"\n",
    "        n = self.size\n",
    "        i += n\n",
    "        self.data[i] = val\n",
    "        while i//2 >0:\n",
    "            left = right = i\n",
    "            if i%2==0:\n",
    "                right = i+1\n",
    "            else:\n",
    "                left = i-1\n",
    "            self.data[i//2] = self.data[left] + self.data[right]\n",
    "            i = i//2\n",
    "        \n",
    "\n",
    "    def sumRange(self, i, j):\n",
    "        \"\"\"\n",
    "        :type i: int\n",
    "        :type j: int\n",
    "        :rtype: int\n",
    "        \"\"\"\n",
    "        ans = 0\n",
    "        i = i + self.size\n",
    "        j = j + self.size\n",
    "        while i<=j:\n",
    "            if i%2 == 1:\n",
    "                ans += self.data[i]\n",
    "                i += 1\n",
    "            if j%2 ==0:\n",
    "                ans += self.data[j]\n",
    "                j -= 1\n",
    "            i = i//2\n",
    "            j = j//2\n",
    "        return ans"
   ]
  },
  {
   "cell_type": "markdown",
   "metadata": {},
   "source": [
    "# 218. The Skyline Problem"
   ]
  },
  {
   "cell_type": "code",
   "execution_count": 62,
   "metadata": {},
   "outputs": [],
   "source": [
    "class Edge(object):\n",
    "    def __init__(self, x, h, t):\n",
    "        self.x = x\n",
    "        self.h = h\n",
    "        self.t = t\n",
    "        \n",
    "    def __lt__(self, other):\n",
    "        if self.x != other.x:\n",
    "            return self.x < other.x\n",
    "        if self.t == 's' and other.t=='s':\n",
    "            return self.h > other.h\n",
    "        if self.t == 'e' and other.t == 'e':\n",
    "            return self.h < other.h\n",
    "        if self.t == 's' and other.t =='e':\n",
    "            return True\n",
    "        if self.t == 'e'  and other.t=='s':\n",
    "            return False\n",
    "    \n",
    "    \n",
    "class Solution(object):\n",
    "    def getSkyline(self, buildings):\n",
    "        \"\"\"\n",
    "        :type buildings: List[List[int]]\n",
    "        :rtype: List[List[int]]\n",
    "        \"\"\"\n",
    "        n = len(buildings)\n",
    "        events = [Edge(b[0],b[2],'s') for b in buildings]+[Edge(b[1],b[2],'e') for b in buildings]\n",
    "        events = sorted(events)\n",
    "        for event in events:\n",
    "            print(event.x,event.h,event.t)\n",
    "        \n",
    "        ans = []\n",
    "        maxHeap = []\n",
    "        for event in events:\n",
    "            pre_height = -maxHeap[0] if maxHeap else 0\n",
    "            if event.t == 's':\n",
    "                heapq.heappush(maxHeap, -event.h)\n",
    "            else:\n",
    "                for i,node in enumerate(maxHeap):\n",
    "                    if node.\n",
    "                heapq.heappop(maxHeap)\n",
    "            cur_height = -maxHeap[0] if maxHeap else 0\n",
    "            \n",
    "            if event.t == 's' and event.h> pre_height:\n",
    "                ans.append([event.x,event.h])\n",
    "            elif event.t == 'e' and event.h > cur_height:\n",
    "                ans.append([event.x,cur_height])\n",
    "        return ans"
   ]
  },
  {
   "cell_type": "code",
   "execution_count": 63,
   "metadata": {},
   "outputs": [
    {
     "name": "stdout",
     "output_type": "stream",
     "text": [
      "1 3 s\n",
      "1 2 s\n",
      "1 1 s\n",
      "2 1 e\n",
      "2 2 e\n",
      "2 3 e\n"
     ]
    },
    {
     "data": {
      "text/plain": [
       "[[1, 3], [2, 1], [2, 0]]"
      ]
     },
     "execution_count": 63,
     "metadata": {},
     "output_type": "execute_result"
    }
   ],
   "source": [
    "a = Solution()\n",
    "a.getSkyline([[1,2,1],[1,2,2],[1,2,3]])"
   ]
  },
  {
   "cell_type": "markdown",
   "metadata": {},
   "source": [
    "# 225. Implement Stack using Queues"
   ]
  },
  {
   "cell_type": "code",
   "execution_count": 13,
   "metadata": {},
   "outputs": [],
   "source": [
    "class MyStack(object):\n",
    "\n",
    "    def __init__(self):\n",
    "        \"\"\"\n",
    "        Initialize your data structure here.\n",
    "        \"\"\"\n",
    "        self.data = collections.deque()\n",
    "\n",
    "    def push(self, x):\n",
    "        \"\"\"\n",
    "        Push element x onto stack.\n",
    "        :type x: int\n",
    "        :rtype: void\n",
    "        \"\"\"\n",
    "        self.data.append(x)\n",
    "        \n",
    "\n",
    "    def pop(self):\n",
    "        \"\"\"\n",
    "        Removes the element on top of the stack and returns that element.\n",
    "        :rtype: int\n",
    "        \"\"\"\n",
    "        return self.data.pop()\n",
    "        \n",
    "\n",
    "    def top(self):\n",
    "        \"\"\"\n",
    "        Get the top element.\n",
    "        :rtype: int\n",
    "        \"\"\"\n",
    "        return self.data[-1]\n",
    "        \n",
    "\n",
    "    def empty(self):\n",
    "        \"\"\"\n",
    "        Returns whether the stack is empty.\n",
    "        :rtype: bool\n",
    "        \"\"\"\n",
    "        return len(self.dat)"
   ]
  },
  {
   "cell_type": "markdown",
   "metadata": {},
   "source": [
    "# 232. Implement Queue using Stacks"
   ]
  },
  {
   "cell_type": "code",
   "execution_count": 14,
   "metadata": {},
   "outputs": [],
   "source": [
    "class MyQueue(object):\n",
    "\n",
    "    def __init__(self):\n",
    "        \"\"\"\n",
    "        Initialize your data structure here.\n",
    "        \"\"\"\n",
    "        self.data = collections.deque()\n",
    "        \n",
    "\n",
    "    def push(self, x):\n",
    "        \"\"\"\n",
    "        Push element x to the back of queue.\n",
    "        :type x: int\n",
    "        :rtype: void\n",
    "        \"\"\"\n",
    "        self.data.append(x)\n",
    "        \n",
    "\n",
    "    def pop(self):\n",
    "        \"\"\"\n",
    "        Removes the element from in front of queue and returns that element.\n",
    "        :rtype: int\n",
    "        \"\"\"\n",
    "        \n",
    "        return self.data.popleft()\n",
    "        \n",
    "\n",
    "    def peek(self):\n",
    "        \"\"\"\n",
    "        Get the front element.\n",
    "        :rtype: int\n",
    "        \"\"\"\n",
    "        return self.data[0]\n",
    "\n",
    "    def empty(self):\n",
    "        \"\"\"\n",
    "        Returns whether the queue is empty.\n",
    "        :rtype: bool\n",
    "        \"\"\"\n",
    "        return len(self.data)==0"
   ]
  },
  {
   "cell_type": "markdown",
   "metadata": {},
   "source": [
    "# Implement Stack using Array"
   ]
  },
  {
   "cell_type": "code",
   "execution_count": 15,
   "metadata": {},
   "outputs": [],
   "source": [
    "class MyStack(object):\n",
    "\n",
    "    def __init__(self):\n",
    "        \"\"\"\n",
    "        Initialize your data structure here.\n",
    "        \"\"\"\n",
    "        self.data = []\n",
    "\n",
    "    def push(self, x):\n",
    "        \"\"\"\n",
    "        Push element x onto stack.\n",
    "        :type x: int\n",
    "        :rtype: void\n",
    "        \"\"\"\n",
    "        self.data.append(x)\n",
    "        \n",
    "\n",
    "    def pop(self):\n",
    "        \"\"\"\n",
    "        Removes the element on top of the stack and returns that element.\n",
    "        :rtype: int\n",
    "        \"\"\"\n",
    "        return self.data.pop()\n",
    "        \n",
    "\n",
    "    def top(self):\n",
    "        \"\"\"\n",
    "        Get the top element.\n",
    "        :rtype: int\n",
    "        \"\"\"\n",
    "        return self.data[-1]\n",
    "        \n",
    "\n",
    "    def empty(self):\n",
    "        \"\"\"\n",
    "        Returns whether the stack is empty.\n",
    "        :rtype: bool\n",
    "        \"\"\"\n",
    "        return len(self.dat)"
   ]
  },
  {
   "cell_type": "markdown",
   "metadata": {},
   "source": [
    "# Implement Queue using Array"
   ]
  },
  {
   "cell_type": "code",
   "execution_count": 16,
   "metadata": {},
   "outputs": [],
   "source": [
    "class MyQueue(object):\n",
    "\n",
    "    def __init__(self):\n",
    "        \"\"\"\n",
    "        Initialize your data structure here.\n",
    "        \"\"\"\n",
    "        self.data = []\n",
    "        \n",
    "\n",
    "    def push(self, x):\n",
    "        \"\"\"\n",
    "        Push element x to the back of queue.\n",
    "        :type x: int\n",
    "        :rtype: void\n",
    "        \"\"\"\n",
    "        self.data.append(x)\n",
    "        \n",
    "\n",
    "    def pop(self):\n",
    "        \"\"\"\n",
    "        Removes the element from in front of queue and returns that element.\n",
    "        :rtype: int\n",
    "        \"\"\"\n",
    "        \n",
    "        return self.data.pop(0)\n",
    "        \n",
    "\n",
    "    def peek(self):\n",
    "        \"\"\"\n",
    "        Get the front element.\n",
    "        :rtype: int\n",
    "        \"\"\"\n",
    "        return self.data[0]\n",
    "\n",
    "    def empty(self):\n",
    "        \"\"\"\n",
    "        Returns whether the queue is empty.\n",
    "        :rtype: bool\n",
    "        \"\"\"\n",
    "        return len(self.data)==0"
   ]
  },
  {
   "cell_type": "markdown",
   "metadata": {},
   "source": [
    "# 150. Evaluate Reverse Polish Notation"
   ]
  },
  {
   "cell_type": "code",
   "execution_count": 17,
   "metadata": {},
   "outputs": [],
   "source": [
    "class Solution(object):\n",
    "    def evalRPN(self, tokens):\n",
    "        \"\"\"\n",
    "        :type tokens: List[str]\n",
    "        :rtype: int\n",
    "        \"\"\"\n",
    "        stack = []\n",
    "        for t in tokens:\n",
    "            if t not in ['+','-','*','/']:\n",
    "                stack.append(int(t))\n",
    "            else:\n",
    "                p1 = stack.pop()\n",
    "                p2 = stack.pop()\n",
    "                if t=='+':\n",
    "                    p3 = p1+p2\n",
    "                elif t=='-':\n",
    "                    p3 = p2-p1\n",
    "                elif t== '*':\n",
    "                    p3 = p1*p2\n",
    "                else:\n",
    "                    if p1*p2 < 0 and p2 % p1 != 0:\n",
    "                        p3 = p2//p1+1\n",
    "                    else:\n",
    "                        p3 = p2//p1\n",
    "                stack.append(p3)\n",
    "                \n",
    "        return stack[0]"
   ]
  },
  {
   "cell_type": "markdown",
   "metadata": {},
   "source": [
    "# 20. Valid Parentheses"
   ]
  },
  {
   "cell_type": "code",
   "execution_count": 18,
   "metadata": {},
   "outputs": [],
   "source": [
    "class Solution(object):\n",
    "    def isValid(self, s):\n",
    "        \"\"\"\n",
    "        :type s: str\n",
    "        :rtype: bool\n",
    "        \"\"\"\n",
    "        if not s: return True\n",
    "        stack = []\n",
    "        hmap = {}\n",
    "        hmap[')'] = '('\n",
    "        hmap['}'] = '{'\n",
    "        hmap[']'] = '['\n",
    "        \n",
    "        left = hmap.values()\n",
    "        \n",
    "        for c in s:\n",
    "            if c in left:\n",
    "                stack.append(c)\n",
    "            else:\n",
    "                if stack and stack[-1] == hmap[c]:\n",
    "                    stack.pop()\n",
    "                else:\n",
    "                    return False\n",
    "        if stack: return False"
   ]
  },
  {
   "cell_type": "markdown",
   "metadata": {},
   "source": [
    "# 32. Longest Valid Parentheses"
   ]
  },
  {
   "cell_type": "code",
   "execution_count": 74,
   "metadata": {},
   "outputs": [],
   "source": [
    "class Solution(object):\n",
    "    def longestValidParentheses(self, s):\n",
    "        \"\"\"\n",
    "        :type s: str\n",
    "        :rtype: int\n",
    "        \"\"\"\n",
    "        stack  = [-1]\n",
    "        maxLen = 0\n",
    "        for i, c in enumerate(s):\n",
    "            if c == '(':\n",
    "                stack.append(i)\n",
    "            else:\n",
    "                stack.pop()\n",
    "                if stack:\n",
    "                    maxLen = max(maxLen,i-stack[-1])\n",
    "                else:\n",
    "                    stack.append(i)\n",
    "        return maxLen"
   ]
  },
  {
   "cell_type": "markdown",
   "metadata": {},
   "source": [
    "# 155. Min Stack"
   ]
  },
  {
   "cell_type": "code",
   "execution_count": 75,
   "metadata": {},
   "outputs": [],
   "source": [
    "class MinStack(object):\n",
    "\n",
    "    def __init__(self):\n",
    "        \"\"\"\n",
    "        initialize your data structure here.\n",
    "        \"\"\"\n",
    "        self.data = []\n",
    "        \n",
    "\n",
    "    def push(self, x):\n",
    "        \"\"\"\n",
    "        :type x: int\n",
    "        :rtype: void\n",
    "        \"\"\"\n",
    "        if not self.data: self.data.append((x,x))\n",
    "        else:\n",
    "            if x< self.data[-1][1]:\n",
    "                self.data.append((x,x))\n",
    "            else:\n",
    "                self.data.append((x,self.data[-1][1]))\n",
    "        \n",
    "\n",
    "    def pop(self):\n",
    "        \"\"\"\n",
    "        :rtype: void\n",
    "        \"\"\"\n",
    "        self.data.pop()\n",
    "        \n",
    "\n",
    "    def top(self):\n",
    "        \"\"\"\n",
    "        :rtype: int\n",
    "        \"\"\"\n",
    "        if not self.data: return None\n",
    "        return self.data[-1][0]\n",
    "\n"
   ]
  },
  {
   "cell_type": "markdown",
   "metadata": {},
   "source": [
    "# 769. Max Chunks To Make Sorted"
   ]
  },
  {
   "cell_type": "code",
   "execution_count": 78,
   "metadata": {},
   "outputs": [],
   "source": [
    "class Solution(object):\n",
    "    def maxChunksToSorted(self, arr):\n",
    "        \"\"\"\n",
    "        :type arr: List[int]\n",
    "        :rtype: int\n",
    "        \"\"\"\n",
    "        n = len(arr)\n",
    "        mx = 0\n",
    "        ans = 0\n",
    "        for i in range(n):\n",
    "            mx = max(mx, arr[i])\n",
    "            if mx== i:\n",
    "                ans+=1\n",
    "        return ans"
   ]
  },
  {
   "cell_type": "code",
   "execution_count": 77,
   "metadata": {},
   "outputs": [
    {
     "data": {
      "text/plain": [
       "5"
      ]
     },
     "execution_count": 77,
     "metadata": {},
     "output_type": "execute_result"
    }
   ],
   "source": [
    "a = Solution()\n",
    "a.maxChunksToSorted([0, 2, 1, 4, 3, 5, 7, 6])"
   ]
  },
  {
   "cell_type": "code",
   "execution_count": 73,
   "metadata": {},
   "outputs": [
    {
     "name": "stdout",
     "output_type": "stream",
     "text": [
      "[56, 24, 74, -23, 87, 91] [3, 2, 4, 1, 5, 6]\n",
      "[74, 24, 56, -23, 87, 91] [4, 2, 3, 1, 5, 6]\n",
      "[-23, 24, 56, 74, 87, 91] [1, 2, 3, 4, 5, 6]\n"
     ]
    }
   ],
   "source": [
    "class Solution(object):\n",
    "    def sort(self,A,B):\n",
    "        n = len(A)\n",
    "        p1 = 0\n",
    "        while p1 < n:\n",
    "            p2 = B[p1]-1\n",
    "            while p2!= p1:\n",
    "                A[p1], A[p2] = A[p2], A[p1]\n",
    "                B[p1], B[p2] = B[p2], B[p1]\n",
    "                p2 = B[p1] -1\n",
    "                print(A,B)\n",
    "            p1 += 1\n",
    "\n",
    "A = [24,56,74,-23,87,91]\n",
    "B = [2,3,4,1,5,6]\n",
    "s = Solution()\n",
    "s.sort(A,B)\n"
   ]
  },
  {
   "cell_type": "code",
   "execution_count": null,
   "metadata": {},
   "outputs": [],
   "source": []
  }
 ],
 "metadata": {
  "kernelspec": {
   "display_name": "Python 3",
   "language": "python",
   "name": "python3"
  },
  "language_info": {
   "codemirror_mode": {
    "name": "ipython",
    "version": 3
   },
   "file_extension": ".py",
   "mimetype": "text/x-python",
   "name": "python",
   "nbconvert_exporter": "python",
   "pygments_lexer": "ipython3",
   "version": "3.6.5"
  },
  "toc": {
   "base_numbering": 1,
   "nav_menu": {},
   "number_sections": true,
   "sideBar": true,
   "skip_h1_title": false,
   "title_cell": "Table of Contents",
   "title_sidebar": "Contents",
   "toc_cell": false,
   "toc_position": {},
   "toc_section_display": true,
   "toc_window_display": false
  }
 },
 "nbformat": 4,
 "nbformat_minor": 2
}
