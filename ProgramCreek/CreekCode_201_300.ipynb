{
 "cells": [
  {
   "cell_type": "markdown",
   "metadata": {},
   "source": [
    "# 307. Range Sum Query - Mutable"
   ]
  },
  {
   "cell_type": "code",
   "execution_count": 1,
   "metadata": {},
   "outputs": [],
   "source": [
    "class NumArray(object):\n",
    "\n",
    "    def __init__(self, nums):\n",
    "        \"\"\"\n",
    "        :type nums: List[int]\n",
    "        \"\"\"\n",
    "        n = len(nums)\n",
    "        self.data = [0]*(2*n)\n",
    "        self.size = n\n",
    "        for i in range(n):\n",
    "            self.data[n+i] = nums[i]\n",
    "            \n",
    "        for i in range(n-1,0,-1):\n",
    "            self.data[i] = self.data[2*i] + self.data[2*i+1]\n",
    "\n",
    "    def update(self, i, val):\n",
    "        \"\"\"\n",
    "        :type i: int\n",
    "        :type val: int\n",
    "        :rtype: None\n",
    "        \"\"\"\n",
    "        n = self.size\n",
    "        i += n\n",
    "        self.data[i] = val\n",
    "        while i//2 >0:\n",
    "            left = right = i\n",
    "            if i%2==0:\n",
    "                right = i+1\n",
    "            else:\n",
    "                left = i-1\n",
    "            self.data[i//2] = self.data[left] + self.data[right]\n",
    "            i = i//2\n",
    "        \n",
    "\n",
    "    def sumRange(self, i, j):\n",
    "        \"\"\"\n",
    "        :type i: int\n",
    "        :type j: int\n",
    "        :rtype: int\n",
    "        \"\"\"\n",
    "        ans = 0\n",
    "        i = i + self.size\n",
    "        j = j + self.size\n",
    "        while i<=j:\n",
    "            if i%2 == 1:\n",
    "                ans += self.data[i]\n",
    "                i += 1\n",
    "            if j%2 ==0:\n",
    "                ans += self.data[j]\n",
    "                j -= 1\n",
    "            i = i//2\n",
    "            j = j//2\n",
    "        return ans"
   ]
  },
  {
   "cell_type": "markdown",
   "metadata": {},
   "source": [
    "# 218. The Skyline Problem"
   ]
  },
  {
   "cell_type": "code",
   "execution_count": 62,
   "metadata": {},
   "outputs": [],
   "source": [
    "class Edge(object):\n",
    "    def __init__(self, x, h, t):\n",
    "        self.x = x\n",
    "        self.h = h\n",
    "        self.t = t\n",
    "        \n",
    "    def __lt__(self, other):\n",
    "        if self.x != other.x:\n",
    "            return self.x < other.x\n",
    "        if self.t == 's' and other.t=='s':\n",
    "            return self.h > other.h\n",
    "        if self.t == 'e' and other.t == 'e':\n",
    "            return self.h < other.h\n",
    "        if self.t == 's' and other.t =='e':\n",
    "            return True\n",
    "        if self.t == 'e'  and other.t=='s':\n",
    "            return False\n",
    "    \n",
    "    \n",
    "class Solution(object):\n",
    "    def getSkyline(self, buildings):\n",
    "        \"\"\"\n",
    "        :type buildings: List[List[int]]\n",
    "        :rtype: List[List[int]]\n",
    "        \"\"\"\n",
    "        n = len(buildings)\n",
    "        events = [Edge(b[0],b[2],'s') for b in buildings]+[Edge(b[1],b[2],'e') for b in buildings]\n",
    "        events = sorted(events)\n",
    "        for event in events:\n",
    "            print(event.x,event.h,event.t)\n",
    "        \n",
    "        ans = []\n",
    "        maxHeap = []\n",
    "        for event in events:\n",
    "            pre_height = -maxHeap[0] if maxHeap else 0\n",
    "            if event.t == 's':\n",
    "                heapq.heappush(maxHeap, -event.h)\n",
    "            else:\n",
    "                for i,node in enumerate(maxHeap):\n",
    "                    if node.\n",
    "                heapq.heappop(maxHeap)\n",
    "            cur_height = -maxHeap[0] if maxHeap else 0\n",
    "            \n",
    "            if event.t == 's' and event.h> pre_height:\n",
    "                ans.append([event.x,event.h])\n",
    "            elif event.t == 'e' and event.h > cur_height:\n",
    "                ans.append([event.x,cur_height])\n",
    "        return ans"
   ]
  },
  {
   "cell_type": "code",
   "execution_count": 63,
   "metadata": {},
   "outputs": [
    {
     "name": "stdout",
     "output_type": "stream",
     "text": [
      "1 3 s\n",
      "1 2 s\n",
      "1 1 s\n",
      "2 1 e\n",
      "2 2 e\n",
      "2 3 e\n"
     ]
    },
    {
     "data": {
      "text/plain": [
       "[[1, 3], [2, 1], [2, 0]]"
      ]
     },
     "execution_count": 63,
     "metadata": {},
     "output_type": "execute_result"
    }
   ],
   "source": [
    "a = Solution()\n",
    "a.getSkyline([[1,2,1],[1,2,2],[1,2,3]])"
   ]
  },
  {
   "cell_type": "markdown",
   "metadata": {},
   "source": [
    "# 225. Implement Stack using Queues"
   ]
  },
  {
   "cell_type": "code",
   "execution_count": 13,
   "metadata": {},
   "outputs": [],
   "source": [
    "class MyStack(object):\n",
    "\n",
    "    def __init__(self):\n",
    "        \"\"\"\n",
    "        Initialize your data structure here.\n",
    "        \"\"\"\n",
    "        self.data = collections.deque()\n",
    "\n",
    "    def push(self, x):\n",
    "        \"\"\"\n",
    "        Push element x onto stack.\n",
    "        :type x: int\n",
    "        :rtype: void\n",
    "        \"\"\"\n",
    "        self.data.append(x)\n",
    "        \n",
    "\n",
    "    def pop(self):\n",
    "        \"\"\"\n",
    "        Removes the element on top of the stack and returns that element.\n",
    "        :rtype: int\n",
    "        \"\"\"\n",
    "        return self.data.pop()\n",
    "        \n",
    "\n",
    "    def top(self):\n",
    "        \"\"\"\n",
    "        Get the top element.\n",
    "        :rtype: int\n",
    "        \"\"\"\n",
    "        return self.data[-1]\n",
    "        \n",
    "\n",
    "    def empty(self):\n",
    "        \"\"\"\n",
    "        Returns whether the stack is empty.\n",
    "        :rtype: bool\n",
    "        \"\"\"\n",
    "        return len(self.dat)"
   ]
  },
  {
   "cell_type": "markdown",
   "metadata": {},
   "source": [
    "# 232. Implement Queue using Stacks"
   ]
  },
  {
   "cell_type": "code",
   "execution_count": 14,
   "metadata": {},
   "outputs": [],
   "source": [
    "class MyQueue(object):\n",
    "\n",
    "    def __init__(self):\n",
    "        \"\"\"\n",
    "        Initialize your data structure here.\n",
    "        \"\"\"\n",
    "        self.data = collections.deque()\n",
    "        \n",
    "\n",
    "    def push(self, x):\n",
    "        \"\"\"\n",
    "        Push element x to the back of queue.\n",
    "        :type x: int\n",
    "        :rtype: void\n",
    "        \"\"\"\n",
    "        self.data.append(x)\n",
    "        \n",
    "\n",
    "    def pop(self):\n",
    "        \"\"\"\n",
    "        Removes the element from in front of queue and returns that element.\n",
    "        :rtype: int\n",
    "        \"\"\"\n",
    "        \n",
    "        return self.data.popleft()\n",
    "        \n",
    "\n",
    "    def peek(self):\n",
    "        \"\"\"\n",
    "        Get the front element.\n",
    "        :rtype: int\n",
    "        \"\"\"\n",
    "        return self.data[0]\n",
    "\n",
    "    def empty(self):\n",
    "        \"\"\"\n",
    "        Returns whether the queue is empty.\n",
    "        :rtype: bool\n",
    "        \"\"\"\n",
    "        return len(self.data)==0"
   ]
  },
  {
   "cell_type": "markdown",
   "metadata": {},
   "source": [
    "# Implement Stack using Array"
   ]
  },
  {
   "cell_type": "code",
   "execution_count": 15,
   "metadata": {},
   "outputs": [],
   "source": [
    "class MyStack(object):\n",
    "\n",
    "    def __init__(self):\n",
    "        \"\"\"\n",
    "        Initialize your data structure here.\n",
    "        \"\"\"\n",
    "        self.data = []\n",
    "\n",
    "    def push(self, x):\n",
    "        \"\"\"\n",
    "        Push element x onto stack.\n",
    "        :type x: int\n",
    "        :rtype: void\n",
    "        \"\"\"\n",
    "        self.data.append(x)\n",
    "        \n",
    "\n",
    "    def pop(self):\n",
    "        \"\"\"\n",
    "        Removes the element on top of the stack and returns that element.\n",
    "        :rtype: int\n",
    "        \"\"\"\n",
    "        return self.data.pop()\n",
    "        \n",
    "\n",
    "    def top(self):\n",
    "        \"\"\"\n",
    "        Get the top element.\n",
    "        :rtype: int\n",
    "        \"\"\"\n",
    "        return self.data[-1]\n",
    "        \n",
    "\n",
    "    def empty(self):\n",
    "        \"\"\"\n",
    "        Returns whether the stack is empty.\n",
    "        :rtype: bool\n",
    "        \"\"\"\n",
    "        return len(self.dat)"
   ]
  },
  {
   "cell_type": "markdown",
   "metadata": {},
   "source": [
    "# Implement Queue using Array"
   ]
  },
  {
   "cell_type": "code",
   "execution_count": 16,
   "metadata": {},
   "outputs": [],
   "source": [
    "class MyQueue(object):\n",
    "\n",
    "    def __init__(self):\n",
    "        \"\"\"\n",
    "        Initialize your data structure here.\n",
    "        \"\"\"\n",
    "        self.data = []\n",
    "        \n",
    "\n",
    "    def push(self, x):\n",
    "        \"\"\"\n",
    "        Push element x to the back of queue.\n",
    "        :type x: int\n",
    "        :rtype: void\n",
    "        \"\"\"\n",
    "        self.data.append(x)\n",
    "        \n",
    "\n",
    "    def pop(self):\n",
    "        \"\"\"\n",
    "        Removes the element from in front of queue and returns that element.\n",
    "        :rtype: int\n",
    "        \"\"\"\n",
    "        \n",
    "        return self.data.pop(0)\n",
    "        \n",
    "\n",
    "    def peek(self):\n",
    "        \"\"\"\n",
    "        Get the front element.\n",
    "        :rtype: int\n",
    "        \"\"\"\n",
    "        return self.data[0]\n",
    "\n",
    "    def empty(self):\n",
    "        \"\"\"\n",
    "        Returns whether the queue is empty.\n",
    "        :rtype: bool\n",
    "        \"\"\"\n",
    "        return len(self.data)==0"
   ]
  },
  {
   "cell_type": "markdown",
   "metadata": {},
   "source": [
    "# 150. Evaluate Reverse Polish Notation"
   ]
  },
  {
   "cell_type": "code",
   "execution_count": 17,
   "metadata": {},
   "outputs": [],
   "source": [
    "class Solution(object):\n",
    "    def evalRPN(self, tokens):\n",
    "        \"\"\"\n",
    "        :type tokens: List[str]\n",
    "        :rtype: int\n",
    "        \"\"\"\n",
    "        stack = []\n",
    "        for t in tokens:\n",
    "            if t not in ['+','-','*','/']:\n",
    "                stack.append(int(t))\n",
    "            else:\n",
    "                p1 = stack.pop()\n",
    "                p2 = stack.pop()\n",
    "                if t=='+':\n",
    "                    p3 = p1+p2\n",
    "                elif t=='-':\n",
    "                    p3 = p2-p1\n",
    "                elif t== '*':\n",
    "                    p3 = p1*p2\n",
    "                else:\n",
    "                    if p1*p2 < 0 and p2 % p1 != 0:\n",
    "                        p3 = p2//p1+1\n",
    "                    else:\n",
    "                        p3 = p2//p1\n",
    "                stack.append(p3)\n",
    "                \n",
    "        return stack[0]"
   ]
  },
  {
   "cell_type": "markdown",
   "metadata": {},
   "source": [
    "# 20. Valid Parentheses"
   ]
  },
  {
   "cell_type": "code",
   "execution_count": 18,
   "metadata": {},
   "outputs": [],
   "source": [
    "class Solution(object):\n",
    "    def isValid(self, s):\n",
    "        \"\"\"\n",
    "        :type s: str\n",
    "        :rtype: bool\n",
    "        \"\"\"\n",
    "        if not s: return True\n",
    "        stack = []\n",
    "        hmap = {}\n",
    "        hmap[')'] = '('\n",
    "        hmap['}'] = '{'\n",
    "        hmap[']'] = '['\n",
    "        \n",
    "        left = hmap.values()\n",
    "        \n",
    "        for c in s:\n",
    "            if c in left:\n",
    "                stack.append(c)\n",
    "            else:\n",
    "                if stack and stack[-1] == hmap[c]:\n",
    "                    stack.pop()\n",
    "                else:\n",
    "                    return False\n",
    "        if stack: return False"
   ]
  },
  {
   "cell_type": "markdown",
   "metadata": {},
   "source": [
    "# 32. Longest Valid Parentheses"
   ]
  },
  {
   "cell_type": "code",
   "execution_count": 74,
   "metadata": {},
   "outputs": [],
   "source": [
    "class Solution(object):\n",
    "    def longestValidParentheses(self, s):\n",
    "        \"\"\"\n",
    "        :type s: str\n",
    "        :rtype: int\n",
    "        \"\"\"\n",
    "        stack  = [-1]\n",
    "        maxLen = 0\n",
    "        for i, c in enumerate(s):\n",
    "            if c == '(':\n",
    "                stack.append(i)\n",
    "            else:\n",
    "                stack.pop()\n",
    "                if stack:\n",
    "                    maxLen = max(maxLen,i-stack[-1])\n",
    "                else:\n",
    "                    stack.append(i)\n",
    "        return maxLen"
   ]
  },
  {
   "cell_type": "markdown",
   "metadata": {},
   "source": [
    "# 155. Min Stack"
   ]
  },
  {
   "cell_type": "code",
   "execution_count": 75,
   "metadata": {},
   "outputs": [],
   "source": [
    "class MinStack(object):\n",
    "\n",
    "    def __init__(self):\n",
    "        \"\"\"\n",
    "        initialize your data structure here.\n",
    "        \"\"\"\n",
    "        self.data = []\n",
    "        \n",
    "\n",
    "    def push(self, x):\n",
    "        \"\"\"\n",
    "        :type x: int\n",
    "        :rtype: void\n",
    "        \"\"\"\n",
    "        if not self.data: self.data.append((x,x))\n",
    "        else:\n",
    "            if x< self.data[-1][1]:\n",
    "                self.data.append((x,x))\n",
    "            else:\n",
    "                self.data.append((x,self.data[-1][1]))\n",
    "        \n",
    "\n",
    "    def pop(self):\n",
    "        \"\"\"\n",
    "        :rtype: void\n",
    "        \"\"\"\n",
    "        self.data.pop()\n",
    "        \n",
    "\n",
    "    def top(self):\n",
    "        \"\"\"\n",
    "        :rtype: int\n",
    "        \"\"\"\n",
    "        if not self.data: return None\n",
    "        return self.data[-1][0]\n",
    "\n"
   ]
  },
  {
   "cell_type": "markdown",
   "metadata": {},
   "source": [
    "# 769. Max Chunks To Make Sorted"
   ]
  },
  {
   "cell_type": "code",
   "execution_count": 78,
   "metadata": {},
   "outputs": [],
   "source": [
    "class Solution(object):\n",
    "    def maxChunksToSorted(self, arr):\n",
    "        \"\"\"\n",
    "        :type arr: List[int]\n",
    "        :rtype: int\n",
    "        \"\"\"\n",
    "        n = len(arr)\n",
    "        mx = 0\n",
    "        ans = 0\n",
    "        for i in range(n):\n",
    "            mx = max(mx, arr[i])\n",
    "            if mx== i:\n",
    "                ans+=1\n",
    "        return ans"
   ]
  },
  {
   "cell_type": "markdown",
   "metadata": {},
   "source": [
    "# 85. Maximal Rectangle"
   ]
  },
  {
   "cell_type": "code",
   "execution_count": 1,
   "metadata": {},
   "outputs": [],
   "source": [
    "class Solution(object):\n",
    "    def maximalRectangle(self, matrix):\n",
    "        \"\"\"\n",
    "        :type matrix: List[List[str]]\n",
    "        :rtype: int\n",
    "        \"\"\"\n",
    "        ans = 0\n",
    "        m = len(matrix)\n",
    "        if m==0: return ans\n",
    "        n =len(matrix[0])\n",
    "        \n",
    "        hist = [0]*(n+1)\n",
    "        \n",
    "        def maxRectHist(hist):\n",
    "            ans = 0\n",
    "            stack = []\n",
    "            for i, h in enumerate(hist):\n",
    "                while stack and h <= hist[stack[-1]]:\n",
    "                    cur = stack.pop()\n",
    "                    if stack:\n",
    "                        ans = max(ans, hist[cur]*(i-stack[-1]-1))\n",
    "                    else:\n",
    "                        ans = max(ans, hist[cur]*i)\n",
    "                stack.append(i)\n",
    "            return ans\n",
    "        \n",
    "        for i in range(m):\n",
    "            for j in range(n):\n",
    "                if matrix[i][j] == '1':\n",
    "                    hist[j] += 1\n",
    "                else:\n",
    "                    hist[j] = 0\n",
    "            ans = max(ans, maxRectHist(hist))\n",
    "        return ans"
   ]
  },
  {
   "cell_type": "markdown",
   "metadata": {},
   "source": [
    "# 385. Mini Parser"
   ]
  },
  {
   "cell_type": "code",
   "execution_count": 10,
   "metadata": {},
   "outputs": [],
   "source": [
    "# \"\"\"\n",
    "# This is the interface that allows for creating nested lists.\n",
    "# You should not implement it, or speculate about its implementation\n",
    "# \"\"\"\n",
    "#class NestedInteger(object):\n",
    "#    def __init__(self, value=None):\n",
    "#        \"\"\"\n",
    "#        If value is not specified, initializes an empty list.\n",
    "#        Otherwise initializes a single integer equal to value.\n",
    "#        \"\"\"\n",
    "#\n",
    "#    def isInteger(self):\n",
    "#        \"\"\"\n",
    "#        @return True if this NestedInteger holds a single integer, rather than a nested list.\n",
    "#        :rtype bool\n",
    "#        \"\"\"\n",
    "#\n",
    "#    def add(self, elem):\n",
    "#        \"\"\"\n",
    "#        Set this NestedInteger to hold a nested list and adds a nested integer elem to it.\n",
    "#        :rtype void\n",
    "#        \"\"\"\n",
    "#\n",
    "#    def setInteger(self, value):\n",
    "#        \"\"\"\n",
    "#        Set this NestedInteger to hold a single integer equal to value.\n",
    "#        :rtype void\n",
    "#        \"\"\"\n",
    "#\n",
    "#    def getInteger(self):\n",
    "#        \"\"\"\n",
    "#        @return the single integer that this NestedInteger holds, if it holds a single integer\n",
    "#        Return None if this NestedInteger holds a nested list\n",
    "#        :rtype int\n",
    "#        \"\"\"\n",
    "#\n",
    "#    def getList(self):\n",
    "#        \"\"\"\n",
    "#        @return the nested list that this NestedInteger holds, if it holds a nested list\n",
    "#        Return None if this NestedInteger holds a single integer\n",
    "#        :rtype List[NestedInteger]\n",
    "#        \"\"\"\n",
    "\n",
    "class Solution(object):\n",
    "    def deserialize(self, s):\n",
    "        \"\"\"\n",
    "        :type s: str\n",
    "        :rtype: NestedInteger\n",
    "        \"\"\"\n",
    "        if not s: return NestedInteger()\n",
    "        if s[0] != '[': return NestedInteger(int(s))\n",
    "        if len(s) <=2: return NestedInteger()\n",
    "        start = 1\n",
    "        cnt = 0\n",
    "        res = NestedInteger()\n",
    "        for i in range(start,len(s)):\n",
    "            if cnt==0 and (s[i]==',' or s[i]==']'):\n",
    "                res.add(self.deserialize(s[start:i]))\n",
    "                start = i+ 1\n",
    "            elif s[i] == '[':\n",
    "                cnt += 1\n",
    "            elif s[i] == ']':\n",
    "                cnt -= 1\n",
    "        return res"
   ]
  },
  {
   "cell_type": "markdown",
   "metadata": {},
   "source": [
    "# 341. Flatten Nested List Iterator"
   ]
  },
  {
   "cell_type": "code",
   "execution_count": 11,
   "metadata": {},
   "outputs": [],
   "source": [
    "# \"\"\"\n",
    "# This is the interface that allows for creating nested lists.\n",
    "# You should not implement it, or speculate about its implementation\n",
    "# \"\"\"\n",
    "#class NestedInteger(object):\n",
    "#    def isInteger(self):\n",
    "#        \"\"\"\n",
    "#        @return True if this NestedInteger holds a single integer, rather than a nested list.\n",
    "#        :rtype bool\n",
    "#        \"\"\"\n",
    "#\n",
    "#    def getInteger(self):\n",
    "#        \"\"\"\n",
    "#        @return the single integer that this NestedInteger holds, if it holds a single integer\n",
    "#        Return None if this NestedInteger holds a nested list\n",
    "#        :rtype int\n",
    "#        \"\"\"\n",
    "#\n",
    "#    def getList(self):\n",
    "#        \"\"\"\n",
    "#        @return the nested list that this NestedInteger holds, if it holds a nested list\n",
    "#        Return None if this NestedInteger holds a single integer\n",
    "#        :rtype List[NestedInteger]\n",
    "#        \"\"\"\n",
    "\n",
    "class NestedIterator(object):\n",
    "\n",
    "    def __init__(self, nestedList):\n",
    "        \"\"\"\n",
    "        Initialize your data structure here.\n",
    "        :type nestedList: List[NestedInteger]\n",
    "        \"\"\"\n",
    "        self.queue = collections.deque()\n",
    "        for l in nestedList:\n",
    "            self.queue.append(l)\n",
    "        \n",
    "    def next(self):\n",
    "        \"\"\"\n",
    "        :rtype: int\n",
    "        \"\"\"\n",
    "        if self.hasNext(): \n",
    "            top = self.queue.popleft()\n",
    "            return top.getInteger()\n",
    "        \n",
    "\n",
    "    def hasNext(self):\n",
    "        \"\"\"\n",
    "        :rtype: bool\n",
    "        \"\"\"\n",
    "        while self.queue:\n",
    "            if self.queue[0].isInteger(): return True\n",
    "            top = self.queue.popleft()\n",
    "            nodeList = top.getList()\n",
    "            for i in range(len(nodeList)-1,-1,-1):\n",
    "                self.queue.appendleft(nodeList[i])\n",
    "        return False"
   ]
  },
  {
   "cell_type": "markdown",
   "metadata": {},
   "source": [
    "# 339. Nested List Weight Sum"
   ]
  },
  {
   "cell_type": "code",
   "execution_count": 12,
   "metadata": {},
   "outputs": [],
   "source": [
    "# \"\"\"\n",
    "# This is the interface that allows for creating nested lists.\n",
    "# You should not implement it, or speculate about its implementation\n",
    "# \"\"\"\n",
    "#class NestedInteger(object):\n",
    "#    def __init__(self, value=None):\n",
    "#        \"\"\"\n",
    "#        If value is not specified, initializes an empty list.\n",
    "#        Otherwise initializes a single integer equal to value.\n",
    "#        \"\"\"\n",
    "#\n",
    "#    def isInteger(self):\n",
    "#        \"\"\"\n",
    "#        @return True if this NestedInteger holds a single integer, rather than a nested list.\n",
    "#        :rtype bool\n",
    "#        \"\"\"\n",
    "#\n",
    "#    def add(self, elem):\n",
    "#        \"\"\"\n",
    "#        Set this NestedInteger to hold a nested list and adds a nested integer elem to it.\n",
    "#        :rtype void\n",
    "#        \"\"\"\n",
    "#\n",
    "#    def setInteger(self, value):\n",
    "#        \"\"\"\n",
    "#        Set this NestedInteger to hold a single integer equal to value.\n",
    "#        :rtype void\n",
    "#        \"\"\"\n",
    "#\n",
    "#    def getInteger(self):\n",
    "#        \"\"\"\n",
    "#        @return the single integer that this NestedInteger holds, if it holds a single integer\n",
    "#        Return None if this NestedInteger holds a nested list\n",
    "#        :rtype int\n",
    "#        \"\"\"\n",
    "#\n",
    "#    def getList(self):\n",
    "#        \"\"\"\n",
    "#        @return the nested list that this NestedInteger holds, if it holds a nested list\n",
    "#        Return None if this NestedInteger holds a single integer\n",
    "#        :rtype List[NestedInteger]\n",
    "#        \"\"\"\n",
    "\n",
    "class Solution(object):\n",
    "    def depthSum(self, nestedList):\n",
    "        \"\"\"\n",
    "        :type nestedList: List[NestedInteger]\n",
    "        :rtype: int\n",
    "        \"\"\"\n",
    "        \n",
    "        def helper(nestedList, depth):\n",
    "            ans = 0\n",
    "            for l in nestedList:\n",
    "                if l.isInteger():\n",
    "                    ans +=  l.getInteger() * (depth+1)\n",
    "                else:\n",
    "                    ans += helper(l.getList(), depth+1)\n",
    "            return ans\n",
    "        \n",
    "        return helper(nestedList, 0)"
   ]
  },
  {
   "cell_type": "markdown",
   "metadata": {},
   "source": [
    "# 364. Nested List Weight Sum II"
   ]
  },
  {
   "cell_type": "code",
   "execution_count": null,
   "metadata": {},
   "outputs": [],
   "source": [
    "class Solution(object):\n",
    "    def depthSumInverse(self, nestedList):\n",
    "        \"\"\"\n",
    "        :type nestedList: List[NestedInteger]\n",
    "        :rtype: int\n",
    "        \"\"\"\n",
    "        \n",
    "        def helper(nestedList, depth, cache):\n",
    "            self.depth = max(self.depth, depth)\n",
    "            for l in nestedList:\n",
    "                if l.isInteger():\n",
    "                    cache[depth] +=l.getInteger()\n",
    "                else:\n",
    "                    helper(l.getList(),depth+1, cache)\n",
    "        \n",
    "        cache = collections.defaultdict(int)\n",
    "        self.depth = 0\n",
    "        helper(nestedList, 1, cache)\n",
    "        ans = 0\n",
    "        for k, v in cache.items():\n",
    "            ans += v*(self.depth-k+1)\n",
    "            \n",
    "        return ans"
   ]
  },
  {
   "cell_type": "markdown",
   "metadata": {},
   "source": [
    "# 394. Decode String"
   ]
  },
  {
   "cell_type": "code",
   "execution_count": 13,
   "metadata": {},
   "outputs": [],
   "source": [
    "class Solution(object):\n",
    "    def decodeString(self, s):\n",
    "        \"\"\"\n",
    "        :type s: str\n",
    "        :rtype: str\n",
    "        \"\"\"\n",
    "        if not s: return \"\"\n",
    "        \n",
    "        stack = []\n",
    "        stack.append([\"\",1])\n",
    "        num = ''\n",
    "        for c in s:\n",
    "            if c in '0123456789':\n",
    "                num += c\n",
    "            elif c=='[':\n",
    "                stack.append([\"\",int(num)])\n",
    "                num = \"\"\n",
    "            elif c== ']':\n",
    "                string, k = stack.pop()\n",
    "                stack[-1][0]+= string*k\n",
    "            else:\n",
    "                stack[-1][0]+=c\n",
    "                \n",
    "        return stack[0][0]"
   ]
  },
  {
   "cell_type": "markdown",
   "metadata": {},
   "source": [
    "# 224. Basic Calculator"
   ]
  },
  {
   "cell_type": "code",
   "execution_count": 2,
   "metadata": {},
   "outputs": [],
   "source": [
    "class Solution(object):\n",
    "    def calculate(self, s):\n",
    "        \"\"\"\n",
    "        :type s: str\n",
    "        :rtype: int\n",
    "        \"\"\"\n",
    "        stack = []\n",
    "        res = 0\n",
    "        sgn = 1\n",
    "        num = 0\n",
    "        for c in s:\n",
    "            if c.isdigit():\n",
    "                num = 10*num + int(c)\n",
    "            elif c in ['+','-']:\n",
    "                res += sgn * num\n",
    "                num = 0\n",
    "                sgn = 1 if c=='+' else -1\n",
    "            elif c == '(':\n",
    "                stack.append(res)\n",
    "                stack.append(sgn)\n",
    "                res = 0\n",
    "                sgn = 1\n",
    "            elif c == ')':\n",
    "                res += sgn * num\n",
    "                num = 0\n",
    "                res = res*stack.pop()\n",
    "                res = res+stack.pop()\n",
    "                \n",
    "        res += sgn*num\n",
    "        return res       "
   ]
  },
  {
   "cell_type": "markdown",
   "metadata": {},
   "source": [
    "# 698. Partition to K Equal Sum Subsets"
   ]
  },
  {
   "cell_type": "code",
   "execution_count": 1,
   "metadata": {},
   "outputs": [],
   "source": [
    "class Solution(object):\n",
    "    def canPartitionKSubsets(self, nums, k):\n",
    "        \"\"\"\n",
    "        :type nums: List[int]\n",
    "        :type k: int\n",
    "        :rtype: bool\n",
    "        \"\"\"\n",
    "        target, rem = divmod(sum(nums),k)\n",
    "        if rem: return False\n",
    "        if k==1: return True\n",
    "        nums.sort()\n",
    "        checker = [0]*k\n",
    "        \n",
    "        def dfs(nums, target, start, checker):\n",
    "            if start<0:\n",
    "                for num in checker:\n",
    "                    if num!=target:return False\n",
    "                return True\n",
    "            \n",
    "            for i in range(len(checker)):\n",
    "                if nums[start] + checker[i]> target: continue\n",
    "                checker[i] += nums[start]\n",
    "                if dfs(nums, target, start-1, checker): return True\n",
    "                checker[i] -= nums[start]\n",
    "            return False\n",
    "        \n",
    "        return dfs(nums, target, len(nums)-1, checker)"
   ]
  },
  {
   "cell_type": "markdown",
   "metadata": {},
   "source": [
    "# 46. Permutations"
   ]
  },
  {
   "cell_type": "code",
   "execution_count": 4,
   "metadata": {},
   "outputs": [],
   "source": [
    "class Solution(object):\n",
    "    def permute(self, nums):\n",
    "        \"\"\"\n",
    "        :type nums: List[int]\n",
    "        :rtype: List[List[int]]\n",
    "        \"\"\"\n",
    "        \n",
    "        visited = set()\n",
    "        ans = []\n",
    "        def dfs(nums, solution, ans, visited):\n",
    "            if len(nums) == len(visited):\n",
    "                ans.append(solution[:])\n",
    "                return\n",
    "            for num in nums:\n",
    "                if num in visited: continue\n",
    "                solution.append(num)\n",
    "                visited.add(num)\n",
    "                dfs(nums, solution, ans, visited)\n",
    "                solution.pop()\n",
    "                visited.remove(num)\n",
    "                \n",
    "        dfs(nums, [], ans, visited)\n",
    "        return ans"
   ]
  },
  {
   "cell_type": "markdown",
   "metadata": {},
   "source": [
    "# 47. Permutations II"
   ]
  },
  {
   "cell_type": "code",
   "execution_count": 5,
   "metadata": {},
   "outputs": [],
   "source": [
    "class Solution(object):\n",
    "    def permuteUnique(self, nums):\n",
    "        \"\"\"\n",
    "        :type nums: List[int]\n",
    "        :rtype: List[List[int]]\n",
    "        \"\"\"\n",
    "        n = len(nums)\n",
    "        visited = [0]*n\n",
    "        ans = []\n",
    "        nums.sort()\n",
    "        def dfs(nums, solution, ans, visited):\n",
    "            if len(nums) == len(solution):\n",
    "                ans.append(solution[:])\n",
    "                return \n",
    "            for i,num in enumerate(nums):\n",
    "                if visited[i] == 1: continue\n",
    "                if i and num == nums[i-1] and visited[i-1]== 0: continue \n",
    "                solution.append(num)\n",
    "                visited[i] = 1\n",
    "                dfs(nums, solution, ans, visited)\n",
    "                solution.pop()\n",
    "                visited[i] = 0\n",
    "                \n",
    "        dfs(nums, [], ans, visited)\n",
    "        return ans"
   ]
  },
  {
   "cell_type": "markdown",
   "metadata": {},
   "source": [
    "# 60. Permutation Sequence"
   ]
  },
  {
   "cell_type": "code",
   "execution_count": null,
   "metadata": {},
   "outputs": [],
   "source": [
    "class Solution(object):\n",
    "    def getPermutation(self, n, k):\n",
    "        \"\"\"\n",
    "        :type n: int\n",
    "        :type k: int\n",
    "        :rtype: str\n",
    "        \"\"\"\n",
    "        visited = set()\n",
    "        self.count = 0\n",
    "        self.ans = ''\n",
    "        def dfs(n, k, out, visited):\n",
    "            if len(out) == n:\n",
    "                self.count +=1\n",
    "                if self.count == k:\n",
    "                    self.ans = ''.join(['%s'%x for x in out])\n",
    "                    return True\n",
    "                return False\n",
    "            for i in range(1,n+1):\n",
    "                if i in visited: continue\n",
    "                out.append(i)\n",
    "                visited.add(i)\n",
    "                if dfs(n, k, out, visited): return True\n",
    "                out.pop()\n",
    "                visited.remove(i)\n",
    "            \n",
    "            return False\n",
    "            \n",
    "        dfs(n,k, [], visited)\n",
    "        return self.ans"
   ]
  },
  {
   "cell_type": "markdown",
   "metadata": {},
   "source": [
    "# 996. Number of Squareful Arrays"
   ]
  },
  {
   "cell_type": "code",
   "execution_count": 15,
   "metadata": {},
   "outputs": [],
   "source": [
    "class Solution(object):\n",
    "    def numSquarefulPerms(self, A):\n",
    "        \"\"\"\n",
    "        :type A: List[int]\n",
    "        :rtype: int\n",
    "        \"\"\"\n",
    "        \n",
    "        A.sort()\n",
    "        ans = []\n",
    "        visited = [0]*len(A)\n",
    "        \n",
    "        def isSquare(x, y):\n",
    "            s = (x+y)**(0.5)\n",
    "            return (int(s))**2 == (x+y)\n",
    "        \n",
    "        \n",
    "        def dfs(nums, out, ans, visited):\n",
    "            if len(nums) == len(out):\n",
    "                ans.append(out[:])\n",
    "                return\n",
    "            for i, num in enumerate(nums):\n",
    "                if visited[i]==1: continue\n",
    "                if i and nums[i]==nums[i-1] and visited[i-1]==0: continue\n",
    "                if out and not isSquare(out[-1],nums[i]): continue\n",
    "                out.append(num)\n",
    "                visited[i]=1\n",
    "                dfs(nums, out, ans, visited)\n",
    "                out.pop()\n",
    "                visited[i] = 0\n",
    "                \n",
    "        dfs(A, [], ans, visited)\n",
    "        return len(ans)"
   ]
  },
  {
   "cell_type": "markdown",
   "metadata": {},
   "source": [
    "# 22. Generate Parentheses"
   ]
  },
  {
   "cell_type": "code",
   "execution_count": 6,
   "metadata": {},
   "outputs": [],
   "source": [
    "class Solution(object):\n",
    "    def generateParenthesis(self, n):\n",
    "        \"\"\"\n",
    "        :type n: int\n",
    "        :rtype: List[str]\n",
    "        \"\"\"\n",
    "        \n",
    "        ans = []\n",
    "        \n",
    "        \n",
    "        def dfs(left, right, out, ans):\n",
    "            if left > right: return\n",
    "            if left==0 and right==0:\n",
    "                ans.append(out)\n",
    "                return\n",
    "            if left>0: dfs(left-1,right, out+'(', ans)\n",
    "            if right>0: dfs(left,right-1, out+')', ans)\n",
    "           \n",
    "        dfs(n,n, '', ans )\n",
    "        return ans"
   ]
  },
  {
   "cell_type": "markdown",
   "metadata": {},
   "source": [
    "# 39. Combination Sum"
   ]
  },
  {
   "cell_type": "code",
   "execution_count": 7,
   "metadata": {},
   "outputs": [],
   "source": [
    "class Solution(object):\n",
    "    def combinationSum(self, candidates, target):\n",
    "        \"\"\"\n",
    "        :type candidates: List[int]\n",
    "        :type target: int\n",
    "        :rtype: List[List[int]]\n",
    "        \"\"\"\n",
    "        candidates.sort()\n",
    "        ans =  []\n",
    "        \n",
    "        def dfs(nums, i, target, out, ans):\n",
    "            if target == 0: \n",
    "                ans.append(out[:])\n",
    "                return\n",
    "            if target <0:\n",
    "                return\n",
    "            for j in range(i,len(nums)):\n",
    "                if nums[j]> target:continue\n",
    "                out.append(nums[j])\n",
    "                dfs(nums,j,target-nums[j],out, ans)\n",
    "                out.pop()\n",
    "                \n",
    "        dfs(candidates,0,target, [], ans)\n",
    "        return ans"
   ]
  },
  {
   "cell_type": "markdown",
   "metadata": {},
   "source": [
    "# 40. Combination Sum II"
   ]
  },
  {
   "cell_type": "code",
   "execution_count": 8,
   "metadata": {},
   "outputs": [],
   "source": [
    "class Solution(object):\n",
    "    def combinationSum2(self, candidates, target):\n",
    "        \"\"\"\n",
    "        :type candidates: List[int]\n",
    "        :type target: int\n",
    "        :rtype: List[List[int]]\n",
    "        \"\"\"\n",
    "        \n",
    "        \n",
    "        candidates.sort()\n",
    "        ans =  []\n",
    "        \n",
    "        def dfs(nums, i, target, out, ans):\n",
    "            if target == 0: \n",
    "                ans.append(out[:])\n",
    "                return\n",
    "            if target <0:\n",
    "                return\n",
    "            for j in range(i,len(nums)):\n",
    "                if nums[j]> target:continue\n",
    "                if j!=i and nums[j]==nums[j-1]:continue\n",
    "                out.append(nums[j])\n",
    "                dfs(nums,j+1,target-nums[j],out, ans)\n",
    "                out.pop()\n",
    "                \n",
    "        dfs(candidates,0,target, [], ans)\n",
    "        return ans"
   ]
  },
  {
   "cell_type": "markdown",
   "metadata": {},
   "source": [
    "# 216. Combination Sum III"
   ]
  },
  {
   "cell_type": "code",
   "execution_count": 9,
   "metadata": {},
   "outputs": [],
   "source": [
    "class Solution(object):\n",
    "    def combinationSum3(self, k, n):\n",
    "        \"\"\"\n",
    "        :type k: int\n",
    "        :type n: int\n",
    "        :rtype: List[List[int]]\n",
    "        \"\"\"\n",
    "        ans = []\n",
    "        def dfs(k,n,start,out, ans):\n",
    "            if n==0 and len(out)==k:\n",
    "                ans.append(out[:])\n",
    "                return\n",
    "            if n<0: return\n",
    "            if len(out)>k: return\n",
    "            if start >9: return\n",
    "            for i in range(start, 10):\n",
    "                if i > n: break\n",
    "                out.append(i)\n",
    "                dfs(k,n-i,i+1,out,ans)\n",
    "                out.pop()\n",
    "                \n",
    "        dfs(k,n,1,[],ans)\n",
    "        return ans"
   ]
  },
  {
   "cell_type": "markdown",
   "metadata": {},
   "source": [
    "# 377. Combination Sum IV"
   ]
  },
  {
   "cell_type": "code",
   "execution_count": 10,
   "metadata": {},
   "outputs": [],
   "source": [
    "class Solution(object):\n",
    "    def combinationSum4(self, nums, target):\n",
    "        \"\"\"\n",
    "        :type nums: List[int]\n",
    "        :type target: int\n",
    "        :rtype: int\n",
    "        \"\"\"\n",
    "        \n",
    "        dp = [0]*(target+1)\n",
    "        dp[0] = 1\n",
    "        for i in range(target+1):\n",
    "            for num in nums:\n",
    "                if i+num<=target:\n",
    "                    dp[i+num] += dp[i]\n",
    "        return dp[target]"
   ]
  },
  {
   "cell_type": "markdown",
   "metadata": {},
   "source": [
    "# 44. Wildcard Matching"
   ]
  },
  {
   "cell_type": "code",
   "execution_count": 21,
   "metadata": {},
   "outputs": [],
   "source": [
    "class Solution(object):\n",
    "    def isMatch(self, s, p):\n",
    "        \"\"\"\n",
    "        :type s: str\n",
    "        :type p: str\n",
    "        :rtype: bool\n",
    "        \"\"\"\n",
    "        m = len(s)\n",
    "        n = len(p)\n",
    "        f = [[False]*(n+1) for _ in range(m+1)]\n",
    "        f[0][0] = True\n",
    "        for j in range(1,n+1):\n",
    "            if p[j-1]=='*':\n",
    "                f[0][j] = f[0][j-1]\n",
    "                \n",
    "        for i in range(1,m+1):\n",
    "            for j in range(1,n+1):\n",
    "                if p[j-1]=='*':\n",
    "                    f[i][j] = f[i-1][j] or f[i][j-1]\n",
    "                else:\n",
    "                    f[i][j] = (p[j-1]==s[i-1] or p[j-1]=='?') and f[i-1][j-1]\n",
    "        return f[m][n]"
   ]
  },
  {
   "cell_type": "markdown",
   "metadata": {},
   "source": [
    "# 10. Regular Expression Matching"
   ]
  },
  {
   "cell_type": "code",
   "execution_count": 22,
   "metadata": {},
   "outputs": [],
   "source": [
    "class Solution(object):\n",
    "    def isMatch(self, s, p):\n",
    "        \"\"\"\n",
    "        :type s: str\n",
    "        :type p: str\n",
    "        :rtype: bool\n",
    "        \"\"\"\n",
    "        if not p: return not s\n",
    "        \n",
    "        if s:\n",
    "            first_match = p[0] in [s[0],'.']\n",
    "        else:\n",
    "            first_match = False\n",
    "        \n",
    "        if len(p)>=2 and p[1]=='*':\n",
    "            return self.isMatch(s,p[2:]) or first_match and self.isMatch(s[1:],p)\n",
    "        else:\n",
    "            return first_match and self.isMatch(s[1:],p[1:])"
   ]
  },
  {
   "cell_type": "markdown",
   "metadata": {},
   "source": [
    "# 809. Expressive Words"
   ]
  },
  {
   "cell_type": "code",
   "execution_count": 19,
   "metadata": {},
   "outputs": [],
   "source": [
    "class Solution(object):\n",
    "    def expressiveWords(self, S, words):\n",
    "        \"\"\"\n",
    "        :type S: str\n",
    "        :type words: List[str]\n",
    "        :rtype: int\n",
    "        \"\"\"\n",
    "        def count(word):\n",
    "            k = []\n",
    "            c = []\n",
    "            cnt = 0\n",
    "            for w in word:\n",
    "                if not k:\n",
    "                    k.append(w)\n",
    "                    cnt+=1\n",
    "                elif w==k[-1]:\n",
    "                    cnt +=1\n",
    "                else:\n",
    "                    k.append(w)\n",
    "                    c.append(cnt)\n",
    "                    cnt = 1\n",
    "            c.append(cnt)\n",
    "            return k, c\n",
    "        \n",
    "        k, c = count(S)\n",
    "        #print(k,c)\n",
    "        ans = 0\n",
    "        for word in words:\n",
    "            k2, c2 = count(word)\n",
    "            #print(k2,c2)\n",
    "            if k!=k2: continue\n",
    "            match = True\n",
    "            for i in range(len(c)):\n",
    "                if not(c[i]==c2[i] or c[i]>=max(c2[i],3)):\n",
    "                    match = False\n",
    "            if match: ans+= 1\n",
    "                \n",
    "        return ans"
   ]
  },
  {
   "cell_type": "markdown",
   "metadata": {},
   "source": [
    "# 282. Expression Add Operators"
   ]
  },
  {
   "cell_type": "code",
   "execution_count": 20,
   "metadata": {},
   "outputs": [],
   "source": [
    "class Solution(object):\n",
    "    def addOperators(self, num, target):\n",
    "        \"\"\"\n",
    "        :type num: str\n",
    "        :type target: int\n",
    "        :rtype: List[str]\n",
    "        \"\"\"\n",
    "        \n",
    "        \n",
    "        def dfs(num, target, prev, curr, out, ans):\n",
    "            if len(num)==0:\n",
    "                if curr == target:\n",
    "                    ans.append(out)\n",
    "                return\n",
    "            for i in range(1,len(num)+1):\n",
    "                curStr = num[:i]\n",
    "                if len(curStr)>1 and curStr[0]=='0':return\n",
    "                nxtStr = num[i:]\n",
    "                curNum = int(curStr)\n",
    "                if len(out)>0:\n",
    "                    dfs(nxtStr,target,curNum, curr+curNum,out+'+'+curStr,ans)\n",
    "                    dfs(nxtStr,target,-curNum, curr-curNum,out+'-'+curStr,ans)\n",
    "                    dfs(nxtStr,target,curNum*prev, curr-prev+curNum*prev,out+'*'+curStr,ans)\n",
    "                else:\n",
    "                    dfs(nxtStr,target,curNum, curNum,out+curStr,ans)\n",
    "        ans = []            \n",
    "        dfs(num, target, 0, 0, \"\", ans)\n",
    "        return ans"
   ]
  },
  {
   "cell_type": "markdown",
   "metadata": {},
   "source": [
    "# 293. Flip Game"
   ]
  },
  {
   "cell_type": "code",
   "execution_count": 16,
   "metadata": {},
   "outputs": [],
   "source": [
    "class Solution(object):\n",
    "    def generatePossibleNextMoves(self, s):\n",
    "        \"\"\"\n",
    "        :type s: str\n",
    "        :rtype: List[str]\n",
    "        \"\"\"\n",
    "        ans = []\n",
    "        n = len(s)\n",
    "        for i in range(1,n):\n",
    "            if s[i]==s[i-1] and s[i]=='+':\n",
    "                ans.append(s[:i-1]+'--'+s[i+1:])\n",
    "        return ans\n",
    "                    "
   ]
  },
  {
   "cell_type": "markdown",
   "metadata": {},
   "source": [
    "# 294. Flip Game II"
   ]
  },
  {
   "cell_type": "code",
   "execution_count": 21,
   "metadata": {},
   "outputs": [],
   "source": [
    "class Solution(object):\n",
    "    def canWin(self, s):\n",
    "        \"\"\"\n",
    "        :type s: str\n",
    "        :rtype: bool\n",
    "        \"\"\"\n",
    "        for i in range(1,len(s)):\n",
    "            if s[i]=='+' and s[i-1]=='+':\n",
    "                if not self.canWin(s[:i-1]+'--'+s[i+1:]):\n",
    "                    return True\n",
    "        return False"
   ]
  },
  {
   "cell_type": "markdown",
   "metadata": {},
   "source": [
    "# 290. Word Pattern"
   ]
  },
  {
   "cell_type": "code",
   "execution_count": 22,
   "metadata": {},
   "outputs": [],
   "source": [
    "class Solution(object):\n",
    "    def wordPattern(self, pattern, str):\n",
    "        \"\"\"\n",
    "        :type pattern: str\n",
    "        :type str: str\n",
    "        :rtype: bool\n",
    "        \"\"\"\n",
    "        num_pattern = len(pattern)\n",
    "        str_list = str.split(' ')\n",
    "        num_str = len(str_list)\n",
    "        p2s = {}\n",
    "        s2p = {}\n",
    "        if num_pattern != num_str: return False\n",
    "        for i in range(num_pattern):\n",
    "            if pattern[i] not in p2s: p2s[pattern[i]] = str_list[i]\n",
    "            if str_list[i] not in s2p: s2p[str_list[i]] = pattern[i]\n",
    "            if p2s[pattern[i]] != str_list[i] or s2p[str_list[i]] != pattern[i]:\n",
    "                return False\n",
    "        return True\n",
    "            "
   ]
  },
  {
   "cell_type": "markdown",
   "metadata": {},
   "source": [
    "# 291. Word Pattern II"
   ]
  },
  {
   "cell_type": "code",
   "execution_count": 23,
   "metadata": {},
   "outputs": [],
   "source": [
    "class Solution(object):\n",
    "    def wordPatternMatch(self, pattern, str):\n",
    "        \"\"\"\n",
    "        :type pattern: str\n",
    "        :type str: str\n",
    "        :rtype: bool\n",
    "        \"\"\"\n",
    "        \n",
    "        mem = {}\n",
    "        def dfs(pattern, str, mem):\n",
    "            np = len(pattern)\n",
    "            ns = len(str)\n",
    "            if np==0 and ns==0:\n",
    "                return True\n",
    "            elif np==0 or ns==0:\n",
    "                return False\n",
    "            \n",
    "            for i in range(1, ns-np+2):\n",
    "                p = pattern[0]\n",
    "                s = str[:i]\n",
    "                if p not in mem and s not in mem.values():\n",
    "                    mem[p]=s\n",
    "                    if dfs(pattern[1:],str[i:],mem):\n",
    "                        return True\n",
    "                    del mem[p]\n",
    "                elif p in mem and mem[p]==s:\n",
    "                    if dfs(pattern[1:],str[i:],mem):\n",
    "                        return True\n",
    "            return False\n",
    "        return dfs(pattern, str, mem)"
   ]
  },
  {
   "cell_type": "markdown",
   "metadata": {},
   "source": [
    "# 87. Scramble String"
   ]
  },
  {
   "cell_type": "code",
   "execution_count": 27,
   "metadata": {},
   "outputs": [],
   "source": [
    "class Solution(object):\n",
    "    def isScramble(self, s1, s2):\n",
    "        \"\"\"\n",
    "        :type s1: str\n",
    "        :type s2: str\n",
    "        :rtype: bool\n",
    "        \"\"\"\n",
    "        if s1==s2: return True\n",
    "        ss1 = ''.join(sorted(s1))\n",
    "        ss2 = ''.join(sorted(s2))\n",
    "        if ss1!=ss2:return False\n",
    "        \n",
    "        for i in range(1, len(s1)):\n",
    "            s11 = s1[:i]\n",
    "            s12 = s1[i:]\n",
    "            s21 = s2[:i]\n",
    "            s22 = s2[i:]\n",
    "            if self.isScramble(s11,s21) and self.isScramble(s12,s22):\n",
    "                return True\n",
    "            s21 = s2[-i:]\n",
    "            s22 = s2[:-i]\n",
    "            if self.isScramble(s11,s21) and self.isScramble(s12,s22):\n",
    "                return True\n",
    "        return False"
   ]
  },
  {
   "cell_type": "markdown",
   "metadata": {},
   "source": [
    "# 301. Remove Invalid Parentheses"
   ]
  },
  {
   "cell_type": "code",
   "execution_count": 28,
   "metadata": {},
   "outputs": [],
   "source": [
    "class Solution(object):\n",
    "    def removeInvalidParentheses(self, s):\n",
    "        \"\"\"\n",
    "        :type s: str\n",
    "        :rtype: List[str]\n",
    "        \"\"\"\n",
    "        \n",
    "        visited = set()\n",
    "        found = False\n",
    "        ans = []\n",
    "        \n",
    "        def isValid(s):\n",
    "            cnt = 0\n",
    "            for i in range(len(s)):\n",
    "                if s[i]=='(':\n",
    "                    cnt+=1\n",
    "                elif s[i]==')':\n",
    "                    cnt-=1\n",
    "                    if cnt<0: return False\n",
    "            return cnt==0\n",
    "        \n",
    "        queue = [s]\n",
    "        while queue:\n",
    "            p = queue.pop(0)\n",
    "            if isValid(p):\n",
    "                ans.append(p)\n",
    "                found = True\n",
    "            if found: continue\n",
    "            for i in range(len(p)):\n",
    "                if p[i] not in '()': continue\n",
    "                t = p[:i]+p[i+1:]\n",
    "                if t not in visited:\n",
    "                    queue.append(t)\n",
    "                    visited.add(t)\n",
    "        \n",
    "        return ans"
   ]
  },
  {
   "cell_type": "markdown",
   "metadata": {},
   "source": [
    "# 214. Shortest Palindrome"
   ]
  },
  {
   "cell_type": "code",
   "execution_count": 31,
   "metadata": {},
   "outputs": [],
   "source": [
    "class Solution(object):\n",
    "    def shortestPalindrome(self, s):\n",
    "        \"\"\"\n",
    "        :type s: str\n",
    "        :rtype: str\n",
    "        \"\"\"\n",
    "        n = len(s)\n",
    "        i = 0\n",
    "        for j in range(n-1,-1,-1):\n",
    "            if s[i]==s[j]:\n",
    "                i+=1\n",
    "        if i==n: return s\n",
    "        rem = s[i:]\n",
    "        rrem = rem[::-1]\n",
    "        return rrem+self.shortestPalindrome(s[:i])+rem\n",
    "        "
   ]
  },
  {
   "cell_type": "markdown",
   "metadata": {},
   "source": [
    "# 386. Lexicographical Numbers"
   ]
  },
  {
   "cell_type": "code",
   "execution_count": 18,
   "metadata": {},
   "outputs": [],
   "source": [
    "class Solution(object):\n",
    "    def lexicalOrder(self, n):\n",
    "        \"\"\"\n",
    "        :type n: int\n",
    "        :rtype: List[int]\n",
    "        \"\"\"\n",
    "        ans = []\n",
    "        \n",
    "        def dfs(n, cur, ans):\n",
    "            if cur > n: return\n",
    "            ans.append(cur)\n",
    "            for i in range(10):\n",
    "                dfs(n, cur*10+i, ans)\n",
    "        \n",
    "        for i in range(1,10):\n",
    "            dfs(n,i,ans)\n",
    "        return ans\n",
    "        "
   ]
  },
  {
   "cell_type": "markdown",
   "metadata": {},
   "source": [
    "# 77. Combinations"
   ]
  },
  {
   "cell_type": "code",
   "execution_count": 11,
   "metadata": {},
   "outputs": [],
   "source": [
    "class Solution(object):\n",
    "    def combine(self, n, k):\n",
    "        \"\"\"\n",
    "        :type n: int\n",
    "        :type k: int\n",
    "        :rtype: List[List[int]]\n",
    "        \"\"\"\n",
    "        ans = []\n",
    "        \n",
    "        def dfs(n, k, start, out, ans):\n",
    "            if len(out)==k:\n",
    "                ans.append(out[:])\n",
    "                return\n",
    "            for i in range(start, n+1):\n",
    "                out.append(i)\n",
    "                dfs(n,k,i+1,out, ans)\n",
    "                out.pop()\n",
    "                \n",
    "        dfs(n,k,1,[],ans)\n",
    "        return ans"
   ]
  },
  {
   "cell_type": "markdown",
   "metadata": {},
   "source": [
    "# 17. Letter Combinations of a Phone Number"
   ]
  },
  {
   "cell_type": "code",
   "execution_count": 12,
   "metadata": {},
   "outputs": [],
   "source": [
    "class Solution(object):\n",
    "    def letterCombinations(self, digits):\n",
    "        \"\"\"\n",
    "        :type digits: str\n",
    "        :rtype: List[str]\n",
    "        \"\"\"\n",
    "        if not digits: return []\n",
    "        hmap = {}\n",
    "        hmap['2'] = 'abc'\n",
    "        hmap['3'] = 'def'\n",
    "        hmap['4'] = 'ghi'\n",
    "        hmap['5'] = 'jkl'\n",
    "        hmap['6'] = 'mno'\n",
    "        hmap['7'] = 'pqrs'\n",
    "        hmap['8'] = 'tuv'\n",
    "        hmap['9'] = 'wxyz'\n",
    "        ans = []\n",
    "        \n",
    "        def dfs(digits, i, out, ans):\n",
    "            if i>=len(digits): \n",
    "                ans.append(out)\n",
    "                return\n",
    "            for c in hmap[digits[i]]:\n",
    "                dfs(digits, i+1, out+c, ans)\n",
    "                \n",
    "        dfs(digits, 0, \"\", ans)    \n",
    "        \n",
    "        return ans"
   ]
  },
  {
   "cell_type": "markdown",
   "metadata": {},
   "source": [
    "# 93. Restore IP Addresses"
   ]
  },
  {
   "cell_type": "code",
   "execution_count": 13,
   "metadata": {},
   "outputs": [],
   "source": [
    "class Solution(object):\n",
    "    def restoreIpAddresses(self, s):\n",
    "        \"\"\"\n",
    "        :type s: str\n",
    "        :rtype: List[str]\n",
    "        \"\"\"\n",
    "        ans = []\n",
    "        \n",
    "        def dfs(s, i, out, ans):\n",
    "            if i==4:\n",
    "                if not s: ans.append(out)\n",
    "                return\n",
    "            for k in range(1,4):\n",
    "                if len(s)<k: continue\n",
    "                ip = int(s[:k])\n",
    "                if ip>255 or len(str(ip))!=k: continue\n",
    "                if i==3:\n",
    "                    dfs(s[k:], i+1, out+s[:k], ans)\n",
    "                else:\n",
    "                    dfs(s[k:], i+1, out+s[:k]+'.', ans)\n",
    "        dfs(s, 0, \"\", ans)\n",
    "        return ans"
   ]
  },
  {
   "cell_type": "markdown",
   "metadata": {},
   "source": [
    "# 254. Factor Combinations"
   ]
  },
  {
   "cell_type": "code",
   "execution_count": 14,
   "metadata": {},
   "outputs": [],
   "source": [
    "class Solution(object):\n",
    "    def getFactors(self, n):\n",
    "        \"\"\"\n",
    "        :type n: int\n",
    "        :rtype: List[List[int]]\n",
    "        \"\"\"\n",
    "        ans = []\n",
    "        \n",
    "        def dfs(n, start, out, ans):\n",
    "            i = start\n",
    "            while i**2<=n:\n",
    "                if n%i==0: \n",
    "                    ans.append(out+[i,n//i])\n",
    "                    dfs(n//i, i, out+[i], ans)\n",
    "                i+=1\n",
    "        \n",
    "        dfs(n, 2, [], ans)\n",
    "        return ans"
   ]
  },
  {
   "cell_type": "markdown",
   "metadata": {},
   "source": [
    "# 78. Subsets"
   ]
  },
  {
   "cell_type": "code",
   "execution_count": 19,
   "metadata": {},
   "outputs": [],
   "source": [
    "class Solution(object):\n",
    "    def subsets(self, nums):\n",
    "        \"\"\"\n",
    "        :type nums: List[int]\n",
    "        :rtype: List[List[int]]\n",
    "        \"\"\"\n",
    "        ans = []\n",
    "        \n",
    "        def dfs(nums, start, out, ans):\n",
    "            if start==len(nums):\n",
    "                ans.append(out[:])\n",
    "                return\n",
    "            out.append(nums[start])\n",
    "            dfs(nums, start+1, out, ans)\n",
    "            out.pop()\n",
    "            dfs(nums, start+1, out, ans)\n",
    "        \n",
    "        dfs(nums, 0, [], ans)\n",
    "        return ans"
   ]
  },
  {
   "cell_type": "markdown",
   "metadata": {},
   "source": [
    "# 90. Subsets II"
   ]
  },
  {
   "cell_type": "code",
   "execution_count": 20,
   "metadata": {},
   "outputs": [],
   "source": [
    "class Solution(object):\n",
    "    def subsetsWithDup(self, nums):\n",
    "        \"\"\"\n",
    "        :type nums: List[int]\n",
    "        :rtype: List[List[int]]\n",
    "        \"\"\"\n",
    "        nums.sort()\n",
    "        ans = []\n",
    "        \n",
    "        def dfs(nums, start, last, out, ans):\n",
    "            if start == len(nums):\n",
    "                ans.append(out[:])\n",
    "                return\n",
    "            \n",
    "            dfs(nums,start+1,last,out,ans)\n",
    "            if (start==0 or nums[start]!=nums[start-1] or start-1==last):\n",
    "                out.append(nums[start])\n",
    "                dfs(nums,start+1,start,out,ans)\n",
    "                out.pop()\n",
    "        dfs(nums, 0, -1,[], ans)\n",
    "        return ans"
   ]
  },
  {
   "cell_type": "markdown",
   "metadata": {},
   "source": [
    "# 322. Coin Change"
   ]
  },
  {
   "cell_type": "code",
   "execution_count": null,
   "metadata": {},
   "outputs": [],
   "source": [
    "class Solution(object):\n",
    "    def coinChange(self, coins, amount):\n",
    "        \"\"\"\n",
    "        :type coins: List[int]\n",
    "        :type amount: int\n",
    "        :rtype: int\n",
    "        \"\"\"\n",
    "        if amount==0: return 0\n",
    "        dp = [float('inf')]*(amount+1)\n",
    "        for i in range(1, amount+1):\n",
    "            if i in coins:\n",
    "                dp[i] = 1\n",
    "                continue\n",
    "            for coin in coins:\n",
    "                if i>coin:\n",
    "                    dp[i] = min(dp[i],dp[i-coin]+1)\n",
    "                    \n",
    "        if dp[-1] == float('inf'):\n",
    "            return -1\n",
    "        else:\n",
    "            return dp[-1]"
   ]
  },
  {
   "cell_type": "markdown",
   "metadata": {},
   "source": [
    "# 131. Palindrome Partitioning"
   ]
  },
  {
   "cell_type": "code",
   "execution_count": 32,
   "metadata": {},
   "outputs": [],
   "source": [
    "class Solution(object):\n",
    "    def partition(self, s):\n",
    "        \"\"\"\n",
    "        :type s: str\n",
    "        :rtype: List[List[str]]\n",
    "        \"\"\"\n",
    "        n = len(s)\n",
    "        if n==0: return []\n",
    "        ans = []\n",
    "        mem = [[False]*n for _ in range(n)]\n",
    "        for c in range(n):\n",
    "            i=j=c\n",
    "            while i>=0 and j<n:\n",
    "                if s[i]==s[j]:\n",
    "                    mem[i][j] = True\n",
    "                    i-=1\n",
    "                    j+=1\n",
    "                else:\n",
    "                    break\n",
    "        for c in range(1,n):\n",
    "            i = c-1\n",
    "            j = c\n",
    "            while i>=0 and j<n:\n",
    "                if s[i]==s[j]:\n",
    "                    mem[i][j] = True\n",
    "                    i-=1\n",
    "                    j+=1\n",
    "                else:\n",
    "                    break\n",
    "        \n",
    "        def dfs(s, i, mem, out, ans):\n",
    "            if i== len(s):\n",
    "                ans.append(out)\n",
    "                return\n",
    "            for j in range(i,len(s)):\n",
    "                if mem[i][j]:\n",
    "                    dfs(s,j+1,mem, out+[s[i:j+1]],ans)\n",
    "        \n",
    "        dfs(s,0,mem,[],ans)\n",
    "        \n",
    "        return ans"
   ]
  },
  {
   "cell_type": "markdown",
   "metadata": {},
   "source": [
    "# 132. Palindrome Partitioning II"
   ]
  },
  {
   "cell_type": "code",
   "execution_count": 33,
   "metadata": {},
   "outputs": [],
   "source": [
    "class Solution(object):\n",
    "    def minCut(self, s):\n",
    "        \"\"\"\n",
    "        :type s: str\n",
    "        :rtype: int\n",
    "        \"\"\"\n",
    "        n = len(s)\n",
    "        if n==0: return 0\n",
    "        mem = [[False]*n for _ in range(n)]\n",
    "        for c in range(n):\n",
    "            i=j=c\n",
    "            while i>=0 and j<n:\n",
    "                if s[i]==s[j]:\n",
    "                    mem[i][j] = True\n",
    "                    i-=1\n",
    "                    j+=1\n",
    "                else:\n",
    "                    break\n",
    "        for c in range(1,n):\n",
    "            i = c-1\n",
    "            j = c\n",
    "            while i>=0 and j<n:\n",
    "                if s[i]==s[j]:\n",
    "                    mem[i][j] = True\n",
    "                    i-=1\n",
    "                    j+=1\n",
    "                else:\n",
    "                    break\n",
    "                    \n",
    "        dp = [0]*(n+1) # dp[i]: number of partitions from 0 to i-1\n",
    "        \n",
    "        for i in range(1,n+1):\n",
    "            dp[i] = float('inf')\n",
    "            for j in range(i):\n",
    "                if mem[j][i-1]:\n",
    "                    dp[i] = min(dp[i],dp[j]+1)\n",
    "        return dp[-1]-1"
   ]
  },
  {
   "cell_type": "markdown",
   "metadata": {},
   "source": [
    "# 198. House Robber"
   ]
  },
  {
   "cell_type": "code",
   "execution_count": 34,
   "metadata": {},
   "outputs": [],
   "source": [
    "class Solution(object):\n",
    "    def rob(self, nums):\n",
    "        \"\"\"\n",
    "        :type nums: List[int]\n",
    "        :rtype: int\n",
    "        \"\"\"\n",
    "        n = len(nums)\n",
    "        if n==0: return 0\n",
    "        dp = [0]*(n+1)\n",
    "        dp[1] = nums[0]\n",
    "        for i in range(2,n+1):\n",
    "            dp[i] = max(dp[i-2]+nums[i-1],dp[i-1])\n",
    "        return dp[-1]"
   ]
  },
  {
   "cell_type": "markdown",
   "metadata": {},
   "source": [
    "# 213. House Robber II"
   ]
  },
  {
   "cell_type": "code",
   "execution_count": null,
   "metadata": {},
   "outputs": [],
   "source": [
    "class Solution(object):\n",
    "    def rob(self, nums):\n",
    "        \"\"\"\n",
    "        :type nums: List[int]\n",
    "        :rtype: int\n",
    "        \"\"\"\n",
    "        \n",
    "        def helper(nums):\n",
    "            n = len(nums)\n",
    "            if n ==0: return 0 \n",
    "            dp = [0]*(n+1)\n",
    "            dp[1] = nums[0]\n",
    "            for i in range(2,n+1):\n",
    "                dp[i] = max(dp[i-2]+nums[i-1],dp[i-1])\n",
    "            return dp[-1]\n",
    "        \n",
    "        n = len(nums)\n",
    "        if n==0: return 0\n",
    "        if n==1: return nums[0]\n",
    "        s0 = helper(nums[1:])\n",
    "        s1 = helper(nums[:-1])\n",
    "        return max(s0,s1)"
   ]
  },
  {
   "cell_type": "markdown",
   "metadata": {},
   "source": [
    "# 337. House Robber III"
   ]
  },
  {
   "cell_type": "code",
   "execution_count": 35,
   "metadata": {},
   "outputs": [],
   "source": [
    "# Definition for a binary tree node.\n",
    "# class TreeNode(object):\n",
    "#     def __init__(self, x):\n",
    "#         self.val = x\n",
    "#         self.left = None\n",
    "#         self.right = None\n",
    "\n",
    "class Solution(object):\n",
    "    def rob(self, root):\n",
    "        \"\"\"\n",
    "        :type root: TreeNode\n",
    "        :rtype: int\n",
    "        \"\"\"\n",
    "        \n",
    "        def dfs(root):\n",
    "            if not root: return (0,0) #(max without robbing, max with robbing)\n",
    "            lrob, lnrob = dfs(root.left)\n",
    "            rrob, rnrob = dfs(root.right)\n",
    "            \n",
    "            return (root.val+lnrob+rnrob, max(lrob,lnrob)+max(rrob,rnrob))\n",
    "        return max(dfs(root))"
   ]
  },
  {
   "cell_type": "markdown",
   "metadata": {},
   "source": [
    "# 55. Jump Game"
   ]
  },
  {
   "cell_type": "code",
   "execution_count": 36,
   "metadata": {},
   "outputs": [],
   "source": [
    "class Solution(object): \n",
    "    def canJump(self, nums):\n",
    "        \"\"\"\n",
    "        :type nums: List[int]\n",
    "        :rtype: bool\n",
    "        \"\"\"\n",
    "        n = len(nums)\n",
    "        if n==1: return True\n",
    "        last =0\n",
    "        for i in range(n-1):\n",
    "            if last>=i:\n",
    "                last = max(last, i+nums[i])\n",
    "                if last>= n-1: return True\n",
    "        return False"
   ]
  },
  {
   "cell_type": "markdown",
   "metadata": {},
   "source": [
    "# 45. Jump Game II"
   ]
  },
  {
   "cell_type": "code",
   "execution_count": 37,
   "metadata": {},
   "outputs": [],
   "source": [
    "class Solution(object):\n",
    "    def jump(self, nums):\n",
    "        \"\"\"\n",
    "        :type nums: List[int]\n",
    "        :rtype: int\n",
    "        \"\"\"\n",
    "        n = len(nums)\n",
    "        if n==1: return 0\n",
    "        dp = [float('inf')] *n\n",
    "        cur = 0\n",
    "        last = 0\n",
    "        ans = 0\n",
    "        for i in range(n-1):\n",
    "            cur = max(cur, i+ nums[i])\n",
    "            if i== last:\n",
    "                last = cur\n",
    "                ans +=1\n",
    "                if cur>= n-1:break\n",
    "        return ans"
   ]
  },
  {
   "cell_type": "markdown",
   "metadata": {},
   "source": [
    "# 121. Best Time to Buy and Sell Stock"
   ]
  },
  {
   "cell_type": "code",
   "execution_count": 38,
   "metadata": {},
   "outputs": [],
   "source": [
    "class Solution(object):\n",
    "    def maxProfit(self, prices):\n",
    "        \"\"\"\n",
    "        :type prices: List[int]\n",
    "        :rtype: int\n",
    "        \"\"\"\n",
    "        n = len(prices)\n",
    "        if n == 0: return 0\n",
    "        minP = prices[0]\n",
    "        maxV = 0\n",
    "        for i in range(1,n):\n",
    "            maxV = max(maxV, prices[i]-minP)\n",
    "            minP = min(minP,prices[i])\n",
    "        \n",
    "        return maxV"
   ]
  },
  {
   "cell_type": "markdown",
   "metadata": {},
   "source": [
    "# 122. Best Time to Buy and Sell Stock II"
   ]
  },
  {
   "cell_type": "code",
   "execution_count": 39,
   "metadata": {},
   "outputs": [],
   "source": [
    "class Solution(object):\n",
    "    def maxProfit(self, prices):\n",
    "        \"\"\"\n",
    "        :type prices: List[int]\n",
    "        :rtype: int\n",
    "        \"\"\"\n",
    "        n = len(prices)\n",
    "        if n==0: return 0\n",
    "        maxV = 0\n",
    "        for i in range(1,n):\n",
    "            if prices[i]-prices[i-1] >0:\n",
    "                maxV += prices[i]-prices[i-1]\n",
    "        return maxV"
   ]
  },
  {
   "cell_type": "markdown",
   "metadata": {},
   "source": [
    "# 123. Best Time to Buy and Sell Stock III"
   ]
  },
  {
   "cell_type": "code",
   "execution_count": 40,
   "metadata": {},
   "outputs": [],
   "source": [
    "class Solution(object):\n",
    "    def maxProfit(self, prices):\n",
    "        \"\"\"\n",
    "        :type prices: List[int]\n",
    "        :rtype: int\n",
    "        \"\"\"\n",
    "        n = len(prices)\n",
    "        if n==0: return 0\n",
    "        if n==1: return 0\n",
    "        f = [[0]*5 for _ in range(n)]\n",
    "        for i in range(1,n):\n",
    "            for j in range(1,5):\n",
    "                ## 2,4: doesn't own any stock or sell on i-th day \n",
    "                if j%2==0:\n",
    "                    f[i][j] = max(f[i-1][j],f[i-1][j-1]+prices[i]-prices[i-1])\n",
    "                ## 1,3: own stock or buy on i-th day\n",
    "                else:\n",
    "                    f[i][j] = max(f[i-1][j]+prices[i]-prices[i-1], f[i][j-1])\n",
    "        \n",
    "                        \n",
    "        ans = max(f[n-1][0],f[n-1][2],f[n-1][4])\n",
    "        return ans"
   ]
  },
  {
   "cell_type": "markdown",
   "metadata": {},
   "source": [
    "# 188. Best Time to Buy and Sell Stock IV"
   ]
  },
  {
   "cell_type": "code",
   "execution_count": 41,
   "metadata": {},
   "outputs": [],
   "source": [
    "class Solution(object):\n",
    "    def maxProfit(self, k, prices):\n",
    "        \"\"\"\n",
    "        :type k: int\n",
    "        :type prices: List[int]\n",
    "        :rtype: int\n",
    "        \"\"\"\n",
    "        n = len(prices)\n",
    "        if n==0: return 0\n",
    "        if n==1: return 0\n",
    "        ans = 0\n",
    "        if k>n//2:\n",
    "            maxV = 0\n",
    "            for i in range(1,n):\n",
    "                if prices[i]-prices[i-1] >0:\n",
    "                    maxV += prices[i]-prices[i-1]\n",
    "            return maxV\n",
    "            \n",
    "            \n",
    "        f = [[0]*(2*k+1) for _ in range(2)]\n",
    "        for i in range(1,n):\n",
    "            cur = i%2\n",
    "            pre = (i-1)%2\n",
    "            for j in range(1,2*k+1):\n",
    "                ## 2,4: doesn't own any stock or sell on i-th day \n",
    "                if j%2==0:\n",
    "                    f[cur][j] = max(f[pre][j],f[pre][j-1]+prices[i]-prices[i-1])\n",
    "                    if i == n-1:\n",
    "                        ans = max(ans,f[cur][j])\n",
    "                ## 1,3: own stock or buy on i-th day\n",
    "                else:\n",
    "                    f[cur][j] = max(f[pre][j]+prices[i]-prices[i-1], f[cur][j-1])\n",
    "        \n",
    "        return ans"
   ]
  },
  {
   "cell_type": "markdown",
   "metadata": {},
   "source": [
    "# 174. Dungeon Game"
   ]
  },
  {
   "cell_type": "code",
   "execution_count": 42,
   "metadata": {},
   "outputs": [],
   "source": [
    "class Solution(object):\n",
    "    def calculateMinimumHP(self, dungeon):\n",
    "        \"\"\"\n",
    "        :type dungeon: List[List[int]]\n",
    "        :rtype: int\n",
    "        \"\"\"\n",
    "        \n",
    "        \n",
    "        m,n = len(dungeon),len(dungeon[0])\n",
    "        f = [[float('inf')]*(n+1) for _ in range(m+1)]\n",
    "        f[m][n-1] = 1\n",
    "        f[m-1][n] = 1\n",
    "        \n",
    "        for i in range(m-1,-1,-1):\n",
    "            for j in range(n-1,-1,-1):\n",
    "                f[i][j] = max(1,min(f[i+1][j],f[i][j+1])-dungeon[i][j])\n",
    "        return f[0][0]"
   ]
  },
  {
   "cell_type": "markdown",
   "metadata": {},
   "source": [
    "# 91. Decode Ways"
   ]
  },
  {
   "cell_type": "code",
   "execution_count": 43,
   "metadata": {},
   "outputs": [],
   "source": [
    "class Solution(object):\n",
    "    def numDecodings(self, s):\n",
    "        \"\"\"\n",
    "        :type s: str\n",
    "        :rtype: int\n",
    "        \"\"\"\n",
    "        if not s: return 0\n",
    "        n = len(s)\n",
    "        dp = [0] * (n+1)\n",
    "        dp[0] = 1\n",
    "        for i in range(1,n+1):\n",
    "            if s[i-1]!=\"0\":\n",
    "                dp[i] += dp[i-1]\n",
    "            if i>1 and s[i-2:i] <\"27\" and s[i-2:i]>=\"10\":\n",
    "                dp[i] += dp[i-2]\n",
    "        return dp[-1]"
   ]
  },
  {
   "cell_type": "markdown",
   "metadata": {},
   "source": [
    "# 279. Perfect Squares"
   ]
  },
  {
   "cell_type": "code",
   "execution_count": 44,
   "metadata": {},
   "outputs": [],
   "source": [
    "class Solution(object):\n",
    "    def numSquares(self, n):\n",
    "        \"\"\"\n",
    "        :type n: int\n",
    "        :rtype: int\n",
    "        \"\"\"\n",
    "        \n",
    "        f = [float('inf')]*(n+1)\n",
    "        f[0] = 0\n",
    "        squares = set()\n",
    "        i = 1\n",
    "        while i**2<=n:\n",
    "            f[i**2] =1\n",
    "            squares.add(i**2)\n",
    "            i+=1\n",
    "        for i in range(1,n+1):\n",
    "            for j in squares:\n",
    "                if j<=i:\n",
    "                    f[i]=min(f[i],f[i-j]+1)\n",
    "        return f[-1]"
   ]
  },
  {
   "cell_type": "markdown",
   "metadata": {},
   "source": [
    "# 139. Word Break"
   ]
  },
  {
   "cell_type": "code",
   "execution_count": 45,
   "metadata": {},
   "outputs": [],
   "source": [
    "class Solution(object):\n",
    "    def wordBreak(self, s, wordDict):\n",
    "        \"\"\"\n",
    "        :type s: str\n",
    "        :type wordDict: List[str]\n",
    "        :rtype: bool\n",
    "        \"\"\"\n",
    "        wordDict = set(wordDict)\n",
    "        n = len(s)\n",
    "        dp = [False]*(n+1)  # dp[i]: s[:i] can be segmented\n",
    "        dp[0] = True\n",
    "        for i in range(1,n+1):\n",
    "            for j in range(i):\n",
    "                if dp[j] and s[j:i] in wordDict:\n",
    "                    dp[i] = True\n",
    "        return dp[-1]"
   ]
  },
  {
   "cell_type": "markdown",
   "metadata": {},
   "source": [
    "# 140. Word Break II"
   ]
  },
  {
   "cell_type": "code",
   "execution_count": 46,
   "metadata": {},
   "outputs": [],
   "source": [
    "class Solution(object):\n",
    "    def wordBreak(self, s, wordDict):\n",
    "        \"\"\"\n",
    "        :type s: str\n",
    "        :type wordDict: List[str]\n",
    "        :rtype: List[str]\n",
    "        \"\"\"\n",
    "        wordDict = set(wordDict)\n",
    "        ans = []\n",
    "        mem = {}\n",
    "        \n",
    "        def dfs(s, words, mem):\n",
    "            if s in mem: return mem[s]\n",
    "            if s==\"\": return [\"\"]\n",
    "            \n",
    "            out = []\n",
    "            for word in wordDict:\n",
    "                if len(word) <= len(s) and s[:len(word)]==word:\n",
    "                    rem = dfs(s[len(word):],words,mem)\n",
    "                    for string in rem:\n",
    "                        if string:\n",
    "                            out.append(word+' '+string)\n",
    "                        else:\n",
    "                            out.append(word)\n",
    "            mem[s] = out[:]\n",
    "            return mem[s]\n",
    "        \n",
    "        return dfs(s, wordDict, mem)"
   ]
  },
  {
   "cell_type": "markdown",
   "metadata": {},
   "source": [
    "# 727. Minimum Window Subsequence"
   ]
  },
  {
   "cell_type": "code",
   "execution_count": 53,
   "metadata": {},
   "outputs": [],
   "source": [
    "class Solution(object):\n",
    "    def minWindow(self, S, T):\n",
    "        \"\"\"\n",
    "        :type S: str\n",
    "        :type T: str\n",
    "        :rtype: str\n",
    "        \"\"\"\n",
    "        m = len(S)\n",
    "        n = len(T)\n",
    "        min_len= float('inf')\n",
    "        ans = \"\"\n",
    "        if n>m: return ans\n",
    "        f = [[-1]*(n+1) for _ in range(m+1)]\n",
    "        # f[i][j]: start index of substring S[:i] containing T[:j]\n",
    "        for i in range(m+1):\n",
    "            f[i][0] = i\n",
    "        for i in range(1,m+1):\n",
    "            for j in range(1,min(i,n)+1):\n",
    "                if S[i-1] == T[j-1]:\n",
    "                    f[i][j] = f[i-1][j-1]\n",
    "                else:\n",
    "                    f[i][j] = f[i-1][j]\n",
    "            if f[i][n]!=-1 and min_len>(i-f[i][n]):\n",
    "                min_len=i-f[i][n]\n",
    "                ans = S[f[i][n]:i]\n",
    "        return ans"
   ]
  },
  {
   "cell_type": "markdown",
   "metadata": {},
   "source": [
    "# 221. Maximal Square"
   ]
  },
  {
   "cell_type": "code",
   "execution_count": 47,
   "metadata": {},
   "outputs": [],
   "source": [
    "class Solution(object):\n",
    "    def maximalSquare(self, matrix):\n",
    "        \"\"\"\n",
    "        :type matrix: List[List[str]]\n",
    "        :rtype: int\n",
    "        \"\"\"\n",
    "        if not matrix: return 0\n",
    "        m,n = len(matrix), len(matrix[0])\n",
    "        f = [[0]*n for _ in range(m)]\n",
    "        maxLen = 0\n",
    "        for i in range(m):\n",
    "            for j in range(n):\n",
    "                if matrix[i][j]=='0': continue\n",
    "                f[i][j] = 1\n",
    "                if i-1>=0 and j-1>=0:\n",
    "                    f[i][j]=min(f[i-1][j-1],f[i-1][j],f[i][j-1])+1\n",
    "                maxLen = max(maxLen,f[i][j])\n",
    "        return maxLen*maxLen"
   ]
  },
  {
   "cell_type": "markdown",
   "metadata": {},
   "source": [
    "# 64. Minimum Path Sum"
   ]
  },
  {
   "cell_type": "code",
   "execution_count": 48,
   "metadata": {},
   "outputs": [],
   "source": [
    "class Solution(object):\n",
    "    def minPathSum(self, grid):\n",
    "        \"\"\"\n",
    "        :type grid: List[List[int]]\n",
    "        :rtype: int\n",
    "        \"\"\"\n",
    "        m,n = len(grid), len(grid[0])\n",
    "        ans = [[0]*n for _ in range(m)]\n",
    "        for i in range(m):\n",
    "            for j in range(n):\n",
    "                if i==0 and j==0:\n",
    "                    ans[i][j] = grid[i][j]\n",
    "                    continue\n",
    "                t = float('inf')\n",
    "                if i>0: t = min(t, ans[i-1][j]+grid[i][j])\n",
    "                if j>0: t = min(t, ans[i][j-1]+grid[i][j])\n",
    "                ans[i][j] = t\n",
    "        return ans[m-1][n-1]"
   ]
  },
  {
   "cell_type": "markdown",
   "metadata": {},
   "source": [
    "# 62. Unique Paths"
   ]
  },
  {
   "cell_type": "code",
   "execution_count": 49,
   "metadata": {},
   "outputs": [],
   "source": [
    "class Solution(object):\n",
    "    def uniquePaths(self, m, n):\n",
    "        \"\"\"\n",
    "        :type m: int\n",
    "        :type n: int\n",
    "        :rtype: int\n",
    "        \"\"\"\n",
    "        \n",
    "        ans = [[0]*n for _ in range(m)]\n",
    "        for i in range(m):\n",
    "            for j in range(n):\n",
    "                if i==0 or j ==0 :\n",
    "                    ans[i][j] = 1\n",
    "                else:\n",
    "                    ans[i][j] = ans[i-1][j] +ans[i][j-1]\n",
    "        return ans[m-1][n-1]"
   ]
  },
  {
   "cell_type": "markdown",
   "metadata": {},
   "source": [
    "# 63. Unique Paths II"
   ]
  },
  {
   "cell_type": "code",
   "execution_count": null,
   "metadata": {},
   "outputs": [],
   "source": [
    "class Solution(object):\n",
    "    def uniquePathsWithObstacles(self, obstacleGrid):\n",
    "        \"\"\"\n",
    "        :type obstacleGrid: List[List[int]]\n",
    "        :rtype: int\n",
    "        \"\"\"\n",
    "        m, n = len(obstacleGrid), len(obstacleGrid[0])\n",
    "        ans = [[0]*n for _ in range(m)]\n",
    "        for i in range(m):\n",
    "            for j in range(n):\n",
    "                if obstacleGrid[i][j] ==1:\n",
    "                    ans[i][j] = 0\n",
    "                    continue\n",
    "                if i==0 and j==0:\n",
    "                    ans[i][j] = 1\n",
    "                else:\n",
    "                    if i>0: ans[i][j] += ans[i-1][j]\n",
    "                    if j>0: ans[i][j] += ans[i][j-1]\n",
    "        return ans[m-1][n-1]"
   ]
  },
  {
   "cell_type": "markdown",
   "metadata": {},
   "source": [
    "# 256. Paint House"
   ]
  },
  {
   "cell_type": "code",
   "execution_count": 51,
   "metadata": {},
   "outputs": [],
   "source": [
    "class Solution(object):\n",
    "    def minCost(self, costs):\n",
    "        \"\"\"\n",
    "        :type costs: List[List[int]]\n",
    "        :rtype: int\n",
    "        \"\"\"\n",
    "        n = len(costs)\n",
    "        f = [[0]*3 for _ in range(n+1)]\n",
    "        for i in range(1,n+1):\n",
    "            for k in range(3):\n",
    "                t = float('inf')\n",
    "                for j in range(3):\n",
    "                    if j != k:\n",
    "                        t = min(t, f[i-1][j])\n",
    "                f[i][k] = t+costs[i-1][k]\n",
    "        return min(f[n])"
   ]
  },
  {
   "cell_type": "markdown",
   "metadata": {},
   "source": [
    "# 265. Paint House II"
   ]
  },
  {
   "cell_type": "code",
   "execution_count": 52,
   "metadata": {},
   "outputs": [],
   "source": [
    "class Solution(object):\n",
    "    def minCostII(self, costs):\n",
    "        \"\"\"\n",
    "        :type costs: List[List[int]]\n",
    "        :rtype: int\n",
    "        \"\"\"\n",
    "        n = len(costs)\n",
    "        if n==0: return 0\n",
    "        k = len(costs[0])\n",
    "        f = [[0]*k for _ in range(n+1)]\n",
    "        \n",
    "        last1 = last2 = 0\n",
    "        cur1 = cur2 = -1\n",
    "        for i in range(1,n+1):\n",
    "            min1 = min2 = float('inf')\n",
    "            for j in range(k):\n",
    "                if j == last1:\n",
    "                    f[i][j] = f[i-1][last2]+costs[i-1][j]\n",
    "                else:\n",
    "                    f[i][j] = f[i-1][last1]+costs[i-1][j]\n",
    "                    \n",
    "                if f[i][j]< min1:\n",
    "                    min1, min2 = f[i][j], min1\n",
    "                    cur1, cur2 = j, cur1\n",
    "                elif f[i][j] < min2:\n",
    "                    min2 = f[i][j]\n",
    "                    cur2 = j\n",
    "            last1, last2 = cur1, cur2\n",
    "                \n",
    "        return f[n][cur1]"
   ]
  },
  {
   "cell_type": "markdown",
   "metadata": {},
   "source": [
    "# 72. Edit Distance"
   ]
  },
  {
   "cell_type": "code",
   "execution_count": 54,
   "metadata": {},
   "outputs": [],
   "source": [
    "class Solution(object):\n",
    "    def minDistance(self, word1, word2):\n",
    "        \"\"\"\n",
    "        :type word1: str\n",
    "        :type word2: str\n",
    "        :rtype: int\n",
    "        \"\"\"\n",
    "        m = len(word1)\n",
    "        n = len(word2)\n",
    "        f = [[0]*(n+1) for _ in range(m+1) ]\n",
    "        for i in range(m+1):\n",
    "            f[i][0] = i\n",
    "        for j in range(n+1):\n",
    "            f[0][j] = j\n",
    "        for i in range(1,m+1):\n",
    "            for j in range(1,n+1):\n",
    "                if word1[i-1]==word2[j-1]:\n",
    "                    f[i][j] = 1+min(f[i][j-1],f[i-1][j],f[i-1][j-1]-1)\n",
    "                else:\n",
    "                    f[i][j] = 1+min(f[i][j-1],f[i-1][j],f[i-1][j-1])\n",
    "        return f[m][n]"
   ]
  },
  {
   "cell_type": "markdown",
   "metadata": {},
   "source": [
    "# 115. Distinct Subsequences"
   ]
  },
  {
   "cell_type": "code",
   "execution_count": 55,
   "metadata": {},
   "outputs": [],
   "source": [
    "class Solution(object):\n",
    "    def numDistinct(self, s, t):\n",
    "        \"\"\"\n",
    "        :type s: str\n",
    "        :type t: str\n",
    "        :rtype: int\n",
    "        \"\"\"\n",
    "        m = len(s)\n",
    "        n = len(t)\n",
    "        f = [[0]*(n+1) for _ in range(m+1)]\n",
    "        # number of disctinct subseq of S[:i] which equals T[:j]\n",
    "        for i in range(m+1):\n",
    "            f[i][0] = 1\n",
    "        \n",
    "        for j in range(1,n+1):\n",
    "            for i in range(j,m+1):\n",
    "                if s[i-1]==t[j-1]:\n",
    "                    f[i][j] = f[i-1][j-1]+f[i-1][j]\n",
    "                else:\n",
    "                    f[i][j] = f[i-1][j]\n",
    "        return f[m][n]"
   ]
  },
  {
   "cell_type": "markdown",
   "metadata": {},
   "source": [
    "# 516. Longest Palindromic Subsequence"
   ]
  },
  {
   "cell_type": "code",
   "execution_count": 56,
   "metadata": {},
   "outputs": [],
   "source": [
    "class Solution(object):\n",
    "    def longestPalindromeSubseq(self, s):\n",
    "        \"\"\"\n",
    "        :type s: str\n",
    "        :rtype: int\n",
    "        \"\"\"\n",
    "        n = len(s)\n",
    "        f = [[0]*n for _ in range(n)]\n",
    "        for i in range(n):\n",
    "            f[i][i] = 1\n",
    "        \n",
    "        for i in range(n,-1,-1):\n",
    "            for j in range(i+1,n):\n",
    "                if s[i]==s[j]:\n",
    "                    f[i][j] = f[i+1][j-1]+2\n",
    "                else:\n",
    "                    f[i][j] = max(f[i+1][j],f[i][j-1])\n",
    "        return f[0][n-1]"
   ]
  },
  {
   "cell_type": "markdown",
   "metadata": {},
   "source": [
    "# Longest Common Subsequence"
   ]
  },
  {
   "cell_type": "code",
   "execution_count": 57,
   "metadata": {},
   "outputs": [],
   "source": [
    "class Solution(object):\n",
    "    def longestCommonSubseq(self, s, t):\n",
    "        \"\"\"\n",
    "        :type s: str\n",
    "        :type t: str\n",
    "        :rtype: int\n",
    "        \"\"\"\n",
    "        m = len(s)\n",
    "        n = len(t)\n",
    "        f = [[0]*(n+1) for _ in range(m+1)]\n",
    "        # number of longest common subseq between S[:i] and T[:j]\n",
    "        \n",
    "        for i in range(1,m+1):\n",
    "            for j in range(1,n-1):\n",
    "                if s[i-1]==t[j-1]:\n",
    "                    f[i][j] = f[i-1][j-1]+1\n",
    "                else:\n",
    "                    f[i][j] = max(f[i-1][j],f[i][j-1])\n",
    "        return f[m][n]"
   ]
  },
  {
   "cell_type": "markdown",
   "metadata": {},
   "source": [
    "# Longest Common Substring"
   ]
  },
  {
   "cell_type": "code",
   "execution_count": 58,
   "metadata": {},
   "outputs": [],
   "source": [
    "class Solution(object):\n",
    "    def longestCommonSubstr(self, s, t):\n",
    "        \"\"\"\n",
    "        :type s: str\n",
    "        :type t: str\n",
    "        :rtype: int\n",
    "        \"\"\"\n",
    "        m = len(s)\n",
    "        n = len(t)\n",
    "        f = [[0]*(n+1) for _ in range(m+1)]\n",
    "        # number of longest common substr between S[:i] and T[:j]\n",
    "        ans = -float('inf')\n",
    "        for i in range(1,m+1):\n",
    "            for j in range(1,n-1):\n",
    "                if s[i-1]==t[j-1]:\n",
    "                    f[i][j] = f[i-1][j-1]+1\n",
    "                    ans = max(ans, f[i][j])\n",
    "        return ans"
   ]
  },
  {
   "cell_type": "markdown",
   "metadata": {},
   "source": [
    "# 146. LRU Cache"
   ]
  },
  {
   "cell_type": "code",
   "execution_count": 59,
   "metadata": {},
   "outputs": [],
   "source": [
    "from collections import OrderedDict\n",
    "class LRUCache(OrderedDict):\n",
    "\n",
    "    def __init__(self, capacity):\n",
    "        \"\"\"\n",
    "        :type capacity: int\n",
    "        \"\"\"\n",
    "        self.capacity = capacity\n",
    "\n",
    "    def get(self, key):\n",
    "        \"\"\"\n",
    "        :type key: int\n",
    "        :rtype: int\n",
    "        \"\"\"\n",
    "        if key not in self:\n",
    "            return - 1\n",
    "        \n",
    "        self.move_to_end(key)\n",
    "        return self[key]\n",
    "\n",
    "    def put(self, key, value):\n",
    "        \"\"\"\n",
    "        :type key: int\n",
    "        :type value: int\n",
    "        :rtype: void\n",
    "        \"\"\"\n",
    "        if key in self:\n",
    "            self.move_to_end(key)\n",
    "        self[key] = value\n",
    "        if len(self) > self.capacity:\n",
    "            self.popitem(last = False)"
   ]
  },
  {
   "cell_type": "markdown",
   "metadata": {},
   "source": [
    "# 380. Insert Delete GetRandom O(1)"
   ]
  },
  {
   "cell_type": "code",
   "execution_count": 63,
   "metadata": {},
   "outputs": [],
   "source": [
    "class RandomizedSet(object):\n",
    "\n",
    "    def __init__(self):\n",
    "        \"\"\"\n",
    "        Initialize your data structure here.\n",
    "        \"\"\"\n",
    "        self.data = []\n",
    "        self.pos = {}\n",
    "        \n",
    "\n",
    "    def insert(self, val):\n",
    "        \"\"\"\n",
    "        Inserts a value to the set. Returns true if the set did not already contain the specified element.\n",
    "        :type val: int\n",
    "        :rtype: bool\n",
    "        \"\"\"\n",
    "        if val not in self.pos:\n",
    "            self.pos[val]=len(self.data)\n",
    "            self.data.append(val)\n",
    "            return True\n",
    "        return False\n",
    "        \n",
    "\n",
    "    def remove(self, val):\n",
    "        \"\"\"\n",
    "        Removes a value from the set. Returns true if the set contained the specified element.\n",
    "        :type val: int\n",
    "        :rtype: bool\n",
    "        \"\"\"\n",
    "        if val not in self.pos: return False\n",
    "        pos = self.pos[val]\n",
    "        lastP = len(self.data)-1\n",
    "        lastV = self.data[lastP]\n",
    "        if pos != lastP:\n",
    "            self.pos[lastV] = pos\n",
    "            self.data[pos] = lastV\n",
    "        del self.pos[val]\n",
    "        self.data.pop()\n",
    "        return True\n",
    "        \n",
    "\n",
    "    def getRandom(self):\n",
    "        \"\"\"\n",
    "        Get a random element from the set.\n",
    "        :rtype: int\n",
    "        \"\"\"\n",
    "        \n",
    "        return random.choice(self.data)"
   ]
  },
  {
   "cell_type": "markdown",
   "metadata": {},
   "source": [
    "# 381. Insert Delete GetRandom O(1) - Duplicates allowed"
   ]
  },
  {
   "cell_type": "code",
   "execution_count": 62,
   "metadata": {},
   "outputs": [],
   "source": [
    "class RandomizedCollection(object):\n",
    "\n",
    "    def __init__(self):\n",
    "        \"\"\"\n",
    "        Initialize your data structure here.\n",
    "        \"\"\"\n",
    "        self.data = []\n",
    "        self.pos = collections.defaultdict(set)\n",
    "        \n",
    "\n",
    "    def insert(self, val):\n",
    "        \"\"\"\n",
    "        Inserts a value to the collection. Returns true if the collection did not already contain the specified element.\n",
    "        :type val: int\n",
    "        :rtype: bool\n",
    "        \"\"\"\n",
    "        if val not in self.pos:\n",
    "            self.pos[val].add(len(self.data))\n",
    "            self.data.append(val)\n",
    "            return True\n",
    "        else:\n",
    "            self.pos[val].add(len(self.data))\n",
    "            self.data.append(val)\n",
    "            return False\n",
    "        \n",
    "\n",
    "    def remove(self, val):\n",
    "        \"\"\"\n",
    "        Removes a value from the collection. Returns true if the collection contained the specified element.\n",
    "        :type val: int\n",
    "        :rtype: bool\n",
    "        \"\"\"\n",
    "        if val not in self.pos: return False\n",
    "        pos = self.pos[val].pop()\n",
    "        if len(self.pos[val])==0: del self.pos[val]\n",
    "        if pos != len(self.data)-1:\n",
    "            lastP = len(self.data)-1\n",
    "            lastV = self.data[lastP]\n",
    "            self.pos[lastV].remove(lastP)\n",
    "            self.pos[lastV].add(pos)\n",
    "            self.data[pos] = lastV\n",
    "        self.data.pop()\n",
    "        return True\n",
    "        \n",
    "\n",
    "    def getRandom(self):\n",
    "        \"\"\"\n",
    "        Get a random element from the collection.\n",
    "        :rtype: int\n",
    "        \"\"\"\n",
    "        return random.choice(self.data)"
   ]
  },
  {
   "cell_type": "markdown",
   "metadata": {},
   "source": [
    "# 432. All O(1) Data Structure"
   ]
  },
  {
   "cell_type": "code",
   "execution_count": 2,
   "metadata": {},
   "outputs": [],
   "source": [
    "class AllOne(object):\n",
    "    class FreqNode(object):\n",
    "        def __init__(self, freq):\n",
    "            self.freq = freq\n",
    "            self.vals = set()\n",
    "            self.pre = None\n",
    "            self.nxt = None\n",
    "        \n",
    "        def __len__(self):\n",
    "            return len(self.vals)\n",
    "            \n",
    "\n",
    "    def __init__(self):\n",
    "        \"\"\"\n",
    "        Initialize your data structure here.\n",
    "        \"\"\"\n",
    "        self.data = {}  # map key to freq/value\n",
    "        self.head = self.FreqNode(0)\n",
    "        self.tail = self.FreqNode(0)\n",
    "        self.head.nxt = self.tail\n",
    "        self.tail.pre = self.head\n",
    "        self.freqPos = {} # map key to pos in doubly linked list\n",
    "        \n",
    "        \n",
    "    def inc(self, key):\n",
    "        \"\"\"\n",
    "        Inserts a new key <Key> with value 1. Or increments an existing key by 1.\n",
    "        :type key: str\n",
    "        :rtype: None\n",
    "        \"\"\"\n",
    "        print(self.freqPos)\n",
    "        if key in self.data:\n",
    "            self.data[key] += 1\n",
    "        else:\n",
    "            self.data[key] = 1\n",
    "        freq = self.data[key]\n",
    "            # didn't find FreqNode and add FreqNode\n",
    "        if freq not in self.freqPos:\n",
    "            freqPos = self.FreqNode(freq)\n",
    "            self.freqPos[freq] = freqPos\n",
    "            freqPos.vals.add(key)\n",
    "            prePos = self.freqPos[freq-1] if freq>1 else self.head\n",
    "            freqPos.nxt = prePos.nxt\n",
    "            freqPos.pre = prePos\n",
    "            freqPos.nxt.pre = freqPos\n",
    "            freqPos.pre.nxt = freqPos\n",
    "        else:\n",
    "            freqPos = self.freqPos[freq]\n",
    "            freqPos.vals.add(key)\n",
    "        \n",
    "        if freq > 1:\n",
    "            self.freqPos[freq-1].vals.remove(key)\n",
    "            # remove empty FreqNode \n",
    "            if len(self.freqPos[freq-1].vals) == 0:\n",
    "                self.freqPos[freq-1].pre.nxt = self.freqPos[freq-1].nxt\n",
    "                self.freqPos[freq-1].nxt.pre = self.freqPos[freq-1].pre\n",
    "                del self.freqPos[freq-1]      \n",
    "\n",
    "    def dec(self, key):\n",
    "        \"\"\"\n",
    "        Decrements an existing key by 1. If Key's value is 1, remove it from the data structure.\n",
    "        :type key: str\n",
    "        :rtype: None\n",
    "        \"\"\"\n",
    "        if key not in self.data: return\n",
    "        self.data[key]-= 1\n",
    "        freq = self.data[key]\n",
    "        if freq ==0: del self.data[key]\n",
    "        else:\n",
    "            if freq not in self.freqPos:\n",
    "                freqPos = self.FreqNode(freq)\n",
    "                self.freqPos[freq] = freqPos\n",
    "                prePos = self.freqPos[freq+1]\n",
    "                freqPos.nxt = prePos\n",
    "                freqPos.pre = prePos.pre\n",
    "                freqPos.pre.nxt = freqPos\n",
    "                freqPos.nxt.pre = freqPos\n",
    "            else:\n",
    "                freqPos = self.freqPos[freq]\n",
    "            freqPos.vals.add(key)\n",
    "        \n",
    "        self.freqPos[freq+1].vals.remove(key)\n",
    "        if len(self.freqPos[freq+1].vals) == 0:\n",
    "            self.freqPos[freq+1].pre.nxt = self.freqPos[freq+1].nxt\n",
    "            self.freqPos[freq+1].nxt.pre = self.freqPos[freq+1].pre\n",
    "            del self.freqPos[freq+1]   \n",
    "\n",
    "    def getMaxKey(self):\n",
    "        \"\"\"\n",
    "        Returns one of the keys with maximal value.\n",
    "        :rtype: str\n",
    "        \"\"\"\n",
    "        if self.head.nxt != self.tail:\n",
    "            return list(self.tail.pre.vals)[0]\n",
    "        else:\n",
    "            return \"\"\n",
    "        \n",
    "\n",
    "    def getMinKey(self):\n",
    "        \"\"\"\n",
    "        Returns one of the keys with Minimal value.\n",
    "        :rtype: str\n",
    "        \"\"\"\n",
    "        if self.head.nxt != self.tail:\n",
    "            return list(self.head.nxt.vals)[0]\n",
    "        else:\n",
    "            return \"\""
   ]
  },
  {
   "cell_type": "markdown",
   "metadata": {},
   "source": [
    "# 379. Design Phone Directory"
   ]
  },
  {
   "cell_type": "code",
   "execution_count": null,
   "metadata": {},
   "outputs": [],
   "source": [
    "class PhoneDirectory(object):\n",
    "\n",
    "    def __init__(self, maxNumbers):\n",
    "        \"\"\"\n",
    "        Initialize your data structure here\n",
    "        @param maxNumbers - The maximum numbers that can be stored in the phone directory.\n",
    "        :type maxNumbers: int\n",
    "        \"\"\"\n",
    "        self.used = set()\n",
    "        self.avail = set()\n",
    "        for i in range(maxNumbers):\n",
    "            self.avail.add(i)\n",
    "\n",
    "    def get(self):\n",
    "        \"\"\"\n",
    "        Provide a number which is not assigned to anyone.\n",
    "        @return - Return an available number. Return -1 if none is available.\n",
    "        :rtype: int\n",
    "        \"\"\"\n",
    "        for i in self.avail:\n",
    "            self.avail.remove(i)\n",
    "            self.used.add(i)\n",
    "            return i\n",
    "        return -1\n",
    "        \n",
    "\n",
    "    def check(self, number):\n",
    "        \"\"\"\n",
    "        Check if a number is available or not.\n",
    "        :type number: int\n",
    "        :rtype: bool\n",
    "        \"\"\"\n",
    "        if number in self.used:\n",
    "            return False\n",
    "        return True\n",
    "        \n",
    "\n",
    "    def release(self, number):\n",
    "        \"\"\"\n",
    "        Recycle or release a number.\n",
    "        :type number: int\n",
    "        :rtype: None\n",
    "        \"\"\"\n",
    "        \n",
    "        if number in self.used:\n",
    "            self.used.remove(number)\n",
    "            self.avail.add(number)"
   ]
  },
  {
   "cell_type": "markdown",
   "metadata": {},
   "source": [
    "# 355. Design Twitter"
   ]
  },
  {
   "cell_type": "code",
   "execution_count": 3,
   "metadata": {},
   "outputs": [],
   "source": [
    "class Twitter(object):\n",
    "\n",
    "    def __init__(self):\n",
    "        \"\"\"\n",
    "        Initialize your data structure here.\n",
    "        \"\"\"\n",
    "        self.order = 0\n",
    "        self.followee = collections.defaultdict(set)\n",
    "        self.tweets = collections.defaultdict(list)\n",
    "        \n",
    "\n",
    "    def postTweet(self, userId, tweetId):\n",
    "        \"\"\"\n",
    "        Compose a new tweet.\n",
    "        :type userId: int\n",
    "        :type tweetId: int\n",
    "        :rtype: None\n",
    "        \"\"\"\n",
    "        self.tweets[userId].append((self.order,tweetId))\n",
    "        self.order -= 1\n",
    "        \n",
    "        \n",
    "\n",
    "    def getNewsFeed(self, userId):\n",
    "        \"\"\"\n",
    "        Retrieve the 10 most recent tweet ids in the user's news feed. Each item in the news feed must be posted by users who the user followed or by the user herself. Tweets must be ordered from most recent to least recent.\n",
    "        :type userId: int\n",
    "        :rtype: List[int]\n",
    "        \"\"\"\n",
    "        news = self.tweets[userId][:]\n",
    "        for user in self.followee[userId]:\n",
    "            news+= self.tweets[user][:]\n",
    "        heapq.heapify(news)\n",
    "        n = 10\n",
    "        out = []\n",
    "        for _ in range(10):\n",
    "            if news: out.append(heapq.heappop(news)[1]) \n",
    "        return out\n",
    "        \n",
    "\n",
    "    def follow(self, followerId, followeeId):\n",
    "        \"\"\"\n",
    "        Follower follows a followee. If the operation is invalid, it should be a no-op.\n",
    "        :type followerId: int\n",
    "        :type followeeId: int\n",
    "        :rtype: None\n",
    "        \"\"\"\n",
    "        if followerId != followeeId:\n",
    "            self.followee[followerId].add(followeeId)\n",
    "        \n",
    "\n",
    "    def unfollow(self, followerId, followeeId):\n",
    "        \"\"\"\n",
    "        Follower unfollows a followee. If the operation is invalid, it should be a no-op.\n",
    "        :type followerId: int\n",
    "        :type followeeId: int\n",
    "        :rtype: None\n",
    "        \"\"\"\n",
    "        if followeeId in self.followee[followerId]:\n",
    "            self.followee[followerId].remove(followeeId)"
   ]
  },
  {
   "cell_type": "markdown",
   "metadata": {},
   "source": [
    "# 136. Single Number"
   ]
  },
  {
   "cell_type": "code",
   "execution_count": 4,
   "metadata": {},
   "outputs": [],
   "source": [
    "class Solution(object):\n",
    "    def singleNumber(self, nums):\n",
    "        \"\"\"\n",
    "        :type nums: List[int]\n",
    "        :rtype: int\n",
    "        \"\"\"\n",
    "        ans = 0\n",
    "        for num in nums:\n",
    "            ans ^= num\n",
    "        return ans"
   ]
  },
  {
   "cell_type": "markdown",
   "metadata": {},
   "source": [
    "# 137. Single Number II"
   ]
  },
  {
   "cell_type": "code",
   "execution_count": null,
   "metadata": {},
   "outputs": [],
   "source": [
    "class Solution(object):\n",
    "    def singleNumber(self, nums):\n",
    "        \"\"\"\n",
    "        :type nums: List[int]\n",
    "        :rtype: int\n",
    "        \"\"\"\n",
    "        \n",
    "        a, b = 0, 0\n",
    "        for num in nums:\n",
    "            a1 = num & ~a & b | ~num & a & ~b\n",
    "            b1 = num & ~a & ~b | ~num & ~a & b\n",
    "            a, b = a1, b1\n",
    "        return b"
   ]
  },
  {
   "cell_type": "markdown",
   "metadata": {},
   "source": [
    "# 868. Binary Gap"
   ]
  },
  {
   "cell_type": "code",
   "execution_count": 5,
   "metadata": {},
   "outputs": [],
   "source": [
    "class Solution(object):\n",
    "    def binaryGap(self, N):\n",
    "        \"\"\"\n",
    "        :type N: int\n",
    "        :rtype: int\n",
    "        \"\"\"\n",
    "        prev = -1\n",
    "        cur = 0\n",
    "        maxGap = 0\n",
    "        \n",
    "        while N:\n",
    "            if N & 1 == 1:\n",
    "                if prev != -1:\n",
    "                    maxGap = max(maxGap,cur-prev)\n",
    "                prev = cur   \n",
    "            cur+=1\n",
    "            N = N//2\n",
    "        return maxGap"
   ]
  },
  {
   "cell_type": "markdown",
   "metadata": {},
   "source": [
    "# 191. Number of 1 Bits"
   ]
  },
  {
   "cell_type": "code",
   "execution_count": 6,
   "metadata": {},
   "outputs": [],
   "source": [
    "class Solution(object):\n",
    "    def hammingWeight(self, n):\n",
    "        \"\"\"\n",
    "        :type n: int\n",
    "        :rtype: int\n",
    "        \"\"\"\n",
    "        count = 0\n",
    "        while n > 0:\n",
    "            count += n&1\n",
    "            n = n>>1\n",
    "        return count"
   ]
  },
  {
   "cell_type": "markdown",
   "metadata": {},
   "source": [
    "# 190. Reverse Bits"
   ]
  },
  {
   "cell_type": "code",
   "execution_count": 7,
   "metadata": {},
   "outputs": [],
   "source": [
    "class Solution:\n",
    "    # @param n, an integer\n",
    "    # @return an integer\n",
    "    def reverseBits(self, n):\n",
    "        ans = 0\n",
    "        for i in range(32):\n",
    "            if (n>>i) & 1:\n",
    "                ans |= (1<<(31-i))\n",
    "            else:\n",
    "                ans &= ~(1<<(31-i))\n",
    "    \n",
    "        return ans\n",
    "        "
   ]
  },
  {
   "cell_type": "markdown",
   "metadata": {},
   "source": [
    "# 187. Repeated DNA Sequences"
   ]
  },
  {
   "cell_type": "code",
   "execution_count": 8,
   "metadata": {},
   "outputs": [],
   "source": [
    "class Solution(object):\n",
    "    def findRepeatedDnaSequences(self, s):\n",
    "        \"\"\"\n",
    "        :type s: str\n",
    "        :rtype: List[str]\n",
    "        \"\"\"\n",
    "        hmap = dict()\n",
    "        ans = []\n",
    "        n = len(s)\n",
    "        if n<10:return []\n",
    "        for i in range(10,n+1):\n",
    "            ss = s[i-10:i]\n",
    "            if ss not in hmap:\n",
    "                hmap[ss] = 1\n",
    "            elif hmap[ss]==1:\n",
    "                ans.append(ss)\n",
    "                hmap[ss]+=1\n",
    "        return ans"
   ]
  },
  {
   "cell_type": "markdown",
   "metadata": {},
   "source": [
    "# 201. Bitwise AND of Numbers Range"
   ]
  },
  {
   "cell_type": "code",
   "execution_count": 9,
   "metadata": {},
   "outputs": [],
   "source": [
    "class Solution(object):\n",
    "    def rangeBitwiseAnd(self, m, n):\n",
    "        \"\"\"\n",
    "        :type m: int\n",
    "        :type n: int\n",
    "        :rtype: int\n",
    "        \"\"\"\n",
    "        i = 0\n",
    "        while m!=n:\n",
    "            m >>= 1\n",
    "            n >>= 1\n",
    "            i+=1\n",
    "        return m<<i"
   ]
  },
  {
   "cell_type": "markdown",
   "metadata": {},
   "source": [
    "# 371. Sum of Two Integers"
   ]
  },
  {
   "cell_type": "code",
   "execution_count": null,
   "metadata": {},
   "outputs": [],
   "source": [
    "class Solution(object):\n",
    "    def getSum(self, a, b):\n",
    "        \"\"\"\n",
    "        :type a: int\n",
    "        :type b: int\n",
    "        :rtype: int\n",
    "        \"\"\"\n",
    "        # 32 bits integer max\n",
    "        MAX = 0x7FFFFFFF\n",
    "        # 32 bits interger min\n",
    "        MIN = 0x80000000\n",
    "        # mask to get last 32 bits\n",
    "        mask = 0xFFFFFFFF\n",
    "        while b != 0:\n",
    "            # ^ get different bits and & gets double 1s, << moves carry\n",
    "            a, b = (a ^ b) & mask, ((a & b) << 1) & mask\n",
    "        # if a is negative, get a's 32 bits complement positive first\n",
    "        # then get 32-bit positive's Python complement negative\n",
    "        return a if a <= MAX else ~(a ^ mask)"
   ]
  },
  {
   "cell_type": "markdown",
   "metadata": {},
   "source": [
    "# 338. Counting Bits"
   ]
  },
  {
   "cell_type": "code",
   "execution_count": 10,
   "metadata": {},
   "outputs": [],
   "source": [
    "class Solution(object):\n",
    "    def countBits(self, num):\n",
    "        \"\"\"\n",
    "        :type num: int\n",
    "        :rtype: List[int]\n",
    "        \"\"\"\n",
    "        ans = [0] *(num+1)\n",
    "        for i in range(1, num+1):\n",
    "            ans[i] = ans[i>>1] + (i & 1)\n",
    "        return ans"
   ]
  },
  {
   "cell_type": "markdown",
   "metadata": {},
   "source": [
    "# 318. Maximum Product of Word Lengths"
   ]
  },
  {
   "cell_type": "code",
   "execution_count": 11,
   "metadata": {},
   "outputs": [],
   "source": [
    "class Solution(object):\n",
    "    def maxProduct(self, words):\n",
    "        \"\"\"\n",
    "        :type words: List[str]\n",
    "        :rtype: int\n",
    "        \"\"\"\n",
    "        ans = 0\n",
    "        if not words: return ans\n",
    "        mask = {}\n",
    "        for i, word in enumerate(words):\n",
    "            mask[i] = 0\n",
    "            for c in word:\n",
    "                mask[i] |= 1<<(ord(c)-ord('a'))\n",
    "            \n",
    "            for j in range(i):\n",
    "                if not (mask[i] & mask[j]):\n",
    "                    ans = max(ans, len(words[i])*len(words[j]))\n",
    "        \n",
    "        return ans"
   ]
  },
  {
   "cell_type": "markdown",
   "metadata": {},
   "source": [
    "# 89. Gray Code"
   ]
  },
  {
   "cell_type": "code",
   "execution_count": 12,
   "metadata": {},
   "outputs": [],
   "source": [
    "class Solution(object):\n",
    "    def grayCode(self, n):\n",
    "        \"\"\"\n",
    "        :type n: int\n",
    "        :rtype: List[int]\n",
    "        \"\"\"\n",
    "        if n ==0: return [0]\n",
    "        ans = [0,1]\n",
    "        if n ==1: return ans\n",
    "        for i in range(n-1):\n",
    "            rev_ans = ans[::-1]\n",
    "            for a in rev_ans:\n",
    "                ans.append(a|(1)<<(i+1))\n",
    "        return ans"
   ]
  },
  {
   "cell_type": "markdown",
   "metadata": {},
   "source": [
    "# 393. UTF-8 Validation"
   ]
  },
  {
   "cell_type": "code",
   "execution_count": null,
   "metadata": {},
   "outputs": [],
   "source": [
    "class Solution(object):\n",
    "    def validUtf8(self, data):\n",
    "        \"\"\"\n",
    "        :type data: List[int]\n",
    "        :rtype: bool\n",
    "        \"\"\"\n",
    "        n = len(data)\n",
    "        \n",
    "        cnt = 0\n",
    "        for d in data:\n",
    "            if cnt ==0:\n",
    "                if (d>>5) == 0b110:\n",
    "                    cnt = 1\n",
    "                elif (d>>4) == 0b1110:\n",
    "                    cnt = 2\n",
    "                elif (d>>3) == 0b11110:\n",
    "                    cnt = 3\n",
    "                elif (d>>7) == 0 :\n",
    "                    continue\n",
    "                else:\n",
    "                    return False\n",
    "            else:\n",
    "                if (d>>6)!=0b10: return False\n",
    "                cnt -= 1\n",
    "        \n",
    "        return cnt == 0"
   ]
  },
  {
   "cell_type": "markdown",
   "metadata": {},
   "source": [
    "# 207. Course Schedule"
   ]
  },
  {
   "cell_type": "code",
   "execution_count": 13,
   "metadata": {},
   "outputs": [],
   "source": [
    "class Solution(object):\n",
    "    def canFinish(self, numCourses, prerequisites):\n",
    "        \"\"\"\n",
    "        :type numCourses: int\n",
    "        :type prerequisites: List[List[int]]\n",
    "        :rtype: bool\n",
    "        \"\"\"\n",
    "        \n",
    "        fr = collections.defaultdict(set)\n",
    "        #to = collections.defaultdict(set)\n",
    "        indegree = collections.defaultdict(int)\n",
    "        \n",
    "        for t, s in prerequisites:\n",
    "            fr[s].add(t)\n",
    "            #to[t].add(s)\n",
    "            indegree[t] += 1\n",
    "            \n",
    "        queue = []\n",
    "        order = []\n",
    "        for d in range(numCourses):\n",
    "            if indegree[d] == 0:\n",
    "                queue.append(d)\n",
    "                order.append(d)\n",
    "        \n",
    "        while queue:\n",
    "            d = queue.pop(0)\n",
    "            for nd in fr[d]:\n",
    "                indegree[nd] -= 1\n",
    "                if indegree[nd] == 0:\n",
    "                    queue.append(nd)\n",
    "                    order.append(nd)\n",
    "        return numCourses==len(order)"
   ]
  },
  {
   "cell_type": "markdown",
   "metadata": {},
   "source": [
    "# 210. Course Schedule II"
   ]
  },
  {
   "cell_type": "code",
   "execution_count": 14,
   "metadata": {},
   "outputs": [],
   "source": [
    "class Solution(object):\n",
    "    def findOrder(self, numCourses, prerequisites):\n",
    "        \"\"\"\n",
    "        :type numCourses: int\n",
    "        :type prerequisites: List[List[int]]\n",
    "        :rtype: List[int]\n",
    "        \"\"\"\n",
    "        fr = collections.defaultdict(set)\n",
    "        #to = collections.defaultdict(set)\n",
    "        indegree = collections.defaultdict(int)\n",
    "        \n",
    "        for t, s in prerequisites:\n",
    "            fr[s].add(t)\n",
    "            #to[t].add(s)\n",
    "            indegree[t] += 1\n",
    "            \n",
    "        queue = []\n",
    "        order = []\n",
    "        for d in range(numCourses):\n",
    "            if indegree[d] == 0:\n",
    "                queue.append(d)\n",
    "                order.append(d)\n",
    "        \n",
    "        while queue:\n",
    "            d = queue.pop(0)\n",
    "            for nd in fr[d]:\n",
    "                indegree[nd] -= 1\n",
    "                if indegree[nd] == 0:\n",
    "                    queue.append(nd)\n",
    "                    order.append(nd)\n",
    "        if len(order) == numCourses: return order\n",
    "        return []"
   ]
  },
  {
   "cell_type": "markdown",
   "metadata": {},
   "source": [
    "# 310. Minimum Height Trees"
   ]
  },
  {
   "cell_type": "code",
   "execution_count": null,
   "metadata": {},
   "outputs": [],
   "source": [
    "class Solution(object):\n",
    "    def findMinHeightTrees(self, n, edges):\n",
    "        \"\"\"\n",
    "        :type n: int\n",
    "        :type edges: List[List[int]]\n",
    "        :rtype: List[int]\n",
    "        \"\"\"\n",
    "        if n==1: return [0]\n",
    "        degrees = collections.defaultdict(int)\n",
    "        nbrs = collections.defaultdict(set)\n",
    "        visited = set()\n",
    "        \n",
    "        for u, v in edges:\n",
    "            degrees[u] += 1\n",
    "            degrees[v] += 1\n",
    "            nbrs[v].add(u)\n",
    "            nbrs[u].add(v)\n",
    "            \n",
    "        queue = []\n",
    "        for i in range(n):\n",
    "            if degrees[i] == 1:\n",
    "                queue.append(i)\n",
    "        \n",
    "        while queue:\n",
    "            ans = queue[:]\n",
    "            for _ in range(len(queue)):\n",
    "                d = queue.pop(0)\n",
    "                visited.add(d)\n",
    "                for nd in nbrs[d]:\n",
    "                    if nd in visited: continue\n",
    "                    degrees[nd] -= 1\n",
    "                    if degrees[nd] == 1:\n",
    "                        queue.append(nd)\n",
    "        return ans"
   ]
  },
  {
   "cell_type": "markdown",
   "metadata": {},
   "source": [
    "# 261. Graph Valid Tree"
   ]
  },
  {
   "cell_type": "code",
   "execution_count": 15,
   "metadata": {},
   "outputs": [],
   "source": [
    "class Solution(object):\n",
    "    def validTree(self, n, edges):\n",
    "        \"\"\"\n",
    "        :type n: int\n",
    "        :type edges: List[List[int]]\n",
    "        :rtype: bool\n",
    "        \"\"\"\n",
    "        if n ==1: return True\n",
    "        degrees = collections.defaultdict(int)\n",
    "        nbrs = collections.defaultdict(set)\n",
    "        visited = set()\n",
    "        for u, v in edges:\n",
    "            degrees[u] += 1\n",
    "            degrees[v] += 1\n",
    "            nbrs[u].add(v)\n",
    "            nbrs[v].add(u)\n",
    "        \n",
    "        queue = collections.deque()\n",
    "        for i in range(n):\n",
    "            if degrees[i] == 1:\n",
    "                queue.append(i)\n",
    "        \n",
    "        check = []\n",
    "        while queue:  \n",
    "            d = queue.popleft()\n",
    "            visited.add(d)\n",
    "            check.append(d)\n",
    "            for nd in nbrs[d]:\n",
    "                if nd in visited: continue\n",
    "                degrees[nd] -= 1\n",
    "                if degrees[nd] == 1:\n",
    "                    queue.append(nd)\n",
    "        \n",
    "        if len(check)!= n: return False\n",
    "        for i in range(n-1):\n",
    "            if degrees[check[i]]!=1: return False\n",
    "        if degrees[check[n-1]]!=0: return False\n",
    "        return True"
   ]
  },
  {
   "cell_type": "markdown",
   "metadata": {},
   "source": [
    "# 133. Clone Graph"
   ]
  },
  {
   "cell_type": "code",
   "execution_count": 16,
   "metadata": {},
   "outputs": [],
   "source": [
    "\"\"\"\n",
    "# Definition for a Node.\n",
    "class Node(object):\n",
    "    def __init__(self, val, neighbors):\n",
    "        self.val = val\n",
    "        self.neighbors = neighbors\n",
    "\"\"\"\n",
    "class Solution(object):\n",
    "    def cloneGraph(self, node):\n",
    "        \"\"\"\n",
    "        :type node: Node\n",
    "        :rtype: Node\n",
    "        \"\"\"\n",
    "        if not node: return node\n",
    "        visited = {}\n",
    "        \n",
    "        def dfs(node, visited):\n",
    "            if not node: return None\n",
    "            if node in visited: return visited[node]\n",
    "            new = Node(node.val,[])\n",
    "            visited[node] = new\n",
    "            for neighbor in node.neighbors:\n",
    "                new.neighbors.append(dfs(neighbor,visited))\n",
    "            return new\n",
    "        \n",
    "        return dfs(node,visited)"
   ]
  },
  {
   "cell_type": "markdown",
   "metadata": {},
   "source": [
    "# 332. Reconstruct Itinerary"
   ]
  },
  {
   "cell_type": "code",
   "execution_count": 17,
   "metadata": {},
   "outputs": [],
   "source": [
    "class Solution(object):\n",
    "    def findItinerary(self, tickets):\n",
    "        \"\"\"\n",
    "        :type tickets: List[List[str]]\n",
    "        :rtype: List[str]\n",
    "        \"\"\"\n",
    "        ans = []\n",
    "        n = len(tickets)\n",
    "        if n==0: return ans\n",
    "        tickets.sort()\n",
    "        itin = collections.defaultdict(list)\n",
    "        nvisited = collections.defaultdict(int)\n",
    "        for s, t in tickets:\n",
    "            itin[s].append(t)\n",
    "            nvisited[(s,t)]+=1\n",
    "        \n",
    "        ans = ['JFK']\n",
    "                \n",
    "        \n",
    "        def dfs(itin,ans,nvisited):\n",
    "            if len(ans)==n+1:\n",
    "                return True\n",
    "            s = ans[-1]\n",
    "            for t in itin[s]:\n",
    "                if nvisited[(s,t)]==0: continue\n",
    "                ans.append(t)\n",
    "                nvisited[(s,t)]-=1\n",
    "                if dfs(itin,ans,nvisited):\n",
    "                    return True\n",
    "                ans.pop()\n",
    "                nvisited[(s,t)]+=1\n",
    "            return False\n",
    "            \n",
    "                \n",
    "        dfs(itin,ans,nvisited)\n",
    "        return ans"
   ]
  },
  {
   "cell_type": "markdown",
   "metadata": {},
   "source": [
    "# 50. Pow(x, n)"
   ]
  },
  {
   "cell_type": "code",
   "execution_count": 18,
   "metadata": {},
   "outputs": [],
   "source": [
    "class Solution(object):\n",
    "    def myPow(self, x, n):\n",
    "        \"\"\"\n",
    "        :type x: float\n",
    "        :type n: int\n",
    "        :rtype: float\n",
    "        \"\"\"\n",
    "        if n == 0: return 1.0\n",
    "        if n<0: \n",
    "            n = -n\n",
    "            x = 1/x\n",
    "        \n",
    "        def dfs(x, n):\n",
    "            if n==0: return 1.0\n",
    "            if n%2==0:\n",
    "                return dfs(x*x,n//2)\n",
    "            else:\n",
    "                return dfs(x*x,n//2)*x       \n",
    "    \n",
    "        return dfs(x,n)"
   ]
  },
  {
   "cell_type": "code",
   "execution_count": null,
   "metadata": {},
   "outputs": [],
   "source": []
  },
  {
   "cell_type": "code",
   "execution_count": null,
   "metadata": {},
   "outputs": [],
   "source": []
  },
  {
   "cell_type": "code",
   "execution_count": null,
   "metadata": {},
   "outputs": [],
   "source": []
  },
  {
   "cell_type": "code",
   "execution_count": null,
   "metadata": {},
   "outputs": [],
   "source": []
  },
  {
   "cell_type": "code",
   "execution_count": 8,
   "metadata": {},
   "outputs": [],
   "source": [
    "class Solution(object):\n",
    "    def trap(self, height):\n",
    "        \"\"\"\n",
    "        :type height: List[int]\n",
    "        :rtype: int\n",
    "        \"\"\"\n",
    "        n = len(height)\n",
    "        if n<=1: return 0\n",
    "        stack = []\n",
    "        ans = 0\n",
    "        for i, h in enumerate(height):\n",
    "            while stack and h >= height[stack[-1]]:\n",
    "                cur = stack.pop()\n",
    "                if stack:\n",
    "                    print(cur,height[cur],height[stack[-1]],h)\n",
    "                    ans += (min(height[stack[-1]],h) -height[cur])*(i-stack[-1]-1)\n",
    "            stack.append(i)\n",
    "        return ans"
   ]
  },
  {
   "cell_type": "code",
   "execution_count": 9,
   "metadata": {},
   "outputs": [
    {
     "name": "stdout",
     "output_type": "stream",
     "text": [
      "2 0 1 2\n",
      "5 0 1 1\n",
      "4 1 2 1\n",
      "6 1 2 3\n",
      "9 1 2 2\n",
      "8 2 3 2\n"
     ]
    },
    {
     "data": {
      "text/plain": [
       "6"
      ]
     },
     "execution_count": 9,
     "metadata": {},
     "output_type": "execute_result"
    }
   ],
   "source": [
    "a = Solution()\n",
    "a.trap([0,1,0,2,1,0,1,3,2,1,2,1])"
   ]
  },
  {
   "cell_type": "code",
   "execution_count": 73,
   "metadata": {},
   "outputs": [
    {
     "name": "stdout",
     "output_type": "stream",
     "text": [
      "[56, 24, 74, -23, 87, 91] [3, 2, 4, 1, 5, 6]\n",
      "[74, 24, 56, -23, 87, 91] [4, 2, 3, 1, 5, 6]\n",
      "[-23, 24, 56, 74, 87, 91] [1, 2, 3, 4, 5, 6]\n"
     ]
    }
   ],
   "source": [
    "class Solution(object):\n",
    "    def sort(self,A,B):\n",
    "        n = len(A)\n",
    "        p1 = 0\n",
    "        while p1 < n:\n",
    "            p2 = B[p1]-1\n",
    "            while p2!= p1:\n",
    "                A[p1], A[p2] = A[p2], A[p1]\n",
    "                B[p1], B[p2] = B[p2], B[p1]\n",
    "                p2 = B[p1] -1\n",
    "                print(A,B)\n",
    "            p1 += 1\n",
    "\n",
    "A = [24,56,74,-23,87,91]\n",
    "B = [2,3,4,1,5,6]\n",
    "s = Solution()\n",
    "s.sort(A,B)\n"
   ]
  },
  {
   "cell_type": "code",
   "execution_count": 26,
   "metadata": {},
   "outputs": [
    {
     "data": {
      "text/plain": [
       "['a', 'c', 's']"
      ]
     },
     "execution_count": 26,
     "metadata": {},
     "output_type": "execute_result"
    }
   ],
   "source": [
    "sorted('sac')"
   ]
  },
  {
   "cell_type": "code",
   "execution_count": null,
   "metadata": {},
   "outputs": [],
   "source": []
  }
 ],
 "metadata": {
  "kernelspec": {
   "display_name": "Python 3",
   "language": "python",
   "name": "python3"
  },
  "language_info": {
   "codemirror_mode": {
    "name": "ipython",
    "version": 3
   },
   "file_extension": ".py",
   "mimetype": "text/x-python",
   "name": "python",
   "nbconvert_exporter": "python",
   "pygments_lexer": "ipython3",
   "version": "3.6.5"
  },
  "toc": {
   "base_numbering": 1,
   "nav_menu": {},
   "number_sections": true,
   "sideBar": true,
   "skip_h1_title": false,
   "title_cell": "Table of Contents",
   "title_sidebar": "Contents",
   "toc_cell": false,
   "toc_position": {},
   "toc_section_display": true,
   "toc_window_display": true
  }
 },
 "nbformat": 4,
 "nbformat_minor": 2
}
