{
 "cells": [
  {
   "cell_type": "markdown",
   "metadata": {},
   "source": [
    "# 372. Super Pow"
   ]
  },
  {
   "cell_type": "code",
   "execution_count": 1,
   "metadata": {},
   "outputs": [],
   "source": [
    "class Solution(object):\n",
    "    def superPow(self, a, b):\n",
    "        \"\"\"\n",
    "        :type a: int\n",
    "        :type b: List[int]\n",
    "        :rtype: int\n",
    "        \"\"\"\n",
    "        if not b: return 1\n",
    "        \n",
    "        def helper(a, k): ## a^k %1337\n",
    "            base = 1337\n",
    "            ans = 1\n",
    "            for i in range(k):\n",
    "                ans = (ans*a)%base\n",
    "            return ans\n",
    "        \n",
    "        last_digit = b.pop()\n",
    "        return (helper(self.superPow(a,b),10)*helper(a,last_digit))%1337"
   ]
  },
  {
   "cell_type": "markdown",
   "metadata": {},
   "source": [
    "# 7. Reverse Integer"
   ]
  },
  {
   "cell_type": "code",
   "execution_count": 2,
   "metadata": {},
   "outputs": [],
   "source": [
    "class Solution(object):\n",
    "    def reverse(self, x):\n",
    "        \"\"\"\n",
    "        :type x: int\n",
    "        :rtype: int\n",
    "        \"\"\"\n",
    "        \n",
    "        isPos = x>=0\n",
    "        x = abs(x)\n",
    "        y = 0\n",
    "        while x>0:\n",
    "            y = y*10+ (x%10)\n",
    "            x = x//10\n",
    "        y = y if isPos else -y\n",
    "        if y>=2**31 or y< -2**31: return 0\n",
    "        return y "
   ]
  },
  {
   "cell_type": "markdown",
   "metadata": {},
   "source": [
    "# 9. Palindrome Number"
   ]
  },
  {
   "cell_type": "code",
   "execution_count": 3,
   "metadata": {},
   "outputs": [],
   "source": [
    "class Solution(object):\n",
    "    def isPalindrome(self, x):\n",
    "        \"\"\"\n",
    "        :type x: int\n",
    "        :rtype: bool\n",
    "        \"\"\"\n",
    "        tmp = x\n",
    "        if x < 0: return False\n",
    "        y = 0\n",
    "        while x>0:\n",
    "            y = y*10+ (x%10)\n",
    "            x = x//10\n",
    "        return tmp ==y"
   ]
  },
  {
   "cell_type": "markdown",
   "metadata": {},
   "source": [
    "# 400. Nth Digit"
   ]
  },
  {
   "cell_type": "code",
   "execution_count": 4,
   "metadata": {},
   "outputs": [],
   "source": [
    "class Solution(object):\n",
    "    def findNthDigit(self, n):\n",
    "        \"\"\"\n",
    "        :type n: int\n",
    "        :rtype: int\n",
    "        \"\"\"\n",
    "        start = 1\n",
    "        digits = 1\n",
    "        cnt = 9\n",
    "        while n> digits*cnt:\n",
    "            n -= digits*cnt\n",
    "            cnt*=10\n",
    "            digits += 1\n",
    "            start*=10\n",
    "        \n",
    "        start += (n-1)//digits\n",
    "        t = str(start)\n",
    "        return int(t[(n-1)%digits])"
   ]
  },
  {
   "cell_type": "markdown",
   "metadata": {},
   "source": [
    "# 166. Fraction to Recurring Decimal"
   ]
  },
  {
   "cell_type": "code",
   "execution_count": 5,
   "metadata": {},
   "outputs": [],
   "source": [
    "class Solution(object):\n",
    "    def fractionToDecimal(self, numerator, denominator):\n",
    "        \"\"\"\n",
    "        :type numerator: int\n",
    "        :type denominator: int\n",
    "        :rtype: str\n",
    "        \"\"\"\n",
    "        s1 = 1 if numerator >=0 else -1\n",
    "        s2 = 1 if denominator>=0 else -1\n",
    "        numerator = -numerator if numerator <0 else numerator\n",
    "        denominator = -denominator if denominator<0 else denominator\n",
    "        q, r = divmod(numerator, denominator)\n",
    "        ans = str(q)\n",
    "        if s1*s2==-1 and (q>0 or r>0) : ans= '-'+ans\n",
    "        if r==0: return ans\n",
    "        ans += '.'\n",
    "        m = {}\n",
    "        pos = 0\n",
    "        s = \"\"\n",
    "        while r:\n",
    "            if r in m:\n",
    "                s = s[:m[r]]+'('+s[m[r]:]+')'\n",
    "                return ans+s\n",
    "            m[r] = pos\n",
    "            pos += 1\n",
    "            q, r = divmod(r*10, denominator)\n",
    "            s += str(q)\n",
    "        return ans+s"
   ]
  },
  {
   "cell_type": "markdown",
   "metadata": {},
   "source": [
    "# 171. Excel Sheet Column Number"
   ]
  },
  {
   "cell_type": "code",
   "execution_count": 6,
   "metadata": {},
   "outputs": [],
   "source": [
    "class Solution(object):\n",
    "    def titleToNumber(self, s):\n",
    "        \"\"\"\n",
    "        :type s: str\n",
    "        :rtype: int\n",
    "        \"\"\"\n",
    "        sum = 0\n",
    "        for c in s:\n",
    "            sum = 26*sum + (ord(c)-ord('A')+1)\n",
    "        return sum"
   ]
  },
  {
   "cell_type": "markdown",
   "metadata": {},
   "source": [
    "# 168. Excel Sheet Column Title"
   ]
  },
  {
   "cell_type": "code",
   "execution_count": 7,
   "metadata": {},
   "outputs": [],
   "source": [
    "class Solution(object):\n",
    "    def convertToTitle(self, n):\n",
    "        \"\"\"\n",
    "        :type n: int\n",
    "        :rtype: str\n",
    "        \"\"\"\n",
    "        ans = \"\"\n",
    "        while n>0:\n",
    "            r = (n-1)%26\n",
    "            ans = chr(ord('A')+r) +ans\n",
    "            n=(n-1)//26\n",
    "        return ans"
   ]
  },
  {
   "cell_type": "markdown",
   "metadata": {},
   "source": [
    "# 172. Factorial Trailing Zeroes"
   ]
  },
  {
   "cell_type": "code",
   "execution_count": 8,
   "metadata": {},
   "outputs": [],
   "source": [
    "class Solution(object):\n",
    "    def trailingZeroes(self, n):\n",
    "        \"\"\"\n",
    "        :type n: int\n",
    "        :rtype: int\n",
    "        \"\"\"\n",
    "        if n<5: return 0\n",
    "        return self.trailingZeroes(n//5)+n//5"
   ]
  },
  {
   "cell_type": "markdown",
   "metadata": {},
   "source": [
    "# 202. Happy Number"
   ]
  },
  {
   "cell_type": "code",
   "execution_count": 9,
   "metadata": {},
   "outputs": [],
   "source": [
    "class Solution(object):\n",
    "    def isHappy(self, n):\n",
    "        \"\"\"\n",
    "        :type n: int\n",
    "        :rtype: bool\n",
    "        \"\"\"\n",
    "        x = n\n",
    "        y = n\n",
    "        def calc(n):\n",
    "            s = 0\n",
    "            while n>0:\n",
    "                s += (n%10)**2\n",
    "                n =  n//10\n",
    "            return s\n",
    "        \n",
    "        \n",
    "        while True:\n",
    "            x = calc(x)\n",
    "            y = calc(calc(y))\n",
    "            if x == 1 or y==1: return True\n",
    "            if x==y: return False"
   ]
  },
  {
   "cell_type": "markdown",
   "metadata": {},
   "source": [
    "# 204. Count Primes"
   ]
  },
  {
   "cell_type": "code",
   "execution_count": 10,
   "metadata": {},
   "outputs": [],
   "source": [
    "class Solution(object):\n",
    "    def countPrimes(self, n):\n",
    "        \"\"\"\n",
    "        :type n: int\n",
    "        :rtype: int\n",
    "        \"\"\"\n",
    "        ans = 0\n",
    "        primes = [True]*n\n",
    "        for i in range(2,n):\n",
    "            if primes[i]:\n",
    "                ans += 1\n",
    "                for j in range(i*2,n,i):\n",
    "                    primes[j]=False\n",
    "        return ans"
   ]
  },
  {
   "cell_type": "markdown",
   "metadata": {},
   "source": [
    "# 66. Plus One"
   ]
  },
  {
   "cell_type": "code",
   "execution_count": 11,
   "metadata": {},
   "outputs": [],
   "source": [
    "class Solution(object):\n",
    "    def plusOne(self, digits):\n",
    "        \"\"\"\n",
    "        :type digits: List[int]\n",
    "        :rtype: List[int]\n",
    "        \"\"\"\n",
    "        ans = []\n",
    "        c = 1\n",
    "        for i in range(len(digits)-1,-1,-1):\n",
    "            num = (digits[i] + c)\n",
    "            d = num % 10\n",
    "            ans.insert(0,d)\n",
    "            c = 1 if num >= 10 else 0\n",
    "        if c: ans.insert"
   ]
  },
  {
   "cell_type": "markdown",
   "metadata": {},
   "source": [
    "# 29. Divide Two Integers"
   ]
  },
  {
   "cell_type": "code",
   "execution_count": 12,
   "metadata": {},
   "outputs": [],
   "source": [
    "class Solution(object):\n",
    "    def divide(self, dividend, divisor):\n",
    "        \"\"\"\n",
    "        :type dividend: int\n",
    "        :type divisor: int\n",
    "        :rtype: int\n",
    "        \"\"\"\n",
    "        if dividend < 0:\n",
    "            dividend = -dividend\n",
    "            pos1 = -1\n",
    "        else:\n",
    "            pos1 = 1\n",
    "        if divisor <0:\n",
    "            divisor = -divisor\n",
    "            pos2 = -1\n",
    "        else:\n",
    "            pos2 = 1\n",
    "        \n",
    "        if dividend < divisor: return 0\n",
    "        ans = 0\n",
    "        while dividend>=divisor:\n",
    "            div = divisor\n",
    "            res = 1\n",
    "            while div*2 < dividend:\n",
    "                div *=2\n",
    "                res *=2\n",
    "            dividend -= div\n",
    "            ans += res\n",
    "        \n",
    "        if pos1!=pos2:\n",
    "            return max(-2**31,-ans)\n",
    "        else:\n",
    "            return min(2**31-1,ans)"
   ]
  },
  {
   "cell_type": "markdown",
   "metadata": {},
   "source": [
    "# 43. Multiply Strings"
   ]
  },
  {
   "cell_type": "code",
   "execution_count": 13,
   "metadata": {},
   "outputs": [],
   "source": [
    "class Solution(object):\n",
    "    def multiply(self, num1, num2):\n",
    "        \"\"\"\n",
    "        :type num1: str\n",
    "        :type num2: str\n",
    "        :rtype: str\n",
    "        \"\"\"\n",
    "        if not num1 or not num2: return '0'\n",
    "        if num1=='0' or num2=='0': return '0'\n",
    "        l1 = [int(n) for n in num1]\n",
    "        l1.reverse()\n",
    "        l2 = [int(n) for n in num2]\n",
    "        l2.reverse()\n",
    "        ans = [0]*(len(l1)+len(l2))\n",
    "        for i1 in range(len(l1)):\n",
    "            for i2 in range(len(l2)):\n",
    "                product = l1[i1]*l2[i2]\n",
    "                p1 = i1+i2\n",
    "                p2 = i1+i2+1\n",
    "                sum = ans[p1]+product\n",
    "                ans[p1] = sum%10\n",
    "                ans[p2] += sum//10\n",
    "        ans.reverse()\n",
    "        ans = ''.join([str(d) for d in ans])\n",
    "        return ans.lstrip('0')"
   ]
  },
  {
   "cell_type": "markdown",
   "metadata": {},
   "source": [
    "# 149. Max Points on a Line"
   ]
  },
  {
   "cell_type": "code",
   "execution_count": 14,
   "metadata": {},
   "outputs": [],
   "source": [
    "class Solution(object):\n",
    "    def maxPoints(self, points):\n",
    "        \"\"\"\n",
    "        :type points: List[List[int]]\n",
    "        :rtype: int\n",
    "        \"\"\"\n",
    "        n = len(points)\n",
    "        if n==0:return 0\n",
    "        def gcd(a,b):\n",
    "            return a if b==0 else gcd(b,a%b)\n",
    "        \n",
    "        res = 0\n",
    "        for i in range(n):\n",
    "            duplicates = 1\n",
    "            hashmap = collections.defaultdict(int) \n",
    "            for j in range(n):\n",
    "                if i==j: continue\n",
    "                if points[i][0]==points[j][0] and points[i][1]==points[j][1]:\n",
    "                    duplicates += 1\n",
    "                    continue\n",
    "                else:\n",
    "                    dx = points[j][0] - points[i][0]\n",
    "                    dy = points[j][1] - points[i][1]\n",
    "                    if dx <0:\n",
    "                        dx = -dx\n",
    "                        dy = -dy\n",
    "                    d = gcd(dx,dy)\n",
    "                    dx = dx//d\n",
    "                    dy = dy//d\n",
    "                    hashmap[(dx,dy)] += 1\n",
    "                    \n",
    "            res = max(res,duplicates)\n",
    "            for v in hashmap.values():\n",
    "                res=max(res,duplicates+v)\n",
    "            \n",
    "        return res"
   ]
  },
  {
   "cell_type": "markdown",
   "metadata": {},
   "source": [
    "# 343. Integer Break"
   ]
  },
  {
   "cell_type": "code",
   "execution_count": 15,
   "metadata": {},
   "outputs": [],
   "source": [
    "class Solution(object):\n",
    "    def integerBreak(self, n):\n",
    "        \"\"\"\n",
    "        :type n: int\n",
    "        :rtype: int\n",
    "        \"\"\"\n",
    "        dp = [0] * (n+1)\n",
    "        dp[1] = 1\n",
    "        dp[2] = 1\n",
    "        for i in range(3,n+1):\n",
    "            for j in range(1,i):\n",
    "                dp[i] = max(dp[i],j*max(i-j,dp[i-j]))\n",
    "        return dp[n]"
   ]
  },
  {
   "cell_type": "markdown",
   "metadata": {},
   "source": [
    "# 258. Add Digits"
   ]
  },
  {
   "cell_type": "code",
   "execution_count": 16,
   "metadata": {},
   "outputs": [],
   "source": [
    "class Solution(object):\n",
    "    def addDigits(self, num):\n",
    "        \"\"\"\n",
    "        :type num: int\n",
    "        :rtype: int\n",
    "        \"\"\"\n",
    "        \n",
    "        while num >= 10:\n",
    "            s =0\n",
    "            while num :\n",
    "                s += num%10\n",
    "                num = num //10\n",
    "            num = s\n",
    "        return num"
   ]
  },
  {
   "cell_type": "markdown",
   "metadata": {},
   "source": [
    "# 368. Largest Divisible Subset"
   ]
  },
  {
   "cell_type": "code",
   "execution_count": 17,
   "metadata": {},
   "outputs": [],
   "source": [
    "class Solution(object):\n",
    "    def largestDivisibleSubset(self, nums):\n",
    "        \"\"\"\n",
    "        :type nums: List[int]\n",
    "        :rtype: List[int]\n",
    "        \"\"\"\n",
    "        if not nums: return nums\n",
    "        nums.sort()\n",
    "        n = len(nums)\n",
    "        dp = [1]*n\n",
    "        parent = [i for i in range(n)]\n",
    "        maxLen = 0\n",
    "        lastNum = 0\n",
    "        for i in range(1,n):\n",
    "            for j in range(i):\n",
    "                if nums[i]%nums[j]==0:\n",
    "                    dp[i] = max(dp[i],dp[j]+1)\n",
    "                    if dp[i]==dp[j]+1:\n",
    "                        parent[i] = j\n",
    "                    if dp[i]>maxLen:\n",
    "                        maxLen = dp[i]\n",
    "                        lastNum = i\n",
    "                    \n",
    "        ans = [nums[lastNum]]\n",
    "        while parent[lastNum] != lastNum:\n",
    "            ans.append(nums[parent[lastNum]])\n",
    "            lastNum = parent[lastNum]\n",
    "            \n",
    "        ans.reverse()\n",
    "        return ans"
   ]
  },
  {
   "cell_type": "markdown",
   "metadata": {},
   "source": [
    "# 357. Count Numbers with Unique Digits"
   ]
  },
  {
   "cell_type": "code",
   "execution_count": 18,
   "metadata": {},
   "outputs": [],
   "source": [
    "class Solution(object):\n",
    "    def countNumbersWithUniqueDigits(self, n):\n",
    "        \"\"\"\n",
    "        :type n: int\n",
    "        :rtype: int\n",
    "        \"\"\"\n",
    "        if n==0: return 1\n",
    "        if n==1: return 10\n",
    "        ans = 10\n",
    "        n = min(n,10)\n",
    "        for i in range(1,n):\n",
    "            start = 9\n",
    "            for j in range(i):\n",
    "                start *= (9-j)\n",
    "            ans += start\n",
    "        return ans\n",
    "                "
   ]
  },
  {
   "cell_type": "markdown",
   "metadata": {},
   "source": [
    "# 788. Rotated Digits"
   ]
  },
  {
   "cell_type": "code",
   "execution_count": 19,
   "metadata": {},
   "outputs": [],
   "source": [
    "class Solution(object):\n",
    "    def rotatedDigits(self, N):\n",
    "        \"\"\"\n",
    "        :type N: int\n",
    "        :rtype: int\n",
    "        \"\"\"\n",
    "        n1 = {2,5,6,9}\n",
    "        n2 = {0,1,8}\n",
    "        cnt = 0\n",
    "        def isRotated(n):\n",
    "            hit = False\n",
    "            while n:\n",
    "                d = n%10\n",
    "                if d in n1:\n",
    "                    hit = True\n",
    "                elif d not in n2:\n",
    "                    return False\n",
    "                n = n//10\n",
    "            if hit: return True\n",
    "            return False\n",
    "        for n in range(N+1):\n",
    "            if isRotated(n): cnt +=1\n",
    "        return cnt"
   ]
  },
  {
   "cell_type": "markdown",
   "metadata": {},
   "source": [
    "# 402. Remove K Digits"
   ]
  },
  {
   "cell_type": "code",
   "execution_count": 20,
   "metadata": {},
   "outputs": [],
   "source": [
    "class Solution(object):\n",
    "    def removeKdigits(self, num, k):\n",
    "        \"\"\"\n",
    "        :type num: str\n",
    "        :type k: int\n",
    "        :rtype: str\n",
    "        \"\"\"\n",
    "        n = len(num)\n",
    "        stack = \"\"\n",
    "        if k==n: return '0'\n",
    "        keep = n-k\n",
    "        for c in num:\n",
    "            while k>0 and stack and c<stack[-1]:\n",
    "                stack = stack[:-1]\n",
    "                k -=1\n",
    "            stack += c\n",
    "        stack = stack[:keep]\n",
    "        stack = stack.lstrip('0')\n",
    "        if not stack: return '0'\n",
    "        return stack"
   ]
  },
  {
   "cell_type": "code",
   "execution_count": null,
   "metadata": {},
   "outputs": [],
   "source": []
  }
 ],
 "metadata": {
  "kernelspec": {
   "display_name": "Python 3",
   "language": "python",
   "name": "python3"
  },
  "language_info": {
   "codemirror_mode": {
    "name": "ipython",
    "version": 3
   },
   "file_extension": ".py",
   "mimetype": "text/x-python",
   "name": "python",
   "nbconvert_exporter": "python",
   "pygments_lexer": "ipython3",
   "version": "3.6.5"
  },
  "toc": {
   "base_numbering": 1,
   "nav_menu": {},
   "number_sections": true,
   "sideBar": true,
   "skip_h1_title": false,
   "title_cell": "Table of Contents",
   "title_sidebar": "Contents",
   "toc_cell": false,
   "toc_position": {},
   "toc_section_display": true,
   "toc_window_display": false
  }
 },
 "nbformat": 4,
 "nbformat_minor": 2
}
