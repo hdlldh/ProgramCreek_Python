{
 "cells": [
  {
   "cell_type": "markdown",
   "metadata": {},
   "source": [
    "# 26. Remove Duplicates from Sorted Array"
   ]
  },
  {
   "cell_type": "code",
   "execution_count": 1,
   "metadata": {},
   "outputs": [],
   "source": [
    "class Solution(object):\n",
    "    def removeDuplicates(self, nums):\n",
    "        \"\"\"\n",
    "        :type nums: List[int]\n",
    "        :rtype: int\n",
    "        \"\"\"\n",
    "        n = len(nums)\n",
    "        if n <=1: return n\n",
    "        i = 0\n",
    "        j = 0\n",
    "        for j in range(1,n):\n",
    "            if nums[j]!=nums[i]: \n",
    "                i+=1\n",
    "                nums[i] = nums[j]\n",
    "        return i+1\n",
    "            "
   ]
  },
  {
   "cell_type": "markdown",
   "metadata": {},
   "source": [
    "# 80. Remove Duplicates from Sorted Array II"
   ]
  },
  {
   "cell_type": "code",
   "execution_count": 2,
   "metadata": {},
   "outputs": [],
   "source": [
    "class Solution(object):\n",
    "    def removeDuplicates(self, nums):\n",
    "        \"\"\"\n",
    "        :type nums: List[int]\n",
    "        :rtype: int\n",
    "        \"\"\"\n",
    "        n = len(nums)\n",
    "        if n<=2: return n\n",
    "        i = 1\n",
    "        for j in range(2,n):\n",
    "            if nums[j]==nums[i] and nums[j]==nums[i-1]:\n",
    "                continue\n",
    "            else:\n",
    "                i+=1\n",
    "                nums[i] = nums[j]\n",
    "        return i+1\n",
    "                "
   ]
  },
  {
   "cell_type": "markdown",
   "metadata": {},
   "source": [
    "# 27. Remove Element"
   ]
  },
  {
   "cell_type": "code",
   "execution_count": 3,
   "metadata": {},
   "outputs": [],
   "source": [
    "class Solution(object):\n",
    "    def removeElement(self, nums, val):\n",
    "        \"\"\"\n",
    "        :type nums: List[int]\n",
    "        :type val: int\n",
    "        :rtype: int\n",
    "        \"\"\"\n",
    "        n = len(nums)\n",
    "        if n==0:return n\n",
    "        i=-1\n",
    "        for j in range(n):\n",
    "            if nums[j]!=val:\n",
    "                i+=1\n",
    "                nums[i] = nums[j]\n",
    "        return i+1"
   ]
  },
  {
   "cell_type": "markdown",
   "metadata": {},
   "source": [
    "# 283. Move Zeroes"
   ]
  },
  {
   "cell_type": "code",
   "execution_count": 4,
   "metadata": {},
   "outputs": [],
   "source": [
    "class Solution(object):\n",
    "    def moveZeroes(self, nums):\n",
    "        \"\"\"\n",
    "        :type nums: List[int]\n",
    "        :rtype: void Do not return anything, modify nums in-place instead.\n",
    "        \"\"\"\n",
    "        n = len(nums)\n",
    "        if n ==0: return\n",
    "        i = -1\n",
    "        for j in range(n):\n",
    "            if nums[j]!=0:\n",
    "                i+=1\n",
    "                nums[i] = nums[j]\n",
    "        for j in range(i+1,n):\n",
    "            nums[j] = 0\n",
    "                "
   ]
  },
  {
   "cell_type": "markdown",
   "metadata": {},
   "source": [
    "# 135. Candy"
   ]
  },
  {
   "cell_type": "code",
   "execution_count": 5,
   "metadata": {},
   "outputs": [],
   "source": [
    "class Solution(object):\n",
    "    def candy(self, ratings):\n",
    "        \"\"\"\n",
    "        :type ratings: List[int]\n",
    "        :rtype: int\n",
    "        \"\"\"\n",
    "        if not ratings: return 0\n",
    "        \n",
    "        n = len(ratings)\n",
    "        left2right = [1]*n\n",
    "        right2left = [1]*n\n",
    "        for i in range(1, n):\n",
    "            if ratings[i]>ratings[i-1]:\n",
    "                left2right[i] = left2right[i-1]+1\n",
    "            \n",
    "        for i in range(n-1,0,-1):\n",
    "            if ratings[i-1]>ratings[i]:\n",
    "                right2left[i-1] = right2left[i]+1\n",
    "                \n",
    "        for i in range(n):\n",
    "            left2right[i] = max(left2right[i],right2left[i])\n",
    "            \n",
    "        return sum(left2right)"
   ]
  },
  {
   "cell_type": "markdown",
   "metadata": {},
   "source": [
    "# 42. Trapping Rain Water"
   ]
  },
  {
   "cell_type": "code",
   "execution_count": 6,
   "metadata": {},
   "outputs": [],
   "source": [
    "class Solution(object):\n",
    "    def trap(self, height):\n",
    "        \"\"\"\n",
    "        :type height: List[int]\n",
    "        :rtype: int\n",
    "        \"\"\"\n",
    "        n = len(height)\n",
    "        if n<=1: return 0\n",
    "        left2right = [height[0]]*n\n",
    "        right2left = [height[-1]]*n\n",
    "        for i in range(1,n):\n",
    "            if height[i]> left2right[i-1]:\n",
    "                left2right[i] = height[i]\n",
    "            else:\n",
    "                left2right[i] = left2right[i-1]\n",
    "                \n",
    "        for i in range(n-1,0,-1):\n",
    "            if height[i-1]> right2left[i]:\n",
    "                right2left[i-1] = height[i-1]\n",
    "            else:\n",
    "                right2left[i-1] = right2left[i]\n",
    "        print(left2right)\n",
    "        print(right2left)\n",
    "                \n",
    "        for i in range(n):\n",
    "            left2right[i] = min(left2right[i],right2left[i])-height[i]\n",
    "            \n",
    "        return sum(left2right)\n",
    "                "
   ]
  },
  {
   "cell_type": "markdown",
   "metadata": {},
   "source": [
    "# 238. Product of Array Except Self"
   ]
  },
  {
   "cell_type": "code",
   "execution_count": 7,
   "metadata": {},
   "outputs": [],
   "source": [
    "class Solution(object):\n",
    "    def productExceptSelf(self, nums):\n",
    "        \"\"\"\n",
    "        :type nums: List[int]\n",
    "        :rtype: List[int]\n",
    "        \"\"\"\n",
    "        n = len(nums)\n",
    "        left2right = [1]*n\n",
    "        right2left = [1]*n\n",
    "        for i in range(1,n):\n",
    "            left2right[i] = left2right[i-1]*nums[i-1]\n",
    "            \n",
    "        for i in range(n-1,0,-1):\n",
    "            right2left[i-1] = right2left[i]*nums[i]\n",
    "            \n",
    "        for i in range(n):\n",
    "            left2right[i] = left2right[i]*right2left[i]\n",
    "        return left2right"
   ]
  },
  {
   "cell_type": "markdown",
   "metadata": {},
   "source": [
    "# 209. Minimum Size Subarray Sum"
   ]
  },
  {
   "cell_type": "code",
   "execution_count": 8,
   "metadata": {},
   "outputs": [],
   "source": [
    "class Solution(object):\n",
    "    def minSubArrayLen(self, s, nums):\n",
    "        \"\"\"\n",
    "        :type s: int\n",
    "        :type nums: List[int]\n",
    "        :rtype: int\n",
    "        \"\"\"\n",
    "        n = len(nums)\n",
    "        if n==0: return 0\n",
    "        cumsum = [0]*(n+1)\n",
    "        for i in range(1,n+1):\n",
    "            cumsum[i] = cumsum[i-1]+nums[i-1]\n",
    "        if cumsum[-1]< s: return 0\n",
    "        print(cumsum)\n",
    "        minLen = n\n",
    "        for i in range(n+1):\n",
    "            low = i\n",
    "            high = n\n",
    "            if cumsum[high]-cumsum[low]<s:continue\n",
    "            while low<=high:\n",
    "                mid = (low+high)//2\n",
    "                if cumsum[mid]-cumsum[i]>=s:\n",
    "                    high = mid -1\n",
    "                else:\n",
    "                    low = mid + 1\n",
    "            minLen = min(minLen,low-i)\n",
    "        return minLen"
   ]
  },
  {
   "cell_type": "markdown",
   "metadata": {},
   "source": [
    "# 228. Summary Ranges"
   ]
  },
  {
   "cell_type": "code",
   "execution_count": 9,
   "metadata": {},
   "outputs": [],
   "source": [
    "class Solution(object):\n",
    "    def summaryRanges(self, nums):\n",
    "        \"\"\"\n",
    "        :type nums: List[int]\n",
    "        :rtype: List[str]\n",
    "        \"\"\"\n",
    "        n = len(nums)\n",
    "        if n == 0: return []\n",
    "        ans = []\n",
    "        i = 0\n",
    "        for j in range(n):\n",
    "            if j==n-1 or nums[j]+1!=nums[j+1]:\n",
    "                if i == j:\n",
    "                    ans.append('%s'%nums[i])\n",
    "                else:\n",
    "                    ans.append('%s->%s'%(nums[i],nums[j]))\n",
    "                i=j+1\n",
    "        return ans"
   ]
  },
  {
   "cell_type": "markdown",
   "metadata": {},
   "source": [
    "# 163. Missing Ranges"
   ]
  },
  {
   "cell_type": "code",
   "execution_count": 10,
   "metadata": {},
   "outputs": [],
   "source": [
    "class Solution(object):\n",
    "    def findMissingRanges(self, nums, lower, upper):\n",
    "        \"\"\"\n",
    "        :type nums: List[int]\n",
    "        :type lower: int\n",
    "        :type upper: int\n",
    "        :rtype: List[str]\n",
    "        \"\"\"\n",
    "        n = len(nums)\n",
    "        ans = []\n",
    "        def helper(n1,n2):\n",
    "            if n1==n2:\n",
    "                return '%s'%n1\n",
    "            else:\n",
    "                return '%s->%s'%(n1,n2)\n",
    "            \n",
    "        if n==0: return [helper(lower,upper)]\n",
    "        for i in range(n):\n",
    "            if i==0:\n",
    "                if nums[i]-lower>=1:\n",
    "                    ans.append(helper(lower,nums[i]-1))\n",
    "            else:\n",
    "                if nums[i]-nums[i-1]>=2:\n",
    "                    ans.append(helper(nums[i-1]+1,nums[i]-1))\n",
    "        if upper-nums[-1]>=1:\n",
    "            ans.append(helper(nums[-1]+1,upper))\n",
    "    \n",
    "        return ans"
   ]
  },
  {
   "cell_type": "markdown",
   "metadata": {},
   "source": [
    "# 56. Merge Intervals"
   ]
  },
  {
   "cell_type": "code",
   "execution_count": 11,
   "metadata": {},
   "outputs": [],
   "source": [
    "# Definition for an interval.\n",
    "# class Interval(object):\n",
    "#     def __init__(self, s=0, e=0):\n",
    "#         self.start = s\n",
    "#         self.end = e\n",
    "\n",
    "class Solution(object):\n",
    "    def merge(self, intervals):\n",
    "        \"\"\"\n",
    "        :type intervals: List[Interval]\n",
    "        :rtype: List[Interval]\n",
    "        \"\"\"\n",
    "        n = len(intervals)\n",
    "        if n==0: return []\n",
    "        if n==1: return intervals\n",
    "        intervals = sorted(intervals,key=lambda x:x[0])\n",
    "        i = 0\n",
    "        ans = []\n",
    "        for j in range(1,n):\n",
    "            if intervals[j][0] <= intervals[i][1]:\n",
    "                intervals[i][1] = max(intervals[i][1],intervals[j][1])\n",
    "            else:\n",
    "                ans.append(intervals[i])\n",
    "                i = j\n",
    "        ans.append(intervals[i])\n",
    "        return ans"
   ]
  },
  {
   "cell_type": "markdown",
   "metadata": {},
   "source": [
    "# 57. Insert Interval"
   ]
  },
  {
   "cell_type": "code",
   "execution_count": 12,
   "metadata": {},
   "outputs": [],
   "source": [
    "class Solution(object):\n",
    "    def insert(self, intervals, newInterval):\n",
    "        \"\"\"\n",
    "        :type intervals: List[List[int]]\n",
    "        :type newInterval: List[int]\n",
    "        :rtype: List[List[int]]\n",
    "        \"\"\"\n",
    "        n = len(intervals)\n",
    "        if n == 0: return [newInterval]\n",
    "        intervals = sorted(intervals,key=lambda x: x[0])\n",
    "        if newInterval[0]> intervals[-1][1]:\n",
    "            intervals.append(newInterval)\n",
    "            return intervals\n",
    "        low = 0\n",
    "        high = n-1\n",
    "        ans = []\n",
    "        while low<=high:\n",
    "            mid = (low+high)//2\n",
    "            if intervals[mid][0]>=newInterval[0]:\n",
    "                high = mid -1\n",
    "            else:\n",
    "                low = mid +1\n",
    "        if low == n: intervals.append(newInterval)\n",
    "        else: intervals.insert(low,newInterval)\n",
    "        i = 0\n",
    "        for j in range(1,n+1):\n",
    "            if intervals[j][0] <= intervals[i][1]:\n",
    "                intervals[i][1] = max(intervals[i][1],intervals[j][1])\n",
    "            else:\n",
    "                ans.append(intervals[i])\n",
    "                i = j\n",
    "        ans.append(intervals[i])\n",
    "        return ans"
   ]
  },
  {
   "cell_type": "markdown",
   "metadata": {},
   "source": [
    "# 763. Partition Labels"
   ]
  },
  {
   "cell_type": "code",
   "execution_count": 13,
   "metadata": {},
   "outputs": [],
   "source": [
    "class Solution(object):\n",
    "    def partitionLabels(self, S):\n",
    "        \"\"\"\n",
    "        :type S: str\n",
    "        :rtype: List[int]\n",
    "        \"\"\"\n",
    "        n = len(S)\n",
    "        hmap = {}\n",
    "        intervals = []\n",
    "        for i,c in enumerate(S):\n",
    "            if c not in hmap:\n",
    "                hmap[c] = len(intervals)\n",
    "                intervals.append([i,i])\n",
    "            else:\n",
    "                idx = hmap[c]\n",
    "                intervals[idx][1] = i\n",
    "                \n",
    "        ans = []\n",
    "        i = 0\n",
    "        for j in range(len(intervals)):\n",
    "            if intervals[j][0] <= interval[i][1]:\n",
    "                intervals[i][1] = max(intervals[i][1],intervals[j][1])\n",
    "            else:\n",
    "                ans.append(intervals[i][1]-intervals[i][0]+1)\n",
    "                i = j\n",
    "        ans.append(intervals[i][1]-intervals[i][0]+1)\n",
    "        return ans\n",
    "        "
   ]
  },
  {
   "cell_type": "markdown",
   "metadata": {},
   "source": [
    "# 833. Find And Replace in String"
   ]
  },
  {
   "cell_type": "code",
   "execution_count": 14,
   "metadata": {},
   "outputs": [],
   "source": [
    "class Solution(object):\n",
    "    def findReplaceString(self, S, indexes, sources, targets):\n",
    "        \"\"\"\n",
    "        :type S: str\n",
    "        :type indexes: List[int]\n",
    "        :type sources: List[str]\n",
    "        :type targets: List[str]\n",
    "        :rtype: str\n",
    "        \"\"\"\n",
    "        if not indexes or not sources or not targets: return S\n",
    "        ans = []\n",
    "        n = len(S)\n",
    "        intervals = []\n",
    "        for i, src, dst in zip(indexes,sources,targets):\n",
    "            k =len(src)\n",
    "            if S[i:i+k]==src:\n",
    "                intervals.append((i,i+k,dst))\n",
    "        \n",
    "        n = len(intervals)\n",
    "        if n==0:return S\n",
    "        intervals = sorted(intervals,key=lambda x: x[0])\n",
    "        for i in range(len(intervals)):\n",
    "            if i==0:\n",
    "                ans.append(S[:intervals[i][0]])\n",
    "            else:\n",
    "                ans.append(S[intervals[i-1][1]:intervals[i][0]])\n",
    "            ans.append(intervals[i][2])\n",
    "        ans.append(S[intervals[-1][1]:])\n",
    "        return ''.join(ans)\n",
    "        \n",
    "            \n",
    "            \n",
    "            "
   ]
  },
  {
   "cell_type": "markdown",
   "metadata": {},
   "source": [
    "# 161. One Edit Distance"
   ]
  },
  {
   "cell_type": "code",
   "execution_count": 15,
   "metadata": {},
   "outputs": [],
   "source": [
    "class Solution(object):\n",
    "    def isOneEditDistance(self, s, t):\n",
    "        \"\"\"\n",
    "        :type s: str\n",
    "        :type t: str\n",
    "        :rtype: bool\n",
    "        \"\"\"\n",
    "        m = len(s)\n",
    "        n = len(t)\n",
    "        if m > n: return self.isOneEditDistance(t,s)\n",
    "        if n-m>1: return False\n",
    "        for i in range(m):\n",
    "            if s[i]!=t[i]:\n",
    "                if m==n:\n",
    "                    return s[i+1:]==t[i+1:]\n",
    "                else:\n",
    "                    return s[i:]==t[i+1:]\n",
    "            \n",
    "        return m+1==n"
   ]
  },
  {
   "cell_type": "markdown",
   "metadata": {},
   "source": [
    "# 88. Merge Sorted Array"
   ]
  },
  {
   "cell_type": "code",
   "execution_count": 16,
   "metadata": {},
   "outputs": [],
   "source": [
    "class Solution(object):\n",
    "    def merge(self, nums1, m, nums2, n):\n",
    "        \"\"\"\n",
    "        :type nums1: List[int]\n",
    "        :type m: int\n",
    "        :type nums2: List[int]\n",
    "        :type n: int\n",
    "        :rtype: void Do not return anything, modify nums1 in-place instead.\n",
    "        \"\"\"\n",
    "        i = m -1\n",
    "        j = n -1\n",
    "        k = m+n-1\n",
    "        while i>= 0 and j>=0:\n",
    "            if nums1[i]> nums2[j]:\n",
    "                nums1[k] = nums1[i]\n",
    "                i = i-1\n",
    "            else:\n",
    "                nums1[k] = nums2[j]\n",
    "                j = j-1\n",
    "            k = k-1\n",
    "        while j>=0:\n",
    "            nums1[k] = nums2[j]\n",
    "            j = j-1\n",
    "            k = k-1"
   ]
  },
  {
   "cell_type": "markdown",
   "metadata": {},
   "source": [
    "# 392. Is Subsequence"
   ]
  },
  {
   "cell_type": "code",
   "execution_count": 17,
   "metadata": {},
   "outputs": [],
   "source": [
    "class Solution(object):\n",
    "    def isSubsequence(self, s, t):\n",
    "        \"\"\"\n",
    "        :type s: str\n",
    "        :type t: str\n",
    "        :rtype: bool\n",
    "        \"\"\"\n",
    "        n = len(s)\n",
    "        if n==0: return True\n",
    "        i = 0\n",
    "        j = 0\n",
    "        for j in range(len(t)):\n",
    "            if s[i]==t[j]:\n",
    "                i+=1\n",
    "            if i==n: return True\n",
    "        return False\n",
    "        "
   ]
  },
  {
   "cell_type": "markdown",
   "metadata": {},
   "source": [
    "# 844. Backspace String Compare"
   ]
  },
  {
   "cell_type": "code",
   "execution_count": 18,
   "metadata": {},
   "outputs": [],
   "source": [
    "class Solution(object):\n",
    "    def backspaceCompare(self, S, T):\n",
    "        \"\"\"\n",
    "        :type S: str\n",
    "        :type T: str\n",
    "        :rtype: bool\n",
    "        \"\"\"\n",
    "        s = []\n",
    "        t = []\n",
    "        for c in S:\n",
    "            if c=='#':\n",
    "                if s:s.pop()\n",
    "            else:s.append(c)\n",
    "        for c in T:\n",
    "            if c=='#':\n",
    "                if t:t.pop()\n",
    "            else:t.append(c)\n",
    "    \n",
    "        if ''.join(s) ==''.join(t):\n",
    "            return True\n",
    "        return False"
   ]
  },
  {
   "cell_type": "markdown",
   "metadata": {},
   "source": [
    "# 686. Repeated String Match"
   ]
  },
  {
   "cell_type": "code",
   "execution_count": 19,
   "metadata": {},
   "outputs": [],
   "source": [
    "class Solution(object):\n",
    "    def repeatedStringMatch(self, A, B):\n",
    "        \"\"\"\n",
    "        :type A: str\n",
    "        :type B: str\n",
    "        :rtype: int\n",
    "        \"\"\"\n",
    "        n = len(B)\n",
    "        m = len(A)\n",
    "        q = int(math.ceil(n/m))\n",
    "        for i in range(3):\n",
    "            if B in A*(q+i): return q+i\n",
    "        return -1\n",
    "        "
   ]
  },
  {
   "cell_type": "markdown",
   "metadata": {},
   "source": [
    "# 11. Container With Most Water"
   ]
  },
  {
   "cell_type": "code",
   "execution_count": 20,
   "metadata": {},
   "outputs": [],
   "source": [
    "class Solution(object):\n",
    "    def maxArea(self, height):\n",
    "        \"\"\"\n",
    "        :type height: List[int]\n",
    "        :rtype: int\n",
    "        \"\"\"\n",
    "        n = len(height)\n",
    "        ans = 0\n",
    "        i = 0\n",
    "        j = n-1\n",
    "        while i<j:\n",
    "            area = min(height[i],height[j])*(j-i)\n",
    "            ans = max(ans, area)\n",
    "            if height[i]< height[j]:\n",
    "                i+=1\n",
    "            else:\n",
    "                j-=1\n",
    "        return ans\n",
    "                    "
   ]
  },
  {
   "cell_type": "markdown",
   "metadata": {},
   "source": [
    "# 345. Reverse Vowels of a String"
   ]
  },
  {
   "cell_type": "code",
   "execution_count": 21,
   "metadata": {},
   "outputs": [],
   "source": [
    "class Solution(object):\n",
    "    def reverseVowels(self, s):\n",
    "        \"\"\"\n",
    "        :type s: str\n",
    "        :rtype: str\n",
    "        \"\"\"\n",
    "        n = len(s)\n",
    "        if n==0: return s\n",
    "        i = 0\n",
    "        j = n-1\n",
    "        sl = list(s)\n",
    "        while i<j:\n",
    "            if sl[i].lower() not in ['a','e','i','o','u']: \n",
    "                i+= 1\n",
    "                continue\n",
    "            if sl[j].lower() not in ['a','e','i','o','u']: \n",
    "                j-= 1\n",
    "                continue\n",
    "            sl[i],sl[j] = sl[j],sl[i]\n",
    "            i+=1\n",
    "            j-=1\n",
    "        return ''.join(sl)\n",
    "            "
   ]
  },
  {
   "cell_type": "markdown",
   "metadata": {},
   "source": [
    "# 125. Valid Palindrome"
   ]
  },
  {
   "cell_type": "code",
   "execution_count": 22,
   "metadata": {},
   "outputs": [],
   "source": [
    "class Solution(object):\n",
    "    def isPalindrome(self, s):\n",
    "        \"\"\"\n",
    "        :type s: str\n",
    "        :rtype: bool\n",
    "        \"\"\"\n",
    "        sl = [c.lower() for c in s if c.isalnum()]\n",
    "        n = len(sl)\n",
    "        if n==0: return True\n",
    "        i = 0\n",
    "        j = n-1\n",
    "        while i<j:\n",
    "            if sl[i]==sl[j]:\n",
    "                i+=1\n",
    "                j-=1\n",
    "            else:\n",
    "                return False\n",
    "        return True"
   ]
  },
  {
   "cell_type": "markdown",
   "metadata": {},
   "source": [
    "# 243. Shortest Word Distance"
   ]
  },
  {
   "cell_type": "code",
   "execution_count": 23,
   "metadata": {},
   "outputs": [],
   "source": [
    "class Solution(object):\n",
    "    def shortestDistance(self, words, word1, word2):\n",
    "        \"\"\"\n",
    "        :type words: List[str]\n",
    "        :type word1: str\n",
    "        :type word2: str\n",
    "        :rtype: int\n",
    "        \"\"\"\n",
    "        i = -1\n",
    "        j = -1\n",
    "        minD = float('inf')\n",
    "        for idx,word in enumerate(words):\n",
    "            if word == word1:\n",
    "                i = idx\n",
    "                if j!=-1:\n",
    "                    minD = min(minD,i-j)\n",
    "            elif word == word2:\n",
    "                j = idx\n",
    "                if i!=-1:\n",
    "                    minD = min(minD,j-i)\n",
    "        return minD"
   ]
  },
  {
   "cell_type": "markdown",
   "metadata": {},
   "source": [
    "# 244. Shortest Word Distance II"
   ]
  },
  {
   "cell_type": "code",
   "execution_count": 24,
   "metadata": {},
   "outputs": [],
   "source": [
    "class WordDistance(object):\n",
    "\n",
    "    def __init__(self, words):\n",
    "        \"\"\"\n",
    "        :type words: List[str]\n",
    "        \"\"\"\n",
    "        self.locations = {}\n",
    "        for i, word in enumerate(words):\n",
    "            if word not in self.locations:\n",
    "                self.locations[word] = [i]\n",
    "            else:\n",
    "                self.locations[word].append(i)\n",
    "        \n",
    "\n",
    "    def shortest(self, word1, word2):\n",
    "        \"\"\"\n",
    "        :type word1: str\n",
    "        :type word2: str\n",
    "        :rtype: int\n",
    "        \"\"\"\n",
    "        loc1 = self.locations[word1]\n",
    "        loc2 = self.locations[word2]\n",
    "        i = 0\n",
    "        j = 0\n",
    "        minD = float('inf')\n",
    "        while i<len(loc1) and j<len(loc2):\n",
    "            if loc1[i] > loc2[j]:\n",
    "                minD = min(minD,loc1[i]-loc2[j])\n",
    "                j+=1\n",
    "            else:\n",
    "                minD = min(minD,loc2[j]-loc1[i])\n",
    "                i+=1\n",
    "        while i<len(loc1):\n",
    "            minD = min(minD,abs(loc1[i]-loc2[-1]))\n",
    "            i+=1\n",
    "        while j<len(loc2):\n",
    "            minD = min(minD,abs(loc1[-1]-loc2[j]))\n",
    "            j+=1\n",
    "        return minD\n",
    "\n",
    "\n",
    "# Your WordDistance object will be instantiated and called as such:\n",
    "# obj = WordDistance(words)\n",
    "# param_1 = obj.shortest(word1,word2)"
   ]
  },
  {
   "cell_type": "markdown",
   "metadata": {},
   "source": [
    "# 245. Shortest Word Distance III"
   ]
  },
  {
   "cell_type": "code",
   "execution_count": 25,
   "metadata": {},
   "outputs": [],
   "source": [
    "class Solution(object):\n",
    "    def shortestWordDistance(self, words, word1, word2):\n",
    "        \"\"\"\n",
    "        :type words: List[str]\n",
    "        :type word1: str\n",
    "        :type word2: str\n",
    "        :rtype: int\n",
    "        \"\"\"\n",
    "        i = -1\n",
    "        j = -1\n",
    "        minD = float('inf')\n",
    "        if word1 == word2:\n",
    "            for idx,word in enumerate(words):\n",
    "                if word == word1:\n",
    "                    if i!=-1:\n",
    "                        minD = min(minD,idx-i)\n",
    "                    i = idx\n",
    "        else:\n",
    "            for idx,word in enumerate(words):\n",
    "                if word == word1:\n",
    "                    i = idx\n",
    "                    if j!=-1:\n",
    "                        minD = min(minD,i-j)\n",
    "                elif word == word2:\n",
    "                    j = idx\n",
    "                    if i!=-1:\n",
    "                        minD = min(minD,j-i)\n",
    "        return minD\n",
    "        "
   ]
  },
  {
   "cell_type": "markdown",
   "metadata": {},
   "source": [
    "# 349. Intersection of Two Arrays"
   ]
  },
  {
   "cell_type": "code",
   "execution_count": 26,
   "metadata": {},
   "outputs": [],
   "source": [
    "class Solution(object):\n",
    "    def intersection(self, nums1, nums2):\n",
    "        \"\"\"\n",
    "        :type nums1: List[int]\n",
    "        :type nums2: List[int]\n",
    "        :rtype: List[int]\n",
    "        \"\"\"\n",
    "        return list(set(nums1).intersection(set(nums2)))"
   ]
  },
  {
   "cell_type": "markdown",
   "metadata": {},
   "source": [
    "# 350. Intersection of Two Arrays II"
   ]
  },
  {
   "cell_type": "code",
   "execution_count": 27,
   "metadata": {},
   "outputs": [],
   "source": [
    "class Solution(object):\n",
    "    def intersect(self, nums1, nums2):\n",
    "        \"\"\"\n",
    "        :type nums1: List[int]\n",
    "        :type nums2: List[int]\n",
    "        :rtype: List[int]\n",
    "        \"\"\"\n",
    "        hmap ={}\n",
    "        ans = []\n",
    "        for num in nums1:\n",
    "            if num not in hmap:\n",
    "                hmap[num] = 1\n",
    "            else:\n",
    "                hmap[num] += 1\n",
    "        for num in nums2:\n",
    "            if num in hmap and hmap[num]>0:\n",
    "                hmap[num] -= 1\n",
    "                ans.append(num)\n",
    "        return ans"
   ]
  },
  {
   "cell_type": "markdown",
   "metadata": {},
   "source": [
    "# 167. Two Sum II - Input array is sorted"
   ]
  },
  {
   "cell_type": "code",
   "execution_count": 28,
   "metadata": {},
   "outputs": [],
   "source": [
    "class Solution(object):\n",
    "    def twoSum(self, numbers, target):\n",
    "        \"\"\"\n",
    "        :type numbers: List[int]\n",
    "        :type target: int\n",
    "        :rtype: List[int]\n",
    "        \"\"\"\n",
    "        i = 0\n",
    "        j = len(numbers)-1\n",
    "        while (i<j):\n",
    "            if (numbers[i]+numbers[j])>target:\n",
    "                j-=1\n",
    "            elif (numbers[i]+numbers[j])<target:\n",
    "                i+=1\n",
    "            else:\n",
    "                return [i+1,j+1]\n",
    "        return []"
   ]
  },
  {
   "cell_type": "markdown",
   "metadata": {},
   "source": [
    "# 170. Two Sum III - Data structure design"
   ]
  },
  {
   "cell_type": "code",
   "execution_count": 29,
   "metadata": {},
   "outputs": [],
   "source": [
    "class TwoSum(object):\n",
    "\n",
    "    def __init__(self):\n",
    "        \"\"\"\n",
    "        Initialize your data structure here.\n",
    "        \"\"\"\n",
    "        self.data = {}\n",
    "        \n",
    "\n",
    "    def add(self, number):\n",
    "        \"\"\"\n",
    "        Add the number to an internal data structure..\n",
    "        :type number: int\n",
    "        :rtype: None\n",
    "        \"\"\"\n",
    "        if number not in self.data:\n",
    "            self.data[number] = 1\n",
    "        else:\n",
    "            self.data[number] += 1\n",
    "        \n",
    "\n",
    "    def find(self, value):\n",
    "        \"\"\"\n",
    "        Find if there exists any pair of numbers which sum is equal to the value.\n",
    "        :type value: int\n",
    "        :rtype: bool\n",
    "        \"\"\"\n",
    "        for num in self.data:\n",
    "            target = value - num\n",
    "            if target==num and self.data[target]>=2:\n",
    "                return True\n",
    "            if target!=num and target in self.data:\n",
    "                return True\n",
    "        return False"
   ]
  },
  {
   "cell_type": "markdown",
   "metadata": {},
   "source": [
    "# 15. 3Sum"
   ]
  },
  {
   "cell_type": "code",
   "execution_count": 30,
   "metadata": {},
   "outputs": [],
   "source": [
    "class Solution(object):\n",
    "    def threeSum(self, nums):\n",
    "        \"\"\"\n",
    "        :type nums: List[int]\n",
    "        :rtype: List[List[int]]\n",
    "        \"\"\"\n",
    "        nums.sort()\n",
    "        n = len(nums)\n",
    "        ans = []\n",
    "        for i in range(n):\n",
    "            if i!=0 and nums[i]==nums[i-1]: continue\n",
    "            j = i+1\n",
    "            k = n-1\n",
    "            while j<k:\n",
    "                s = nums[i] + nums[j] + nums[k]\n",
    "                if s==0:\n",
    "                    ans.append([nums[i],nums[j],nums[k]])\n",
    "                    j += 1\n",
    "                    while j<k and nums[j]==nums[j-1]:\n",
    "                        j += 1\n",
    "                elif s>0:\n",
    "                    k -= 1\n",
    "                else:\n",
    "                    j += 1\n",
    "        return ans"
   ]
  },
  {
   "cell_type": "markdown",
   "metadata": {},
   "source": [
    "# 18. 4Sum"
   ]
  },
  {
   "cell_type": "code",
   "execution_count": 31,
   "metadata": {},
   "outputs": [],
   "source": [
    "class Solution(object):\n",
    "    def fourSum(self, nums, target):\n",
    "        \"\"\"\n",
    "        :type nums: List[int]\n",
    "        :type target: int\n",
    "        :rtype: List[List[int]]\n",
    "        \"\"\"\n",
    "        nums.sort()\n",
    "        n = len(nums)\n",
    "        ans = []\n",
    "        for i in range(n):\n",
    "            if i!=0 and nums[i]==nums[i-1]: continue\n",
    "            for j in range(i+1,n):\n",
    "                if j!=i+1 and nums[j]==nums[j-1]: continue\n",
    "                k = j+1\n",
    "                l = n-1\n",
    "                while k < l:\n",
    "                    s = nums[i]+nums[j]+nums[k]+nums[l]\n",
    "                    if s==target:\n",
    "                        ans.append([nums[i],nums[j],nums[k],nums[l]])\n",
    "                        k += 1\n",
    "                        while k<l and nums[k]==nums[k-1]:\n",
    "                            k+=1\n",
    "                    elif s>target:\n",
    "                        l -= 1\n",
    "                    else:\n",
    "                        k += 1\n",
    "        return ans\n",
    "                "
   ]
  },
  {
   "cell_type": "markdown",
   "metadata": {},
   "source": [
    "# 16. 3Sum Closest"
   ]
  },
  {
   "cell_type": "code",
   "execution_count": 32,
   "metadata": {},
   "outputs": [],
   "source": [
    "class Solution(object):\n",
    "    def threeSumClosest(self, nums, target):\n",
    "        \"\"\"\n",
    "        :type nums: List[int]\n",
    "        :type target: int\n",
    "        :rtype: int\n",
    "        \"\"\"\n",
    "        nums.sort()\n",
    "        n = len(nums)\n",
    "        ans = 0\n",
    "        d = float('inf')\n",
    "        for i in range(n):\n",
    "            j = i+1\n",
    "            k = n-1\n",
    "            while j<k:\n",
    "                s = nums[i]+nums[j]+nums[k]\n",
    "                if s== target:\n",
    "                    return s\n",
    "                elif s>target:\n",
    "                    d = min(d,s-target)\n",
    "                    if d == s-target:\n",
    "                        ans = s\n",
    "                    k-=1\n",
    "                else:\n",
    "                    d = min(d,target-s)\n",
    "                    if d == target-s:\n",
    "                        ans = s\n",
    "                    j+=1\n",
    "        return ans\n",
    "                        "
   ]
  },
  {
   "cell_type": "markdown",
   "metadata": {},
   "source": [
    "# 280. Wiggle Sort"
   ]
  },
  {
   "cell_type": "code",
   "execution_count": 33,
   "metadata": {},
   "outputs": [],
   "source": [
    "class Solution(object):\n",
    "    def wiggleSort(self, nums):\n",
    "        \"\"\"\n",
    "        :type nums: List[int]\n",
    "        :rtype: None Do not return anything, modify nums in-place instead.\n",
    "        \"\"\"\n",
    "        n=len(nums)\n",
    "        if n==0:return\n",
    "        nums.sort()\n",
    "        for i in range(1,n,2):\n",
    "            if i+1<n:\n",
    "                nums[i],nums[i+1]=nums[i+1],nums[i]\n",
    "            "
   ]
  },
  {
   "cell_type": "markdown",
   "metadata": {},
   "source": [
    "# 376. Wiggle Subsequence"
   ]
  },
  {
   "cell_type": "code",
   "execution_count": 34,
   "metadata": {},
   "outputs": [],
   "source": [
    "class Solution(object):\n",
    "    def wiggleMaxLength(self, nums):\n",
    "        \"\"\"\n",
    "        :type nums: List[int]\n",
    "        :rtype: int\n",
    "        \"\"\"\n",
    "        n = len(nums)\n",
    "        if n <=1:return n\n",
    "        up = [1] * n\n",
    "        dn = [1] * n\n",
    "        for i in range(1,n):\n",
    "            for j in range(i):\n",
    "                if nums[j] > nums[i]:\n",
    "                    up[i] = max(up[i],dn[j]+1)\n",
    "                elif nums[j] < nums[i]:\n",
    "                    dn[i] = max(dn[i],up[j]+1)\n",
    "        return max(dn+up)"
   ]
  },
  {
   "cell_type": "markdown",
   "metadata": {},
   "source": [
    "# 14. Longest Common Prefix"
   ]
  },
  {
   "cell_type": "code",
   "execution_count": 35,
   "metadata": {},
   "outputs": [],
   "source": [
    "class Solution(object):\n",
    "    def longestCommonPrefix(self, strs):\n",
    "        \"\"\"\n",
    "        :type strs: List[str]\n",
    "        :rtype: str\n",
    "        \"\"\"\n",
    "        n = len(strs)\n",
    "        if n==0: return \"\"\n",
    "        if n==1: return strs[0]\n",
    "        for i in range(len(strs[0])):\n",
    "            for j in range(1,n):\n",
    "                if i>=len(strs[j]) or strs[j][i]!=strs[0][i]:\n",
    "                    return strs[0][:i]\n",
    "        return strs[0]"
   ]
  },
  {
   "cell_type": "markdown",
   "metadata": {},
   "source": [
    "# 31. Next Permutation"
   ]
  },
  {
   "cell_type": "code",
   "execution_count": 36,
   "metadata": {},
   "outputs": [],
   "source": [
    "class Solution(object):\n",
    "    def nextPermutation(self, nums):\n",
    "        \"\"\"\n",
    "        :type nums: List[int]\n",
    "        :rtype: void Do not return anything, modify nums in-place instead.\n",
    "        \"\"\"\n",
    "        n = len(nums)\n",
    "        if n==0: return\n",
    "        i = n-1\n",
    "        while i>0 and nums[i-1]>=nums[i]:\n",
    "            i-=1\n",
    "        if i==0: \n",
    "            nums.reverse()\n",
    "            return\n",
    "        \n",
    "        j = n-1\n",
    "        while nums[j]<=nums[i-1]:\n",
    "            j-=1\n",
    "        nums[j],nums[i-1] = nums[i-1],nums[j]\n",
    "            \n",
    "        left = i\n",
    "        right = n-1\n",
    "        while left<right:\n",
    "            nums[left],nums[right] = nums[right],nums[left]\n",
    "            left += 1\n",
    "            right -= 1\n",
    "    \n",
    "        \n",
    "        "
   ]
  },
  {
   "cell_type": "markdown",
   "metadata": {},
   "source": [
    "# 35. Search Insert Position"
   ]
  },
  {
   "cell_type": "code",
   "execution_count": 37,
   "metadata": {},
   "outputs": [],
   "source": [
    "class Solution(object):\n",
    "    def searchInsert(self, nums, target):\n",
    "        \"\"\"\n",
    "        :type nums: List[int]\n",
    "        :type target: int\n",
    "        :rtype: int\n",
    "        \"\"\"\n",
    "        n = len(nums)\n",
    "        if n==0: return 0\n",
    "        low = 0\n",
    "        high = n-1\n",
    "        while low<=high:\n",
    "            mid = (low+high)//2\n",
    "            if nums[mid]>=target:\n",
    "                high = mid -1\n",
    "            else:\n",
    "                low = mid +1\n",
    "        return low"
   ]
  },
  {
   "cell_type": "markdown",
   "metadata": {},
   "source": [
    "# 4. Median of Two Sorted Arrays"
   ]
  },
  {
   "cell_type": "code",
   "execution_count": 38,
   "metadata": {},
   "outputs": [],
   "source": [
    "class Solution(object):\n",
    "    def findMedianSortedArrays(self, nums1, nums2):\n",
    "        \"\"\"\n",
    "        :type nums1: List[int]\n",
    "        :type nums2: List[int]\n",
    "        :rtype: float\n",
    "        \"\"\"\n",
    "        m = len(nums1)\n",
    "        n = len(nums2)\n",
    "        if m>n: \n",
    "            nums1,nums2 = nums2, nums1\n",
    "            m,n = n,m\n",
    "        if m==0:\n",
    "            if n%2==0: return (nums2[n//2-1]+nums2[n//2])*0.5\n",
    "            else: return nums2[(n-1)//2]*1.0\n",
    "        # if m+n is even: i+j=m-i+n-j -> j = (m+n)/2-i\n",
    "        # if m+n is odd: i+j+1=m-i+n-j -> j = (m+n-1)/2 - i\n",
    "        # nums1[i-1]<=nums2[j] and nums1[i]>=nums2[j-1]\n",
    "        low = 0\n",
    "        high= m\n",
    "        while low<=high:\n",
    "            i = (low+high)//2\n",
    "            j = (m+n)//2 - i\n",
    "            if i>0 and nums1[i-1]>nums2[j]:\n",
    "                high = i-1\n",
    "            elif i<m and nums1[i] < nums2[j-1]:\n",
    "                low = i+1\n",
    "            else:\n",
    "                left_max = -float('inf')\n",
    "                right_min = float('inf')\n",
    "                if i>0: left_max = max(left_max,nums1[i-1])\n",
    "                if j>0: left_max = max(left_max,nums2[j-1])\n",
    "                if i<m: right_min = min(right_min,nums1[i])\n",
    "                if j<n: right_min = min(right_min,nums2[j])\n",
    "                \n",
    "                if (m+n)%2==0:\n",
    "                    return (left_max+right_min)*0.5\n",
    "                else:\n",
    "                    return right_min*1.0"
   ]
  },
  {
   "cell_type": "markdown",
   "metadata": {},
   "source": [
    "# 153. Find Minimum in Rotated Sorted Array"
   ]
  },
  {
   "cell_type": "code",
   "execution_count": 39,
   "metadata": {},
   "outputs": [],
   "source": [
    "class Solution(object):\n",
    "    def findMin(self, nums):\n",
    "        \"\"\"\n",
    "        :type nums: List[int]\n",
    "        :rtype: int\n",
    "        \"\"\"\n",
    "        n = len(nums)\n",
    "        low = 0\n",
    "        high = n-1\n",
    "        while low<=high:\n",
    "            mid = (low+high)//2\n",
    "            if nums[mid]<=nums[-1]:\n",
    "                high = mid -1\n",
    "            else:\n",
    "                low = mid +1\n",
    "        return nums[low]        \n",
    "        "
   ]
  },
  {
   "cell_type": "markdown",
   "metadata": {},
   "source": [
    "# 154. Find Minimum in Rotated Sorted Array II"
   ]
  },
  {
   "cell_type": "code",
   "execution_count": 40,
   "metadata": {},
   "outputs": [],
   "source": [
    "class Solution(object):\n",
    "    def findMin(self, nums):\n",
    "        \"\"\"\n",
    "        :type nums: List[int]\n",
    "        :rtype: int\n",
    "        \"\"\"\n",
    "        n = len(nums)\n",
    "        low = 0\n",
    "        high = n-1\n",
    "        while low<high and nums[low]==nums[high]:\n",
    "            low+=1\n",
    "        while low<=high:\n",
    "            mid = (low+high)//2\n",
    "            if nums[mid]<=nums[-1]:\n",
    "                high = mid -1\n",
    "            else:\n",
    "                low = mid +1\n",
    "        return nums[low] "
   ]
  },
  {
   "cell_type": "markdown",
   "metadata": {},
   "source": [
    "# 34. Find First and Last Position of Element in Sorted Array"
   ]
  },
  {
   "cell_type": "code",
   "execution_count": 41,
   "metadata": {},
   "outputs": [],
   "source": [
    "class Solution(object):\n",
    "    def searchRange(self, nums, target):\n",
    "        \"\"\"\n",
    "        :type nums: List[int]\n",
    "        :type target: int\n",
    "        :rtype: List[int]\n",
    "        \"\"\"\n",
    "        n = len(nums)\n",
    "        low = 0\n",
    "        high = n-1\n",
    "        while low<=high:\n",
    "            mid = (low+high)//2\n",
    "            if nums[mid]>=target:\n",
    "                high = mid -1\n",
    "            else:\n",
    "                low = mid +1\n",
    "        leftmost = low if low<n and nums[low]==target else -1\n",
    "        low = 0\n",
    "        high = n-1\n",
    "        while low<=high:\n",
    "            mid = (low+high)//2\n",
    "            if nums[mid]>target:\n",
    "                high = mid -1\n",
    "            else:\n",
    "                low = mid +1\n",
    "        rightmost = high if high>=0  and nums[high]==target else -1\n",
    "        return [leftmost,rightmost]"
   ]
  },
  {
   "cell_type": "markdown",
   "metadata": {},
   "source": [
    "# 374. Guess Number Higher or Lower"
   ]
  },
  {
   "cell_type": "code",
   "execution_count": 42,
   "metadata": {},
   "outputs": [],
   "source": [
    "# The guess API is already defined for you.\n",
    "# @param num, your guess\n",
    "# @return -1 if my number is lower, 1 if my number is higher, otherwise return 0\n",
    "# def guess(num):\n",
    "\n",
    "class Solution(object):\n",
    "    def guessNumber(self, n):\n",
    "        \"\"\"\n",
    "        :type n: int\n",
    "        :rtype: int\n",
    "        \"\"\"\n",
    "        low = 1\n",
    "        high = n\n",
    "        while low<=high:\n",
    "            mid = (low+high)//2\n",
    "            g = guess(mid)\n",
    "            if g==0:return mid\n",
    "            elif g < 0:\n",
    "                high = mid -1\n",
    "            else:\n",
    "                low = mid + 1\n",
    "        return None"
   ]
  },
  {
   "cell_type": "markdown",
   "metadata": {},
   "source": [
    "# 278. First Bad Version"
   ]
  },
  {
   "cell_type": "code",
   "execution_count": 43,
   "metadata": {},
   "outputs": [],
   "source": [
    "# The isBadVersion API is already defined for you.\n",
    "# @param version, an integer\n",
    "# @return a bool\n",
    "# def isBadVersion(version):\n",
    "\n",
    "class Solution(object):\n",
    "    def firstBadVersion(self, n):\n",
    "        \"\"\"\n",
    "        :type n: int\n",
    "        :rtype: int\n",
    "        \"\"\"\n",
    "        low = 1\n",
    "        high = n\n",
    "        while low<=high:\n",
    "            mid = (low+high)//2\n",
    "            if isBadVersion(mid): high = mid -1\n",
    "            else: low = mid +1\n",
    "        return low"
   ]
  },
  {
   "cell_type": "markdown",
   "metadata": {},
   "source": [
    "# 33. Search in Rotated Sorted Array"
   ]
  },
  {
   "cell_type": "code",
   "execution_count": 44,
   "metadata": {},
   "outputs": [],
   "source": [
    "class Solution(object):\n",
    "    def search(self, nums, target):\n",
    "        \"\"\"\n",
    "        :type nums: List[int]\n",
    "        :type target: int\n",
    "        :rtype: int\n",
    "        \"\"\"\n",
    "        n = len(nums)\n",
    "        if n == 0: return -1\n",
    "        low = 0\n",
    "        high = n-1\n",
    "        \n",
    "        def find_rotate_index(nums):\n",
    "            low = 0\n",
    "            high = len(nums)-1\n",
    "            while low<=high:\n",
    "                mid = (low+high)//2\n",
    "                if nums[mid]<=nums[-1]:\n",
    "                    high = mid -1\n",
    "                else:\n",
    "                    low = mid + 1\n",
    "            return low\n",
    "                        \n",
    "        def binary_search(nums,left,right,target):\n",
    "            low = left\n",
    "            high = right\n",
    "            while low<=high:\n",
    "                mid = (low+high)//2\n",
    "                if nums[mid] == target:\n",
    "                    return mid\n",
    "                elif nums[mid] > target:\n",
    "                    high = mid -1\n",
    "                else:\n",
    "                    low = mid +1\n",
    "            return -1\n",
    "        \n",
    "        rot_id = find_rotate_index(nums)\n",
    "        if rot_id ==0: \n",
    "            return binary_search(nums,0,n-1,target)\n",
    "        else:\n",
    "            if target>= nums[0]:\n",
    "                return binary_search(nums,0,rot_id-1,target)\n",
    "            else:\n",
    "                return binary_search(nums,rot_id,n-1,target)"
   ]
  },
  {
   "cell_type": "markdown",
   "metadata": {},
   "source": [
    "# 81. Search in Rotated Sorted Array II"
   ]
  },
  {
   "cell_type": "code",
   "execution_count": 45,
   "metadata": {},
   "outputs": [],
   "source": [
    "class Solution(object):\n",
    "    def search(self, nums, target):\n",
    "        \"\"\"\n",
    "        :type nums: List[int]\n",
    "        :type target: int\n",
    "        :rtype: bool\n",
    "        \"\"\"\n",
    "        n = len(nums)\n",
    "        if n == 0: return False\n",
    "        low = 0\n",
    "        high = n-1\n",
    "        \n",
    "        def find_rotate_index(nums):\n",
    "            low = 0\n",
    "            high = len(nums)-1\n",
    "            while low <high and nums[low]==nums[high]:\n",
    "                low += 1\n",
    "            while low<=high:\n",
    "                mid = (low+high)//2\n",
    "                if nums[mid]<=nums[-1]:\n",
    "                    high = mid -1\n",
    "                else:\n",
    "                    low = mid + 1\n",
    "            return low\n",
    "                        \n",
    "        def binary_search(nums,left,right,target):\n",
    "            low = left\n",
    "            high = right\n",
    "            while low<=high:\n",
    "                mid = (low+high)//2\n",
    "                if nums[mid] == target:\n",
    "                    return True\n",
    "                elif nums[mid] > target:\n",
    "                    high = mid -1\n",
    "                else:\n",
    "                    low = mid +1\n",
    "            return False\n",
    "        \n",
    "        rot_id = find_rotate_index(nums)\n",
    "        if rot_id ==0: \n",
    "            return binary_search(nums,0,n-1,target)\n",
    "        else:\n",
    "            if target== nums[0]:\n",
    "                return True\n",
    "            elif target > nums[0]:\n",
    "                return binary_search(nums,0,rot_id-1,target)\n",
    "            else:\n",
    "                return binary_search(nums,rot_id,n-1,target)"
   ]
  },
  {
   "cell_type": "markdown",
   "metadata": {},
   "source": [
    "# 300. Longest Increasing Subsequence"
   ]
  },
  {
   "cell_type": "code",
   "execution_count": 46,
   "metadata": {},
   "outputs": [],
   "source": [
    "class Solution(object):\n",
    "    def lengthOfLIS(self, nums):\n",
    "        \"\"\"\n",
    "        :type nums: List[int]\n",
    "        :rtype: int\n",
    "        \"\"\"\n",
    "        n = len(nums)\n",
    "        if n==0: return 0\n",
    "        ans = [nums[0]]\n",
    "        \n",
    "        def bin_search(arr,target):\n",
    "            low = 0\n",
    "            high = len(arr)-1\n",
    "            while low<=high:\n",
    "                mid = (low+high)//2\n",
    "                if arr[mid]>=target:\n",
    "                    high = mid -1\n",
    "                else:\n",
    "                    low = mid + 1\n",
    "            return low\n",
    "        \n",
    "        for i in range(1,n):\n",
    "            index = bin_search(ans,nums[i])\n",
    "            if index == len(ans):\n",
    "                ans.append(nums[i])\n",
    "            else:\n",
    "                ans[index] = nums[i]\n",
    "        return max(ans)"
   ]
  },
  {
   "cell_type": "markdown",
   "metadata": {},
   "source": [
    "# 315. Count of Smaller Numbers After Self"
   ]
  },
  {
   "cell_type": "code",
   "execution_count": 47,
   "metadata": {},
   "outputs": [],
   "source": [
    "class Solution(object):\n",
    "    def countSmaller(self, nums):\n",
    "        \"\"\"\n",
    "        :type nums: List[int]\n",
    "        :rtype: List[int]\n",
    "        \"\"\"\n",
    "        n = len(nums)\n",
    "        if n==0: return []\n",
    "        if n==1: return [0]\n",
    "        t = [nums[-1]]\n",
    "        ans = [0]\n",
    "        for i in range(n-2,-1,-1):\n",
    "            low = 0\n",
    "            high = len(ans)-1\n",
    "            while low<=high:\n",
    "                mid = (low+high)//2\n",
    "                if t[mid]>=nums[i]:\n",
    "                    high = mid -1\n",
    "                else:\n",
    "                    low = mid +1\n",
    "            ans.append(low)\n",
    "            t.insert(low,nums[i])\n",
    "        ans.reverse()\n",
    "        return ans\n",
    "                "
   ]
  },
  {
   "cell_type": "markdown",
   "metadata": {},
   "source": [
    "# 354. Russian Doll Envelopes"
   ]
  },
  {
   "cell_type": "code",
   "execution_count": 48,
   "metadata": {},
   "outputs": [],
   "source": [
    "class Solution(object):\n",
    "    def maxEnvelopes(self, envelopes):\n",
    "        \"\"\"\n",
    "        :type envelopes: List[List[int]]\n",
    "        :rtype: int\n",
    "        \"\"\"\n",
    "        n = len(envelopes)\n",
    "        if n==0:return 0\n",
    "        envelopes = sorted(envelopes,key=lambda x:(x[0],-x[1]))\n",
    "        ans = [envelopes[0][1]]\n",
    "        def bin_search(arr,target):\n",
    "            low = 0\n",
    "            high = len(arr)-1\n",
    "            while low<=high:\n",
    "                mid = (low+high)//2\n",
    "                if arr[mid]>=target:\n",
    "                    high = mid -1\n",
    "                else:\n",
    "                    low = mid +1\n",
    "            return low\n",
    "        for i in range(1,n):\n",
    "            index = bin_search(ans,envelopes[i][1])\n",
    "            if index==len(ans):\n",
    "                ans.append(envelopes[i][1])\n",
    "            else:\n",
    "                ans[index] = envelopes[i][1]\n",
    "        return len(ans)"
   ]
  },
  {
   "cell_type": "markdown",
   "metadata": {},
   "source": [
    "# 274. H-Index"
   ]
  },
  {
   "cell_type": "code",
   "execution_count": 49,
   "metadata": {},
   "outputs": [],
   "source": [
    "class Solution(object):\n",
    "    def hIndex(self, citations):\n",
    "        \"\"\"\n",
    "        :type citations: List[int]\n",
    "        :rtype: int\n",
    "        \"\"\"\n",
    "        citations.sort()\n",
    "        n = len(citations)\n",
    "        for i in range(n):\n",
    "            if (citations[i]>=n-i): return n-i\n",
    "        return 0"
   ]
  },
  {
   "cell_type": "markdown",
   "metadata": {},
   "source": [
    "# 275. H-Index II"
   ]
  },
  {
   "cell_type": "code",
   "execution_count": 50,
   "metadata": {},
   "outputs": [],
   "source": [
    "class Solution(object):\n",
    "    def hIndex(self, citations):\n",
    "        \"\"\"\n",
    "        :type citations: List[int]\n",
    "        :rtype: int\n",
    "        \"\"\"\n",
    "        n = len(citations)\n",
    "        low = 0\n",
    "        high = n-1\n",
    "        while low<=high:\n",
    "            mid = (low+high)//2\n",
    "            if citations[mid] >= n-mid:\n",
    "                high = mid -1\n",
    "            else:\n",
    "                low = mid +1\n",
    "        return n-low"
   ]
  },
  {
   "cell_type": "markdown",
   "metadata": {},
   "source": [
    "# 242. Valid Anagram"
   ]
  },
  {
   "cell_type": "code",
   "execution_count": 51,
   "metadata": {},
   "outputs": [],
   "source": [
    "class Solution(object):\n",
    "    def isAnagram(self, s, t):\n",
    "        \"\"\"\n",
    "        :type s: str\n",
    "        :type t: str\n",
    "        :rtype: bool\n",
    "        \"\"\"\n",
    "        m = len(s)\n",
    "        n = len(t)\n",
    "        if m!=n: return False\n",
    "        hmap ={}\n",
    "        for i in range(m):\n",
    "            if s[i] not in hmap:\n",
    "                hmap[s[i]] = 1\n",
    "            else:\n",
    "                hmap[s[i]] += 1\n",
    "            if t[i] not in hmap:\n",
    "                hmap[t[i]] = -1\n",
    "            else:\n",
    "                hmap[t[i]] -= 1\n",
    "        for v in hmap.values():\n",
    "            if v!=0:return False\n",
    "        return True\n",
    "        "
   ]
  },
  {
   "cell_type": "markdown",
   "metadata": {},
   "source": [
    "# 249. Group Shifted Strings"
   ]
  },
  {
   "cell_type": "code",
   "execution_count": 52,
   "metadata": {},
   "outputs": [],
   "source": [
    "class Solution(object):\n",
    "    def groupStrings(self, strings):\n",
    "        \"\"\"\n",
    "        :type strings: List[str]\n",
    "        :rtype: List[List[str]]\n",
    "        \"\"\"\n",
    "        hmap = {}\n",
    "        for string in strings:\n",
    "            sig =''\n",
    "            if len(string) >1:\n",
    "                for i in range(1,len(string)):\n",
    "                    sig += str((ord(string[i]) - ord(string[i-1]))%26)\n",
    "                    \n",
    "            if sig not in hmap:\n",
    "                hmap[sig] = [string]\n",
    "            else:\n",
    "                hmap[sig].append(string)\n",
    "        return hmap.values()\n",
    "        "
   ]
  },
  {
   "cell_type": "markdown",
   "metadata": {},
   "source": [
    "# 336. Palindrome Pairs"
   ]
  },
  {
   "cell_type": "code",
   "execution_count": 53,
   "metadata": {},
   "outputs": [],
   "source": [
    "class Solution(object):\n",
    "    def palindromePairs(self, words):\n",
    "        \"\"\"\n",
    "        :type words: List[str]\n",
    "        :rtype: List[List[int]]\n",
    "        \"\"\"\n",
    "        n = len(words)\n",
    "        if n<=1:return []\n",
    "        ans = []\n",
    "        hmap = {}\n",
    "        for i,word in enumerate(words):\n",
    "            hmap[word] = i\n",
    "        \n",
    "        def isPalin(word):\n",
    "            n = len(word)\n",
    "            if n ==0:return True\n",
    "            i = 0\n",
    "            j = n-1\n",
    "            while i<j:\n",
    "                if word[i]!=word[j]:\n",
    "                    return False\n",
    "                i+=1\n",
    "                j-=1\n",
    "            return True\n",
    "        \n",
    "        for i,word in enumerate(words):\n",
    "            for k in range(len(word)+1):\n",
    "                left = word[:k]\n",
    "                right = word[k:]\n",
    "                if isPalin(left) and right[::-1] in hmap and hmap[right[::-1]]!=i:\n",
    "                    ans.append([hmap[right[::-1]],i])\n",
    "                if isPalin(right) and left[::-1] in hmap and hmap[left[::-1]]!=i and len(right)!=0:\n",
    "                    ans.append([i,hmap[left[::-1]]])\n",
    "        return ans"
   ]
  },
  {
   "cell_type": "markdown",
   "metadata": {},
   "source": [
    "# 356. Line Reflection"
   ]
  },
  {
   "cell_type": "code",
   "execution_count": 54,
   "metadata": {},
   "outputs": [],
   "source": [
    "class Solution(object):\n",
    "    def isReflected(self, points):\n",
    "        \"\"\"\n",
    "        :type points: List[List[int]]\n",
    "        :rtype: bool\n",
    "        \"\"\"\n",
    "        n = len(points)\n",
    "        if n==0: return True\n",
    "        if n==1: return True\n",
    "        hset = set()\n",
    "        xmin = float('inf')\n",
    "        xmax = -float('inf')\n",
    "        for p in points:\n",
    "            hset.add((p[0],p[1]))\n",
    "            xmin = min(xmin,p[0])\n",
    "            xmax = max(xmax,p[0])\n",
    "            \n",
    "        for px,py in hset:\n",
    "            pxr = xmin+xmax-px\n",
    "            if (pxr,py) not in hset:\n",
    "                return False\n",
    "        return True"
   ]
  },
  {
   "cell_type": "markdown",
   "metadata": {},
   "source": [
    "# 205. Isomorphic Strings"
   ]
  },
  {
   "cell_type": "code",
   "execution_count": 55,
   "metadata": {},
   "outputs": [],
   "source": [
    "class Solution(object):\n",
    "    def isIsomorphic(self, s, t):\n",
    "        \"\"\"\n",
    "        :type s: str\n",
    "        :type t: str\n",
    "        :rtype: bool\n",
    "        \"\"\"\n",
    "        m = len(s)\n",
    "        n = len(t)\n",
    "        if m!=n: return False\n",
    "        s2t = {}\n",
    "        t2s = {}\n",
    "        for i in range(m):\n",
    "            if s[i] not in s2t: s2t[s[i]]=t[i]\n",
    "            if t[i] not in t2s: t2s[t[i]]=s[i]\n",
    "            if s2t[s[i]]!=t[i] or t2s[t[i]]!=s[i]:\n",
    "                return False\n",
    "        return True"
   ]
  },
  {
   "cell_type": "markdown",
   "metadata": {},
   "source": [
    "# 1. Two Sum"
   ]
  },
  {
   "cell_type": "code",
   "execution_count": 56,
   "metadata": {},
   "outputs": [],
   "source": [
    "class Solution(object):\n",
    "    def twoSum(self, nums, target):\n",
    "        \"\"\"\n",
    "        :type nums: List[int]\n",
    "        :type target: int\n",
    "        :rtype: List[int]\n",
    "        \"\"\"\n",
    "        n = len(nums)\n",
    "        if n==0: return []\n",
    "        hmap = {}\n",
    "        for i,num in enumerate(nums):\n",
    "            num_other = target - num\n",
    "            if num_other not in hmap:\n",
    "                hmap[num] = i\n",
    "            else:\n",
    "                return [hmap[num_other],i]\n",
    "        return []"
   ]
  },
  {
   "cell_type": "markdown",
   "metadata": {},
   "source": [
    "# 325. Maximum Size Subarray Sum Equals k"
   ]
  },
  {
   "cell_type": "code",
   "execution_count": 57,
   "metadata": {},
   "outputs": [],
   "source": [
    "class Solution(object):\n",
    "    def maxSubArrayLen(self, nums, k):\n",
    "        \"\"\"\n",
    "        :type nums: List[int]\n",
    "        :type k: int\n",
    "        :rtype: int\n",
    "        \"\"\"\n",
    "        n = len(nums)\n",
    "        if n==0: return 0\n",
    "        \n",
    "        hmap = {}\n",
    "        s = 0\n",
    "        max_len = 0\n",
    "        for i,num in enumerate(nums):\n",
    "            s += num\n",
    "            if s==k: max_len = max(max_len,i+1)\n",
    "            s_other = s-k\n",
    "            \n",
    "            if s_other in hmap:\n",
    "                max_len = max(max_len,i-hmap[s_other])\n",
    "            if s not in hmap:\n",
    "                hmap[s] = i\n",
    "        return max_len"
   ]
  },
  {
   "cell_type": "markdown",
   "metadata": {},
   "source": [
    "# 560. Subarray Sum Equals K"
   ]
  },
  {
   "cell_type": "code",
   "execution_count": 58,
   "metadata": {},
   "outputs": [],
   "source": [
    "class Solution(object):\n",
    "    def subarraySum(self, nums, k):\n",
    "        \"\"\"\n",
    "        :type nums: List[int]\n",
    "        :type k: int\n",
    "        :rtype: int\n",
    "        \"\"\"\n",
    "        n = len(nums)\n",
    "        if n==0: return 0\n",
    "        hmap  = {}\n",
    "        ans = 0\n",
    "        s=0\n",
    "        for i,num in enumerate(nums):\n",
    "            s += num\n",
    "            if s == k: ans+=1\n",
    "            s_other = s-k\n",
    "            if s_other in hmap:\n",
    "                ans += hmap[s_other]\n",
    "            if s not in hmap:\n",
    "                hmap[s] = 1\n",
    "            else:\n",
    "                hmap[s] += 1\n",
    "        return ans\n",
    "            "
   ]
  },
  {
   "cell_type": "markdown",
   "metadata": {},
   "source": [
    "# 53. Maximum Subarray"
   ]
  },
  {
   "cell_type": "code",
   "execution_count": 59,
   "metadata": {},
   "outputs": [],
   "source": [
    "class Solution(object):\n",
    "    def maxSubArray(self, nums):\n",
    "        \"\"\"\n",
    "        :type nums: List[int]\n",
    "        :rtype: int\n",
    "        \"\"\"\n",
    "        n = len(nums)\n",
    "        if n== 1: return nums[0]\n",
    "        hmap = {}\n",
    "        s = nums[0]\n",
    "        \n",
    "        min_pre_sum = nums[0] if nums[0]<0 else 0 \n",
    "        max_sub_sum = nums[0]\n",
    "        \n",
    "        for i in range(1,n):\n",
    "            s += nums[i]\n",
    "            max_sub_sum = max(max_sub_sum,s)\n",
    "            max_sub_sum = max(max_sub_sum,s-min_pre_sum)\n",
    "            min_pre_sum = min(min_pre_sum,s)\n",
    "            \n",
    "        return max_sub_sum"
   ]
  },
  {
   "cell_type": "markdown",
   "metadata": {},
   "source": [
    "# 152. Maximum Product Subarray"
   ]
  },
  {
   "cell_type": "code",
   "execution_count": 60,
   "metadata": {},
   "outputs": [],
   "source": [
    "class Solution(object):\n",
    "    def maxProduct(self, nums):\n",
    "        \"\"\"\n",
    "        :type nums: List[int]\n",
    "        :rtype: int\n",
    "        \"\"\"\n",
    "        n = len(nums)\n",
    "        max_prod = [0]*n\n",
    "        min_prod = [0]*n\n",
    "        max_prod[0] = nums[0]\n",
    "        min_prod[0] = nums[0]\n",
    "        for i in range(1,n):\n",
    "            if nums[i] >0:\n",
    "                max_prod[i] = max(max_prod[i-1]*nums[i],nums[i])\n",
    "                min_prod[i] = min(min_prod[i-1]*nums[i],nums[i])\n",
    "            else:\n",
    "                max_prod[i] = max(min_prod[i-1]*nums[i],nums[i])\n",
    "                min_prod[i] = min(max_prod[i-1]*nums[i],nums[i])\n",
    "        return max(max_prod)"
   ]
  },
  {
   "cell_type": "markdown",
   "metadata": {},
   "source": [
    "# 3. Longest Substring Without Repeating Characters"
   ]
  },
  {
   "cell_type": "code",
   "execution_count": 61,
   "metadata": {},
   "outputs": [],
   "source": [
    "class Solution(object):\n",
    "    def lengthOfLongestSubstring(self, s):\n",
    "        \"\"\"\n",
    "        :type s: str\n",
    "        :rtype: int\n",
    "        \"\"\"\n",
    "        n = len(s)\n",
    "        if n==0: return 0\n",
    "        hmap = {}\n",
    "        max_len = 0\n",
    "        left = -1\n",
    "        for i, c in enumerate(s):\n",
    "            if c in hmap and hmap[c]>left:\n",
    "                left = hmap[c]\n",
    "            hmap[c] = i\n",
    "            max_len = max(max_len,i-left)\n",
    "            \n",
    "        return max_len\n",
    "            "
   ]
  },
  {
   "cell_type": "markdown",
   "metadata": {},
   "source": [
    "# 340. Longest Substring with At Most K Distinct Characters"
   ]
  },
  {
   "cell_type": "code",
   "execution_count": 62,
   "metadata": {},
   "outputs": [],
   "source": [
    "class Solution(object):\n",
    "    def lengthOfLongestSubstringKDistinct(self, s, k):\n",
    "        \"\"\"\n",
    "        :type s: str\n",
    "        :type k: int\n",
    "        :rtype: int\n",
    "        \"\"\"\n",
    "        n = len(s)\n",
    "        if n==0: return 0\n",
    "        hmap = {}\n",
    "        max_len=0\n",
    "        left = 0\n",
    "        for i, c in enumerate(s):\n",
    "            if c not in hmap:\n",
    "                hmap[c] = 1\n",
    "            else:\n",
    "                hmap[c]+= 1\n",
    "            while len(hmap)>k:\n",
    "                if hmap[s[left]]>1:\n",
    "                    hmap[s[left]]-=1\n",
    "                else:\n",
    "                    del hmap[s[left]]\n",
    "                left += 1\n",
    "            max_len = max(max_len,i-left+1)\n",
    "        return max_len\n",
    "        "
   ]
  },
  {
   "cell_type": "markdown",
   "metadata": {},
   "source": [
    "# 30. Substring with Concatenation of All Words"
   ]
  },
  {
   "cell_type": "code",
   "execution_count": 63,
   "metadata": {},
   "outputs": [],
   "source": [
    "class Solution(object):\n",
    "    def findSubstring(self, s, words):\n",
    "        \"\"\"\n",
    "        :type s: str\n",
    "        :type words: List[str]\n",
    "        :rtype: List[int]\n",
    "        \"\"\"\n",
    "        n = len(s)\n",
    "        if n==0: return []\n",
    "        m = len(words)\n",
    "        if m==0: return []\n",
    "        k = len(words[0])\n",
    "        m1 = {}\n",
    "        ans = []\n",
    "        for word in words:\n",
    "            if word not in m1:\n",
    "                m1[word] =1\n",
    "            else:\n",
    "                m1[word]+=1\n",
    "        for i in range(n-m*k+1):\n",
    "            m2 = {}\n",
    "            for j in range(i,i+m*k,k):\n",
    "                if j+k>n: continue\n",
    "                if s[j:j+k] in m1:\n",
    "                    if s[j:j+k] not in m2:\n",
    "                        m2[s[j:j+k]] = 1\n",
    "                    else:\n",
    "                        m2[s[j:j+k]] += 1\n",
    "                    if m2[s[j:j+k]]> m1[s[j:j+k]]:\n",
    "                        break\n",
    "                else:\n",
    "                    break\n",
    "            flag = True\n",
    "            for word in m1:\n",
    "                if word not in m2 or  m1[word] != m2[word]:\n",
    "                    flag = False\n",
    "                    break\n",
    "            if flag: ans.append(i)\n",
    "        return ans"
   ]
  },
  {
   "cell_type": "markdown",
   "metadata": {},
   "source": [
    "# 727. Minimum Window Subsequence"
   ]
  },
  {
   "cell_type": "code",
   "execution_count": 64,
   "metadata": {},
   "outputs": [],
   "source": [
    "class Solution(object):\n",
    "    def minWindow(self, S, T):\n",
    "        \"\"\"\n",
    "        :type S: str\n",
    "        :type T: str\n",
    "        :rtype: str\n",
    "        \"\"\"\n",
    "        m = len(S)\n",
    "        n = len(T)\n",
    "        min_len= float('inf')\n",
    "        ans = \"\"\n",
    "        if n>m: return ans\n",
    "        f = [[-1]*(n+1) for _ in range(m+1)]\n",
    "        for i in range(m+1):\n",
    "            f[i][0] = i\n",
    "        for i in range(1,m+1):\n",
    "            for j in range(1,min(i,n)+1):\n",
    "                if S[i-1] == T[j-1]:\n",
    "                    f[i][j] = f[i-1][j-1]\n",
    "                else:\n",
    "                    f[i][j] = f[i-1][j]\n",
    "            if f[i][n]!=-1 and min_len>(i-f[i][n]):\n",
    "                min_len=i-f[i][n]\n",
    "                ans = S[f[i][n]:i]\n",
    "        return ans   "
   ]
  },
  {
   "cell_type": "markdown",
   "metadata": {},
   "source": [
    "# 395. Longest Substring with At Least K Repeating Characters"
   ]
  },
  {
   "cell_type": "code",
   "execution_count": 65,
   "metadata": {},
   "outputs": [],
   "source": [
    "class Solution(object):\n",
    "    def longestSubstring(self, s, k):\n",
    "        \"\"\"\n",
    "        :type s: str\n",
    "        :type k: int\n",
    "        :rtype: int\n",
    "        \"\"\"\n",
    "        count = collections.Counter(s)\n",
    "        max_len =0\n",
    "        left = 0\n",
    "        n = len(s)\n",
    "        for i in range(n):\n",
    "            if count[s[i]]<k:\n",
    "                sub_len = self.longestSubstring(s[left:i],k)\n",
    "                max_len = max(max_len,sub_len)\n",
    "                left = i+1\n",
    "        if left ==0: return len(s)\n",
    "        sub_len = self.longestSubstring(s[left:],k)\n",
    "        max_len = max(max_len,sub_len)\n",
    "        return max_len"
   ]
  },
  {
   "cell_type": "markdown",
   "metadata": {},
   "source": [
    "# 567. Permutation in String"
   ]
  },
  {
   "cell_type": "code",
   "execution_count": 66,
   "metadata": {},
   "outputs": [],
   "source": [
    "class Solution(object):\n",
    "    def checkInclusion(self, s1, s2):\n",
    "        \"\"\"\n",
    "        :type s1: str\n",
    "        :type s2: str\n",
    "        :rtype: bool\n",
    "        \"\"\"\n",
    "        n = len(s1)\n",
    "        m = len(s2)\n",
    "        if n>m: return False\n",
    "        m1 = {}\n",
    "        m2 = {}\n",
    "        for i in range(n):\n",
    "            c = s1[i]\n",
    "            if c not in m1:\n",
    "                m1[c] = 1\n",
    "            else:\n",
    "                m1[c] += 1\n",
    "            c = s2[i]\n",
    "            if c not in m2:\n",
    "                m2[c] = 1\n",
    "            else:\n",
    "                m2[c] += 1\n",
    "        \n",
    "        if m1==m2: return True\n",
    "        \n",
    "        for i in range(n,m):\n",
    "            c = s2[i]\n",
    "            if c not in m2:\n",
    "                m2[c]=1\n",
    "            else:\n",
    "                m2[c]+=1\n",
    "            c =s2[i-n]\n",
    "            m2[c]-=1\n",
    "            if m2[c]==0: del m2[c]\n",
    "            if m1==m2: return True\n",
    "        return False\n",
    "        \n",
    "            \n",
    "            "
   ]
  },
  {
   "cell_type": "markdown",
   "metadata": {},
   "source": [
    "# 128. Longest Consecutive Sequence"
   ]
  },
  {
   "cell_type": "code",
   "execution_count": 67,
   "metadata": {},
   "outputs": [],
   "source": [
    "class Solution(object):\n",
    "    def longestConsecutive(self, nums):\n",
    "        \"\"\"\n",
    "        :type nums: List[int]\n",
    "        :rtype: int\n",
    "        \"\"\"\n",
    "        n = len(nums)\n",
    "        if n==0: return 0\n",
    "        hset = set()\n",
    "        max_len = 0\n",
    "        for num in nums:\n",
    "            hset.add(num)\n",
    "        while hset:\n",
    "            num = hset.pop()\n",
    "            low = num\n",
    "            while low-1 in hset:\n",
    "                low -= 1\n",
    "                hset.remove(low)\n",
    "            high = num\n",
    "            while high+1 in hset:\n",
    "                high += 1\n",
    "                hset.remove(high)\n",
    "            max_len = max(max_len,high-low +1)\n",
    "        return max_len\n",
    "            \n",
    "        "
   ]
  },
  {
   "cell_type": "markdown",
   "metadata": {},
   "source": [
    "# 169. Majority Element"
   ]
  },
  {
   "cell_type": "code",
   "execution_count": 68,
   "metadata": {},
   "outputs": [],
   "source": [
    "class Solution(object):\n",
    "    def majorityElement(self, nums):\n",
    "        \"\"\"\n",
    "        :type nums: List[int]\n",
    "        :rtype: int\n",
    "        \"\"\"\n",
    "        n = len(nums)\n",
    "        count = 0\n",
    "        for num in nums:\n",
    "            if count == 0:\n",
    "                ans = num\n",
    "                count = 1\n",
    "            else:\n",
    "                if num == ans:\n",
    "                    count+=1\n",
    "                else:\n",
    "                    count-=1\n",
    "        return ans"
   ]
  },
  {
   "cell_type": "markdown",
   "metadata": {},
   "source": [
    "# 229. Majority Element II"
   ]
  },
  {
   "cell_type": "code",
   "execution_count": 69,
   "metadata": {},
   "outputs": [],
   "source": [
    "class Solution(object):\n",
    "    def majorityElement(self, nums):\n",
    "        \"\"\"\n",
    "        :type nums: List[int]\n",
    "        :rtype: List[int]\n",
    "        \"\"\"\n",
    "        c1 = 0\n",
    "        c2 = 0\n",
    "        d1 = None\n",
    "        d2 = None\n",
    "        ans = []\n",
    "        for n in nums:\n",
    "            if n == d1:\n",
    "                c1 += 1\n",
    "                continue\n",
    "            if n == d2:\n",
    "                c2 += 1\n",
    "                continue\n",
    "            if d1 is None or c1==0:\n",
    "                d1 = n\n",
    "                c1 = 1\n",
    "            elif d2 is None or c2==0:\n",
    "                d2 = n\n",
    "                c2 = 1\n",
    "            else:\n",
    "                c1 -= 1\n",
    "                c2 -= 1\n",
    "                \n",
    "        c1 = c2 = c3 = 0\n",
    "        for n in nums:\n",
    "            if n == d1:\n",
    "                c1+=1\n",
    "            elif n==d2:\n",
    "                c2+=1\n",
    "            else:\n",
    "                c3+=1\n",
    "        \n",
    "        if c1*3>(c1+c2+c3):\n",
    "            ans.append(d1)\n",
    "        if c2*3>(c1+c2+c3):\n",
    "            ans.append(d2)\n",
    "        return ans"
   ]
  },
  {
   "cell_type": "markdown",
   "metadata": {},
   "source": [
    "# 334. Increasing Triplet Subsequence"
   ]
  },
  {
   "cell_type": "code",
   "execution_count": 70,
   "metadata": {},
   "outputs": [],
   "source": [
    "class Solution(object):\n",
    "    def increasingTriplet(self, nums):\n",
    "        \"\"\"\n",
    "        :type nums: List[int]\n",
    "        :rtype: bool\n",
    "        \"\"\"\n",
    "        n = len(nums)\n",
    "        if n==0: return False\n",
    "        first = second = float('inf')\n",
    "        for num in nums:\n",
    "            if num <= first:\n",
    "                first = num\n",
    "            elif num <= second:\n",
    "                second = num\n",
    "            else:\n",
    "                return True\n",
    "        return False"
   ]
  },
  {
   "cell_type": "markdown",
   "metadata": {},
   "source": [
    "# Find the Second Largest Number in an Array"
   ]
  },
  {
   "cell_type": "code",
   "execution_count": 71,
   "metadata": {},
   "outputs": [],
   "source": [
    "class Solution(object):\n",
    "    def getSecondLargest(self, nums):\n",
    "        \"\"\"\n",
    "        :type nums: List[int]\n",
    "        :rtype: int\n",
    "        \"\"\"\n",
    "        n = len(nums)\n",
    "        first = -float('inf')\n",
    "        second = -float('inf')\n",
    "        for num in nums:\n",
    "            if num > first:\n",
    "                second = first\n",
    "                first = num\n",
    "            elif num > second:\n",
    "                second = num\n",
    "        return second"
   ]
  },
  {
   "cell_type": "markdown",
   "metadata": {},
   "source": [
    "# 127. Word Ladder"
   ]
  },
  {
   "cell_type": "code",
   "execution_count": 72,
   "metadata": {},
   "outputs": [],
   "source": [
    "class Solution(object):\n",
    "    def ladderLength(self, beginWord, endWord, wordList):\n",
    "        \"\"\"\n",
    "        :type beginWord: str\n",
    "        :type endWord: str\n",
    "        :type wordList: List[str]\n",
    "        :rtype: int\n",
    "        \"\"\"\n",
    "        n = len(wordList)\n",
    "        if n ==0: return 0\n",
    "        wordList = set(wordList)\n",
    "        if endWord not in wordList: return 0\n",
    "        ans = 1\n",
    "        visited = set()\n",
    "        m = len(beginWord)\n",
    "        queue = [beginWord]\n",
    "        visited.add(beginWord)\n",
    "        while queue:\n",
    "            size = len(queue)\n",
    "            ans +=1\n",
    "            for i in range(size):\n",
    "                word1 = queue.pop(0)\n",
    "                for j in range(m):\n",
    "                    c1 = word1[j]\n",
    "                    for c in range(ord('a'),ord('z')+1):\n",
    "                        c2 = chr(c)\n",
    "                        if c2!=c1:\n",
    "                            word2 = word1[:j]+c2+word1[j+1:]\n",
    "                            if word2 == endWord: return ans\n",
    "                            if word2 in wordList and word2 not in visited:\n",
    "                                visited.add(word2)\n",
    "                                queue.append(word2)\n",
    "        return 0"
   ]
  },
  {
   "cell_type": "markdown",
   "metadata": {},
   "source": [
    "# 126. Word Ladder II"
   ]
  },
  {
   "cell_type": "code",
   "execution_count": 73,
   "metadata": {},
   "outputs": [],
   "source": [
    "class Solution(object):\n",
    "    def findLadders(self, beginWord, endWord, wordList):\n",
    "        \"\"\"\n",
    "        :type beginWord: str\n",
    "        :type endWord: str\n",
    "        :type wordList: List[str]\n",
    "        :rtype: List[List[str]]\n",
    "        \"\"\"\n",
    "        n = len(wordList)\n",
    "        if n==0: return []\n",
    "        wordList = set(wordList)\n",
    "        if endWord not in wordList: return []\n",
    "        queue = []\n",
    "        queue.append([beginWord])\n",
    "        level = 1\n",
    "        minLevel = float('inf')\n",
    "        m = len(beginWord)\n",
    "        ans = []\n",
    "        while queue:\n",
    "            size = len(queue)\n",
    "            level += 1\n",
    "            for i in range(size):\n",
    "                wlist1 = queue.pop(0)\n",
    "                if len(wlist1)>= minLevel: break\n",
    "                visited = set(wlist1)\n",
    "                wordList1 = wordList-visited\n",
    "                last = wlist1[-1]\n",
    "                for j in range(m):\n",
    "                    c1 = last[j]\n",
    "                    for c2 in 'abcdefghijklmnopqrstuvwxyz':\n",
    "                        if c2!=c1:\n",
    "                            word2 = last[:j]+c2+last[j+1:]\n",
    "                            wlist2 = wlist1[:]\n",
    "                            wlist2.append(word2)\n",
    "                            if word2 == endWord:\n",
    "                                minLevel = level\n",
    "                                ans.append(wlist2)\n",
    "                            if word2 in wordList1 and word2 not in visited:\n",
    "                                queue.append(wlist2)\n",
    "        return ans"
   ]
  },
  {
   "cell_type": "code",
   "execution_count": 74,
   "metadata": {},
   "outputs": [],
   "source": [
    "import collections\n",
    "class Solution(object):\n",
    "    def findLadders(self, beginWord, endWord, wordList):\n",
    "\n",
    "        wordList = set(wordList)\n",
    "        res = []\n",
    "        layer = {}\n",
    "        layer[beginWord] = [[beginWord]]\n",
    "\n",
    "        while layer:\n",
    "            newlayer = collections.defaultdict(list)\n",
    "            for w in layer:\n",
    "                if w == endWord: \n",
    "                    res.extend(k for k in layer[w])\n",
    "                else:\n",
    "                    for i in range(len(w)):\n",
    "                        for c in 'abcdefghijklmnopqrstuvwxyz':\n",
    "                            neww = w[:i]+c+w[i+1:]\n",
    "                            if neww in wordList:\n",
    "                                newlayer[neww]+=[j+[neww] for j in layer[w]]\n",
    "            wordList -= set(newlayer.keys())\n",
    "            layer = newlayer\n",
    "\n",
    "        return res"
   ]
  },
  {
   "cell_type": "code",
   "execution_count": 75,
   "metadata": {},
   "outputs": [
    {
     "data": {
      "text/plain": [
       "[['qa', 'ba', 'be', 'se', 'sq'],\n",
       " ['qa', 'fa', 'fe', 'se', 'sq'],\n",
       " ['qa', 'ga', 'ge', 'se', 'sq'],\n",
       " ['qa', 'ha', 'he', 'se', 'sq'],\n",
       " ['qa', 'la', 'le', 'se', 'sq'],\n",
       " ['qa', 'ma', 'me', 'se', 'sq'],\n",
       " ['qa', 'na', 'ne', 'se', 'sq'],\n",
       " ['qa', 'ra', 're', 'se', 'sq'],\n",
       " ['qa', 'ya', 'ye', 'se', 'sq'],\n",
       " ['qa', 'ba', 'bi', 'si', 'sq'],\n",
       " ['qa', 'ca', 'ci', 'si', 'sq'],\n",
       " ['qa', 'ha', 'hi', 'si', 'sq'],\n",
       " ['qa', 'la', 'li', 'si', 'sq'],\n",
       " ['qa', 'ma', 'mi', 'si', 'sq'],\n",
       " ['qa', 'na', 'ni', 'si', 'sq'],\n",
       " ['qa', 'pa', 'pi', 'si', 'sq'],\n",
       " ['qa', 'ta', 'ti', 'si', 'sq'],\n",
       " ['qa', 'ba', 'br', 'sr', 'sq'],\n",
       " ['qa', 'ca', 'cr', 'sr', 'sq'],\n",
       " ['qa', 'fa', 'fr', 'sr', 'sq'],\n",
       " ['qa', 'la', 'lr', 'sr', 'sq'],\n",
       " ['qa', 'ma', 'mr', 'sr', 'sq'],\n",
       " ['qa', 'ca', 'cm', 'sm', 'sq'],\n",
       " ['qa', 'fa', 'fm', 'sm', 'sq'],\n",
       " ['qa', 'pa', 'pm', 'sm', 'sq'],\n",
       " ['qa', 'ta', 'tm', 'sm', 'sq'],\n",
       " ['qa', 'ca', 'co', 'so', 'sq'],\n",
       " ['qa', 'ga', 'go', 'so', 'sq'],\n",
       " ['qa', 'ha', 'ho', 'so', 'sq'],\n",
       " ['qa', 'la', 'lo', 'so', 'sq'],\n",
       " ['qa', 'ma', 'mo', 'so', 'sq'],\n",
       " ['qa', 'na', 'no', 'so', 'sq'],\n",
       " ['qa', 'pa', 'po', 'so', 'sq'],\n",
       " ['qa', 'ta', 'to', 'so', 'sq'],\n",
       " ['qa', 'ya', 'yo', 'so', 'sq'],\n",
       " ['qa', 'la', 'ln', 'sn', 'sq'],\n",
       " ['qa', 'ma', 'mn', 'sn', 'sq'],\n",
       " ['qa', 'ra', 'rn', 'sn', 'sq'],\n",
       " ['qa', 'la', 'lt', 'st', 'sq'],\n",
       " ['qa', 'ma', 'mt', 'st', 'sq'],\n",
       " ['qa', 'pa', 'pt', 'st', 'sq'],\n",
       " ['qa', 'ma', 'mb', 'sb', 'sq'],\n",
       " ['qa', 'na', 'nb', 'sb', 'sq'],\n",
       " ['qa', 'pa', 'pb', 'sb', 'sq'],\n",
       " ['qa', 'ra', 'rb', 'sb', 'sq'],\n",
       " ['qa', 'ta', 'tb', 'sb', 'sq'],\n",
       " ['qa', 'ya', 'yb', 'sb', 'sq'],\n",
       " ['qa', 'pa', 'ph', 'sh', 'sq'],\n",
       " ['qa', 'ra', 'rh', 'sh', 'sq'],\n",
       " ['qa', 'ta', 'th', 'sh', 'sq'],\n",
       " ['qa', 'ta', 'tc', 'sc', 'sq']]"
      ]
     },
     "execution_count": 75,
     "metadata": {},
     "output_type": "execute_result"
    }
   ],
   "source": [
    "a = Solution()\n",
    "a.findLadders(\"qa\",\n",
    "\"sq\",\n",
    "[\"si\",\"go\",\"se\",\"cm\",\"so\",\"ph\",\"mt\",\"db\",\"mb\",\"sb\",\"kr\",\"ln\",\"tm\",\"le\",\"av\",\"sm\",\"ar\",\"ci\",\"ca\",\"br\",\"ti\",\"ba\",\"to\",\"ra\",\"fa\",\"yo\",\"ow\",\"sn\",\"ya\",\"cr\",\"po\",\"fe\",\"ho\",\"ma\",\"re\",\"or\",\"rn\",\"au\",\"ur\",\"rh\",\"sr\",\"tc\",\"lt\",\"lo\",\"as\",\"fr\",\"nb\",\"yb\",\"if\",\"pb\",\"ge\",\"th\",\"pm\",\"rb\",\"sh\",\"co\",\"ga\",\"li\",\"ha\",\"hz\",\"no\",\"bi\",\"di\",\"hi\",\"qa\",\"pi\",\"os\",\"uh\",\"wm\",\"an\",\"me\",\"mo\",\"na\",\"la\",\"st\",\"er\",\"sc\",\"ne\",\"mn\",\"mi\",\"am\",\"ex\",\"pt\",\"io\",\"be\",\"fm\",\"ta\",\"tb\",\"ni\",\"mr\",\"pa\",\"he\",\"lr\",\"sq\",\"ye\"])"
   ]
  },
  {
   "cell_type": "markdown",
   "metadata": {},
   "source": [
    "# 347. Top K Frequent Elements"
   ]
  },
  {
   "cell_type": "code",
   "execution_count": 76,
   "metadata": {},
   "outputs": [],
   "source": [
    "class Solution(object):\n",
    "    def topKFrequent(self, nums, k):\n",
    "        \"\"\"\n",
    "        :type nums: List[int]\n",
    "        :type k: int\n",
    "        :rtype: List[int]\n",
    "        \"\"\"\n",
    "        hmap = {}\n",
    "        for num in nums:\n",
    "            if num not in hmap:\n",
    "                hmap[num] = 1\n",
    "            else:\n",
    "                hmap[num] += 1\n",
    "        heap = []\n",
    "        for key,val in hmap.items():\n",
    "            heapq.heappush(heap,(val,key))\n",
    "            if len(heap)>k:\n",
    "                heapq.heappop(heap)\n",
    "        ans = []\n",
    "        while heap:\n",
    "            ans.append(heap[0][1])\n",
    "            heapq.heappop(heap)\n",
    "        ans.reverse()\n",
    "        return ans\n",
    "        "
   ]
  },
  {
   "cell_type": "markdown",
   "metadata": {},
   "source": [
    "# 253. Meeting Rooms II"
   ]
  },
  {
   "cell_type": "code",
   "execution_count": 77,
   "metadata": {},
   "outputs": [],
   "source": [
    "class Solution(object):\n",
    "    def minMeetingRooms(self, intervals):\n",
    "        \"\"\"\n",
    "        :type intervals: List[List[int]]\n",
    "        :rtype: int\n",
    "        \"\"\"\n",
    "        n = len(intervals)\n",
    "        if n == 0: return 0\n",
    "        start_sorted = [x[0] for x in sorted(intervals,key=lambda x:x[0])]\n",
    "        end_sorted = [x[1] for x in sorted(intervals,key=lambda x:x[1])]\n",
    "        s =0\n",
    "        i = 0\n",
    "        j = 0\n",
    "        max_room = 0\n",
    "        while i<n and j<n:\n",
    "            if start_sorted[i]< end_sorted[j]:\n",
    "                s += 1\n",
    "                max_room = max(max_room,s)\n",
    "                i+=1\n",
    "            else:\n",
    "                s -= 1\n",
    "                j+=1\n",
    "        return max_room\n",
    "            \n",
    "            "
   ]
  },
  {
   "cell_type": "markdown",
   "metadata": {},
   "source": [
    "# 252. Meeting Rooms"
   ]
  },
  {
   "cell_type": "code",
   "execution_count": 78,
   "metadata": {},
   "outputs": [],
   "source": [
    "class Solution(object):\n",
    "    def canAttendMeetings(self, intervals):\n",
    "        \"\"\"\n",
    "        :type intervals: List[List[int]]\n",
    "        :rtype: bool\n",
    "        \"\"\"\n",
    "        n = len(intervals)\n",
    "        if n == 0: return True\n",
    "        if n == 1: return True\n",
    "        intervals = sorted(intervals,key=lambda x: x[0])\n",
    "        for i in range(1,n):\n",
    "            if intervals[i][0]< intervals[i-1][1]:\n",
    "                return False\n",
    "        return True"
   ]
  },
  {
   "cell_type": "markdown",
   "metadata": {},
   "source": [
    "# 370. Range Addition"
   ]
  },
  {
   "cell_type": "code",
   "execution_count": 79,
   "metadata": {},
   "outputs": [],
   "source": [
    "class Solution(object):\n",
    "    def getModifiedArray(self, length, updates):\n",
    "        \"\"\"\n",
    "        :type length: int\n",
    "        :type updates: List[List[int]]\n",
    "        :rtype: List[int]\n",
    "        \"\"\"\n",
    "        if length == 0: return []\n",
    "        ans = [0]*(length+1)\n",
    "        for update in updates:\n",
    "            ans[update[0]] += update[2]\n",
    "            ans[update[1]+1] -= update[2]\n",
    "        for i in range(1,length+1):\n",
    "            ans[i] += ans[i-1]\n",
    "        return ans[:length]\n",
    "        "
   ]
  },
  {
   "cell_type": "markdown",
   "metadata": {},
   "source": [
    "# Merge k Sorted Array"
   ]
  },
  {
   "cell_type": "code",
   "execution_count": 80,
   "metadata": {},
   "outputs": [],
   "source": [
    "import heapq\n",
    "class CustomArray(object):\n",
    "    def __init__(self,array):\n",
    "        self.array = array\n",
    "    \n",
    "    def __lt__(self,other):\n",
    "        return self.array[0]< other.array[0]\n",
    "    \n",
    "    def __eq__(self,other):\n",
    "        return self.array[0]== other.array[0]\n",
    "    \n",
    "    def __len__(self):\n",
    "        return len(self.array)\n",
    "\n",
    "class Solution(object):\n",
    "    def mergeKSortedArray(self, arrays):\n",
    "        \"\"\"\n",
    "        :type arrays: List[List[int]]\n",
    "        :rtype: List\n",
    "        \"\"\"\n",
    "        heap = []\n",
    "        n = 0\n",
    "        for array in arrays:\n",
    "            if len(array)!=0:\n",
    "                cArray = CustomArray(array)\n",
    "                heapq.heappush(heap,cArray)\n",
    "                n+= len(array)\n",
    "        ans = [0]*n\n",
    "        i = 0\n",
    "        while heap:\n",
    "            cArray = heapq.heappop(heap)\n",
    "            ans[i] = cArray.array[0]\n",
    "            cArray.array = cArray.array[1:]\n",
    "            if len(cArray) >0:\n",
    "                heapq.heappush(heap,cArray)\n",
    "            i+=1\n",
    "        return ans"
   ]
  },
  {
   "cell_type": "markdown",
   "metadata": {},
   "source": [
    "# 23. Merge k Sorted Lists"
   ]
  },
  {
   "cell_type": "code",
   "execution_count": 81,
   "metadata": {},
   "outputs": [],
   "source": [
    "# Definition for singly-linked list.\n",
    "# class ListNode(object):\n",
    "#     def __init__(self, x):\n",
    "#         self.val = x\n",
    "#         self.next = None\n",
    "\n",
    "class Solution(object):\n",
    "    def mergeKLists(self, lists):\n",
    "        \"\"\"\n",
    "        :type lists: List[ListNode]\n",
    "        :rtype: ListNode\n",
    "        \"\"\"\n",
    "        dummy = ListNode(0)\n",
    "        p = dummy\n",
    "        heap = []\n",
    "        for listNode in lists:\n",
    "            if listNode is not None:\n",
    "                heapq.heappush(heap,(listNode.val,listNode))\n",
    "            \n",
    "        while heap:\n",
    "            val, listNode = heapq.heappop(heap)\n",
    "            p.next = listNode\n",
    "            listNode = listNode.next\n",
    "            p = p.next\n",
    "            p.next = None\n",
    "            if listNode is not None:\n",
    "                heapq.heappush(heap,(listNode.val,listNode))\n",
    "        return dummy.next"
   ]
  },
  {
   "cell_type": "markdown",
   "metadata": {},
   "source": [
    "# 358. Rearrange String k Distance Apart"
   ]
  },
  {
   "cell_type": "code",
   "execution_count": 82,
   "metadata": {},
   "outputs": [],
   "source": [
    "class Solution(object):\n",
    "    def rearrangeString(self, s, k):\n",
    "        \"\"\"\n",
    "        :type s: str\n",
    "        :type k: int\n",
    "        :rtype: str\n",
    "        \"\"\"\n",
    "        n = len(s)\n",
    "        if n==0: return ''\n",
    "        ans = ''\n",
    "        hmap = {}\n",
    "        for c in s:\n",
    "            if c not in hmap:\n",
    "                hmap[c] = 1\n",
    "            else:\n",
    "                hmap[c] += 1\n",
    "        heap = []\n",
    "        for key,val in hmap.items():\n",
    "            heapq.heappush(heap,(-val,key))\n",
    "        \n",
    "        wait = []\n",
    "        while heap:\n",
    "            val, key = heapq.heappop(heap)\n",
    "            ans += key\n",
    "            wait.append((key,val+1))\n",
    "            if len(wait)>=k:\n",
    "                key,val = wait.pop(0)\n",
    "                if val < 0:\n",
    "                    heapq.heappush(heap,(val,key))\n",
    "        if len(ans)!=len(s): return ''\n",
    "        return ans"
   ]
  },
  {
   "cell_type": "markdown",
   "metadata": {},
   "source": [
    "# 857. Minimum Cost to Hire K Workers"
   ]
  },
  {
   "cell_type": "code",
   "execution_count": 83,
   "metadata": {},
   "outputs": [],
   "source": [
    "class Solution(object):\n",
    "    def mincostToHireWorkers(self, quality, wage, K):\n",
    "        \"\"\"\n",
    "        :type quality: List[int]\n",
    "        :type wage: List[int]\n",
    "        :type K: int\n",
    "        :rtype: float\n",
    "        \"\"\"\n",
    "        n = len(quality)\n",
    "        workers = sorted([(float(w)/q, q) for w,q in zip(wage,quality)])\n",
    "        sumq = 0\n",
    "        heap = []\n",
    "        ans = float('inf')\n",
    "        for ratio, q in workers:\n",
    "            heapq.heappush(heap,-q)\n",
    "            \n",
    "            if len(heap)>K:\n",
    "                heapq.heappop(heap)\n",
    "            if len(heap) == K:\n",
    "                ans = min(ans,-sum(heap)*ratio)\n",
    "        return ans"
   ]
  },
  {
   "cell_type": "markdown",
   "metadata": {},
   "source": [
    "# 217. Contains Duplicate"
   ]
  },
  {
   "cell_type": "code",
   "execution_count": 84,
   "metadata": {},
   "outputs": [],
   "source": [
    "class Solution(object):\n",
    "    def containsDuplicate(self, nums):\n",
    "        \"\"\"\n",
    "        :type nums: List[int]\n",
    "        :rtype: bool\n",
    "        \"\"\"\n",
    "        hset = set()\n",
    "        for num in nums:\n",
    "            if not num in hset:\n",
    "                hset.add(num)\n",
    "            else:\n",
    "                return True\n",
    "        return False"
   ]
  },
  {
   "cell_type": "markdown",
   "metadata": {},
   "source": [
    "# 219. Contains Duplicate II"
   ]
  },
  {
   "cell_type": "code",
   "execution_count": 85,
   "metadata": {},
   "outputs": [],
   "source": [
    "class Solution(object):\n",
    "    def containsNearbyDuplicate(self, nums, k):\n",
    "        \"\"\"\n",
    "        :type nums: List[int]\n",
    "        :type k: int\n",
    "        :rtype: bool\n",
    "        \"\"\"\n",
    "        hmap = {}\n",
    "        for i,num in enumerate(nums):\n",
    "            if not num in hmap:\n",
    "                hmap[num] = i\n",
    "            else:\n",
    "                if (i-hmap[num])<=k:\n",
    "                    return True\n",
    "                else:\n",
    "                    hmap[num] = i\n",
    "        return False"
   ]
  },
  {
   "cell_type": "markdown",
   "metadata": {},
   "source": [
    "# 220. Contains Duplicate III"
   ]
  },
  {
   "cell_type": "code",
   "execution_count": 86,
   "metadata": {},
   "outputs": [],
   "source": [
    "class Solution(object):\n",
    "    def containsNearbyAlmostDuplicate(self, nums, k, t):\n",
    "        \"\"\"\n",
    "        :type nums: List[int]\n",
    "        :type k: int\n",
    "        :type t: int\n",
    "        :rtype: bool\n",
    "        \"\"\"\n",
    "        if k==0: return False\n",
    "        if t<0: return False\n",
    "        hmap  = {}\n",
    "        for i,num in enumerate(nums):\n",
    "            bucketId = num //(t+1)\n",
    "            if bucketId in hmap:\n",
    "                return True\n",
    "            if bucketId-1 in hmap and num-hmap[bucketId-1]<=t:\n",
    "                return True\n",
    "            if bucketId+1 in hmap and hmap[bucketId+1]-num<=t:\n",
    "                return True\n",
    "            hmap[bucketId] = num\n",
    "            if i>=k:\n",
    "                del hmap[nums[i-k]//(t+1)]\n",
    "        \n",
    "        return False\n",
    "        \n",
    "        for i in range(n):\n",
    "            for j in range(max(0, i-k),i):\n",
    "                if abs(nums[i]-nums[j])<=t: return True\n",
    "        return False"
   ]
  },
  {
   "cell_type": "markdown",
   "metadata": {},
   "source": [
    "# 363. Max Sum of Rectangle No Larger Than K"
   ]
  },
  {
   "cell_type": "code",
   "execution_count": 87,
   "metadata": {},
   "outputs": [],
   "source": [
    "class Solution(object):\n",
    "    def maxSumSubmatrix(self, matrix, k):\n",
    "        \"\"\"\n",
    "        :type matrix: List[List[int]]\n",
    "        :type k: int\n",
    "        :rtype: int\n",
    "        \"\"\"\n",
    "        \n",
    "        m, n = len(matrix), len(matrix[0])\n",
    "        s = matrix[:]\n",
    "        ans = -float('inf')\n",
    "        for i in range(m):\n",
    "            for j in range(n):\n",
    "                if i>0: s[i][j] += s[i-1][j]\n",
    "                if j>0: s[i][j] += s[i][j-1]\n",
    "                if i>0 and j>0: s[i][j] -= s[i-1][j-1]\n",
    "                \n",
    "                for r in range(i+1):\n",
    "                    for c in range(j+1):\n",
    "                        d = s[i][j]\n",
    "                        if r>0: d -= s[r-1][j]\n",
    "                        if c>0: d -= s[i][c-1]\n",
    "                        if r>0 and c>0: d+= s[r-1][c-1]\n",
    "                        if d<=k:\n",
    "                            ans = max(ans,d)\n",
    "        return ans"
   ]
  },
  {
   "cell_type": "code",
   "execution_count": 88,
   "metadata": {},
   "outputs": [],
   "source": [
    "import bisect\n",
    "class Solution(object):\n",
    "    def maxSumSubmatrix(self, matrix, k):\n",
    "        \"\"\"\n",
    "        :type matrix: List[List[int]]\n",
    "        :type k: int\n",
    "        :rtype: int\n",
    "        \"\"\"\n",
    "        m, n = len(matrix), len(matrix[0])\n",
    "        rowIsLarger = True\n",
    "        if m<n: \n",
    "            rowIsLarger = False\n",
    "            m,n = n,m\n",
    "        ans = -float('inf')\n",
    "        \n",
    "        def maxSumSubArray(array, k):\n",
    "            n = len(array)\n",
    "            s = 0\n",
    "            sorted_sum = []\n",
    "            sorted_sum = [0]\n",
    "            ans = -float('inf')\n",
    "            for i in range(n):\n",
    "                s += array[i]\n",
    "                idx = bisect.bisect_left(sorted_sum,s-k)\n",
    "                if idx!=len(sorted_sum):\n",
    "                    ans = max(ans,s-sorted_sum[idx])\n",
    "                idx = bisect.bisect_left(sorted_sum,s)\n",
    "                sorted_sum.insert(idx,s)\n",
    "            return ans\n",
    "        \n",
    "        for c1 in range(n):\n",
    "            each = [0]*m\n",
    "            for c2 in range(c1,-1,-1):\n",
    "                for r in range(m):\n",
    "                    if rowIsLarger:\n",
    "                        each[r] += matrix[r][c2]\n",
    "                    else:\n",
    "                        each[r] += matrix[c2][r]\n",
    "                ans = max(ans,maxSumSubArray(each,k))\n",
    "        return ans"
   ]
  },
  {
   "cell_type": "markdown",
   "metadata": {},
   "source": [
    "# Maximum Sum of Subarray Close to K"
   ]
  },
  {
   "cell_type": "code",
   "execution_count": null,
   "metadata": {},
   "outputs": [],
   "source": [
    "class Solution(object):\n",
    "    def maxSumSubarray(self, array, k):\n",
    "        \"\"\"\n",
    "        :type array: List[int]\n",
    "        :type k: int\n",
    "        :rtype: int\n",
    "        \"\"\"\n",
    "        n = len(array)\n",
    "        s =  array[:]\n",
    "        ans = -float('inf')\n",
    "        for i in range(n):\n",
    "            if i>0: s[i] += s[i-1]\n",
    "            for j in range(i+1):\n",
    "                d = s[i]\n",
    "                if j>0: d-=s[j-1]\n",
    "                if d<=k:\n",
    "                    ans = max(ans,d)\n",
    "        return ans"
   ]
  },
  {
   "cell_type": "code",
   "execution_count": null,
   "metadata": {},
   "outputs": [],
   "source": [
    "class Solution(object):\n",
    "    def maxSumSubarray(self, array, k):\n",
    "        \"\"\"\n",
    "        :type array: List[int]\n",
    "        :type k: int\n",
    "        :rtype: int\n",
    "        \"\"\"\n",
    "        n = len(array)\n",
    "        s = 0\n",
    "        sorted_sum = [0]\n",
    "        ans = -float('inf')\n",
    "        for i in range(n):\n",
    "            print(sorted_sum)\n",
    "            s += array[i]\n",
    "            idx = bisect.bisect_left(sorted_sum,s-k)\n",
    "            if idx!=len(sorted_sum):\n",
    "                ans = max(ans,s-sorted_sum[idx])\n",
    "            idx = bisect.bisect_left(sorted_sum,s)\n",
    "            sorted_sum.insert(idx,s)\n",
    "    \n",
    "        return ans"
   ]
  },
  {
   "cell_type": "markdown",
   "metadata": {},
   "source": [
    "# 239. Sliding Window Maximum"
   ]
  },
  {
   "cell_type": "code",
   "execution_count": null,
   "metadata": {},
   "outputs": [],
   "source": [
    "class Solution(object):\n",
    "    def maxSlidingWindow(self, nums, k):\n",
    "        \"\"\"\n",
    "        :type nums: List[int]\n",
    "        :type k: int\n",
    "        :rtype: List[int]\n",
    "        \"\"\"\n",
    "        n = len(nums)\n",
    "        ans = []\n",
    "        if k == 1: return nums\n",
    "        \n",
    "        deq = collections.deque()\n",
    "        for i in range(n):\n",
    "            if deq and deq[0] == i-k:\n",
    "                deq.popleft()\n",
    "            while deq and nums[i] > nums[deq[-1]]:\n",
    "                deq.pop()\n",
    "            deq.append(i)\n",
    "            if i >= k-1: ans.append(nums[deq[0]])\n",
    "        return ans\n",
    "        "
   ]
  },
  {
   "cell_type": "markdown",
   "metadata": {},
   "source": [
    "# 346. Moving Average from Data Stream"
   ]
  },
  {
   "cell_type": "code",
   "execution_count": null,
   "metadata": {},
   "outputs": [],
   "source": [
    "class MovingAverage(object):\n",
    "\n",
    "    def __init__(self, size):\n",
    "        \"\"\"\n",
    "        Initialize your data structure here.\n",
    "        :type size: int\n",
    "        \"\"\"\n",
    "        self.data = []\n",
    "        self.size = size\n",
    "        self.sum = 0\n",
    "        \n",
    "\n",
    "    def next(self, val):\n",
    "        \"\"\"\n",
    "        :type val: int\n",
    "        :rtype: float\n",
    "        \"\"\"\n",
    "        self.data.append(val)\n",
    "        self.sum += val\n",
    "        if len(self.data)>self.size:\n",
    "            tmp = self.data.pop(0)\n",
    "            self.sum -= tmp\n",
    "        return float(self.sum)/len(self.data)"
   ]
  },
  {
   "cell_type": "markdown",
   "metadata": {},
   "source": [
    "# 295. Find Median from Data Stream"
   ]
  },
  {
   "cell_type": "code",
   "execution_count": null,
   "metadata": {},
   "outputs": [],
   "source": [
    "class MedianFinder(object):\n",
    "\n",
    "    def __init__(self):\n",
    "        \"\"\"\n",
    "        initialize your data structure here.\n",
    "        \"\"\"\n",
    "        self.minHeap = []\n",
    "        self.maxHeap = []\n",
    "\n",
    "    def addNum(self, num):\n",
    "        \"\"\"\n",
    "        :type num: int\n",
    "        :rtype: None\n",
    "        \"\"\"\n",
    "        \n",
    "        heapq.heappush(self.maxHeap, -num)\n",
    "        val = heapq.heappop(self.maxHeap)\n",
    "        heapq.heappush(self.minHeap,-val)\n",
    "        if len(self.maxHeap)<len(self.minHeap):\n",
    "            val = heapq.heappop(self.minHeap)\n",
    "            heapq.heappush(self.maxHeap,-val)\n",
    "                      \n",
    "    def findMedian(self):\n",
    "        \"\"\"\n",
    "        :rtype: float\n",
    "        \"\"\"\n",
    "        if len(self.minHeap) == len(self.maxHeap):\n",
    "            return float(self.minHeap[0]-self.maxHeap[0])/2\n",
    "        return -self.maxHeap[0]"
   ]
  },
  {
   "cell_type": "markdown",
   "metadata": {},
   "source": [
    "# 352. Data Stream as Disjoint Intervals"
   ]
  },
  {
   "cell_type": "code",
   "execution_count": null,
   "metadata": {},
   "outputs": [],
   "source": [
    "class SummaryRanges(object):\n",
    "\n",
    "    def __init__(self):\n",
    "        \"\"\"\n",
    "        Initialize your data structure here.\n",
    "        \"\"\"\n",
    "        self.data = []\n",
    "\n",
    "    def addNum(self, val):\n",
    "        \"\"\"\n",
    "        :type val: int\n",
    "        :rtype: None\n",
    "        \"\"\"\n",
    "        if not self.data:\n",
    "            self.data.append([val,val])\n",
    "        else:\n",
    "            bisect.insort_left(self.data,[val,val])\n",
    "            tmp = []\n",
    "            i = 0\n",
    "            for j in range(1,len(self.data)):\n",
    "                if self.data[i][1]+1>=self.data[j][0]:\n",
    "                    self.data[i][1] = max(self.data[i][1],self.data[j][1])\n",
    "                else:\n",
    "                    tmp.append(self.data[i])\n",
    "                    i = j\n",
    "            tmp.append(self.data[i])\n",
    "            self.data = tmp\n",
    "        \n",
    "\n",
    "    def getIntervals(self):\n",
    "        \"\"\"\n",
    "        :rtype: List[List[int]]\n",
    "        \"\"\"\n",
    "        return self.data"
   ]
  },
  {
   "cell_type": "markdown",
   "metadata": {},
   "source": [
    "# 382. Linked List Random Node"
   ]
  },
  {
   "cell_type": "code",
   "execution_count": null,
   "metadata": {},
   "outputs": [],
   "source": [
    "class Solution(object):\n",
    "\n",
    "    def __init__(self, head):\n",
    "        \"\"\"\n",
    "        @param head The linked list's head.\n",
    "        Note that the head is guaranteed to be not null, so it contains at least one node.\n",
    "        :type head: ListNode\n",
    "        \"\"\"\n",
    "\n",
    "        self.head = head\n",
    "        \n",
    "\n",
    "    def getRandom(self):\n",
    "        \"\"\"\n",
    "        Returns a random node's value.\n",
    "        :rtype: int\n",
    "        \"\"\"\n",
    "        p = self.head\n",
    "        if not p: return None\n",
    "        reserve = None\n",
    "        size = 0\n",
    "        while p:\n",
    "            size +=1\n",
    "            if reserve is None:\n",
    "                reserve = p.val\n",
    "            else:\n",
    "                r = random.randint(1,size)\n",
    "                if r==1:\n",
    "                    reserve = p.val\n",
    "            p = p.next\n",
    "        return reserve"
   ]
  },
  {
   "cell_type": "markdown",
   "metadata": {},
   "source": [
    "# 384. Shuffle an Array"
   ]
  },
  {
   "cell_type": "code",
   "execution_count": null,
   "metadata": {},
   "outputs": [],
   "source": [
    "class Solution(object):\n",
    "\n",
    "    def __init__(self, nums):\n",
    "        \"\"\"\n",
    "        :type nums: List[int]\n",
    "        \"\"\"\n",
    "        self.nums = nums\n",
    "        self.size = len(nums)\n",
    "        \n",
    "\n",
    "    def reset(self):\n",
    "        \"\"\"\n",
    "        Resets the array to its original configuration and return it.\n",
    "        :rtype: List[int]\n",
    "        \"\"\"\n",
    "        return self.nums\n",
    "        \n",
    "\n",
    "    def shuffle(self):\n",
    "        \"\"\"\n",
    "        Returns a random shuffling of the array.\n",
    "        :rtype: List[int]\n",
    "        \"\"\"\n",
    "        ans = self.nums[:]\n",
    "        for i in range(self.size-1,0,-1): ## choose 1 from n elements from 0 to n-1\n",
    "            j = random.randint(0,i)\n",
    "            ans[i], ans[j] = ans[j],ans[i]\n",
    "        return ans"
   ]
  },
  {
   "cell_type": "markdown",
   "metadata": {},
   "source": [
    "# 148. Sort List"
   ]
  },
  {
   "cell_type": "code",
   "execution_count": null,
   "metadata": {},
   "outputs": [],
   "source": [
    "# Definition for singly-linked list.\n",
    "# class ListNode(object):\n",
    "#     def __init__(self, x):\n",
    "#         self.val = x\n",
    "#         self.next = None\n",
    "\n",
    "class Solution(object):\n",
    "    def sortList(self, head):\n",
    "        \"\"\"\n",
    "        :type head: ListNode\n",
    "        :rtype: ListNode\n",
    "        \"\"\"\n",
    "        if head is None or head.next is None:\n",
    "            return head\n",
    "        \n",
    "        pnode = self.getPartitionNode(head)\n",
    "        p1 = head\n",
    "        p2 = pnode.next\n",
    "        pnode.next = None\n",
    "        p1 = self.sortList(p1)\n",
    "        p2 = self.sortList(p2)\n",
    "        return self.mergeList(p1,p2)\n",
    "        \n",
    "    def getPartitionNode(self,head):\n",
    "        if head is None: return head\n",
    "        p1 = head\n",
    "        p2 = head\n",
    "        while p2.next and p2.next.next:\n",
    "            p1 = p1.next\n",
    "            p2 = p2.next.next\n",
    "        return p1\n",
    "    \n",
    "    def mergeList(self,p1,p2):\n",
    "        dummy = ListNode(0)\n",
    "        p = dummy\n",
    "        while p1 and p2:\n",
    "            if p1.val < p2.val:\n",
    "                p.next = p1\n",
    "                p1 = p1.next\n",
    "            else:\n",
    "                p.next = p2\n",
    "                p2 = p2.next\n",
    "            p = p.next\n",
    "        if p1 is not None:\n",
    "            p.next = p1\n",
    "        if p2 is not None:\n",
    "            p.next = p2\n",
    "        return dummy.next\n",
    "            "
   ]
  },
  {
   "cell_type": "markdown",
   "metadata": {},
   "source": [
    "# Quicksort Array"
   ]
  },
  {
   "cell_type": "code",
   "execution_count": null,
   "metadata": {},
   "outputs": [],
   "source": [
    "class Sorting():\n",
    "    def quickSort(self, nums):\n",
    "        if not nums: return []\n",
    "        \n",
    "        def sort(nums, start, end):\n",
    "            if start>=end:return\n",
    "            index = random.randint(start,end)\n",
    "            pivot = nums[index]\n",
    "            left = start\n",
    "            right = end\n",
    "            \n",
    "            while left<=right:\n",
    "                while left<=right and nums[left]<pivot:\n",
    "                    left += 1\n",
    "                while left<=right and nums[right]>pivot:\n",
    "                    right -= 1\n",
    "                if left <= right:\n",
    "                    nums[left],nums[right] = nums[right],nums[left]\n",
    "                    left +=1\n",
    "                    right -=1\n",
    "            sort(nums,start,right)\n",
    "            sort(nums,left,end)\n",
    "            \n",
    "        n = len(nums)\n",
    "        sort(nums,0,n-1)"
   ]
  },
  {
   "cell_type": "markdown",
   "metadata": {},
   "source": [
    "# 215. Kth Largest Element in an Array"
   ]
  },
  {
   "cell_type": "code",
   "execution_count": null,
   "metadata": {},
   "outputs": [],
   "source": [
    "class Solution(object):\n",
    "    def findKthLargest(self, nums, k):\n",
    "        \"\"\"\n",
    "        :type nums: List[int]\n",
    "        :type k: int\n",
    "        :rtype: int\n",
    "        \"\"\"\n",
    "        n = len(nums)\n",
    "        def partition(nums, start, end, k):\n",
    "            if start>=end: return nums[k]\n",
    "            left = start\n",
    "            right = end\n",
    "            pivot = nums[(left+right)//2]\n",
    "            while left <= right:\n",
    "                while left<=right and nums[left]<pivot:\n",
    "                    left += 1\n",
    "                while left<=right and nums[right]>pivot:\n",
    "                    right -= 1\n",
    "                if left<=right:\n",
    "                    nums[left], nums[right] = nums[right],nums[left]\n",
    "                    left +=1\n",
    "                    right -=1\n",
    "            if k<= right: return partition(nums,start,right, k)\n",
    "            if k>= left: return partition(nums,left,end, k)\n",
    "            return nums[k]\n",
    "                \n",
    "        return partition(nums, 0, n-1, n-k)"
   ]
  },
  {
   "cell_type": "markdown",
   "metadata": {},
   "source": [
    "# 75. Sort Colors"
   ]
  },
  {
   "cell_type": "code",
   "execution_count": null,
   "metadata": {},
   "outputs": [],
   "source": [
    "class Solution(object):\n",
    "    def sortColors(self, nums):\n",
    "        \"\"\"\n",
    "        :type nums: List[int]\n",
    "        :rtype: None Do not return anything, modify nums in-place instead.\n",
    "        \"\"\"\n",
    "        n = len(nums)\n",
    "        if n==0: return nums\n",
    "        \n",
    "        def partition(nums,start, end, colorFrom, colorTo):\n",
    "            if colorFrom == colorTo: return\n",
    "            if start>=end: return\n",
    "            colorMid = (colorFrom+colorTo)//2\n",
    "            left = start\n",
    "            right = end\n",
    "            while left<=right:\n",
    "                while left<=right and nums[left]<=colorMid:\n",
    "                    left += 1\n",
    "                while left<=right and nums[right]>colorMid:\n",
    "                    right -= 1\n",
    "                if left<=right:\n",
    "                    nums[left],nums[right]=nums[right],nums[left]\n",
    "                    left += 1\n",
    "                    right -= 1\n",
    "            partition(nums,start,right,colorFrom,colorMid)\n",
    "            partition(nums,left,end,colorMid+1,colorTo)\n",
    "            \n",
    "        partition(nums,0,n-1,0,2)\n",
    "            "
   ]
  },
  {
   "cell_type": "markdown",
   "metadata": {},
   "source": [
    "# 164. Maximum Gap"
   ]
  },
  {
   "cell_type": "code",
   "execution_count": null,
   "metadata": {},
   "outputs": [],
   "source": [
    "class Solution(object):\n",
    "    def maximumGap(self, nums):\n",
    "        \"\"\"\n",
    "        :type nums: List[int]\n",
    "        :rtype: int\n",
    "        \"\"\"\n",
    "        n = len(nums)\n",
    "        if n<=1: return 0\n",
    "        minV = min(nums)\n",
    "        maxV = max(nums)\n",
    "        bucketSize = max(1,(maxV-minV)//(n-1))\n",
    "        bucketNum = (maxV-minV)//bucketSize +1\n",
    "        bucketUsed = set()\n",
    "        minVec = [float('inf')]*bucketNum\n",
    "        maxVec = [-float('inf')]*bucketNum\n",
    "        maxGap = -float('inf')\n",
    "        for num in nums:\n",
    "            bucketId = (num-minV)//bucketSize\n",
    "            minVec[bucketId] = min(minVec[bucketId],num)\n",
    "            maxVec[bucketId] = max(maxVec[bucketId],num)\n",
    "            bucketUsed.add(bucketId)\n",
    "            \n",
    "        preMax = minV\n",
    "        for i in range(bucketNum):\n",
    "            if i not in bucketUsed: continue\n",
    "            maxGap = max(maxGap,minVec[i]-preMax)\n",
    "            preMax = maxVec[i]\n",
    "        return maxGap"
   ]
  },
  {
   "cell_type": "markdown",
   "metadata": {},
   "source": [
    "# 49. Group Anagrams"
   ]
  },
  {
   "cell_type": "code",
   "execution_count": null,
   "metadata": {},
   "outputs": [],
   "source": [
    "class Solution(object):\n",
    "    def groupAnagrams(self, strs):\n",
    "        \"\"\"\n",
    "        :type strs: List[str]\n",
    "        :rtype: List[List[str]]\n",
    "        \"\"\"\n",
    "        hmap = {}\n",
    "        for s in strs:\n",
    "            sig = ''.join(sorted(list(s)))\n",
    "            if sig not in hmap:\n",
    "                hmap[sig] = [s]\n",
    "            else:\n",
    "                hmap[sig].append(s)\n",
    "        return hmap.values()\n",
    "        "
   ]
  },
  {
   "cell_type": "markdown",
   "metadata": {},
   "source": [
    "# 263. Ugly Number"
   ]
  },
  {
   "cell_type": "code",
   "execution_count": null,
   "metadata": {},
   "outputs": [],
   "source": [
    "class Solution(object):\n",
    "    def isUgly(self, num):\n",
    "        \"\"\"\n",
    "        :type num: int\n",
    "        :rtype: bool\n",
    "        \"\"\"\n",
    "        for p in 2, 3, 5:\n",
    "            while num % p ==0 and num >0:\n",
    "                num = num //p\n",
    "        return num == 1    "
   ]
  },
  {
   "cell_type": "markdown",
   "metadata": {},
   "source": [
    "# 264. Ugly Number II"
   ]
  },
  {
   "cell_type": "code",
   "execution_count": null,
   "metadata": {},
   "outputs": [],
   "source": [
    "class Solution(object):\n",
    "    def nthUglyNumber(self, n):\n",
    "        \"\"\"\n",
    "        :type n: int\n",
    "        :rtype: int\n",
    "        \"\"\"\n",
    "        primes = [2,3,5]\n",
    "        heap = [1]\n",
    "        hset = set\n",
    "        for i in range(n):\n",
    "            num = heapq.heappop(heap)\n",
    "            if i==n-1: return num\n",
    "            for p in primes:\n",
    "                heapq.heappush(heap,p*num)\n",
    "        "
   ]
  }
 ],
 "metadata": {
  "kernelspec": {
   "display_name": "Python 3",
   "language": "python",
   "name": "python3"
  },
  "language_info": {
   "codemirror_mode": {
    "name": "ipython",
    "version": 3
   },
   "file_extension": ".py",
   "mimetype": "text/x-python",
   "name": "python",
   "nbconvert_exporter": "python",
   "pygments_lexer": "ipython3",
   "version": "3.6.5"
  },
  "toc": {
   "base_numbering": 1,
   "nav_menu": {},
   "number_sections": true,
   "sideBar": true,
   "skip_h1_title": false,
   "title_cell": "Table of Contents",
   "title_sidebar": "Contents",
   "toc_cell": false,
   "toc_position": {
    "height": "calc(100% - 180px)",
    "left": "10px",
    "top": "150px",
    "width": "194px"
   },
   "toc_section_display": true,
   "toc_window_display": true
  }
 },
 "nbformat": 4,
 "nbformat_minor": 2
}
