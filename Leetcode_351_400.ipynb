{
 "cells": [
  {
   "cell_type": "markdown",
   "metadata": {},
   "source": [
    "# 355. Design Twitter"
   ]
  },
  {
   "cell_type": "raw",
   "metadata": {},
   "source": [
    "Design a simplified version of Twitter where users can post tweets, follow/unfollow another user and is able to see the 10 most recent tweets in the user's news feed. Your design should support the following methods:\n",
    "\n",
    "postTweet(userId, tweetId): Compose a new tweet.\n",
    "getNewsFeed(userId): Retrieve the 10 most recent tweet ids in the user's news feed. Each item in the news feed must be posted by users who the user followed or by the user herself. Tweets must be ordered from most recent to least recent.\n",
    "follow(followerId, followeeId): Follower follows a followee.\n",
    "unfollow(followerId, followeeId): Follower unfollows a followee.\n",
    "Example:\n",
    "\n",
    "Twitter twitter = new Twitter();\n",
    "\n",
    "// User 1 posts a new tweet (id = 5).\n",
    "twitter.postTweet(1, 5);\n",
    "\n",
    "// User 1's news feed should return a list with 1 tweet id -> [5].\n",
    "twitter.getNewsFeed(1);\n",
    "\n",
    "// User 1 follows user 2.\n",
    "twitter.follow(1, 2);\n",
    "\n",
    "// User 2 posts a new tweet (id = 6).\n",
    "twitter.postTweet(2, 6);\n",
    "\n",
    "// User 1's news feed should return a list with 2 tweet ids -> [6, 5].\n",
    "// Tweet id 6 should precede tweet id 5 because it is posted after tweet id 5.\n",
    "twitter.getNewsFeed(1);\n",
    "\n",
    "// User 1 unfollows user 2.\n",
    "twitter.unfollow(1, 2);\n",
    "\n",
    "// User 1's news feed should return a list with 1 tweet id -> [5],\n",
    "// since user 1 is no longer following user 2.\n",
    "twitter.getNewsFeed(1);"
   ]
  },
  {
   "cell_type": "code",
   "execution_count": 2,
   "metadata": {},
   "outputs": [],
   "source": [
    "class Twitter(object):\n",
    "\n",
    "    def __init__(self):\n",
    "        \"\"\"\n",
    "        Initialize your data structure here.\n",
    "        \"\"\"\n",
    "        self.order = 0\n",
    "        self.followee = collections.defaultdict(set)\n",
    "        self.tweets = collections.defaultdict(list)\n",
    "        \n",
    "\n",
    "    def postTweet(self, userId, tweetId):\n",
    "        \"\"\"\n",
    "        Compose a new tweet.\n",
    "        :type userId: int\n",
    "        :type tweetId: int\n",
    "        :rtype: None\n",
    "        \"\"\"\n",
    "        self.tweets[userId].append((self.order,tweetId))\n",
    "        self.order -= 1\n",
    "        \n",
    "        \n",
    "\n",
    "    def getNewsFeed(self, userId):\n",
    "        \"\"\"\n",
    "        Retrieve the 10 most recent tweet ids in the user's news feed. Each item in the news feed must be posted by users who the user followed or by the user herself. Tweets must be ordered from most recent to least recent.\n",
    "        :type userId: int\n",
    "        :rtype: List[int]\n",
    "        \"\"\"\n",
    "        news = [n for n in self.tweets[userId]]\n",
    "        for user in self.followee[userId]:\n",
    "            news+= [n for n in self.tweets[user]] \n",
    "        heapq.heapify(news)\n",
    "        n = 10\n",
    "        out = []\n",
    "        for _ in range(10):\n",
    "            if news:\n",
    "                out.append(heapq.heappop(news)[1]) \n",
    "        return out\n",
    "        \n",
    "\n",
    "    def follow(self, followerId, followeeId):\n",
    "        \"\"\"\n",
    "        Follower follows a followee. If the operation is invalid, it should be a no-op.\n",
    "        :type followerId: int\n",
    "        :type followeeId: int\n",
    "        :rtype: None\n",
    "        \"\"\"\n",
    "        if followerId != followeeId:\n",
    "            self.followee[followerId].add(followeeId)\n",
    "        \n",
    "\n",
    "    def unfollow(self, followerId, followeeId):\n",
    "        \"\"\"\n",
    "        Follower unfollows a followee. If the operation is invalid, it should be a no-op.\n",
    "        :type followerId: int\n",
    "        :type followeeId: int\n",
    "        :rtype: None\n",
    "        \"\"\"\n",
    "        self.followee[followerId].discard(followeeId)\n",
    "\n",
    "\n",
    "# Your Twitter object will be instantiated and called as such:\n",
    "# obj = Twitter()\n",
    "# obj.postTweet(userId,tweetId)\n",
    "# param_2 = obj.getNewsFeed(userId)\n",
    "# obj.follow(followerId,followeeId)\n",
    "# obj.unfollow(followerId,followeeId)"
   ]
  },
  {
   "cell_type": "markdown",
   "metadata": {},
   "source": [
    "# 357. Count Numbers with Unique Digits"
   ]
  },
  {
   "cell_type": "raw",
   "metadata": {},
   "source": [
    "Given a non-negative integer n, count all numbers with unique digits, x, where 0 ≤ x < 10n.\n",
    "\n",
    "Example:\n",
    "\n",
    "Input: 2\n",
    "Output: 91 \n",
    "Explanation: The answer should be the total numbers in the range of 0 ≤ x < 100, \n",
    "             excluding 11,22,33,44,55,66,77,88,99"
   ]
  },
  {
   "cell_type": "code",
   "execution_count": 3,
   "metadata": {},
   "outputs": [],
   "source": [
    "class Solution(object):\n",
    "    def countNumbersWithUniqueDigits(self, n):\n",
    "        \"\"\"\n",
    "        :type n: int\n",
    "        :rtype: int\n",
    "        \"\"\"\n",
    "        if n==0: return 1\n",
    "        if n==1: return 10\n",
    "        ans = 10\n",
    "        n = min(n,10)\n",
    "        for i in range(1,n):\n",
    "            start = 9\n",
    "            for j in range(i):\n",
    "                start *= (9-j)\n",
    "            ans += start\n",
    "        return ans"
   ]
  },
  {
   "cell_type": "markdown",
   "metadata": {},
   "source": [
    "# 365. Water and Jug Problem"
   ]
  },
  {
   "cell_type": "raw",
   "metadata": {},
   "source": [
    "You are given two jugs with capacities x and y litres. There is an infinite amount of water supply available. You need to determine whether it is possible to measure exactly z litres using these two jugs.\n",
    "\n",
    "If z liters of water is measurable, you must have z liters of water contained within one or both buckets by the end.\n",
    "\n",
    "Operations allowed:\n",
    "\n",
    "Fill any of the jugs completely with water.\n",
    "Empty any of the jugs.\n",
    "Pour water from one jug into another till the other jug is completely full or the first jug itself is empty.\n",
    "Example 1: (From the famous \"Die Hard\" example)\n",
    "\n",
    "Input: x = 3, y = 5, z = 4\n",
    "Output: True\n",
    "Example 2:\n",
    "\n",
    "Input: x = 2, y = 6, z = 5\n",
    "Output: False"
   ]
  },
  {
   "cell_type": "code",
   "execution_count": 1,
   "metadata": {},
   "outputs": [],
   "source": [
    "class Solution(object):\n",
    "    def canMeasureWater(self, x, y, z):\n",
    "        \"\"\"\n",
    "        :type x: int\n",
    "        :type y: int\n",
    "        :type z: int\n",
    "        :rtype: bool\n",
    "        \"\"\"\n",
    "        if x+y<z:return False\n",
    "        if x==z or y==z or x+y==z:return True\n",
    "        def gcd(x,y):\n",
    "            if y==0: return x\n",
    "            return gcd(y,x%y)\n",
    "            \n",
    "        return z % gcd(x,y)==0"
   ]
  },
  {
   "cell_type": "markdown",
   "metadata": {},
   "source": [
    "# 367. Valid Perfect Square"
   ]
  },
  {
   "cell_type": "raw",
   "metadata": {},
   "source": [
    "Given a positive integer num, write a function which returns True if num is a perfect square else False.\n",
    "\n",
    "Note: Do not use any built-in library function such as sqrt.\n",
    "\n",
    "Example 1:\n",
    "\n",
    "Input: 16\n",
    "Output: true\n",
    "Example 2:\n",
    "\n",
    "Input: 14\n",
    "Output: false"
   ]
  },
  {
   "cell_type": "code",
   "execution_count": null,
   "metadata": {},
   "outputs": [],
   "source": [
    "class Solution(object):\n",
    "    def isPerfectSquare(self, num):\n",
    "        \"\"\"\n",
    "        :type num: int\n",
    "        :rtype: bool\n",
    "        \"\"\"\n",
    "        low = 1\n",
    "        high = num\n",
    "        while low <= high:\n",
    "            mid = (low+high) //2\n",
    "            if mid**2 == num: return True\n",
    "            elif mid**2 < num:\n",
    "                low = mid +1\n",
    "            else:\n",
    "                high = mid -1\n",
    "        return False"
   ]
  },
  {
   "cell_type": "markdown",
   "metadata": {},
   "source": [
    "# 368. Largest Divisible Subset"
   ]
  },
  {
   "cell_type": "raw",
   "metadata": {},
   "source": [
    "Given a set of distinct positive integers, find the largest subset such that every pair (Si, Sj) of elements in this subset satisfies:\n",
    "\n",
    "Si % Sj = 0 or Sj % Si = 0.\n",
    "\n",
    "If there are multiple solutions, return any subset is fine.\n",
    "\n",
    "Example 1:\n",
    "\n",
    "Input: [1,2,3]\n",
    "Output: [1,2] (of course, [1,3] will also be ok)\n",
    "Example 2:\n",
    "\n",
    "Input: [1,2,4,8]\n",
    "Output: [1,2,4,8]"
   ]
  },
  {
   "cell_type": "code",
   "execution_count": 12,
   "metadata": {},
   "outputs": [],
   "source": [
    "class Solution(object):\n",
    "    def largestDivisibleSubset(self, nums):\n",
    "        \"\"\"\n",
    "        :type nums: List[int]\n",
    "        :rtype: List[int]\n",
    "        \"\"\"\n",
    "        if not nums: return nums\n",
    "        nums.sort()\n",
    "        n = len(nums)\n",
    "        dp = [1]*n\n",
    "        parent = [i for i in range(n)]\n",
    "        maxLen = 0\n",
    "        lastNum = 0\n",
    "        for i in range(1,n):\n",
    "            for j in range(i):\n",
    "                if nums[i]%nums[j]==0:\n",
    "                    dp[i] = max(dp[i],dp[j]+1)\n",
    "                    if dp[i]==dp[j]+1:\n",
    "                        parent[i] = j\n",
    "                    if dp[i]>maxLen:\n",
    "                        maxLen = dp[i]\n",
    "                        lastNum = i\n",
    "                    \n",
    "        ans = [nums[lastNum]]\n",
    "        while parent[lastNum] != lastNum:\n",
    "            ans.append(nums[parent[lastNum]])\n",
    "            lastNum = parent[lastNum]\n",
    "            \n",
    "        ans.reverse()\n",
    "        return ans\n",
    "            \n",
    "        "
   ]
  },
  {
   "cell_type": "code",
   "execution_count": 13,
   "metadata": {},
   "outputs": [
    {
     "name": "stdout",
     "output_type": "stream",
     "text": [
      "[1, 2, 1, 3] [0, 0, 2, 1]\n"
     ]
    },
    {
     "data": {
      "text/plain": [
       "[4, 8, 240]"
      ]
     },
     "execution_count": 13,
     "metadata": {},
     "output_type": "execute_result"
    }
   ],
   "source": [
    "a = Solution()\n",
    "a.largestDivisibleSubset([4,8,10,240])"
   ]
  },
  {
   "cell_type": "markdown",
   "metadata": {},
   "source": [
    "# 371. Sum of Two Integers"
   ]
  },
  {
   "cell_type": "raw",
   "metadata": {},
   "source": [
    "Calculate the sum of two integers a and b, but you are not allowed to use the operator + and -.\n",
    "\n",
    "Example 1:\n",
    "\n",
    "Input: a = 1, b = 2\n",
    "Output: 3\n",
    "Example 2:\n",
    "\n",
    "Input: a = -2, b = 3\n",
    "Output: 1"
   ]
  },
  {
   "cell_type": "code",
   "execution_count": null,
   "metadata": {},
   "outputs": [],
   "source": [
    "class Solution(object):\n",
    "    def getSum(self, a, b):\n",
    "        \"\"\"\n",
    "        :type a: int\n",
    "        :type b: int\n",
    "        :rtype: int\n",
    "        \"\"\"\n",
    "        return sum([a,b])"
   ]
  },
  {
   "cell_type": "markdown",
   "metadata": {},
   "source": [
    "# 373. Find K Pairs with Smallest Sums"
   ]
  },
  {
   "cell_type": "raw",
   "metadata": {},
   "source": [
    "You are given two integer arrays nums1 and nums2 sorted in ascending order and an integer k.\n",
    "\n",
    "Define a pair (u,v) which consists of one element from the first array and one element from the second array.\n",
    "\n",
    "Find the k pairs (u1,v1),(u2,v2) ...(uk,vk) with the smallest sums.\n",
    "\n",
    "Example 1:\n",
    "\n",
    "Input: nums1 = [1,7,11], nums2 = [2,4,6], k = 3\n",
    "Output: [[1,2],[1,4],[1,6]] \n",
    "Explanation: The first 3 pairs are returned from the sequence: \n",
    "             [1,2],[1,4],[1,6],[7,2],[7,4],[11,2],[7,6],[11,4],[11,6]\n",
    "Example 2:\n",
    "\n",
    "Input: nums1 = [1,1,2], nums2 = [1,2,3], k = 2\n",
    "Output: [1,1],[1,1]\n",
    "Explanation: The first 2 pairs are returned from the sequence: \n",
    "             [1,1],[1,1],[1,2],[2,1],[1,2],[2,2],[1,3],[1,3],[2,3]\n",
    "Example 3:\n",
    "\n",
    "Input: nums1 = [1,2], nums2 = [3], k = 3\n",
    "Output: [1,3],[2,3]\n",
    "Explanation: All possible pairs are returned from the sequence: [1,3],[2,3]"
   ]
  },
  {
   "cell_type": "code",
   "execution_count": 14,
   "metadata": {},
   "outputs": [],
   "source": [
    "class Solution(object):\n",
    "    def kSmallestPairs(self, nums1, nums2, k):\n",
    "        \"\"\"\n",
    "        :type nums1: List[int]\n",
    "        :type nums2: List[int]\n",
    "        :type k: int\n",
    "        :rtype: List[List[int]]\n",
    "        \"\"\"\n",
    "        l1 = len(nums1)\n",
    "        l2 = len(nums2)\n",
    "        \n",
    "        hq = []\n",
    "        heapq.heapify(hq)\n",
    "        for n1 in nums1:\n",
    "            for n2 in nums2:\n",
    "                heapq.heappush(hq,(-n1-n2,(n1,n2)))\n",
    "                if len(hq)>k:\n",
    "                    heapq.heappop(hq)\n",
    "        \n",
    "        ans = []\n",
    "        while hq:\n",
    "            ans.append(heapq.heappop(hq)[1])\n",
    "        ans.reverse()\n",
    "        return ans"
   ]
  },
  {
   "cell_type": "markdown",
   "metadata": {},
   "source": [
    "# 374. Guess Number Higher or Lower"
   ]
  },
  {
   "cell_type": "raw",
   "metadata": {},
   "source": [
    "We are playing the Guess Game. The game is as follows:\n",
    "\n",
    "I pick a number from 1 to n. You have to guess which number I picked.\n",
    "\n",
    "Every time you guess wrong, I'll tell you whether the number is higher or lower.\n",
    "\n",
    "You call a pre-defined API guess(int num) which returns 3 possible results (-1, 1, or 0):\n",
    "\n",
    "-1 : My number is lower\n",
    " 1 : My number is higher\n",
    " 0 : Congrats! You got it!\n",
    "Example :\n",
    "\n",
    "Input: n = 10, pick = 6\n",
    "Output: 6"
   ]
  },
  {
   "cell_type": "code",
   "execution_count": null,
   "metadata": {},
   "outputs": [],
   "source": [
    "# The guess API is already defined for you.\n",
    "# @param num, your guess\n",
    "# @return -1 if my number is lower, 1 if my number is higher, otherwise return 0\n",
    "# def guess(num):\n",
    "\n",
    "class Solution(object):\n",
    "    def guessNumber(self, n):\n",
    "        \"\"\"\n",
    "        :type n: int\n",
    "        :rtype: int\n",
    "        \"\"\"\n",
    "        low = 1\n",
    "        high = n\n",
    "        while low<=high:\n",
    "            mid = (low+high)//2\n",
    "            g = guess(mid)\n",
    "            if g==0:return mid\n",
    "            elif g < 0:\n",
    "                high = mid -1\n",
    "            else:\n",
    "                low = mid + 1\n",
    "        return None\n",
    "        "
   ]
  },
  {
   "cell_type": "markdown",
   "metadata": {},
   "source": [
    "# 375. Guess Number Higher or Lower II"
   ]
  },
  {
   "cell_type": "raw",
   "metadata": {},
   "source": [
    "We are playing the Guess Game. The game is as follows:\n",
    "\n",
    "I pick a number from 1 to n. You have to guess which number I picked.\n",
    "\n",
    "Every time you guess wrong, I'll tell you whether the number I picked is higher or lower.\n",
    "\n",
    "However, when you guess a particular number x, and you guess wrong, you pay $x. You win the game when you guess the number I picked.\n",
    "\n",
    "Example:\n",
    "\n",
    "n = 10, I pick 8.\n",
    "\n",
    "First round:  You guess 5, I tell you that it's higher. You pay $5.\n",
    "Second round: You guess 7, I tell you that it's higher. You pay $7.\n",
    "Third round:  You guess 9, I tell you that it's lower. You pay $9.\n",
    "\n",
    "Game over. 8 is the number I picked.\n",
    "\n",
    "You end up paying $5 + $7 + $9 = $21.\n",
    "Given a particular n ≥ 1, find out how much money you need to have to guarantee a win."
   ]
  },
  {
   "cell_type": "code",
   "execution_count": 25,
   "metadata": {},
   "outputs": [],
   "source": [
    "class Solution(object):\n",
    "    def getMoneyAmount(self, n):\n",
    "        \"\"\"\n",
    "        :type n: int\n",
    "        :rtype: int\n",
    "        \"\"\"\n",
    "        dp = [[float('inf')]*(n+1) for _ in range(n+1)]\n",
    "        for i in range(1,n+1):\n",
    "            dp[i][i] = 0\n",
    "            \n",
    "        for j_i in range(n):\n",
    "            for i in range(1,n+1):\n",
    "                j = i + j_i\n",
    "                if j<1 or j>n: continue\n",
    "                for k in range(i,j+1):\n",
    "                    s1 = 0 if k-1<i else dp[i][k-1]\n",
    "                    s2 = 0 if k+1>j else dp[k+1][j]\n",
    "                    dp[i][j] = min(dp[i][j],k+max(s1,s2))\n",
    "        return dp[1][n]"
   ]
  },
  {
   "cell_type": "code",
   "execution_count": 27,
   "metadata": {},
   "outputs": [
    {
     "name": "stdout",
     "output_type": "stream",
     "text": [
      "[[inf, inf, inf], [inf, 0, 1], [inf, inf, 0]]\n"
     ]
    },
    {
     "data": {
      "text/plain": [
       "1"
      ]
     },
     "execution_count": 27,
     "metadata": {},
     "output_type": "execute_result"
    }
   ],
   "source": [
    "a = Solution()\n",
    "a.getMoneyAmount(2)"
   ]
  },
  {
   "cell_type": "markdown",
   "metadata": {},
   "source": [
    "# 376. Wiggle Subsequence"
   ]
  },
  {
   "cell_type": "raw",
   "metadata": {},
   "source": [
    "A sequence of numbers is called a wiggle sequence if the differences between successive numbers strictly alternate between positive and negative. The first difference (if one exists) may be either positive or negative. A sequence with fewer than two elements is trivially a wiggle sequence.\n",
    "\n",
    "For example, [1,7,4,9,2,5] is a wiggle sequence because the differences (6,-3,5,-7,3) are alternately positive and negative. In contrast, [1,4,7,2,5] and [1,7,4,5,5] are not wiggle sequences, the first because its first two differences are positive and the second because its last difference is zero.\n",
    "\n",
    "Given a sequence of integers, return the length of the longest subsequence that is a wiggle sequence. A subsequence is obtained by deleting some number of elements (eventually, also zero) from the original sequence, leaving the remaining elements in their original order.\n",
    "\n",
    "Example 1:\n",
    "\n",
    "Input: [1,7,4,9,2,5]\n",
    "Output: 6\n",
    "Explanation: The entire sequence is a wiggle sequence.\n",
    "Example 2:\n",
    "\n",
    "Input: [1,17,5,10,13,15,10,5,16,8]\n",
    "Output: 7\n",
    "Explanation: There are several subsequences that achieve this length. One is [1,17,10,13,10,16,8].\n",
    "Example 3:\n",
    "\n",
    "Input: [1,2,3,4,5,6,7,8,9]\n",
    "Output: 2\n",
    "Follow up:\n",
    "Can you do it in O(n) time?"
   ]
  },
  {
   "cell_type": "code",
   "execution_count": 15,
   "metadata": {},
   "outputs": [],
   "source": [
    "class Solution(object):\n",
    "    def wiggleMaxLength(self, nums):\n",
    "        \"\"\"\n",
    "        :type nums: List[int]\n",
    "        :rtype: int\n",
    "        \"\"\"\n",
    "        if not nums: return 0\n",
    "        ln = len(nums)\n",
    "        if ln<2: return ln\n",
    "        up = [1] *ln\n",
    "        dn = [1] *ln\n",
    "        \n",
    "        for i in range(1,ln):\n",
    "            for j in range(i):\n",
    "                if nums[i]>nums[j]:\n",
    "                    up[i] = max(up[i],dn[j]+1)\n",
    "                elif nums[i]<nums[j]:\n",
    "                    dn[i] = max(dn[i],up[j]+1)\n",
    "        \n",
    "        return max(up+dn)"
   ]
  },
  {
   "cell_type": "markdown",
   "metadata": {},
   "source": [
    "# 378. Kth Smallest Element in a Sorted Matrix"
   ]
  },
  {
   "cell_type": "raw",
   "metadata": {},
   "source": [
    "Given a n x n matrix where each of the rows and columns are sorted in ascending order, find the kth smallest element in the matrix.\n",
    "\n",
    "Note that it is the kth smallest element in the sorted order, not the kth distinct element.\n",
    "\n",
    "Example:\n",
    "\n",
    "matrix = [\n",
    "   [ 1,  5,  9],\n",
    "   [10, 11, 13],\n",
    "   [12, 13, 15]\n",
    "],\n",
    "k = 8,\n",
    "\n",
    "return 13."
   ]
  },
  {
   "cell_type": "code",
   "execution_count": 30,
   "metadata": {},
   "outputs": [],
   "source": [
    "class Solution(object):\n",
    "    def kthSmallest(self, matrix, k):\n",
    "        \"\"\"\n",
    "        :type matrix: List[List[int]]\n",
    "        :type k: int\n",
    "        :rtype: int\n",
    "        \"\"\"\n",
    "        n = len(matrix)\n",
    "        hq = []\n",
    "        for i_j in range(2*n-1):\n",
    "            for i in range(n):\n",
    "                j = i_j - i\n",
    "                if j <0 or j>=n: continue\n",
    "                heapq.heappush(hq,-matrix[i][j])\n",
    "                if len(hq)>k:\n",
    "                    heapq.heappop(hq)\n",
    "        return -hq[0]"
   ]
  },
  {
   "cell_type": "markdown",
   "metadata": {},
   "source": [
    "# 380. Insert Delete GetRandom O(1)"
   ]
  },
  {
   "cell_type": "raw",
   "metadata": {},
   "source": [
    "Design a data structure that supports all following operations in average O(1) time.\n",
    "\n",
    "insert(val): Inserts an item val to the set if not already present.\n",
    "remove(val): Removes an item val from the set if present.\n",
    "getRandom: Returns a random element from current set of elements. Each element must have the same probability of being returned.\n",
    "Example:\n",
    "\n",
    "// Init an empty set.\n",
    "RandomizedSet randomSet = new RandomizedSet();\n",
    "\n",
    "// Inserts 1 to the set. Returns true as 1 was inserted successfully.\n",
    "randomSet.insert(1);\n",
    "\n",
    "// Returns false as 2 does not exist in the set.\n",
    "randomSet.remove(2);\n",
    "\n",
    "// Inserts 2 to the set, returns true. Set now contains [1,2].\n",
    "randomSet.insert(2);\n",
    "\n",
    "// getRandom should return either 1 or 2 randomly.\n",
    "randomSet.getRandom();\n",
    "\n",
    "// Removes 1 from the set, returns true. Set now contains [2].\n",
    "randomSet.remove(1);\n",
    "\n",
    "// 2 was already in the set, so return false.\n",
    "randomSet.insert(2);\n",
    "\n",
    "// Since 2 is the only number in the set, getRandom always return 2.\n",
    "randomSet.getRandom();"
   ]
  },
  {
   "cell_type": "code",
   "execution_count": 16,
   "metadata": {},
   "outputs": [],
   "source": [
    "class RandomizedSet(object):\n",
    "\n",
    "    def __init__(self):\n",
    "        \"\"\"\n",
    "        Initialize your data structure here.\n",
    "        \"\"\"\n",
    "        self.data = []\n",
    "        self.pos = {}\n",
    "        \n",
    "\n",
    "    def insert(self, val):\n",
    "        \"\"\"\n",
    "        Inserts a value to the set. Returns true if the set did not already contain the specified element.\n",
    "        :type val: int\n",
    "        :rtype: bool\n",
    "        \"\"\"\n",
    "        if val not in self.pos:\n",
    "            self.pos[val]=len(self.data)\n",
    "            self.data.append(val)\n",
    "            return True\n",
    "        return False\n",
    "        \n",
    "\n",
    "    def remove(self, val):\n",
    "        \"\"\"\n",
    "        Removes a value from the set. Returns true if the set contained the specified element.\n",
    "        :type val: int\n",
    "        :rtype: bool\n",
    "        \"\"\"\n",
    "        if val not in self.pos:\n",
    "            return False\n",
    "        idx = self.pos[val]\n",
    "        last = len(self.data)-1\n",
    "        if idx != last:\n",
    "            self.pos[self.data[last]] = idx\n",
    "            self.pos[self.data[idx]] = last\n",
    "            self.data[idx], self.data[last] = self.data[last], self.data[idx]\n",
    "        self.pos.pop(val)\n",
    "        self.data.pop()\n",
    "        return True\n",
    "        \n",
    "\n",
    "    def getRandom(self):\n",
    "        \"\"\"\n",
    "        Get a random element from the set.\n",
    "        :rtype: int\n",
    "        \"\"\"\n",
    "        return self.data[random.randint(0,len(self.data)-1)]\n",
    "        \n",
    "\n",
    "\n",
    "# Your RandomizedSet object will be instantiated and called as such:\n",
    "# obj = RandomizedSet()\n",
    "# param_1 = obj.insert(val)\n",
    "# param_2 = obj.remove(val)\n",
    "# param_3 = obj.getRandom()"
   ]
  },
  {
   "cell_type": "markdown",
   "metadata": {},
   "source": [
    "# 382. Linked List Random Node"
   ]
  },
  {
   "cell_type": "raw",
   "metadata": {},
   "source": [
    "Given a singly linked list, return a random node's value from the linked list. Each node must have the same probability of being chosen.\n",
    "\n",
    "Follow up:\n",
    "What if the linked list is extremely large and its length is unknown to you? Could you solve this efficiently without using extra space?\n",
    "\n",
    "Example:\n",
    "\n",
    "// Init a singly linked list [1,2,3].\n",
    "ListNode head = new ListNode(1);\n",
    "head.next = new ListNode(2);\n",
    "head.next.next = new ListNode(3);\n",
    "Solution solution = new Solution(head);\n",
    "\n",
    "// getRandom() should return either 1, 2, or 3 randomly. Each element should have equal probability of returning.\n",
    "solution.getRandom();"
   ]
  },
  {
   "cell_type": "code",
   "execution_count": 17,
   "metadata": {},
   "outputs": [],
   "source": [
    "# Definition for singly-linked list.\n",
    "# class ListNode(object):\n",
    "#     def __init__(self, x):\n",
    "#         self.val = x\n",
    "#         self.next = None\n",
    "\n",
    "class Solution(object):\n",
    "\n",
    "    def __init__(self, head):\n",
    "        \"\"\"\n",
    "        @param head The linked list's head.\n",
    "        Note that the head is guaranteed to be not null, so it contains at least one node.\n",
    "        :type head: ListNode\n",
    "        \"\"\"\n",
    "\n",
    "        self.head = head\n",
    "        \n",
    "\n",
    "    def getRandom(self):\n",
    "        \"\"\"\n",
    "        Returns a random node's value.\n",
    "        :rtype: int\n",
    "        \"\"\"\n",
    "        p = self.head\n",
    "        if not p: return None\n",
    "        reserve = None\n",
    "        size = 0\n",
    "        while p:\n",
    "            size +=1\n",
    "            if reserve is None:\n",
    "                reserve = p.val\n",
    "            else:\n",
    "                r = random.randint(1,size)\n",
    "                if r==1:\n",
    "                    reserve = p.val\n",
    "            p = p.next\n",
    "        return reserve\n",
    "            \n",
    "        \n",
    "\n",
    "\n",
    "# Your Solution object will be instantiated and called as such:\n",
    "# obj = Solution(head)\n",
    "# param_1 = obj.getRandom()"
   ]
  },
  {
   "cell_type": "markdown",
   "metadata": {},
   "source": [
    "# 383. Ransom Note"
   ]
  },
  {
   "cell_type": "raw",
   "metadata": {},
   "source": [
    "Given an arbitrary ransom note string and another string containing letters from all the magazines, write a function that will return true if the ransom note can be constructed from the magazines ; otherwise, it will return false.\n",
    "\n",
    "Each letter in the magazine string can only be used once in your ransom note.\n",
    "\n",
    "Note:\n",
    "You may assume that both strings contain only lowercase letters.\n",
    "\n",
    "canConstruct(\"a\", \"b\") -> false\n",
    "canConstruct(\"aa\", \"ab\") -> false\n",
    "canConstruct(\"aa\", \"aab\") -> true"
   ]
  },
  {
   "cell_type": "code",
   "execution_count": null,
   "metadata": {},
   "outputs": [],
   "source": [
    "from collections import Counter\n",
    "class Solution(object):\n",
    "    def canConstruct(self, ransomNote, magazine):\n",
    "        \"\"\"\n",
    "        :type ransomNote: str\n",
    "        :type magazine: str\n",
    "        :rtype: bool\n",
    "        \"\"\"\n",
    "        m = Counter(magazine)\n",
    "        for c in ransomNote:\n",
    "            if c not in m: return False\n",
    "            if m[c]==0: return False\n",
    "            m[c] -= 1\n",
    "        return True"
   ]
  },
  {
   "cell_type": "markdown",
   "metadata": {},
   "source": [
    "# 384. Shuffle an Array"
   ]
  },
  {
   "cell_type": "raw",
   "metadata": {},
   "source": [
    "Shuffle a set of numbers without duplicates.\n",
    "\n",
    "Example:\n",
    "\n",
    "// Init an array with set 1, 2, and 3.\n",
    "int[] nums = {1,2,3};\n",
    "Solution solution = new Solution(nums);\n",
    "\n",
    "// Shuffle the array [1,2,3] and return its result. Any permutation of [1,2,3] must equally likely to be returned.\n",
    "solution.shuffle();\n",
    "\n",
    "// Resets the array back to its original configuration [1,2,3].\n",
    "solution.reset();\n",
    "\n",
    "// Returns the random shuffling of array [1,2,3].\n",
    "solution.shuffle();"
   ]
  },
  {
   "cell_type": "code",
   "execution_count": 18,
   "metadata": {},
   "outputs": [],
   "source": [
    "class Solution(object):\n",
    "\n",
    "    def __init__(self, nums):\n",
    "        \"\"\"\n",
    "        :type nums: List[int]\n",
    "        \"\"\"\n",
    "        self.nums = nums\n",
    "        self.size = len(nums)\n",
    "        \n",
    "\n",
    "    def reset(self):\n",
    "        \"\"\"\n",
    "        Resets the array to its original configuration and return it.\n",
    "        :rtype: List[int]\n",
    "        \"\"\"\n",
    "        return self.nums\n",
    "        \n",
    "\n",
    "    def shuffle(self):\n",
    "        \"\"\"\n",
    "        Returns a random shuffling of the array.\n",
    "        :rtype: List[int]\n",
    "        \"\"\"\n",
    "        ans = self.nums[:]\n",
    "        for i in range(self.size-1,0,-1): ## choose 1 from n elements from 0 to n-1\n",
    "            j = random.randint(0,i)\n",
    "            ans[i], ans[j] = ans[j],ans[i]\n",
    "        return ans\n",
    "    \n",
    "\n",
    "\n",
    "# Your Solution object will be instantiated and called as such:\n",
    "# obj = Solution(nums)\n",
    "# param_1 = obj.reset()\n",
    "# param_2 = obj.shuffle()"
   ]
  },
  {
   "cell_type": "markdown",
   "metadata": {},
   "source": [
    "# 386. Lexicographical Numbers"
   ]
  },
  {
   "cell_type": "raw",
   "metadata": {},
   "source": [
    "Given an integer n, return 1 - n in lexicographical order.\n",
    "\n",
    "For example, given 13, return: [1,10,11,12,13,2,3,4,5,6,7,8,9].\n",
    "\n",
    "Please optimize your algorithm to use less time and space. The input size may be as large as 5,000,000."
   ]
  },
  {
   "cell_type": "code",
   "execution_count": 31,
   "metadata": {},
   "outputs": [],
   "source": [
    "class Solution(object):\n",
    "    def lexicalOrder(self, n):\n",
    "        \"\"\"\n",
    "        :type n: int\n",
    "        :rtype: List[int]\n",
    "        \"\"\"\n",
    "        ans = []\n",
    "        \n",
    "        \n",
    "        def dfs(cur,n,ans):\n",
    "            if cur>n:return\n",
    "            ans.append(cur)\n",
    "            for i in range(10):\n",
    "                if cur*10+i<=n:\n",
    "                    dfs(cur*10+i,n, ans)\n",
    "                \n",
    "        for i in range(1,10):\n",
    "            dfs(i,n,ans)\n",
    "        return ans"
   ]
  },
  {
   "cell_type": "markdown",
   "metadata": {},
   "source": [
    "# 387. First Unique Character in a String"
   ]
  },
  {
   "cell_type": "raw",
   "metadata": {},
   "source": [
    "Given a string, find the first non-repeating character in it and return it's index. If it doesn't exist, return -1.\n",
    "\n",
    "Examples:\n",
    "\n",
    "s = \"leetcode\"\n",
    "return 0.\n",
    "\n",
    "s = \"loveleetcode\",\n",
    "return 2."
   ]
  },
  {
   "cell_type": "code",
   "execution_count": null,
   "metadata": {},
   "outputs": [],
   "source": [
    "from collections import Counter\n",
    "class Solution(object):\n",
    "    def firstUniqChar(self, s):\n",
    "        \"\"\"\n",
    "        :type s: str\n",
    "        :rtype: int\n",
    "        \"\"\"\n",
    "        s_counter = Counter(s)\n",
    "        for i in range(len(s)):\n",
    "            if s_counter[s[i]]==1: return i\n",
    "        return -1"
   ]
  },
  {
   "cell_type": "markdown",
   "metadata": {},
   "source": [
    "# 389. Find the Difference"
   ]
  },
  {
   "cell_type": "raw",
   "metadata": {},
   "source": [
    "Given two strings s and t which consist of only lowercase letters.\n",
    "\n",
    "String t is generated by random shuffling string s and then add one more letter at a random position.\n",
    "\n",
    "Find the letter that was added in t.\n",
    "\n",
    "Example:\n",
    "\n",
    "Input:\n",
    "s = \"abcd\"\n",
    "t = \"abcde\"\n",
    "\n",
    "Output:\n",
    "e\n",
    "\n",
    "Explanation:\n",
    "'e' is the letter that was added."
   ]
  },
  {
   "cell_type": "code",
   "execution_count": null,
   "metadata": {},
   "outputs": [],
   "source": [
    "class Solution(object):\n",
    "    def findTheDifference(self, s, t):\n",
    "        \"\"\"\n",
    "        :type s: str\n",
    "        :type t: str\n",
    "        :rtype: str\n",
    "        \"\"\"\n",
    "        a = 0\n",
    "        for c in s:\n",
    "            a = a^ord(c)\n",
    "        for c in t:\n",
    "            a = a^ord(c)\n",
    "        return chr(a)"
   ]
  },
  {
   "cell_type": "markdown",
   "metadata": {},
   "source": [
    "# 390. Elimination Game"
   ]
  },
  {
   "cell_type": "raw",
   "metadata": {},
   "source": [
    "There is a list of sorted integers from 1 to n. Starting from left to right, remove the first number and every other number afterward until you reach the end of the list.\n",
    "\n",
    "Repeat the previous step again, but this time from right to left, remove the right most number and every other number from the remaining numbers.\n",
    "\n",
    "We keep repeating the steps again, alternating left to right and right to left, until a single number remains.\n",
    "\n",
    "Find the last number that remains starting with a list of length n.\n",
    "\n",
    "Example:\n",
    "\n",
    "Input:\n",
    "n = 9,\n",
    "1 2 3 4 5 6 7 8 9\n",
    "2 4 6 8\n",
    "2 6\n",
    "6\n",
    "\n",
    "Output:\n",
    "6"
   ]
  },
  {
   "cell_type": "code",
   "execution_count": 19,
   "metadata": {},
   "outputs": [],
   "source": [
    "class Solution(object):\n",
    "    def lastRemaining(self, n):\n",
    "        \"\"\"\n",
    "        :type n: int\n",
    "        :rtype: int\n",
    "        \"\"\"\n",
    "        if n ==1: return 1\n",
    "        return 2*(1+n//2 - self.lastRemaining(n//2))\n",
    "        "
   ]
  },
  {
   "cell_type": "markdown",
   "metadata": {},
   "source": [
    "# 396. Rotate Function"
   ]
  },
  {
   "cell_type": "raw",
   "metadata": {},
   "source": [
    "Given an array of integers A and let n to be its length.\n",
    "\n",
    "Assume Bk to be an array obtained by rotating the array A k positions clock-wise, we define a \"rotation function\" F on A as follow:\n",
    "\n",
    "F(k) = 0 * Bk[0] + 1 * Bk[1] + ... + (n-1) * Bk[n-1].\n",
    "\n",
    "Calculate the maximum value of F(0), F(1), ..., F(n-1).\n",
    "\n",
    "Note:\n",
    "n is guaranteed to be less than 105.\n",
    "\n",
    "Example:\n",
    "\n",
    "A = [4, 3, 2, 6]\n",
    "\n",
    "F(0) = (0 * 4) + (1 * 3) + (2 * 2) + (3 * 6) = 0 + 3 + 4 + 18 = 25\n",
    "F(1) = (0 * 6) + (1 * 4) + (2 * 3) + (3 * 2) = 0 + 4 + 6 + 6 = 16\n",
    "F(2) = (0 * 2) + (1 * 6) + (2 * 4) + (3 * 3) = 0 + 6 + 8 + 9 = 23\n",
    "F(3) = (0 * 3) + (1 * 2) + (2 * 6) + (3 * 4) = 0 + 2 + 12 + 12 = 26\n",
    "\n",
    "So the maximum value of F(0), F(1), F(2), F(3) is F(3) = 26."
   ]
  },
  {
   "cell_type": "code",
   "execution_count": 28,
   "metadata": {},
   "outputs": [],
   "source": [
    "class Solution(object):\n",
    "    def maxRotateFunction(self, A):\n",
    "        \"\"\"\n",
    "        :type A: List[int]\n",
    "        :rtype: int\n",
    "        \"\"\"\n",
    "        \n",
    "        F0 = 0\n",
    "        sm = 0\n",
    "        \n",
    "        for idx, num in enumerate(A):\n",
    "            F0+= idx*num\n",
    "            sm += num\n",
    "            \n",
    "        ans = F0\n",
    "        size = len(A)\n",
    "        for i in range(size):\n",
    "            F0 += sm - size*A[size-i-1]\n",
    "            ans = max(ans,F0)\n",
    "        return ans"
   ]
  },
  {
   "cell_type": "markdown",
   "metadata": {},
   "source": [
    "# 397. Integer Replacement"
   ]
  },
  {
   "cell_type": "raw",
   "metadata": {},
   "source": [
    "Given a positive integer n and you can do operations as follow:\n",
    "\n",
    "If n is even, replace n with n/2.\n",
    "If n is odd, you can replace n with either n + 1 or n - 1.\n",
    "What is the minimum number of replacements needed for n to become 1?\n",
    "\n",
    "Example 1:\n",
    "\n",
    "Input:\n",
    "8\n",
    "\n",
    "Output:\n",
    "3\n",
    "\n",
    "Explanation:\n",
    "8 -> 4 -> 2 -> 1\n",
    "Example 2:\n",
    "\n",
    "Input:\n",
    "7\n",
    "\n",
    "Output:\n",
    "4\n",
    "\n",
    "Explanation:\n",
    "7 -> 8 -> 4 -> 2 -> 1\n",
    "or\n",
    "7 -> 6 -> 3 -> 2 -> 1"
   ]
  },
  {
   "cell_type": "code",
   "execution_count": 32,
   "metadata": {},
   "outputs": [],
   "source": [
    "class Solution(object):\n",
    "    def integerReplacement(self, n):\n",
    "        \"\"\"\n",
    "        :type n: int\n",
    "        :rtype: int\n",
    "        \"\"\"\n",
    "        if n==1: return 0\n",
    "        if n%2==0: return self.integerReplacement(n//2)+1\n",
    "        else: return min(self.integerReplacement(n+1),self.integerReplacement(n-1))+1\n",
    "        \n",
    "      "
   ]
  },
  {
   "cell_type": "markdown",
   "metadata": {},
   "source": [
    "# 398. Random Pick Index"
   ]
  },
  {
   "cell_type": "raw",
   "metadata": {},
   "source": [
    "Given an array of integers with possible duplicates, randomly output the index of a given target number. You can assume that the given target number must exist in the array.\n",
    "\n",
    "Note:\n",
    "The array size can be very large. Solution that uses too much extra space will not pass the judge.\n",
    "\n",
    "Example:\n",
    "\n",
    "int[] nums = new int[] {1,2,3,3,3};\n",
    "Solution solution = new Solution(nums);\n",
    "\n",
    "// pick(3) should return either index 2, 3, or 4 randomly. Each index should have equal probability of returning.\n",
    "solution.pick(3);\n",
    "\n",
    "// pick(1) should return 0. Since in the array only nums[0] is equal to 1.\n",
    "solution.pick(1);"
   ]
  },
  {
   "cell_type": "code",
   "execution_count": 29,
   "metadata": {},
   "outputs": [],
   "source": [
    "class Solution(object):\n",
    "\n",
    "    def __init__(self, nums):\n",
    "        \"\"\"\n",
    "        :type nums: List[int]\n",
    "        \"\"\"\n",
    "        self.data = collections.defaultdict(list)\n",
    "        for idx, num in enumerate(nums):\n",
    "            self.data[num].append(idx)\n",
    "        \n",
    "\n",
    "    def pick(self, target):\n",
    "        \"\"\"\n",
    "        :type target: int\n",
    "        :rtype: int\n",
    "        \"\"\"\n",
    "        size = len(self.data[target])\n",
    "        p = random.randint(0,size-1)\n",
    "        return self.data[target][p]\n",
    "        \n",
    "\n",
    "\n",
    "# Your Solution object will be instantiated and called as such:\n",
    "# obj = Solution(nums)\n",
    "# param_1 = obj.pick(target)"
   ]
  },
  {
   "cell_type": "markdown",
   "metadata": {},
   "source": [
    "# 400. Nth Digit"
   ]
  },
  {
   "cell_type": "raw",
   "metadata": {},
   "source": [
    "Find the nth digit of the infinite integer sequence 1, 2, 3, 4, 5, 6, 7, 8, 9, 10, 11, ...\n",
    "\n",
    "Note:\n",
    "n is positive and will fit within the range of a 32-bit signed integer (n < 231).\n",
    "\n",
    "Example 1:\n",
    "\n",
    "Input:\n",
    "3\n",
    "\n",
    "Output:\n",
    "3\n",
    "Example 2:\n",
    "\n",
    "Input:\n",
    "11\n",
    "\n",
    "Output:\n",
    "0\n",
    "\n",
    "Explanation:\n",
    "The 11th digit of the sequence 1, 2, 3, 4, 5, 6, 7, 8, 9, 10, 11, ... is a 0, which is part of the number 10."
   ]
  },
  {
   "cell_type": "code",
   "execution_count": 36,
   "metadata": {},
   "outputs": [],
   "source": [
    "class Solution(object):\n",
    "    def findNthDigit(self, n):\n",
    "        \"\"\"\n",
    "        :type n: int\n",
    "        :rtype: int\n",
    "        \"\"\"\n",
    "        i = 1\n",
    "        while n> 9*10**(i-1)*i:\n",
    "            print(9*10**(i-1)*i)\n",
    "            n -= 9*10**(i-1)*i\n",
    "            i +=1\n",
    "        start = 10**(i-1)\n",
    "        num = start+(n-1)//i\n",
    "        r = (n-1)%i\n",
    "        return int(str(num)[r])\n",
    "        \n",
    "        \n",
    "        "
   ]
  },
  {
   "cell_type": "code",
   "execution_count": 39,
   "metadata": {},
   "outputs": [
    {
     "name": "stdout",
     "output_type": "stream",
     "text": [
      "9\n",
      "55\n"
     ]
    },
    {
     "data": {
      "text/plain": [
       "5"
      ]
     },
     "execution_count": 39,
     "metadata": {},
     "output_type": "execute_result"
    }
   ],
   "source": [
    "a = Solution()\n",
    "a.findNthDigit(100)"
   ]
  },
  {
   "cell_type": "code",
   "execution_count": null,
   "metadata": {},
   "outputs": [],
   "source": []
  }
 ],
 "metadata": {
  "kernelspec": {
   "display_name": "Python 3",
   "language": "python",
   "name": "python3"
  },
  "language_info": {
   "codemirror_mode": {
    "name": "ipython",
    "version": 3
   },
   "file_extension": ".py",
   "mimetype": "text/x-python",
   "name": "python",
   "nbconvert_exporter": "python",
   "pygments_lexer": "ipython3",
   "version": "3.6.5"
  },
  "toc": {
   "base_numbering": 1,
   "nav_menu": {},
   "number_sections": true,
   "sideBar": true,
   "skip_h1_title": false,
   "title_cell": "Table of Contents",
   "title_sidebar": "Contents",
   "toc_cell": false,
   "toc_position": {},
   "toc_section_display": true,
   "toc_window_display": false
  }
 },
 "nbformat": 4,
 "nbformat_minor": 2
}
